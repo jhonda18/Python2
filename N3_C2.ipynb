{
  "nbformat": 4,
  "nbformat_minor": 0,
  "metadata": {
    "colab": {
      "name": "N3_C2.ipynb",
      "provenance": [],
      "collapsed_sections": [],
      "include_colab_link": true
    },
    "kernelspec": {
      "name": "python3",
      "display_name": "Python 3"
    }
  },
  "cells": [
    {
      "cell_type": "markdown",
      "metadata": {
        "id": "view-in-github",
        "colab_type": "text"
      },
      "source": [
        "<a href=\"https://colab.research.google.com/github/jhonda18/Python2/blob/main/N3_C2.ipynb\" target=\"_parent\"><img src=\"https://colab.research.google.com/assets/colab-badge.svg\" alt=\"Open In Colab\"/></a>"
      ]
    },
    {
      "cell_type": "markdown",
      "metadata": {
        "id": "Rf_b8XQuMsgL"
      },
      "source": [
        "<p><img alt=\"Colaboratory logo\" height=\"140px\" src=\"https://upload.wikimedia.org/wikipedia/commons/archive/f/fb/20161010213812%21Escudo-UdeA.svg\" align=\"left\" hspace=\"10px\" vspace=\"0px\"></p>\n",
        "\n",
        "<h1> <b>Técnicas computacionales en Python para Ciencias Económicas - Universidad de Antioquia </b> </h1>\n",
        "<hr size=10 noshade color=\"green\">\n",
        "<p>\n",
        "<img alt=\"CC BY-NC-SA logo\" height=\"70px\" src=\"https://lahormigonera.info/wp-content/uploads/2014/04/by-nc-sa-ccLicense.png\" align=\"left\" hspace=\"0px\" vspace=\"0px\">\n",
        "</p>\n",
        "\n",
        "<div align=\"right\">  \n",
        "Este documento está bajo licencia <a href=\"https://creativecommons.org/licenses/by-nc-sa/4.0/deed.es\">[CC BY-NC-SA]</a><br> \n",
        "<a href=\"mailto:sheryl.avendano@udea.edu.co\"> ✉ Sheryl Avendaño </a> ,  <a href=\"mailto:sergio.sanes@udea.edu.co\"> ✉ Sergio Sanes </a>, <a href=\"mailto: mario.sucerquia@udea.edu.co\"> ✉ Mario Sucerquia </a><br>\n",
        "Versión actualizada: 3-Ago-2020\n",
        "</div>\n",
        "\n",
        "<br>\n",
        "\n",
        "**El presente curso hace parte de la Facultad de Ciencias Económicas (FCE) de la Universidad de Antioquia.**\n",
        "\n",
        "El curso será dictado en 11 sesiones o clases de 3 horas los días martes y jueves por medio de Google meeting. Para un total de dedicación temporal de 32 horas. \n"
      ]
    },
    {
      "cell_type": "code",
      "metadata": {
        "id": "AFo0EiT7S-l2"
      },
      "source": [
        "import pandas as pd\n",
        "import numpy as np\n",
        "import matplotlib.pyplot as plt\n",
        "plt.rcParams.update({'font.size': 12})\n",
        "import seaborn as sns"
      ],
      "execution_count": null,
      "outputs": []
    },
    {
      "cell_type": "markdown",
      "metadata": {
        "id": "a5UuMtebGNyx"
      },
      "source": [
        "#**Ajuste de polinomios**\n"
      ]
    },
    {
      "cell_type": "markdown",
      "metadata": {
        "id": "wVnqTqNQqUGo"
      },
      "source": [
        "\n",
        "### Polinomios 1D\n",
        "\n",
        "Numpy me permite el manejo de polinomios usando los métodos asociados a  `poly`. Por ejemplo, imaginemos que tenemos el polinomio:\n",
        "\n",
        "$$9x^2 + 6x + 8$$\n",
        "\n",
        "Podemos generar un objeto tipo polinomio usando Numpy y la función `poly1d`\n"
      ]
    },
    {
      "cell_type": "code",
      "metadata": {
        "id": "6Wqo7QZEmL1n",
        "colab": {
          "base_uri": "https://localhost:8080/"
        },
        "outputId": "31344c51-353a-4961-a27b-8299587d6b25"
      },
      "source": [
        "p = np.poly1d([9,6,8]) #este es nuestro polinomio\n",
        "#Podemos evaluar directamente cuando x = 5\n",
        "p(5)"
      ],
      "execution_count": null,
      "outputs": [
        {
          "output_type": "execute_result",
          "data": {
            "text/plain": [
              "263"
            ]
          },
          "metadata": {
            "tags": []
          },
          "execution_count": 62
        }
      ]
    },
    {
      "cell_type": "code",
      "metadata": {
        "id": "ee8zfxq6mZXL",
        "colab": {
          "base_uri": "https://localhost:8080/"
        },
        "outputId": "6fa524ee-b94a-43bb-aa9f-733849f2fec3"
      },
      "source": [
        "#Hallar sus raíces\n",
        "p.roots"
      ],
      "execution_count": null,
      "outputs": [
        {
          "output_type": "execute_result",
          "data": {
            "text/plain": [
              "array([-0.33333333+0.8819171j, -0.33333333-0.8819171j])"
            ]
          },
          "metadata": {
            "tags": []
          },
          "execution_count": 63
        }
      ]
    },
    {
      "cell_type": "code",
      "metadata": {
        "id": "c-76Wp52mgim"
      },
      "source": [
        "def dir_nice(v):\n",
        "  print(\"Clase:\",type(p))\n",
        "  methods = [m for m in dir(v) if not m.startswith('_') and callable(getattr(v, m))]\n",
        "  attr = [m for m in dir(v) if not m.startswith('_') and not callable(getattr(v, m))]\n",
        "  print(\"Atributos:\",attr)\n",
        "  print(\"Métodos:\",methods,end=\"\\n\\n\")"
      ],
      "execution_count": null,
      "outputs": []
    },
    {
      "cell_type": "code",
      "metadata": {
        "id": "Z6_SE-aPnGYa",
        "colab": {
          "base_uri": "https://localhost:8080/"
        },
        "outputId": "f2bded05-3b44-4177-943b-5ee489905979"
      },
      "source": [
        "#Miremos los atributos y métodos que tiene un polinomio de una dimensión\n",
        "dir_nice(p)"
      ],
      "execution_count": null,
      "outputs": [
        {
          "output_type": "stream",
          "text": [
            "Clase: <class 'numpy.poly1d'>\n",
            "Atributos: ['c', 'coef', 'coefficients', 'coeffs', 'o', 'order', 'r', 'roots', 'variable']\n",
            "Métodos: ['deriv', 'integ']\n",
            "\n"
          ],
          "name": "stdout"
        }
      ]
    },
    {
      "cell_type": "code",
      "metadata": {
        "id": "I3cE-ekuncGf",
        "colab": {
          "base_uri": "https://localhost:8080/"
        },
        "outputId": "571c82be-a424-40a9-cff2-91670f09827d"
      },
      "source": [
        "#Derivada primer orden del polinomio 9x^2 + 6x +6 --> 18x + 6\n",
        "p_derivada_1 = p.deriv(m=1)\n",
        "p_derivada_1 "
      ],
      "execution_count": null,
      "outputs": [
        {
          "output_type": "execute_result",
          "data": {
            "text/plain": [
              "poly1d([18,  6])"
            ]
          },
          "metadata": {
            "tags": []
          },
          "execution_count": 66
        }
      ]
    },
    {
      "cell_type": "code",
      "metadata": {
        "id": "MlwbDvisnrnW",
        "colab": {
          "base_uri": "https://localhost:8080/"
        },
        "outputId": "d9a4be9d-9e51-4449-f909-297da5a9f464"
      },
      "source": [
        "#Integral primer orden (indefinida) del polinomio 9x^2 + 6x + 8 --> 3x^3 + 3x^2 + 8x + c\n",
        "p_integral_1 = p.integ(m=1, k=0)\n",
        "p_integral_1"
      ],
      "execution_count": null,
      "outputs": [
        {
          "output_type": "execute_result",
          "data": {
            "text/plain": [
              "poly1d([3., 3., 8., 0.])"
            ]
          },
          "metadata": {
            "tags": []
          },
          "execution_count": 67
        }
      ]
    },
    {
      "cell_type": "code",
      "metadata": {
        "id": "U7gQylOUn_gb",
        "colab": {
          "base_uri": "https://localhost:8080/",
          "height": 285
        },
        "outputId": "d3e05ac0-7b56-4e42-cbd8-2500ab76d7a3"
      },
      "source": [
        "#Grafiquemos nuestro porlinomio y su derividad e integral para x=[0,10]\n",
        "x = np.linspace(0,10,20)\n",
        "plt.figure(figsize=(15,4))\n",
        "plt.subplot(1,3,1)\n",
        "plt.title(\"Polinomio\")\n",
        "plt.plot(x,p(x))\n",
        "\n",
        "plt.subplot(1,3,2)\n",
        "plt.title(\"Derivada del Polinomio\")\n",
        "plt.plot(x,p_derivada_1(x))\n",
        "\n",
        "plt.subplot(1,3,3)\n",
        "plt.title(\"Integral del Polinomio\")\n",
        "plt.plot(x,p_integral_1(x))\n",
        "plt.show()"
      ],
      "execution_count": null,
      "outputs": [
        {
          "output_type": "display_data",
          "data": {
            "image/png": "[encoded data removed]",
            "text/plain": [
              "<Figure size 1080x288 with 3 Axes>"
            ]
          },
          "metadata": {
            "tags": [],
            "needs_background": "light"
          }
        }
      ]
    },
    {
      "cell_type": "markdown",
      "metadata": {
        "id": "HOn41BKxsNT1"
      },
      "source": [
        "### Ajustemos un polinomio 1D"
      ]
    },
    {
      "cell_type": "code",
      "metadata": {
        "id": "uiHwHzFdrd1Y"
      },
      "source": [
        "#Creamos un par x/y \n",
        "x = np.linspace(0,1,20)\n",
        "y = np.sin(x) + 0.3*np.random.rand(20)\n",
        "# Aquí vemos que  y = f(x)\n",
        "\n",
        "#Ahora vamos a asumir una relación y = c_3 * x^3 + c_2 * x^2 + c_1 * x + c_0 y averiguar esos coeficientes\n",
        "C = np.polyfit(x,y,3)\n",
        "#Luego vamos a crear un polinomio 1D con esos coeficientes\n",
        "p_fit = np.poly1d(C)"
      ],
      "execution_count": null,
      "outputs": []
    },
    {
      "cell_type": "markdown",
      "metadata": {
        "id": "T5od6gMwtxDV"
      },
      "source": [
        "### Revisión del ajuste visual"
      ]
    },
    {
      "cell_type": "code",
      "metadata": {
        "id": "KajJz0MLstCr",
        "colab": {
          "base_uri": "https://localhost:8080/",
          "height": 340
        },
        "outputId": "b1503d0a-2b06-4803-b46d-eb5ab77946e6"
      },
      "source": [
        "#Creamos un  nuevo x y y (revisión) con más valores\n",
        "x_rev = np.linspace(0,1,200)\n",
        "y_rev = p_fit(x_rev)\n",
        "\n",
        "#Y graficamos x_rev vs y_rev junto a nuestros x vs y originales\n",
        "plt.figure(figsize=(10,5))\n",
        "plt.title(\"Polinomio\")\n",
        "plt.plot(x_rev,y_rev,label=\"Fit\")\n",
        "plt.plot(x,y,'o',label=\"Original\")\n",
        "plt.legend()\n",
        "plt.show()"
      ],
      "execution_count": null,
      "outputs": [
        {
          "output_type": "display_data",
          "data": {
            "image/png": "[encoded data removed]",
            "text/plain": [
              "<Figure size 720x360 with 1 Axes>"
            ]
          },
          "metadata": {
            "tags": [],
            "needs_background": "light"
          }
        }
      ]
    },
    {
      "cell_type": "markdown",
      "metadata": {
        "id": "fQuXdFZcuMac"
      },
      "source": [
        "### Error en el ajuste\n",
        "\n",
        "Para ello revisar la función [polyfit](https://numpy.org/doc/stable/reference/generated/numpy.polyfit.html#numpy.polyfit)\n",
        "\n",
        "```\n",
        "Returns\n",
        "pndarray, shape (deg + 1,) or (deg + 1, K)\n",
        "Polynomial coefficients, highest power first. If y was 2-D, the coefficients for k-th data set are in p[:,k].\n",
        "\n",
        "residuals, rank, singular_values, rcond\n",
        "Present only if full = True. Residuals is sum of squared residuals of the least-squares fit, the effective rank of the scaled Vandermonde coefficient matrix, its singular values, and the specified value of rcond. For more details, see linalg.lstsq.\n",
        "\n",
        "Vndarray, shape (M,M) or (M,M,K)\n",
        "Present only if full = False and cov`=True. The covariance matrix of the polynomial coefficient estimates. The diagonal of this matrix are the variance estimates for each coefficient. If y is a 2-D array, then the covariance matrix for the `k-th data set are in V[:,:,k]\n",
        "```\n",
        "\n"
      ]
    },
    {
      "cell_type": "code",
      "metadata": {
        "id": "ae1x-eINsycW"
      },
      "source": [
        "#Podemos hallar muchas más cosas con polifit\n",
        "coef, res, rank, s_values, rcond = np.polyfit(x,y,3,full=True)\n",
        "\n",
        "#O directamente hallar la matriz de covariaza\n",
        "coef, V =np.polyfit(x,y,3,cov=True)"
      ],
      "execution_count": null,
      "outputs": []
    },
    {
      "cell_type": "markdown",
      "metadata": {
        "id": "Wi1FSFxbU_xR"
      },
      "source": [
        "Podemos usar `res` para verificar que nuestro polinomio si sea adecuado:"
      ]
    },
    {
      "cell_type": "code",
      "metadata": {
        "id": "zyNad-9GxPab"
      },
      "source": [
        "x1 = np.linspace(0,1,50)\n",
        "y1 = 2*x1**4 + 3*x1**2 + 9\n",
        "\n",
        "p_fit = list()\n",
        "r_fit = list()\n",
        "\n",
        "grados = [1,2,3,4,5,6]\n",
        "for g in grados:\n",
        "  C, res, _, _,_ = np.polyfit(x1,y1,g,full=True)\n",
        "  p_fit.append(np.poly1d(C))\n",
        "  r_fit.append(res)"
      ],
      "execution_count": null,
      "outputs": []
    },
    {
      "cell_type": "code",
      "metadata": {
        "id": "Osil8H-SShaL",
        "colab": {
          "base_uri": "https://localhost:8080/",
          "height": 340
        },
        "outputId": "4c425282-6f0d-47d7-e39a-fa046f372956"
      },
      "source": [
        "plt.figure(figsize=(10,5))\n",
        "plt.title(\"Polinomio\")\n",
        "plt.plot(x1,y1,\"o\", label=\"original\")\n",
        "\n",
        "x_rev = np.linspace(0,1,100)\n",
        "for i in range(len(p_fit)): \n",
        "  plt.plot(x_rev,p_fit[i](x_rev),label=\"grado: {}, R: {}\".format(grados[i],r_fit[i])) \n",
        "\n",
        "plt.legend()\n",
        "plt.show()"
      ],
      "execution_count": null,
      "outputs": [
        {
          "output_type": "display_data",
          "data": {
            "image/png": "[encoded data removed]",
            "text/plain": [
              "<Figure size 720x360 with 1 Axes>"
            ]
          },
          "metadata": {
            "tags": [],
            "needs_background": "light"
          }
        }
      ]
    },
    {
      "cell_type": "markdown",
      "metadata": {
        "id": "U1cN7EBsbweO"
      },
      "source": [
        "<hr size=15 noshade color=\"#F19CBB\">\n",
        "\n",
        "<h1> TALLER\n",
        "\n",
        "<hr size=15 noshade color=\"#F19CBB\">"
      ]
    },
    {
      "cell_type": "markdown",
      "metadata": {
        "id": "45fkBVVRkIOJ"
      },
      "source": [
        "# **Regresión lineal simple**"
      ]
    },
    {
      "cell_type": "markdown",
      "metadata": {
        "id": "Kvpxqubig4lK"
      },
      "source": [
        "Para iniciar nuestro estudiode la regresión y ajuste usaremos uno de los casos más simples posibles: la regresión lineal. La ecuación de una línea recta está dada por la ecuación\n",
        "\n",
        "$$y = m*x+b$$\n",
        "\n",
        "Donde $y$ es la variable dependiente, $x$ la independiente y a $m$ y $b$ las llamamos pendientes e intercepto.\n",
        "\n",
        "En un ambito más general solemos reescribir la ecuación como\n",
        "\n",
        "$$y=w_0+w_1x$$\n",
        "\n",
        "siendo $w_0$ y $w_1$ llamados los \"parámetros del modelo\"\n",
        "\n"
      ]
    },
    {
      "cell_type": "markdown",
      "metadata": {
        "id": "pgf56L2Tg4ly"
      },
      "source": [
        "Sklearn cuenta con una sublibrería completa para los modelos lineales llamada \"linear_model\".\n",
        "\n",
        "Volvamos a nuestro dataset de autos."
      ]
    },
    {
      "cell_type": "code",
      "metadata": {
        "id": "JgYZ6f-9g4l3"
      },
      "source": [
        "import pandas as pd\n",
        "import numpy as np\n",
        "\n",
        "archivo = 'https://s3-api.us-geo.objectstorage.softlayer.net/cf-courses-data/CognitiveClass/DA0101EN/automobileEDA.csv'\n",
        "df = pd.read_csv(archivo)"
      ],
      "execution_count": null,
      "outputs": []
    },
    {
      "cell_type": "markdown",
      "metadata": {
        "id": "r3I7rOKwg4nD"
      },
      "source": [
        "Usaremos el tamaño del motor para crear un modelo sencillo para el precio del auto."
      ]
    },
    {
      "cell_type": "code",
      "metadata": {
        "id": "WNitw1T7g4na"
      },
      "source": [
        "#separemos nuestros datos en features y label\n",
        "X = df['engine-size'].values.reshape(-1,1)\n",
        "y = df['price'].values.reshape(-1,1)"
      ],
      "execution_count": null,
      "outputs": []
    },
    {
      "cell_type": "code",
      "metadata": {
        "id": "mWfeSEkv9ZdP",
        "colab": {
          "base_uri": "https://localhost:8080/",
          "height": 285
        },
        "outputId": "1e5c2fd6-7243-4b13-8f39-336e84758ea1"
      },
      "source": [
        "plt.scatter(X,y)"
      ],
      "execution_count": null,
      "outputs": [
        {
          "output_type": "execute_result",
          "data": {
            "text/plain": [
              "<matplotlib.collections.PathCollection at 0x7f8e4d7907f0>"
            ]
          },
          "metadata": {
            "tags": []
          },
          "execution_count": 92
        },
        {
          "output_type": "display_data",
          "data": {
            "image/png": "[encoded data removed]",
            "text/plain": [
              "<Figure size 432x288 with 1 Axes>"
            ]
          },
          "metadata": {
            "tags": [],
            "needs_background": "light"
          }
        }
      ]
    },
    {
      "cell_type": "markdown",
      "metadata": {
        "id": "fwGPittJdG-x"
      },
      "source": [
        "<hr size=15 noshade color=\"#F19CBB\">\n",
        "\n",
        "<h1> TALLER\n",
        "\n",
        "<hr size=15 noshade color=\"#F19CBB\">"
      ]
    },
    {
      "cell_type": "markdown",
      "metadata": {
        "id": "TVbP5qBgg4oe"
      },
      "source": [
        "\n",
        "# **Regresión lineal multiple**\n"
      ]
    },
    {
      "cell_type": "markdown",
      "metadata": {
        "id": "la39tOyrg4oh"
      },
      "source": [
        "Normalmente los problemas a ajustar no son tan simples y los datos están compuestos de muchos predictores. En éstos casos podemos usar también el algorítmo de regresión lineal, haciendo una extensión de la ecuación de la linea a más dimensiones:\n",
        "$$y=w_0+w_1x_1+w_2x_2+...+w_nx_n$$\n",
        "\n",
        "Donde $n$ será la cantidad de variables predictoras en nuestros datos y de nuevo $w_i$ será el **peso** del predictor $x_i$.\n",
        "\n",
        "En éstos casos ya no tendremos una línea si no un plano, o hiperplano como modelo."
      ]
    },
    {
      "cell_type": "markdown",
      "metadata": {
        "id": "MFtBsbEKY4yJ"
      },
      "source": [
        ""
      ]
    },
    {
      "cell_type": "code",
      "metadata": {
        "id": "N3Jja0ntAp1o"
      },
      "source": [
        "df.dropna(inplace=True)"
      ],
      "execution_count": null,
      "outputs": []
    },
    {
      "cell_type": "code",
      "metadata": {
        "id": "H9C3yN6ng4os"
      },
      "source": [
        "X = df.select_dtypes(exclude='object').drop('price',axis=1)\n",
        "y = df['price']"
      ],
      "execution_count": null,
      "outputs": []
    },
    {
      "cell_type": "markdown",
      "metadata": {
        "id": "X3r3ys1Og4p6"
      },
      "source": [
        "LinearRegression usa el método de mínimos cuadrados, ésto hace que los parámetros estimados dependan fuertemente de la independencia de las características.\n",
        "\n",
        "Cuando las columnas están fuertemente correlacionadas, llamado multicolinealidad,  el algorítmo de mínimos cuadrados es altamente sensible a variaciones aleatorias en la variable diana, haciendo que la varianza sea bastante grande.\n",
        "\n"
      ]
    },
    {
      "cell_type": "markdown",
      "metadata": {
        "id": "dzagUJ_AdIaQ"
      },
      "source": [
        "<hr size=15 noshade color=\"#F19CBB\">\n",
        "\n",
        "<h1> TALLER\n",
        "\n",
        "<hr size=15 noshade color=\"#F19CBB\">"
      ]
    },
    {
      "cell_type": "markdown",
      "metadata": {
        "id": "4oAEk2Mug4p_"
      },
      "source": [
        "# **Otros estimadores lineales**"
      ]
    },
    {
      "cell_type": "markdown",
      "metadata": {
        "id": "q9UobvQAg4qD"
      },
      "source": [
        "Dado el problema de multicolinealidad del algorírmo de mínimos cuadrados podemos mencionar dos opciones que vienen implementadas también en sklearn:\n",
        "\n",
        "*   Regresión Ridge\n",
        "*   Regresión Lasso\n",
        "\n"
      ]
    },
    {
      "cell_type": "markdown",
      "metadata": {
        "id": "3N59YXM5Cq7t"
      },
      "source": [
        "\n",
        "## Regresión Ridge\n",
        "<p><a name=\"ridge\"></a></p>\n",
        "\n",
        "En éste típo de algorítmo se impondrá una penalidad sobre los coeficientes calculados, de tal manera que se modificará el error de los mínimos cuadrados como:\n",
        "\n",
        "$$\\sum (Y_i-\\hat Y_i)^2+\\alpha \\sum w_i^2 $$\n",
        "\n",
        "\n",
        "El hiperparámetro $\\alpha$, llamado complejidad, controla qué tanto se penaliza los coeficientes, haciendo que éstos sean más pequeños y por tanto estabilizando las soluciones aunque a costa de una menor sesibilidad a los datos.\n",
        "\n"
      ]
    },
    {
      "cell_type": "markdown",
      "metadata": {
        "id": "6XYnP6-PSK9e"
      },
      "source": [
        "Para comparar entrenemos un modelo LinearRegresor y uno Ridge con todos los datos"
      ]
    },
    {
      "cell_type": "code",
      "metadata": {
        "id": "qFy4pihODPe9"
      },
      "source": [
        "variables=['symboling', 'normalized-losses', 'wheel-base', 'length',\n",
        "       'width', 'height', 'curb-weight',\n",
        "       'engine-size', 'bore', 'stroke', 'compression-ratio',\n",
        "       'horsepower', 'peak-rpm', 'city-mpg', 'highway-mpg',\n",
        "       'city-L/100km',  'diesel', 'gas']"
      ],
      "execution_count": null,
      "outputs": []
    },
    {
      "cell_type": "code",
      "metadata": {
        "id": "LaRNw-BIO9Dv"
      },
      "source": [
        "df.dropna(inplace=True)\n",
        "X = df[variables]\n",
        "y = df['price']"
      ],
      "execution_count": null,
      "outputs": []
    },
    {
      "cell_type": "markdown",
      "metadata": {
        "id": "txkRwQ3edK_C"
      },
      "source": [
        "<hr size=15 noshade color=\"#F19CBB\">\n",
        "\n",
        "<h1> TALLER\n",
        "\n",
        "<hr size=15 noshade color=\"#F19CBB\">"
      ]
    },
    {
      "cell_type": "markdown",
      "metadata": {
        "id": "pAuu5y2PTbDE"
      },
      "source": [
        "*Veremos que en el caso del dataset para autos con un valor de $\\alpha = 1$ se nota una pequeña variación en los parámetros y la precisión del modelo. El modelo se hace robusto a variaciones de los predictores, pero puerde un poco de precisión (se necesitan más datos para entrenamiento). En general el hiperparámetro $\\alpha$ debe ser  buscado con varios experimentos.*"
      ]
    },
    {
      "cell_type": "markdown",
      "metadata": {
        "id": "8eQq2bxZZGA0"
      },
      "source": [
        "## Regresión Lasso"
      ]
    },
    {
      "cell_type": "markdown",
      "metadata": {
        "id": "McFBYtFpZQJK"
      },
      "source": [
        "Al igual que el algorítmo Ridge, Lasso impone una penalidad sobre la función de error del OLS, pero ésta en cambio está dada por el valor absoluto de los coeficientes, así:\n",
        "$$\\sum (Y_i-\\hat Y_i)^2+\\alpha \\sum |w_i|$$\n",
        "\n",
        "Esto hace que a diferencia de Ridge que buscaba hacer pequeños los valores de algunos $w_i$, Lasso fuerza a que sean 0.\n",
        "\n",
        "Así, puede decirse que Ridge es bueno cuando esperamos que todos los predictores tengan una influencia sobre el predictor así sea pequeña, mientras que Lasso se usará cuando esperamos que el numero de predictores relevantes sea pequeño (predictores con peso diferente de 0)."
      ]
    },
    {
      "cell_type": "markdown",
      "metadata": {
        "id": "m6AFGzbGao2p"
      },
      "source": [
        "Para implementar una regresión tipo Lasso se sigue el mismo esquema de los casos anteriores."
      ]
    },
    {
      "cell_type": "markdown",
      "metadata": {
        "id": "mKemwytcdLyH"
      },
      "source": [
        "<hr size=15 noshade color=\"#F19CBB\">\n",
        "\n",
        "<h1> TALLER\n",
        "\n",
        "<hr size=15 noshade color=\"#F19CBB\">"
      ]
    },
    {
      "cell_type": "markdown",
      "metadata": {
        "id": "S6he5Hx7dy56"
      },
      "source": [
        "*Como vemos, Lasso ha disminuído el número de coeficientes mientras que Ridge no lo hace. La elección entre éstos 3 tipos de regresión lineal depende fuertemente de nuestro dataset (sus correlaciones), nuestro conocimiento del campo (relaciones esperadas de las variables predictoras y la variable diana) y nuestras necesidades computacionales.* "
      ]
    },
    {
      "cell_type": "markdown",
      "metadata": {
        "id": "a9BtJmiIh_Xf"
      },
      "source": [
        "## Redes eleasticas\n"
      ]
    },
    {
      "cell_type": "markdown",
      "metadata": {
        "id": "Z7TpNF05iXcM"
      },
      "source": [
        "\n",
        "Como vimos anteriormente, podemos generar penalizaciones a las regresiones lineales haciendo cambios en su metrica de error.\n",
        "\n",
        "Para la regresión Ridge se penaliza con: $\\alpha \\sum w_i^2$ (penalidad $L_2$), mientras que para Lasso se tiene que: \n",
        "$\\alpha \\sum |w_i|$ (penalidad $L_1$). Cada una de ellas tenía sus pro y sus contra. Pero es posible hacer una combinación de ambos metodos.\n",
        "\n",
        "A las regresiones que usan una combinación de ambas penalidades se les conoce como **ElasticNet** (Redes elásticas) y definimos su error como:\n",
        "$$\\sum (Y_i- \\hat Y_i)^2+\\alpha \\rho \\sum |w_i| + \\frac{\\alpha(1-\\rho)}{2}\\sum w_i^2. $$\n",
        "\n",
        "Note que cuando $ \\rho=1$ tenemos la regresión Lasso, y con $\\rho=0$ tendremos la de Ridge, por tanto en las redes elásticas $0\\leq \\rho\\leq1$."
      ]
    },
    {
      "cell_type": "markdown",
      "metadata": {
        "id": "OpPNzVz_iajS"
      },
      "source": [
        "<hr size=15 noshade color=\"#F19CBB\">\n",
        "\n",
        "<h1> TALLER\n",
        "\n",
        "<hr size=15 noshade color=\"#F19CBB\">"
      ]
    },
    {
      "cell_type": "code",
      "metadata": {
        "id": "24cIYIA5bZPI"
      },
      "source": [
        ""
      ],
      "execution_count": null,
      "outputs": []
    }
  ]
}