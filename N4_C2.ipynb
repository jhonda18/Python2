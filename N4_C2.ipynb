{
  "nbformat": 4,
  "nbformat_minor": 0,
  "metadata": {
    "colab": {
      "name": "N4_C2.ipynb",
      "provenance": [],
      "collapsed_sections": [],
      "include_colab_link": true
    },
    "kernelspec": {
      "name": "python3",
      "display_name": "Python 3"
    }
  },
  "cells": [
    {
      "cell_type": "markdown",
      "metadata": {
        "id": "view-in-github",
        "colab_type": "text"
      },
      "source": [
        "<a href=\"https://colab.research.google.com/github/jhonda18/Python2/blob/main/N4_C2.ipynb\" target=\"_parent\"><img src=\"https://colab.research.google.com/assets/colab-badge.svg\" alt=\"Open In Colab\"/></a>"
      ]
    },
    {
      "cell_type": "markdown",
      "metadata": {
        "id": "Rf_b8XQuMsgL"
      },
      "source": [
        "<p><img alt=\"Colaboratory logo\" height=\"140px\" src=\"https://upload.wikimedia.org/wikipedia/commons/archive/f/fb/20161010213812%21Escudo-UdeA.svg\" align=\"left\" hspace=\"10px\" vspace=\"0px\"></p>\n",
        "\n",
        "<h1> <b>Técnicas computacionales en Python para Ciencias Económicas - Universidad de Antioquia </b> </h1>\n",
        "<hr size=10 noshade color=\"green\">\n",
        "<p>\n",
        "<img alt=\"CC BY-NC-SA logo\" height=\"70px\" src=\"https://lahormigonera.info/wp-content/uploads/2014/04/by-nc-sa-ccLicense.png\" align=\"left\" hspace=\"0px\" vspace=\"0px\">\n",
        "</p>\n",
        "\n",
        "<div align=\"right\">  \n",
        "Este documento está bajo licencia <a href=\"https://creativecommons.org/licenses/by-nc-sa/4.0/deed.es\">[CC BY-NC-SA]</a><br> \n",
        "<a href=\"mailto:sheryl.avendano@udea.edu.co\"> ✉ Sheryl Avendaño </a> ,  <a href=\"mailto:sergio.sanes@udea.edu.co\"> ✉ Sergio Sanes </a>, <a href=\"mailto: mario.sucerquia@udea.edu.co\"> ✉ Mario Sucerquia </a><br>\n",
        "Versión actualizada: 3-Ago-2020\n",
        "</div>\n",
        "\n",
        "<br>\n",
        "\n",
        "**El presente curso hace parte de la Facultad de Ciencias Económicas (FCE) de la Universidad de Antioquia.**\n",
        "\n",
        "El curso será dictado en 11 sesiones o clases de 3 horas los días martes y jueves por medio de Google meeting. Para un total de dedicación temporal de 32 horas. \n"
      ]
    },
    {
      "cell_type": "code",
      "metadata": {
        "id": "AFo0EiT7S-l2"
      },
      "source": [
        "import pandas as pd\n",
        "import numpy as np\n",
        "import matplotlib.pyplot as plt\n",
        "plt.rcParams.update({'font.size': 12})\n",
        "import seaborn as sns"
      ],
      "execution_count": null,
      "outputs": []
    },
    {
      "cell_type": "code",
      "metadata": {
        "colab": {
          "base_uri": "https://localhost:8080/"
        },
        "id": "Zbvbh1tyjJLc",
        "outputId": "94b8ae56-f30c-4810-f339-15c1a02f2306"
      },
      "source": [
        "!pip install mglearn\n",
        "import mglearn"
      ],
      "execution_count": null,
      "outputs": [
        {
          "output_type": "stream",
          "text": [
            "Collecting mglearn\n",
            "\u001b[?25l  Downloading https://files.pythonhosted.org/packages/65/38/8aced26fce0b2ae82c3c87cd3b6105f38ca6d9d51704ecc44aa54473e6b9/mglearn-0.1.9.tar.gz (540kB)\n",
            "\r\u001b[K     |▋                               | 10kB 17.9MB/s eta 0:00:01\r\u001b[K     |█▏                              | 20kB 23.1MB/s eta 0:00:01\r\u001b[K     |█▉                              | 30kB 18.5MB/s eta 0:00:01\r\u001b[K     |██▍                             | 40kB 13.5MB/s eta 0:00:01\r\u001b[K     |███                             | 51kB 15.6MB/s eta 0:00:01\r\u001b[K     |███▋                            | 61kB 14.5MB/s eta 0:00:01\r\u001b[K     |████▎                           | 71kB 11.7MB/s eta 0:00:01\r\u001b[K     |████▉                           | 81kB 11.6MB/s eta 0:00:01\r\u001b[K     |█████▌                          | 92kB 11.7MB/s eta 0:00:01\r\u001b[K     |██████                          | 102kB 11.4MB/s eta 0:00:01\r\u001b[K     |██████▊                         | 112kB 11.4MB/s eta 0:00:01\r\u001b[K     |███████▎                        | 122kB 11.4MB/s eta 0:00:01\r\u001b[K     |███████▉                        | 133kB 11.4MB/s eta 0:00:01\r\u001b[K     |████████▌                       | 143kB 11.4MB/s eta 0:00:01\r\u001b[K     |█████████                       | 153kB 11.4MB/s eta 0:00:01\r\u001b[K     |█████████▊                      | 163kB 11.4MB/s eta 0:00:01\r\u001b[K     |██████████▎                     | 174kB 11.4MB/s eta 0:00:01\r\u001b[K     |███████████                     | 184kB 11.4MB/s eta 0:00:01\r\u001b[K     |███████████▌                    | 194kB 11.4MB/s eta 0:00:01\r\u001b[K     |████████████▏                   | 204kB 11.4MB/s eta 0:00:01\r\u001b[K     |████████████▊                   | 215kB 11.4MB/s eta 0:00:01\r\u001b[K     |█████████████▍                  | 225kB 11.4MB/s eta 0:00:01\r\u001b[K     |██████████████                  | 235kB 11.4MB/s eta 0:00:01\r\u001b[K     |██████████████▋                 | 245kB 11.4MB/s eta 0:00:01\r\u001b[K     |███████████████▏                | 256kB 11.4MB/s eta 0:00:01\r\u001b[K     |███████████████▊                | 266kB 11.4MB/s eta 0:00:01\r\u001b[K     |████████████████▍               | 276kB 11.4MB/s eta 0:00:01\r\u001b[K     |█████████████████               | 286kB 11.4MB/s eta 0:00:01\r\u001b[K     |█████████████████▋              | 296kB 11.4MB/s eta 0:00:01\r\u001b[K     |██████████████████▏             | 307kB 11.4MB/s eta 0:00:01\r\u001b[K     |██████████████████▉             | 317kB 11.4MB/s eta 0:00:01\r\u001b[K     |███████████████████▍            | 327kB 11.4MB/s eta 0:00:01\r\u001b[K     |████████████████████            | 337kB 11.4MB/s eta 0:00:01\r\u001b[K     |████████████████████▋           | 348kB 11.4MB/s eta 0:00:01\r\u001b[K     |█████████████████████▎          | 358kB 11.4MB/s eta 0:00:01\r\u001b[K     |█████████████████████▉          | 368kB 11.4MB/s eta 0:00:01\r\u001b[K     |██████████████████████▌         | 378kB 11.4MB/s eta 0:00:01\r\u001b[K     |███████████████████████         | 389kB 11.4MB/s eta 0:00:01\r\u001b[K     |███████████████████████▋        | 399kB 11.4MB/s eta 0:00:01\r\u001b[K     |████████████████████████▎       | 409kB 11.4MB/s eta 0:00:01\r\u001b[K     |████████████████████████▉       | 419kB 11.4MB/s eta 0:00:01\r\u001b[K     |█████████████████████████▌      | 430kB 11.4MB/s eta 0:00:01\r\u001b[K     |██████████████████████████      | 440kB 11.4MB/s eta 0:00:01\r\u001b[K     |██████████████████████████▊     | 450kB 11.4MB/s eta 0:00:01\r\u001b[K     |███████████████████████████▎    | 460kB 11.4MB/s eta 0:00:01\r\u001b[K     |████████████████████████████    | 471kB 11.4MB/s eta 0:00:01\r\u001b[K     |████████████████████████████▌   | 481kB 11.4MB/s eta 0:00:01\r\u001b[K     |█████████████████████████████▏  | 491kB 11.4MB/s eta 0:00:01\r\u001b[K     |█████████████████████████████▊  | 501kB 11.4MB/s eta 0:00:01\r\u001b[K     |██████████████████████████████▍ | 512kB 11.4MB/s eta 0:00:01\r\u001b[K     |███████████████████████████████ | 522kB 11.4MB/s eta 0:00:01\r\u001b[K     |███████████████████████████████▌| 532kB 11.4MB/s eta 0:00:01\r\u001b[K     |████████████████████████████████| 542kB 11.4MB/s \n",
            "\u001b[?25hRequirement already satisfied: numpy in /usr/local/lib/python3.6/dist-packages (from mglearn) (1.18.5)\n",
            "Requirement already satisfied: matplotlib in /usr/local/lib/python3.6/dist-packages (from mglearn) (3.2.2)\n",
            "Requirement already satisfied: scikit-learn in /usr/local/lib/python3.6/dist-packages (from mglearn) (0.22.2.post1)\n",
            "Requirement already satisfied: pandas in /usr/local/lib/python3.6/dist-packages (from mglearn) (1.1.4)\n",
            "Requirement already satisfied: pillow in /usr/local/lib/python3.6/dist-packages (from mglearn) (7.0.0)\n",
            "Requirement already satisfied: cycler in /usr/local/lib/python3.6/dist-packages (from mglearn) (0.10.0)\n",
            "Requirement already satisfied: imageio in /usr/local/lib/python3.6/dist-packages (from mglearn) (2.4.1)\n",
            "Requirement already satisfied: joblib in /usr/local/lib/python3.6/dist-packages (from mglearn) (0.17.0)\n",
            "Requirement already satisfied: kiwisolver>=1.0.1 in /usr/local/lib/python3.6/dist-packages (from matplotlib->mglearn) (1.3.1)\n",
            "Requirement already satisfied: pyparsing!=2.0.4,!=2.1.2,!=2.1.6,>=2.0.1 in /usr/local/lib/python3.6/dist-packages (from matplotlib->mglearn) (2.4.7)\n",
            "Requirement already satisfied: python-dateutil>=2.1 in /usr/local/lib/python3.6/dist-packages (from matplotlib->mglearn) (2.8.1)\n",
            "Requirement already satisfied: scipy>=0.17.0 in /usr/local/lib/python3.6/dist-packages (from scikit-learn->mglearn) (1.4.1)\n",
            "Requirement already satisfied: pytz>=2017.2 in /usr/local/lib/python3.6/dist-packages (from pandas->mglearn) (2018.9)\n",
            "Requirement already satisfied: six in /usr/local/lib/python3.6/dist-packages (from cycler->mglearn) (1.15.0)\n",
            "Building wheels for collected packages: mglearn\n",
            "  Building wheel for mglearn (setup.py) ... \u001b[?25l\u001b[?25hdone\n",
            "  Created wheel for mglearn: filename=mglearn-0.1.9-py2.py3-none-any.whl size=582639 sha256=47401ea244b0834a83094a9f17faed888fd45eb8ffee1c9faec4a2df49bdbe65\n",
            "  Stored in directory: /root/.cache/pip/wheels/eb/a6/ea/a6a3716233fa62fc561259b5cb1e28f79e9ff3592c0adac5f0\n",
            "Successfully built mglearn\n",
            "Installing collected packages: mglearn\n",
            "Successfully installed mglearn-0.1.9\n"
          ],
          "name": "stdout"
        }
      ]
    },
    {
      "cell_type": "markdown",
      "metadata": {
        "id": "j2pZB2W5yP9x"
      },
      "source": [
        "# **Resumen regresiones líneales**"
      ]
    },
    {
      "cell_type": "markdown",
      "metadata": {
        "id": "16XmJ8QLzDTl"
      },
      "source": [
        "Para los siguientes modelos, usaremos un dataset real de viviendas en Boston. El objetivo con este dataset consiste en predecir el valor medio de los precios de las casas en diferentes barrios de Boston en los 70s, mediante información como la tasa de asesinatos, proximidad al rio Charles, accesibilidad a las autopistas, etc. "
      ]
    },
    {
      "cell_type": "code",
      "metadata": {
        "id": "g640FvK7rrfX",
        "colab": {
          "base_uri": "https://localhost:8080/"
        },
        "outputId": "814f0626-1549-463a-b64b-5a693ac9a896"
      },
      "source": [
        "# load_extended_boston\n",
        "X, y = mglearn.datasets.load_extended_boston()\n",
        "X.shape, y.shape"
      ],
      "execution_count": null,
      "outputs": [
        {
          "output_type": "execute_result",
          "data": {
            "text/plain": [
              "((506, 104), (506,))"
            ]
          },
          "metadata": {
            "tags": []
          },
          "execution_count": 4
        }
      ]
    },
    {
      "cell_type": "markdown",
      "metadata": {
        "id": "CHG9DMpmzfoa"
      },
      "source": [
        "* El dataset load_boston_extended consta de 506 instancias y 104 caracterísiticas.\n",
        "\n",
        "* La creación de un modelo mediante `sklearn` se realiza mediante el módulo `linear_model`, importando el regresor que desee `from sklearn.linear_model import XXXX`\n",
        "\n",
        "* Recuerde que en todos los casos se realiza el ajuste usando el método `fit()` el cual recibe como argumentos los datos de características $X$ y variable objetivo $y$ además de algunos hiperparámetros según el caso: \n",
        "\n",
        "1. `LinearRegression`\n",
        "$$y=\\sum_{i=0}^n w_ix_i$$\n",
        "2. `Ridge`\n",
        "Hiperparámetro $\\alpha$:\n",
        "$$\\sum (Y_i-\\hat Y_i)^2+\\alpha \\sum w_i^2 $$\n",
        "3. `Lasso`\n",
        "Hiperparámetro $\\alpha$:\n",
        "$$\\sum (Y_i-\\hat Y_i)^2+\\alpha \\sum |w_i|$$\n",
        "4. `ElasticNet` \n",
        "Hiperparámetro $\\alpha$ y $\\rho$:\n",
        "$$\\sum (Y_i- \\hat Y_i)^2+\\alpha \\rho \\sum |w_i| + \\frac{\\alpha(1-\\rho)}{2}\\sum w_i^2. $$\n"
      ]
    },
    {
      "cell_type": "code",
      "metadata": {
        "id": "zwY0YlwraYgb"
      },
      "source": [
        "#Primero el split de los datos\n",
        "from sklearn.model_selection import train_test_split\n",
        "X_train, X_test, y_train, y_test = train_test_split(X, y, random_state=0)"
      ],
      "execution_count": null,
      "outputs": []
    },
    {
      "cell_type": "code",
      "metadata": {
        "id": "38HHdPAT_oCM",
        "colab": {
          "base_uri": "https://localhost:8080/"
        },
        "outputId": "06737c22-04c1-4ef0-fc54-d04e5bea9002"
      },
      "source": [
        "X_train.shape,X_test.shape"
      ],
      "execution_count": null,
      "outputs": [
        {
          "output_type": "execute_result",
          "data": {
            "text/plain": [
              "((379, 104), (127, 104))"
            ]
          },
          "metadata": {
            "tags": []
          },
          "execution_count": 6
        }
      ]
    },
    {
      "cell_type": "code",
      "metadata": {
        "id": "dpNXT7bK_ojQ"
      },
      "source": [
        "#Importar los regresores\n",
        "from sklearn.linear_model import LinearRegression, Ridge, Lasso, ElasticNet\n",
        "from sklearn import metrics"
      ],
      "execution_count": null,
      "outputs": []
    },
    {
      "cell_type": "code",
      "metadata": {
        "id": "TCYJaI97_nik"
      },
      "source": [
        "#Instanciar los regresores\n",
        "\n",
        "models = [LinearRegression(), Ridge(), Lasso(), ElasticNet()]\n",
        "#model1 = LinearRegression()"
      ],
      "execution_count": null,
      "outputs": []
    },
    {
      "cell_type": "code",
      "metadata": {
        "id": "zEezi-U7BvOl"
      },
      "source": [
        "#Entrenamiento/Ajuste\n",
        "for m in models:\n",
        "  m.fit(X_train,y_train)\n",
        "\n",
        "#model1.fit(X_train,y_train)"
      ],
      "execution_count": null,
      "outputs": []
    },
    {
      "cell_type": "code",
      "metadata": {
        "id": "YaKnhFA5DE58",
        "colab": {
          "base_uri": "https://localhost:8080/"
        },
        "outputId": "d79ad6c5-b862-41f3-fe35-dcbcc1eff305"
      },
      "source": [
        "#Revisión de los score/metricas/errores\n",
        "labels = ['Regresión linear', 'Regresión Ridge alpha=1', 'Regresión Lasso alpha=1','Regresión ElasticNet alpha=1,rho=0.5']\n",
        "for i,m in enumerate(models):\n",
        "  print('Model', labels[i])\n",
        "  print(\"Score train:\", m.score(X_train, y_train))\n",
        "  print(\"Score test:\",m.score(X_test, y_test))\n",
        "  y_pred = m.predict(X_test)\n",
        "  print(\"MAE\",metrics.mean_absolute_error(y_test,y_pred)/y_test.mean())\n",
        "  print(\"RMSE:\", metrics.mean_squared_error(y_test,y_pred)/y_test.mean())\n",
        "  print()"
      ],
      "execution_count": null,
      "outputs": [
        {
          "output_type": "stream",
          "text": [
            "Model Regresión linear\n",
            "Score train: 0.9520519609032727\n",
            "Score test: 0.6074721959665571\n",
            "MAE 0.1446181269816706\n",
            "RMSE: 1.4376717005334618\n",
            "\n",
            "Model Regresión Ridge alpha=1\n",
            "Score train: 0.8857966585170941\n",
            "Score test: 0.7527683481744751\n",
            "MAE 0.13281865234138446\n",
            "RMSE: 0.9055102483273164\n",
            "\n",
            "Model Regresión Lasso alpha=1\n",
            "Score train: 0.29323768991114607\n",
            "Score test: 0.20937503255272294\n",
            "MAE 0.2460694432297761\n",
            "RMSE: 2.8957417277307007\n",
            "\n",
            "Model Regresión ElasticNet alpha=1,rho=0.5\n",
            "Score train: 0.32837814485847916\n",
            "Score test: 0.2217004367773664\n",
            "MAE 0.24537727527462072\n",
            "RMSE: 2.850598722141482\n",
            "\n"
          ],
          "name": "stdout"
        }
      ]
    },
    {
      "cell_type": "code",
      "metadata": {
        "id": "BfD0hp0iIUC-",
        "colab": {
          "base_uri": "https://localhost:8080/"
        },
        "outputId": "c2334f3d-85b4-4bc1-eb32-f51bf16462fe"
      },
      "source": [
        "#Ridge\n",
        "model_select = [Ridge(alpha=0.1),Ridge(alpha=0.5)]\n",
        "for i,m in enumerate(model_select):\n",
        "  print('Ridge',i+1)\n",
        "  m.fit(X_train,y_train)\n",
        "  print(\"Score train:\", m.score(X_train, y_train))\n",
        "  print(\"Score test:\",m.score(X_test, y_test))\n",
        "  y_pred = m.predict(X_test)\n",
        "  print(\"MAE\",metrics.mean_absolute_error(y_test,y_pred)/y_test.mean())\n",
        "  print(\"RMSE:\", metrics.mean_squared_error(y_test,y_pred)/y_test.mean())\n",
        "  print()"
      ],
      "execution_count": null,
      "outputs": [
        {
          "output_type": "stream",
          "text": [
            "Ridge 1\n",
            "Score train: 0.9282273685001992\n",
            "Score test: 0.7722067936479818\n",
            "MAE 0.13051808889945962\n",
            "RMSE: 0.8343150293582103\n",
            "\n",
            "Ridge 2\n",
            "Score train: 0.9037403798627096\n",
            "Score test: 0.7675638302587819\n",
            "MAE 0.12982254149567968\n",
            "RMSE: 0.8513203395621646\n",
            "\n"
          ],
          "name": "stdout"
        }
      ]
    },
    {
      "cell_type": "code",
      "metadata": {
        "colab": {
          "base_uri": "https://localhost:8080/"
        },
        "id": "JXxihMJCn-JU",
        "outputId": "ac2acc66-4f97-4991-c486-ea62e0016864"
      },
      "source": [
        "#Ridge\n",
        "model_select = [Ridge(alpha=1.5),Ridge(alpha=2.0)]\n",
        "for i,m in enumerate(model_select):\n",
        "  print('Ridge',i+1)\n",
        "  m.fit(X_train,y_train)\n",
        "  print(\"Score train:\", m.score(X_train, y_train))\n",
        "  print(\"Score test:\",m.score(X_test, y_test))\n",
        "  y_pred = m.predict(X_test)\n",
        "  print(\"MAE\",metrics.mean_absolute_error(y_test,y_pred)/y_test.mean())\n",
        "  print(\"RMSE:\", metrics.mean_squared_error(y_test,y_pred)/y_test.mean())\n",
        "  print()"
      ],
      "execution_count": null,
      "outputs": [
        {
          "output_type": "stream",
          "text": [
            "Ridge 1\n",
            "Score train: 0.8725474616490907\n",
            "Score test: 0.7397723744134674\n",
            "MAE 0.13620179448670872\n",
            "RMSE: 0.9531092808164503\n",
            "\n",
            "Ridge 2\n",
            "Score train: 0.8619066525203294\n",
            "Score test: 0.728453141532512\n",
            "MAE 0.1392781978635935\n",
            "RMSE: 0.994567084868749\n",
            "\n"
          ],
          "name": "stdout"
        }
      ]
    },
    {
      "cell_type": "markdown",
      "metadata": {
        "id": "PxlmyerjdkFJ"
      },
      "source": [
        "# **Estimador de densidad (Kenel Density Estimator)**\n",
        "\n",
        "Un estimador de densidad es un algoritmo que busca modelar la distribución de probabilidad que generó un conjunto de datos. Un ejemplo de esto es el histograma: Cuando usamos histogramas utilizamos alguna forma de estimación de densidad. Es decir, aunque solo tenemos unos pocos puntos de datos discretos, asumimos que tenemos algún tipo de distribución continua, y nos gustaría saber cuál es esa distribución. \n",
        "\n",
        "Uno de los problemas con el uso de un histograma como estimador de densidad es que la elección del tamaño y ubicación de los bines puede conducir a representaciones que tienen características cualitativamente diferentes. En la siguiente figura se muestran dos histogramas diferentes para el mismo conjunto de datos: "
      ]
    },
    {
      "cell_type": "markdown",
      "metadata": {
        "id": "1QtqPtlZdr6l"
      },
      "source": [
        "<p><img alt=\"Colaboratory logo\" height=\"200px\" src=\"https://i.imgur.com/XYrUsRT.png\" align=\"left\" hspace=\"10px\" vspace=\"0px\"></p>"
      ]
    },
    {
      "cell_type": "markdown",
      "metadata": {
        "id": "G7T1GhMJdwbd"
      },
      "source": [
        "A la izquierda, vemos una distribución bimodal. A la derecha, vemos una distribución unimodal con una cola larga. Probablemente no adivinaríamos que estos dos histogramas se crearon a partir de los mismos datos. Podemos pensar en un histograma como una pila de bloques, donde apilamos un bloque dentro de cada bin en la parte superior de cada punto del conjunto de datos:"
      ]
    },
    {
      "cell_type": "markdown",
      "metadata": {
        "id": "i5iw8Svld0zI"
      },
      "source": [
        "<p><img alt=\"Colaboratory logo\" height=\"250px\" src=\"https://i.imgur.com/qcONTFT.png\" align=\"left\" hspace=\"10px\" vspace=\"0px\"></p>"
      ]
    },
    {
      "cell_type": "markdown",
      "metadata": {
        "id": "ma473UOcd8xW"
      },
      "source": [
        "El problema con este tipo de bineado se debe al hecho de que la altura de la pila de bloques a menudo no se refleja en la densidad real de los puntos cercanos, sino en las coincidencias de cómo se alinean los bins con los puntos de datos.\n",
        "\n",
        "Pero, ¿qué pasa si, en lugar de apilar los bloques alineados con los bines, apilamos los bloques alineados con los puntos que representan? "
      ]
    },
    {
      "cell_type": "markdown",
      "metadata": {
        "id": "hF8L8zLnd9rD"
      },
      "source": [
        "<p><img alt=\"Colaboratory logo\" height=\"250px\" src=\"https://i.imgur.com/cZTVtlQ.png\" align=\"left\" hspace=\"10px\" vspace=\"0px\"></p>"
      ]
    },
    {
      "cell_type": "markdown",
      "metadata": {
        "id": "z8PrvFnWeDkH"
      },
      "source": [
        "El resultado parece un poco desordenado, pero es un reflejo mucho más sólido de las características de los datos reales que el histograma estándar. Aún así, los bordes no son estéticamente agradables, ni reflejan ninguna propiedad verdadera de los datos. Para suavizarlos, podríamos decidir reemplazar los bloques en cada ubicación con una función suave, por ejemplo con una gaussiana:"
      ]
    },
    {
      "cell_type": "markdown",
      "metadata": {
        "id": "6Tcf-HONeJs9"
      },
      "source": [
        "<p><img alt=\"Colaboratory logo\" height=\"250px\" src=\"https://i.imgur.com/oWdQPJI.png\" align=\"left\" hspace=\"10px\" vspace=\"0px\"></p>\n"
      ]
    },
    {
      "cell_type": "markdown",
      "metadata": {
        "id": "QNVcdydyeNME"
      },
      "source": [
        "\n",
        "Esta gráfica suavizada, da una idea mucho más precisa de la forma de la distribución de los datos. "
      ]
    },
    {
      "cell_type": "markdown",
      "metadata": {
        "id": "g6ArttMBeXQa"
      },
      "source": [
        "## KDE en la práctica\n",
        "\n",
        "Las dos últimas gráficas son ejemplos de KDE en una dimensión. La idea básica aquí es ubicar una distribución (kernel) $K$ sobre cada punto "
      ]
    },
    {
      "cell_type": "markdown",
      "metadata": {
        "id": "w5SkRC3-ebBY"
      },
      "source": [
        "<p><img alt=\"Colaboratory logo\" height=\"200px\" src=\"https://i.imgur.com/isgKTAG.png\" align=\"left\" hspace=\"10px\" vspace=\"0px\"></p>"
      ]
    },
    {
      "cell_type": "markdown",
      "metadata": {
        "id": "9mYeGcagefTS"
      },
      "source": [
        "y sumar cada contribución para obtener una distribución de probabilidad $$f(x)=\\frac{1}{N \\cdot h}\\displaystyle\\sum_{i=1}^{N} k\\left(\\frac{x-x_i}{h}\\right)$$"
      ]
    },
    {
      "cell_type": "markdown",
      "metadata": {
        "id": "cUyhdIMbeiLS"
      },
      "source": [
        "<p><img alt=\"Colaboratory logo\" height=\"200px\" src=\"https://i.imgur.com/iggiUXV.png\" align=\"left\" hspace=\"10px\" vspace=\"0px\"></p>"
      ]
    },
    {
      "cell_type": "markdown",
      "metadata": {
        "id": "3h0Jx4pTenmD"
      },
      "source": [
        "Los parámetros libres del KDE son:\n",
        "\n",
        "- *kernel* $k$, que especifica la forma de la distribución ubicada en cada punto\n",
        "- *ancho de banda* $h$ del kernel, que controla el tamaño del kernel en cada punto. \n",
        "\n",
        "La implementación del KDE mediante sklearn se hace a través del módulo `sklearn.neighbors` como `KernelDensity`:"
      ]
    },
    {
      "cell_type": "code",
      "metadata": {
        "id": "qQy1ZAasGGdp"
      },
      "source": [
        "# Librerías\n",
        "import numpy as np\n",
        "from sklearn.neighbors import KernelDensity\n",
        "import matplotlib.pyplot as plt"
      ],
      "execution_count": null,
      "outputs": []
    },
    {
      "cell_type": "code",
      "metadata": {
        "id": "G_lkim58hUCu"
      },
      "source": [
        "# creamos una función para generar datos\n",
        "\n",
        "def make_data(N, f=0.3, rseed=1):\n",
        "    rand = np.random.RandomState(rseed)\n",
        "    x = rand.randn(N)\n",
        "    x[int(f * N):] += 5\n",
        "    return x\n",
        "\n",
        "x = make_data(1000)"
      ],
      "execution_count": null,
      "outputs": []
    },
    {
      "cell_type": "code",
      "metadata": {
        "id": "0QZw9HnUu2Zu",
        "colab": {
          "base_uri": "https://localhost:8080/"
        },
        "outputId": "e29504ab-3194-421c-91f8-eed4619dfad4"
      },
      "source": [
        "(np.max(x)-np.min(x))/30, x.min(),x.max()"
      ],
      "execution_count": null,
      "outputs": [
        {
          "output_type": "execute_result",
          "data": {
            "text/plain": [
              "(0.3917229234728168, -2.79308500014654, 8.958602704037963)"
            ]
          },
          "metadata": {
            "tags": []
          },
          "execution_count": 48
        }
      ]
    },
    {
      "cell_type": "code",
      "metadata": {
        "id": "f9f2QCU7F_Uz",
        "colab": {
          "base_uri": "https://localhost:8080/"
        },
        "outputId": "648404db-d21c-4605-bce1-554b1b4ebe68"
      },
      "source": [
        "plt.hist(x, bins=30)\n",
        "plt.show()"
      ],
      "execution_count": null,
      "outputs": [
        {
          "output_type": "display_data",
          "data": {
            "image/png": "[encoded data removed]",
            "text/plain": [
              "<Figure size 432x288 with 1 Axes>"
            ]
          },
          "metadata": {
            "tags": [],
            "needs_background": "light"
          }
        }
      ]
    },
    {
      "cell_type": "code",
      "metadata": {
        "colab": {
          "base_uri": "https://localhost:8080/"
        },
        "id": "S2Z4A5w4qtA6",
        "outputId": "5893eaae-54f5-48d6-9621-560ae6205d92"
      },
      "source": [
        "sns.histplot(x,bins=30,kde=True)"
      ],
      "execution_count": null,
      "outputs": [
        {
          "output_type": "execute_result",
          "data": {
            "text/plain": [
              "<matplotlib.axes._subplots.AxesSubplot at 0x7f38de35dd30>"
            ]
          },
          "metadata": {
            "tags": []
          },
          "execution_count": 26
        },
        {
          "output_type": "display_data",
          "data": {
            "image/png": "[encoded data removed]",
            "text/plain": [
              "<Figure size 432x288 with 1 Axes>"
            ]
          },
          "metadata": {
            "tags": [],
            "needs_background": "light"
          }
        }
      ]
    },
    {
      "cell_type": "markdown",
      "metadata": {
        "id": "4hUrTWa6kGMq"
      },
      "source": [
        "Sea $[a,b]$ el rango del dataset, entonces los rangos en los que se define el histograma de n bines son\n",
        "\n",
        "- $[a,a+(b-a)/n)\\rightarrow f_1$\n",
        "- $[(b-a)/n,2(b-a)/n)\\rightarrow f_2$\n",
        "- $\\cdots$\n",
        "- $[(n-1)(b-a)/n,b]\\rightarrow f_n$"
      ]
    },
    {
      "cell_type": "code",
      "metadata": {
        "id": "MUmbnsm-etnR",
        "colab": {
          "base_uri": "https://localhost:8080/"
        },
        "outputId": "85270099-6f59-43bf-e859-c1a38a84a5cb"
      },
      "source": [
        "x_d = np.linspace(-4, 8, 2000)\n",
        "\n",
        "# instanciamos y entrenamos el modelo\n",
        "kde = KernelDensity(bandwidth=1.0, kernel='gaussian')\n",
        "kde.fit(x[:, None])\n",
        "\n",
        "# score_samples devuelve el logaritmo de la densidad de probabilidad\n",
        "logprob = kde.score_samples(x_d[:, None])\n",
        "\n",
        "plt.fill_between(x_d, np.exp(logprob), alpha=0.5) # Gráfica del modelo \n",
        "plt.plot(x, np.full_like(x, -0.01), '|k', markeredgewidth=1) # Gráfica del conjunto de datos\n",
        "plt.ylim(-0.02, 0.22);"
      ],
      "execution_count": null,
      "outputs": [
        {
          "output_type": "display_data",
          "data": {
            "image/png": "[encoded data removed]",
            "text/plain": [
              "<Figure size 432x288 with 1 Axes>"
            ]
          },
          "metadata": {
            "tags": [],
            "needs_background": "light"
          }
        }
      ]
    },
    {
      "cell_type": "code",
      "metadata": {
        "colab": {
          "base_uri": "https://localhost:8080/"
        },
        "id": "nhajbWv1xyCS",
        "outputId": "bf4fba1e-fcdd-479a-c799-2875db3e0142"
      },
      "source": [
        "x_pred = np.linspace(x.min(),x.max(),1000)\n",
        "logprob = kde.score_samples(x_pred[:, None])\n",
        "plt.plot(x_pred,np.exp(logprob))\n",
        "plt.show()"
      ],
      "execution_count": null,
      "outputs": [
        {
          "output_type": "display_data",
          "data": {
            "image/png": "[encoded data removed]",
            "text/plain": [
              "<Figure size 432x288 with 1 Axes>"
            ]
          },
          "metadata": {
            "tags": [],
            "needs_background": "light"
          }
        }
      ]
    },
    {
      "cell_type": "code",
      "metadata": {
        "colab": {
          "base_uri": "https://localhost:8080/"
        },
        "id": "RzdIkxeUrbsA",
        "outputId": "9e302769-ab4f-468c-d395-2806f82e74e3"
      },
      "source": [
        "#plt.hist(x, bins=30)\n",
        "plt.plot(np.exp(logprob))\n",
        "plt.show()"
      ],
      "execution_count": null,
      "outputs": [
        {
          "output_type": "display_data",
          "data": {
            "image/png": "[encoded data removed]",
            "text/plain": [
              "<Figure size 432x288 with 1 Axes>"
            ]
          },
          "metadata": {
            "tags": [],
            "needs_background": "light"
          }
        }
      ]
    },
    {
      "cell_type": "markdown",
      "metadata": {
        "id": "pU6DJqupeyAa"
      },
      "source": [
        "## Ancho de banda\n",
        "\n",
        "La selección del ancho de banda es una pieza importante del KDE: **es el hiperparámetro que controla la compensación de sesgo-varianza** en la estimación de la función de densidad: \n",
        "- Un ancho de banda demasiado estrecho conduce a una estimación de alta varianza (sobreajuste) donde la presencia o ausencia de un solo punto hace una gran diferencia.\n",
        "- Un ancho de banda demasiado ancho conduce a una estimación de alto sesgo (subajuste) donde la estructura de los datos es eliminada por el ancho del kernel."
      ]
    },
    {
      "cell_type": "code",
      "metadata": {
        "id": "45iO1G9inq3r",
        "colab": {
          "base_uri": "https://localhost:8080/"
        },
        "outputId": "92b50c82-5bc3-47b2-afa1-3f79bf72a85b"
      },
      "source": [
        "fig, ax = plt.subplots()\n",
        "ax.hist(x, 30, fc='gray', histtype='stepfilled', alpha=0.3, density=True)\n",
        "plt.show()\n"
      ],
      "execution_count": null,
      "outputs": [
        {
          "output_type": "display_data",
          "data": {
            "image/png": "[encoded data removed]",
            "text/plain": [
              "<Figure size 432x288 with 1 Axes>"
            ]
          },
          "metadata": {
            "tags": [],
            "needs_background": "light"
          }
        }
      ]
    },
    {
      "cell_type": "code",
      "metadata": {
        "id": "qv1kWY1Ge5L6",
        "colab": {
          "base_uri": "https://localhost:8080/"
        },
        "outputId": "bc9536c8-f9b4-4916-f0bd-9b76f5f68134"
      },
      "source": [
        "from scipy.stats.distributions import norm\n",
        "\n",
        "def kde_sklearn(x, x_grid, bandwidth=0.2, **kwargs):\n",
        "    \"\"\"Kernel Density Estimation with Scikit-learn\"\"\"\n",
        "    kde_skl = KernelDensity(bandwidth=bandwidth, **kwargs)\n",
        "    kde_skl.fit(x[:, np.newaxis])\n",
        "    log_pdf = kde_skl.score_samples(x_grid[:, np.newaxis]) # log-normal distribution is the continuous probability distribution of a random variable whose logarithm is normally distributed.\n",
        "    return np.exp(log_pdf)\n",
        "\n",
        "\n",
        "# Obteniendo puntos de una distribución bimodal en 1D\n",
        "np.random.seed(0)\n",
        "x_grid = np.linspace(-4.5, 3.5, 1000)\n",
        "\n",
        "x = np.concatenate([norm(-1, 1.).rvs(400),\n",
        "                    norm(1, 0.3).rvs(100)])\n",
        "pdf_true = (0.8 * norm(-1, 1).pdf(x_grid) +\n",
        "            0.2 * norm(1, 0.3).pdf(x_grid))\n",
        "\n",
        "fig, ax = plt.subplots()\n",
        "for bandwidth in [0.1, 0.3, 1.0]:\n",
        "    ax.plot(x_grid, kde_sklearn(x, x_grid, bandwidth=bandwidth),\n",
        "            label='bw={0}'.format(bandwidth), linewidth=3, alpha=0.5)\n",
        "ax.hist(x, 30, fc='gray', histtype='stepfilled', alpha=0.3, density=True)\n",
        "ax.set_xlim(-4.5, 3.5)\n",
        "ax.legend(loc='upper left');"
      ],
      "execution_count": null,
      "outputs": [
        {
          "output_type": "display_data",
          "data": {
            "image/png": "[encoded data removed]",
            "text/plain": [
              "<Figure size 432x288 with 1 Axes>"
            ]
          },
          "metadata": {
            "tags": [],
            "needs_background": "light"
          }
        }
      ]
    },
    {
      "cell_type": "markdown",
      "metadata": {
        "id": "rK83JoNvfPeb"
      },
      "source": [
        "Usar diferentes anchos de banda puede conducir a ideas completamente diferentes de la naturaleza subyacente de los datos. Dada la importancia del ancho de banda, ¿cómo podríamos determinar el ancho de banda óptimo para un problema determinado? En el contexto del ML, hemos visto que tal ajuste de hiperparámetros a menudo se realiza empíricamente mediante validación cruzada. Usaremos GridSearchCV para optimizar el ancho de banda para el conjunto de datos anterior:"
      ]
    },
    {
      "cell_type": "code",
      "metadata": {
        "id": "jaz2vNHBfS9g",
        "colab": {
          "base_uri": "https://localhost:8080/"
        },
        "outputId": "b9139742-3938-4d7a-c78d-ef13a582141e"
      },
      "source": [
        "from sklearn.model_selection import GridSearchCV\n",
        "\n",
        "# valores para evaluar el ancho de banda\n",
        "grid_param = {'bandwidth': np.linspace(0.1, 1.0, 30)}\n",
        "\n",
        "grid = GridSearchCV(KernelDensity(kernel='gaussian'), grid_param, cv=20)\n",
        "\n",
        "grid.fit(x[:, None])\n",
        "\n",
        "grid.best_estimator_ # Objeto de la clase KernelDensity con el mejor bandwidth"
      ],
      "execution_count": null,
      "outputs": [
        {
          "output_type": "execute_result",
          "data": {
            "text/plain": [
              "KernelDensity(algorithm='auto', atol=0, bandwidth=0.19310344827586207,\n",
              "              breadth_first=True, kernel='gaussian', leaf_size=40,\n",
              "              metric='euclidean', metric_params=None, rtol=0)"
            ]
          },
          "metadata": {
            "tags": []
          },
          "execution_count": 33
        }
      ]
    },
    {
      "cell_type": "markdown",
      "metadata": {
        "id": "jLY7XMuafWG_"
      },
      "source": [
        "Según el puntaje de validación cruzada (es decir, la probabilidad máxima), el mejor ancho de banda es de alrededor de 0.19:"
      ]
    },
    {
      "cell_type": "code",
      "metadata": {
        "id": "HhiAB5RafYZU",
        "colab": {
          "base_uri": "https://localhost:8080/"
        },
        "outputId": "eeb6641f-7b77-4939-ef92-17b770389ccc"
      },
      "source": [
        "kde = grid.best_estimator_\n",
        "pdf = np.exp(kde.score_samples(x_grid[:, None]))\n",
        "\n",
        "fig, ax = plt.subplots()\n",
        "ax.plot(x_grid, pdf, linewidth=3, alpha=0.5, label='bw=%.2f' % kde.bandwidth)\n",
        "ax.hist(x, 30, fc='gray', histtype='stepfilled', alpha=0.3, density=True)\n",
        "ax.legend(loc='upper left')\n",
        "ax.set_xlim(-4.5, 3.5);"
      ],
      "execution_count": null,
      "outputs": [
        {
          "output_type": "display_data",
          "data": {
            "image/png": "[encoded data removed]",
            "text/plain": [
              "<Figure size 432x288 with 1 Axes>"
            ]
          },
          "metadata": {
            "tags": [],
            "needs_background": "light"
          }
        }
      ]
    },
    {
      "cell_type": "markdown",
      "metadata": {
        "id": "9c3QwqVjfcxf"
      },
      "source": [
        "Vemos que la validación cruzada produce un ancho de banda que está cerca de lo que podríamos elegir a simple vista, y la estimación de densidad resultante refleja estrechamente la distribución de los datos subyacentes."
      ]
    },
    {
      "cell_type": "markdown",
      "metadata": {
        "id": "uxZS0QaDffLi"
      },
      "source": [
        "## Kernels\n",
        "\n",
        "Hemos estado usando el kernel gaussiano, pero esta no es la única opción disponible. KDE se puede usar con cualquier función de [kernel](https://scikit-learn.org/stable/modules/density.html), y diferentes kernels conducen a estimaciones de densidad con diferentes características. Realicemos una visualización rápida de los seis kernels disponibles en Scikit-learn:"
      ]
    },
    {
      "cell_type": "code",
      "metadata": {
        "id": "vnxrQUvXfkVq",
        "cellView": "form",
        "colab": {
          "base_uri": "https://localhost:8080/",
          "height": 374
        },
        "outputId": "8d974627-13fb-49fb-b040-fb09c3c5e90a"
      },
      "source": [
        "#@title Tipos de kernel:\n",
        "def plot_kernels():\n",
        "    \"\"\"Visualize the KDE kernels available in Scikit-learn\"\"\"\n",
        "    fig, ax = plt.subplots(figsize=(8, 6),\n",
        "                           subplot_kw={'facecolor':'#EEEEEE',\n",
        "                                       'axisbelow':True})\n",
        "    ax.grid(color='white', linestyle='-', linewidth=2)\n",
        "    for spine in ax.spines.values():\n",
        "        spine.set_color('#BBBBBB')\n",
        "\n",
        "    X_src = np.zeros((1, 1))\n",
        "    x_grid = np.linspace(-3, 3, 1000)\n",
        "\n",
        "    for kernel in ['gaussian', 'tophat', 'epanechnikov',\n",
        "                   'exponential', 'linear', 'cosine']:\n",
        "        log_dens = KernelDensity(kernel=kernel).fit(X_src).score_samples(x_grid[:, None])\n",
        "        ax.plot(x_grid, np.exp(log_dens), lw=3, alpha=0.5, label=kernel)\n",
        "    ax.set_ylim(0, 1.05)\n",
        "    ax.set_xlim(-2.9, 2.9)\n",
        "    ax.legend()\n",
        "    \n",
        "plot_kernels()"
      ],
      "execution_count": null,
      "outputs": [
        {
          "output_type": "display_data",
          "data": {
            "image/png": "[encoded data removed]",
            "text/plain": [
              "<Figure size 576x432 with 1 Axes>"
            ]
          },
          "metadata": {
            "tags": [],
            "needs_background": "light"
          }
        }
      ]
    },
    {
      "cell_type": "markdown",
      "metadata": {
        "id": "Us3NmLhmfp8A"
      },
      "source": [
        "##Dependencia del Kernel\n",
        "\n",
        "Para puntos lejanos, algunos kernels tienen pesos mucho más cercanos a cero que otros: en el caso de los kernels con límites \"fuertes\" (como el kernel tophat), los puntos distantes contribuyen exactamente con cero a la densidad. \n",
        "\n",
        "En el extremo opuesto, para los puntos que están muy cerca en comparación con el tamaño del kernel, los kernels que son muy \"planos\" (por ejemplo, kernel tophat) permitirán considerar grupos enteros de puntos a la vez, mientras que los núcleos que son menos planos (por ejemplo, el kernel gaussiano o exponencial) no admitirá tales eficiencias.\n",
        "\n",
        "Podemos ver este comportamiento en la siguiente figura:"
      ]
    },
    {
      "cell_type": "markdown",
      "metadata": {
        "id": "f8ToLDeXftva"
      },
      "source": [
        "<p><img alt=\"Colaboratory logo\" height=\"350px\" src=\"https://i.imgur.com/wiH8jsx.png\" align=\"left\" hspace=\"10px\" vspace=\"0px\"></p>"
      ]
    },
    {
      "cell_type": "markdown",
      "metadata": {
        "id": "DPcBStoOfz2F"
      },
      "source": [
        "Observe las dos regiones de interés: para anchos de banda muy pequeños, los kernels con un corte fuerte (tophat, lineal) superan a los kernels con un cono amplio (gaussiano, exponencial). Y los kernels cónicos que caen más rápidamente (gaussiano) se calculan de manera más eficiente que los kernels que caen más lentamente (exponencial).\n",
        "\n",
        "En el otro extremo, los kernels con perfiles muy planos cerca de cero (tophat, gaussiano) muestran una mejora para anchos de banda grandes, mientras que los kernels con perfiles muy empinados cerca de cero (lineal, exponencial) no muestran ninguna mejora"
      ]
    },
    {
      "cell_type": "markdown",
      "metadata": {
        "id": "5YQ-oqxZvf9P"
      },
      "source": [
        "## Ejemplo"
      ]
    },
    {
      "cell_type": "code",
      "metadata": {
        "colab": {
          "base_uri": "https://localhost:8080/"
        },
        "id": "k2Gv5iKxuxvE",
        "outputId": "80c24a92-0f85-40c5-af1a-a1d5efdce0d1"
      },
      "source": [
        "#Conjunto de datos al que voy a calcular el KDE\n",
        "#Producido por random np.random.(distribución)\n",
        "#Cargar un csv y elegir un conjunto de datos\n",
        "plt.hist(y)\n",
        "plt.show()"
      ],
      "execution_count": null,
      "outputs": [
        {
          "output_type": "display_data",
          "data": {
            "image/png": "[encoded data removed]",
            "text/plain": [
              "<Figure size 432x288 with 1 Axes>"
            ]
          },
          "metadata": {
            "tags": [],
            "needs_background": "light"
          }
        }
      ]
    },
    {
      "cell_type": "code",
      "metadata": {
        "colab": {
          "base_uri": "https://localhost:8080/"
        },
        "id": "UYbtzH-KwMOr",
        "outputId": "865ac36d-471e-4208-fb64-67ad1e75994a"
      },
      "source": [
        "y.shape, y[:, None].shape"
      ],
      "execution_count": null,
      "outputs": [
        {
          "output_type": "execute_result",
          "data": {
            "text/plain": [
              "((506,), (506, 1))"
            ]
          },
          "metadata": {
            "tags": []
          },
          "execution_count": 36
        }
      ]
    },
    {
      "cell_type": "code",
      "metadata": {
        "colab": {
          "base_uri": "https://localhost:8080/"
        },
        "id": "-LHIduJbvoCD",
        "outputId": "4da92b8b-8d29-483e-fd36-a812c144ea30"
      },
      "source": [
        "#Buscar el ancho de banda adecuado\n",
        "\n",
        "from sklearn.model_selection import GridSearchCV\n",
        "\n",
        "# valores para evaluar el ancho de banda\n",
        "grid_param = {'bandwidth': np.linspace(0.001, 1, 30)}\n",
        "\n",
        "#Ejecutamos la busqueda por GridSearch\n",
        "grid = GridSearchCV(KernelDensity(kernel='gaussian'), grid_param, cv=4)\n",
        "\n",
        "#Entrenamos todos esos modelos posible\n",
        "y_pred = np.linspace(y.min(),y.max(),1000)\n",
        "grid.fit(y[:, None])\n",
        "\n",
        "#Seleccionamos el mejor\n",
        "kde = grid.best_estimator_ # Objeto de la clase KernelDensity con el mejor bandwidth\n",
        "pdf = np.exp(kde.score_samples(y_pred[:, None]))\n",
        "plt.plot(y_pred, pdf)\n",
        "plt.hist(y, 30, fc='gray', histtype='stepfilled', alpha=0.3, density=True)\n",
        "plt.show()\n"
      ],
      "execution_count": null,
      "outputs": [
        {
          "output_type": "display_data",
          "data": {
            "image/png": "[encoded data removed]",
            "text/plain": [
              "<Figure size 432x288 with 1 Axes>"
            ]
          },
          "metadata": {
            "tags": [],
            "needs_background": "light"
          }
        }
      ]
    },
    {
      "cell_type": "code",
      "metadata": {
        "colab": {
          "base_uri": "https://localhost:8080/"
        },
        "id": "V-HQvku4wgHg",
        "outputId": "71e51749-70e1-4930-a2f8-2fc07f58f794"
      },
      "source": [
        "modelador = KernelDensity(kernel='gaussian',bandwidth=0.03)\n",
        "modelador.fit(y[:,None])\n",
        "pdf = np.exp(kde.score_samples(y_pred[:, None]))\n",
        "plt.plot(y_pred, pdf)\n",
        "plt.hist(y, 30, fc='gray', histtype='stepfilled', alpha=0.3, density=True)\n",
        "plt.show()"
      ],
      "execution_count": null,
      "outputs": [
        {
          "output_type": "display_data",
          "data": {
            "image/png": "[encoded data removed]",
            "text/plain": [
              "<Figure size 432x288 with 1 Axes>"
            ]
          },
          "metadata": {
            "tags": [],
            "needs_background": "light"
          }
        }
      ]
    },
    {
      "cell_type": "markdown",
      "metadata": {
        "id": "9cm4r_shVeCz"
      },
      "source": [
        "#**Análisis de Componentes Principales (Principal Comptents Analysis)**\n",
        "\n",
        "\n",
        "PCA es un método que consiste en rotar el dataset de tal forma que las componentes rotadas son estadisticamente no-correlacionadas. Si se desea también reducir la dimensionalidad, esta rotación es seguida de una selección de un subconjunto de características de acuerdo con su importancia."
      ]
    },
    {
      "cell_type": "markdown",
      "metadata": {
        "id": "LX6NXjvKVtpo"
      },
      "source": [
        "## Intuición inicial\n",
        "Tenemos los siguientes datos 2D y nos gustaría encontrar una proyección en 1D que preserve la máxima cantidad de variabilidad."
      ]
    },
    {
      "cell_type": "code",
      "metadata": {
        "id": "dI-gEKzx_sQQ",
        "colab": {
          "base_uri": "https://localhost:8080/"
        },
        "outputId": "c54202aa-437c-42a5-ef45-e0c5a9629b16"
      },
      "source": [
        "!pip install mglearn\n",
        "import mglearn"
      ],
      "execution_count": null,
      "outputs": [
        {
          "output_type": "stream",
          "text": [
            "Requirement already satisfied: mglearn in /usr/local/lib/python3.6/dist-packages (0.1.9)\n",
            "Requirement already satisfied: cycler in /usr/local/lib/python3.6/dist-packages (from mglearn) (0.10.0)\n",
            "Requirement already satisfied: matplotlib in /usr/local/lib/python3.6/dist-packages (from mglearn) (3.2.2)\n",
            "Requirement already satisfied: pandas in /usr/local/lib/python3.6/dist-packages (from mglearn) (1.1.4)\n",
            "Requirement already satisfied: imageio in /usr/local/lib/python3.6/dist-packages (from mglearn) (2.4.1)\n",
            "Requirement already satisfied: scikit-learn in /usr/local/lib/python3.6/dist-packages (from mglearn) (0.22.2.post1)\n",
            "Requirement already satisfied: numpy in /usr/local/lib/python3.6/dist-packages (from mglearn) (1.18.5)\n",
            "Requirement already satisfied: pillow in /usr/local/lib/python3.6/dist-packages (from mglearn) (7.0.0)\n",
            "Requirement already satisfied: joblib in /usr/local/lib/python3.6/dist-packages (from mglearn) (0.17.0)\n",
            "Requirement already satisfied: six in /usr/local/lib/python3.6/dist-packages (from cycler->mglearn) (1.15.0)\n",
            "Requirement already satisfied: kiwisolver>=1.0.1 in /usr/local/lib/python3.6/dist-packages (from matplotlib->mglearn) (1.3.1)\n",
            "Requirement already satisfied: pyparsing!=2.0.4,!=2.1.2,!=2.1.6,>=2.0.1 in /usr/local/lib/python3.6/dist-packages (from matplotlib->mglearn) (2.4.7)\n",
            "Requirement already satisfied: python-dateutil>=2.1 in /usr/local/lib/python3.6/dist-packages (from matplotlib->mglearn) (2.8.1)\n",
            "Requirement already satisfied: pytz>=2017.2 in /usr/local/lib/python3.6/dist-packages (from pandas->mglearn) (2018.9)\n",
            "Requirement already satisfied: scipy>=0.17.0 in /usr/local/lib/python3.6/dist-packages (from scikit-learn->mglearn) (1.4.1)\n"
          ],
          "name": "stdout"
        }
      ]
    },
    {
      "cell_type": "code",
      "metadata": {
        "id": "aGgr6Th6_vjB",
        "colab": {
          "base_uri": "https://localhost:8080/",
          "height": 621
        },
        "outputId": "deaf22e0-0639-4f59-abde-0a7764028cc3"
      },
      "source": [
        "mglearn.plots.plot_pca_illustration()"
      ],
      "execution_count": null,
      "outputs": [
        {
          "output_type": "display_data",
          "data": {
            "image/png": "[encoded data removed]",
            "text/plain": [
              "<Figure size 720x720 with 4 Axes>"
            ]
          },
          "metadata": {
            "tags": [],
            "needs_background": "light"
          }
        }
      ]
    },
    {
      "cell_type": "markdown",
      "metadata": {
        "id": "cyA3BI-IBdlt"
      },
      "source": [
        "## Intuición práctica"
      ]
    },
    {
      "cell_type": "code",
      "metadata": {
        "id": "2Dt77e0oBHfT",
        "colab": {
          "base_uri": "https://localhost:8080/",
          "height": 316
        },
        "outputId": "c7baf61f-f2e9-4deb-9224-f5ba7c334a97"
      },
      "source": [
        "import pandas as pd\n",
        "import numpy as np\n",
        "import matplotlib.pyplot as plt\n",
        "\n",
        "np.random.seed(1)\n",
        "X = np.dot(np.random.random(size=(2, 2)), np.random.normal(size=(2, 200))).T+10\n",
        "\n",
        "X = X-np.mean(X, axis=0)\n",
        "print (X.shape)\n",
        "plt.scatter(X[:,0], X[:,1])\n",
        "plt.xlabel(\"X\")\n",
        "plt.ylabel(\"Y\")"
      ],
      "execution_count": null,
      "outputs": [
        {
          "output_type": "stream",
          "text": [
            "(200, 2)\n"
          ],
          "name": "stdout"
        },
        {
          "output_type": "execute_result",
          "data": {
            "text/plain": [
              "Text(0, 0.5, 'Y')"
            ]
          },
          "metadata": {
            "tags": []
          },
          "execution_count": 90
        },
        {
          "output_type": "display_data",
          "data": {
            "image/png": "[encoded data removed]",
            "text/plain": [
              "<Figure size 432x288 with 1 Axes>"
            ]
          },
          "metadata": {
            "tags": [],
            "needs_background": "light"
          }
        }
      ]
    },
    {
      "cell_type": "code",
      "metadata": {
        "id": "tC5LkS69V4nZ",
        "colab": {
          "base_uri": "https://localhost:8080/",
          "height": 211
        },
        "outputId": "2c4550a4-a5a2-4d23-f43a-68429d019076"
      },
      "source": [
        "#@title Inspección de ángulos aleatorios\n",
        "plt.figure(figsize=(15,3))\n",
        "\n",
        "unit_vector = lambda angle: np.array([np.cos(angle), np.sin(angle)])\n",
        "\n",
        "for i in range(3):\n",
        "    plt.subplot(1,3,i+1)\n",
        "    angle = np.random.random()*np.pi*2 if i!=0 else 1.8\n",
        "    v = unit_vector(angle)\n",
        "\n",
        "    c = X.dot(v.reshape(-1,1))/(np.linalg.norm(v)**2)\n",
        "    Xp = np.repeat(v.reshape(-1,2),len(X),axis=0)*c\n",
        "\n",
        "    plt.scatter(X[:,0], X[:,1], color=\"blue\", alpha=.5, label=\"datos originales\")\n",
        "    plt.scatter(Xp[:,0], Xp[:,1], color=\"red\", alpha=.5, label=\"datos proyectados\")\n",
        "    plt.axvline(0, color=\"gray\")\n",
        "    plt.axhline(0, color=\"gray\")\n",
        "    plt.plot([0,v[0]], [0,v[1]], color=\"black\", lw=3, label=\"vector de proyección\")\n",
        "    plt.axis('equal')\n",
        "    plt.ylim(-2,2)\n",
        "    plt.title(\"$\\\\alpha$=%.2f rads, proj std=%.3f\"%(angle, np.std(c)))\n",
        "    if i==2:\n",
        "        plt.legend(loc=\"center left\", bbox_to_anchor=(1.01,.5))"
      ],
      "execution_count": null,
      "outputs": [
        {
          "output_type": "display_data",
          "data": {
            "image/png": "[encoded data removed]",
            "text/plain": [
              "<Figure size 1080x216 with 3 Axes>"
            ]
          },
          "metadata": {
            "tags": [],
            "needs_background": "light"
          }
        }
      ]
    },
    {
      "cell_type": "markdown",
      "metadata": {
        "id": "mfjvhmXGEMI2"
      },
      "source": [
        "Implementemos PCA y veamos los resultados que obtenemos para dos y una componente."
      ]
    },
    {
      "cell_type": "code",
      "metadata": {
        "id": "ZhpF44mrEZEo"
      },
      "source": [
        "from sklearn.decomposition import PCA"
      ],
      "execution_count": null,
      "outputs": []
    },
    {
      "cell_type": "code",
      "metadata": {
        "colab": {
          "base_uri": "https://localhost:8080/"
        },
        "id": "2eIFMKfI6y6m",
        "outputId": "daee6f6e-3092-49b0-c8ce-499172cc187f"
      },
      "source": [
        "X.shape"
      ],
      "execution_count": null,
      "outputs": [
        {
          "output_type": "execute_result",
          "data": {
            "text/plain": [
              "(200, 2)"
            ]
          },
          "metadata": {
            "tags": []
          },
          "execution_count": 93
        }
      ]
    },
    {
      "cell_type": "code",
      "metadata": {
        "id": "QQIN7FU4B4mJ",
        "colab": {
          "base_uri": "https://localhost:8080/"
        },
        "outputId": "c4071a58-3cd0-4aa0-e3ec-50606822f99e"
      },
      "source": [
        "pca2 = PCA(n_components=2) \n",
        "pca2.fit(X)\n",
        "print(\"Componentes\")\n",
        "print(pca2.components_)\n",
        "print(\"Norma de las componentes\")\n",
        "print(pca2.explained_variance_)"
      ],
      "execution_count": null,
      "outputs": [
        {
          "output_type": "stream",
          "text": [
            "Componentes\n",
            "[[-0.94446029 -0.32862557]\n",
            " [-0.32862557  0.94446029]]\n",
            "Norma de las componentes\n",
            "[0.7625315 0.0184779]\n"
          ],
          "name": "stdout"
        }
      ]
    },
    {
      "cell_type": "code",
      "metadata": {
        "id": "8M7ljpKC6rud",
        "colab": {
          "base_uri": "https://localhost:8080/"
        },
        "outputId": "46bcd1b8-2739-48d6-a66e-b8688163b8d0"
      },
      "source": [
        "sum(pca2.explained_variance_)"
      ],
      "execution_count": null,
      "outputs": [
        {
          "output_type": "execute_result",
          "data": {
            "text/plain": [
              "0.7810093963961741"
            ]
          },
          "metadata": {
            "tags": []
          },
          "execution_count": 95
        }
      ]
    },
    {
      "cell_type": "code",
      "metadata": {
        "id": "x2wztsbzEfs-",
        "colab": {
          "base_uri": "https://localhost:8080/"
        },
        "outputId": "47621173-99fb-4e2f-b97d-cdf2cf3a411d"
      },
      "source": [
        "pca = PCA(n_components=1) \n",
        "pca.fit(X)\n",
        "print(\"Componentes\")\n",
        "print(pca.components_)\n",
        "print(\"Norma de las componentes\")\n",
        "print(pca.explained_variance_)"
      ],
      "execution_count": null,
      "outputs": [
        {
          "output_type": "stream",
          "text": [
            "Componentes\n",
            "[[-0.94446029 -0.32862557]]\n",
            "Norma de las componentes\n",
            "[0.7625315]\n"
          ],
          "name": "stdout"
        }
      ]
    },
    {
      "cell_type": "markdown",
      "metadata": {
        "id": "laRQAaL0EB5E"
      },
      "source": [
        "Las componentes principales corresponden a las direcciones en los datos originales, por lo tanto son combinaciones de las características originales. Cada fila en `components_` corresponde a una componente principal y se organizan dependiendo de su importancia. Asímismo, cada columna corresponde a cada una de las caraterísticas originales. Las entradas de `explained_variance_` corresponden a la norma de los vectores de las componentes principales, los cuales indican que tan \"importante\" es el respectivo eje en la descripción de la distribución de los datos. \n"
      ]
    },
    {
      "cell_type": "markdown",
      "metadata": {
        "id": "tlxiiWR1FT2e"
      },
      "source": [
        "Veamos ahora como quedan nuestros datos transformados."
      ]
    },
    {
      "cell_type": "code",
      "metadata": {
        "colab": {
          "base_uri": "https://localhost:8080/"
        },
        "id": "TkLFQLx5orwe",
        "outputId": "1de8414e-29f4-4165-8063-30adea8b64a2"
      },
      "source": [
        "Xt = pca.transform(X)\n",
        "X.shape,pca.transform(X).shape,pca2.transform(X).shape"
      ],
      "execution_count": null,
      "outputs": [
        {
          "output_type": "execute_result",
          "data": {
            "text/plain": [
              "((200, 2), (200, 1), (200, 2))"
            ]
          },
          "metadata": {
            "tags": []
          },
          "execution_count": 97
        }
      ]
    },
    {
      "cell_type": "code",
      "metadata": {
        "id": "6wZLN27uCF8c",
        "colab": {
          "base_uri": "https://localhost:8080/",
          "height": 265
        },
        "outputId": "a08ce99d-2ba6-4df3-b914-253ccfff86e8"
      },
      "source": [
        "Xt = pca.transform(X)\n",
        "plt.scatter(X[:,0], X[:,1], color=\"blue\", alpha=.5, label=\"$\\mathbf{X}$: datos originales\")\n",
        "plt.scatter(Xt, [0]*len(Xt), color=\"red\", alpha=.5, label=\"$\\mathbf{X_t}$: datos reducidos\")\n",
        "plt.axis(\"equal\");\n",
        "plt.legend(loc=\"center left\", bbox_to_anchor=(1.01,.5));"
      ],
      "execution_count": null,
      "outputs": [
        {
          "output_type": "display_data",
          "data": {
            "image/png": "[encoded data removed]",
            "text/plain": [
              "<Figure size 432x288 with 1 Axes>"
            ]
          },
          "metadata": {
            "tags": [],
            "needs_background": "light"
          }
        }
      ]
    },
    {
      "cell_type": "markdown",
      "metadata": {
        "id": "wQF4eOs_F01q"
      },
      "source": [
        "y podemos también reconstruir los datos 2D después de la transformación"
      ]
    },
    {
      "cell_type": "code",
      "metadata": {
        "id": "JTj8QRr7CFrA",
        "colab": {
          "base_uri": "https://localhost:8080/",
          "height": 268
        },
        "outputId": "531658e6-3a6b-46b4-c064-79d4514b77f8"
      },
      "source": [
        "Xr = pca.inverse_transform(Xt)\n",
        "plt.scatter(X[:,0], X[:,1], color=\"blue\", alpha=.5, label=\"datos originales\")\n",
        "plt.scatter(Xr[:,0], Xr[:,1], color=\"red\", alpha=.5, label=\"datos reconstruidos de la componente mayor\")\n",
        "plt.legend(loc=\"center left\", bbox_to_anchor=(1.01,.5));"
      ],
      "execution_count": null,
      "outputs": [
        {
          "output_type": "display_data",
          "data": {
            "image/png": "[encoded data removed]",
            "text/plain": [
              "<Figure size 432x288 with 1 Axes>"
            ]
          },
          "metadata": {
            "tags": [],
            "needs_background": "light"
          }
        }
      ]
    },
    {
      "cell_type": "markdown",
      "metadata": {
        "id": "NhVmECX9YKdo"
      },
      "source": [
        "## Usando PCA para visualizar datos multidimensionales"
      ]
    },
    {
      "cell_type": "code",
      "metadata": {
        "id": "IZwzprfuOT95"
      },
      "source": [
        "from sklearn.datasets import load_breast_cancer\n",
        "from sklearn.preprocessing import StandardScaler\n",
        "\n",
        "from sklearn.linear_model import LogisticRegression\n",
        "from matplotlib.colors import ListedColormap\n",
        "\n",
        "from sklearn.model_selection import train_test_split\n",
        "\n",
        "from sklearn.decomposition import PCA"
      ],
      "execution_count": null,
      "outputs": []
    },
    {
      "cell_type": "code",
      "metadata": {
        "id": "o4iXmFk4Sr_e"
      },
      "source": [
        "# cargamos los datos y los estandarizamos\n",
        "cancer = load_breast_cancer()\n",
        "\n",
        "scaler = StandardScaler()\n",
        "scaler.fit(cancer.data)\n",
        "X_scaled = scaler.transform(cancer.data)"
      ],
      "execution_count": null,
      "outputs": []
    },
    {
      "cell_type": "code",
      "metadata": {
        "id": "ETr-R2Hd87kD",
        "colab": {
          "base_uri": "https://localhost:8080/"
        },
        "outputId": "a3532e41-3260-408b-afc8-aaad4bdc8318"
      },
      "source": [
        "cancer.feature_names"
      ],
      "execution_count": null,
      "outputs": [
        {
          "output_type": "execute_result",
          "data": {
            "text/plain": [
              "array(['mean radius', 'mean texture', 'mean perimeter', 'mean area',\n",
              "       'mean smoothness', 'mean compactness', 'mean concavity',\n",
              "       'mean concave points', 'mean symmetry', 'mean fractal dimension',\n",
              "       'radius error', 'texture error', 'perimeter error', 'area error',\n",
              "       'smoothness error', 'compactness error', 'concavity error',\n",
              "       'concave points error', 'symmetry error',\n",
              "       'fractal dimension error', 'worst radius', 'worst texture',\n",
              "       'worst perimeter', 'worst area', 'worst smoothness',\n",
              "       'worst compactness', 'worst concavity', 'worst concave points',\n",
              "       'worst symmetry', 'worst fractal dimension'], dtype='<U23')"
            ]
          },
          "metadata": {
            "tags": []
          },
          "execution_count": 82
        }
      ]
    },
    {
      "cell_type": "code",
      "metadata": {
        "id": "MgoD3UkVPIQB",
        "colab": {
          "base_uri": "https://localhost:8080/"
        },
        "outputId": "a437a4e8-b406-4103-e69a-c7b4ec980397"
      },
      "source": [
        "# aplicamos PCA con dos componentes principales\n",
        "pca = PCA(n_components=2)\n",
        "\n",
        "pca.fit(X_scaled)\n",
        "\n",
        "X_pca = pca.transform(X_scaled)\n",
        "print(\"Forma original: {}\".format(str(X_scaled.shape)))\n",
        "print(\"Forma reducida: {}\".format(str(X_pca.shape)))"
      ],
      "execution_count": null,
      "outputs": [
        {
          "output_type": "stream",
          "text": [
            "Forma original: (569, 30)\n",
            "Forma reducida: (569, 2)\n"
          ],
          "name": "stdout"
        }
      ]
    },
    {
      "cell_type": "code",
      "metadata": {
        "id": "RlOA_d0nPKpC",
        "colab": {
          "base_uri": "https://localhost:8080/",
          "height": 494
        },
        "outputId": "89d75406-1253-4cc7-e7bd-5fe47c7a2773"
      },
      "source": [
        "# graficamos en el espacio de las componentes\n",
        "plt.figure(figsize=(8, 8))\n",
        "mglearn.discrete_scatter(X_pca[:, 0], X_pca[:, 1], cancer.target)\n",
        "plt.legend(cancer.target_names, loc=\"best\")\n",
        "plt.gca().set_aspect(\"equal\")\n",
        "plt.xlabel(\"PCA1\")\n",
        "plt.ylabel(\"PCA2\")"
      ],
      "execution_count": null,
      "outputs": [
        {
          "output_type": "execute_result",
          "data": {
            "text/plain": [
              "Text(0, 0.5, 'PCA2')"
            ]
          },
          "metadata": {
            "tags": []
          },
          "execution_count": 103
        },
        {
          "output_type": "display_data",
          "data": {
            "image/png": "[encoded data removed]",
            "text/plain": [
              "<Figure size 576x576 with 1 Axes>"
            ]
          },
          "metadata": {
            "tags": [],
            "needs_background": "light"
          }
        }
      ]
    },
    {
      "cell_type": "code",
      "metadata": {
        "id": "ObYjflgqQYm5",
        "colab": {
          "base_uri": "https://localhost:8080/",
          "height": 252
        },
        "outputId": "f1c1c1af-309a-4441-b460-03f5ed040cbe"
      },
      "source": [
        "# entrenamos un regresor LG\n",
        "clf = LogisticRegression(solver=\"liblinear\")\n",
        "clf.fit(X_pca,cancer.target)\n",
        "\n",
        "mglearn.plots.plot_2d_classification(clf,X_pca,fill=True, cm=ListedColormap(['blue','orange']))\n",
        "mglearn.discrete_scatter(X_pca[:, 0], X_pca[:, 1], cancer.target)\n",
        "plt.show();"
      ],
      "execution_count": null,
      "outputs": [
        {
          "output_type": "display_data",
          "data": {
            "image/png": "[encoded data removed]",
            "text/plain": [
              "<Figure size 432x288 with 1 Axes>"
            ]
          },
          "metadata": {
            "tags": []
          }
        }
      ]
    },
    {
      "cell_type": "code",
      "metadata": {
        "id": "C4uFXQlK_7xv",
        "colab": {
          "base_uri": "https://localhost:8080/",
          "height": 280
        },
        "outputId": "13e72c05-d2d5-4e36-81eb-eb088de069f2"
      },
      "source": [
        "pca = PCA().fit(cancer.data)\n",
        "plt.plot(np.cumsum(pca.explained_variance_ratio_),'ro--')\n",
        "plt.xlabel('número de componentes')\n",
        "plt.ylabel('varianza acumulativa');"
      ],
      "execution_count": null,
      "outputs": [
        {
          "output_type": "display_data",
          "data": {
            "image/png": "[encoded data removed]",
            "text/plain": [
              "<Figure size 432x288 with 1 Axes>"
            ]
          },
          "metadata": {
            "tags": [],
            "needs_background": "light"
          }
        }
      ]
    },
    {
      "cell_type": "markdown",
      "metadata": {
        "id": "3oAH0t64AOmR"
      },
      "source": [
        "La curva cuantifica cuánto de la varianza total está contenida en las primeras N componentes. Observamos que, en este caso, las dos primeras componentes contienen alrededor del 99% de la varianza, y se necesitan alrededor de tres componentes para describir cerca del 100% de la varianza. \n",
        "\n",
        "Aternativamente, el hiperparámetro `n_components` puede ser usado en el rango (0,1), con lo cual se indica al modelo que contenga un cierto porcentaje de la varianza, y el modelo nos devolverá el número de componentes necesarias para tener ese porcentaje de varianza:  "
      ]
    },
    {
      "cell_type": "code",
      "metadata": {
        "id": "iyaeYUlZARLr",
        "colab": {
          "base_uri": "https://localhost:8080/"
        },
        "outputId": "9616d5d0-cac1-4579-e121-17e59e128abd"
      },
      "source": [
        "# reteniendo el 50 % de la varianza\n",
        "pca = PCA(n_components=0.99).fit(cancer.data)\n",
        "print(\"Número de componentes: \",pca.n_components_)"
      ],
      "execution_count": null,
      "outputs": [
        {
          "output_type": "stream",
          "text": [
            "Número de componentes:  2\n"
          ],
          "name": "stdout"
        }
      ]
    },
    {
      "cell_type": "markdown",
      "metadata": {
        "id": "Y4oMXY2zbwet"
      },
      "source": [
        "Podemos concluir entonces que para este dataset, haber tomado solo dos componentes principales permite visualizar que la separación de los datos es lineal sin perder calidad en los resultados."
      ]
    },
    {
      "cell_type": "markdown",
      "metadata": {
        "id": "jQFzm787-XCy"
      },
      "source": [
        "## Ejemplo"
      ]
    },
    {
      "cell_type": "code",
      "metadata": {
        "colab": {
          "base_uri": "https://localhost:8080/"
        },
        "id": "2hC0UVZX-WmD",
        "outputId": "4c27aff0-083b-4fd5-e4e6-79589ff318b5"
      },
      "source": [
        "# load_extended_boston\n",
        "X, y = mglearn.datasets.load_extended_boston()\n",
        "X.shape, y.shape"
      ],
      "execution_count": null,
      "outputs": [
        {
          "output_type": "execute_result",
          "data": {
            "text/plain": [
              "((506, 104), (506,))"
            ]
          },
          "metadata": {
            "tags": []
          },
          "execution_count": 106
        }
      ]
    },
    {
      "cell_type": "code",
      "metadata": {
        "colab": {
          "base_uri": "https://localhost:8080/",
          "height": 280
        },
        "id": "1NxagIYP-iS5",
        "outputId": "b2fad08c-4582-430c-a590-fb148ef0abfb"
      },
      "source": [
        "pca = PCA().fit(X) \n",
        "plt.plot(np.cumsum(pca.explained_variance_ratio_),'ro--')\n",
        "plt.xlabel('número de componentes')\n",
        "plt.ylabel('varianza acumulativa');"
      ],
      "execution_count": null,
      "outputs": [
        {
          "output_type": "display_data",
          "data": {
            "image/png": "[encoded data removed]",
            "text/plain": [
              "<Figure size 432x288 with 1 Axes>"
            ]
          },
          "metadata": {
            "tags": [],
            "needs_background": "light"
          }
        }
      ]
    },
    {
      "cell_type": "code",
      "metadata": {
        "colab": {
          "base_uri": "https://localhost:8080/"
        },
        "id": "dh27wBMU-rn-",
        "outputId": "498d15e1-9032-4fd3-afe4-9e73705b5f56"
      },
      "source": [
        "pca = PCA(n_components=0.99).fit(X)\n",
        "print(\"Número de componentes: \",pca.n_components_)"
      ],
      "execution_count": null,
      "outputs": [
        {
          "output_type": "stream",
          "text": [
            "Número de componentes:  21\n"
          ],
          "name": "stdout"
        }
      ]
    },
    {
      "cell_type": "code",
      "metadata": {
        "colab": {
          "base_uri": "https://localhost:8080/"
        },
        "id": "SLaWMyc7-0si",
        "outputId": "111baef4-8ea4-4e4b-f355-1e598ed04edb"
      },
      "source": [
        "Xtransform = pca.transform(X)\n",
        "Xtransform.shape"
      ],
      "execution_count": null,
      "outputs": [
        {
          "output_type": "execute_result",
          "data": {
            "text/plain": [
              "(506, 21)"
            ]
          },
          "metadata": {
            "tags": []
          },
          "execution_count": 109
        }
      ]
    },
    {
      "cell_type": "code",
      "metadata": {
        "id": "qPKrkFms_Bkr"
      },
      "source": [
        "#Primero el split de los datos\n",
        "X_train, X_test, y_train, y_test = train_test_split(Xtransform, y, random_state=0)"
      ],
      "execution_count": null,
      "outputs": []
    },
    {
      "cell_type": "code",
      "metadata": {
        "id": "-u-HaBEN_YgG",
        "colab": {
          "base_uri": "https://localhost:8080/"
        },
        "outputId": "5b007f39-06ec-4341-b0e2-ae74cfbf9ce1"
      },
      "source": [
        "models = [LinearRegression(), Ridge(), Lasso(), ElasticNet()]\n",
        "for m in models:\n",
        "  m.fit(X_train,y_train)\n",
        "\n",
        "labels = ['Regresión linear', 'Regresión Ridge alpha=1', 'Regresión Lasso alpha=1','Regresión ElasticNet alpha=1,rho=0.5']\n",
        "for i,m in enumerate(models):\n",
        "  print('Model', labels[i])\n",
        "  print(\"Score train:\", m.score(X_train, y_train))\n",
        "  print(\"Score test:\",m.score(X_test, y_test))\n",
        "  y_pred = m.predict(X_test)\n",
        "  print(\"MAE\",metrics.mean_absolute_error(y_test,y_pred)/y_test.mean())\n",
        "  print(\"RMSE:\", metrics.mean_squared_error(y_test,y_pred)/y_test.mean())\n",
        "  print()"
      ],
      "execution_count": null,
      "outputs": [
        {
          "output_type": "stream",
          "text": [
            "Model Regresión linear\n",
            "Score train: 0.8580655259715146\n",
            "Score test: 0.7176861516705884\n",
            "MAE 0.1469684621486039\n",
            "RMSE: 1.0340022445322399\n",
            "\n",
            "Model Regresión Ridge alpha=1\n",
            "Score train: 0.8491575352910398\n",
            "Score test: 0.7177878294833453\n",
            "MAE 0.1447973008395364\n",
            "RMSE: 1.0336298395395975\n",
            "\n",
            "Model Regresión Lasso alpha=1\n",
            "Score train: 0.4984305424030617\n",
            "Score test: 0.3193098382580234\n",
            "MAE 0.23463159154241187\n",
            "RMSE: 2.4930946860635848\n",
            "\n",
            "Model Regresión ElasticNet alpha=1,rho=0.5\n",
            "Score train: 0.43170774953604985\n",
            "Score test: 0.26870272146516627\n",
            "MAE 0.2411034888873479\n",
            "RMSE: 2.6784482302229278\n",
            "\n"
          ],
          "name": "stdout"
        }
      ]
    },
    {
      "cell_type": "code",
      "metadata": {
        "id": "2ZP5ugQa_mAz"
      },
      "source": [
        "#X_extra ---> predecir 104 columnas \n",
        "#X_extra_t = pca.transform(X_extra) ---> 21\n",
        "#y_pred = m.predict(X_extra_t)"
      ],
      "execution_count": null,
      "outputs": []
    },
    {
      "cell_type": "markdown",
      "metadata": {
        "id": "UVdMPr2wAiOC"
      },
      "source": [
        "## Ejercicios propuestos"
      ]
    },
    {
      "cell_type": "code",
      "metadata": {
        "id": "jlnu5JOXApvd"
      },
      "source": [
        "archivo = 'https://s3-api.us-geo.objectstorage.softlayer.net/cf-courses-data/CognitiveClass/DA0101EN/automobileEDA.csv'\n",
        "df = pd.read_csv(archivo)"
      ],
      "execution_count": null,
      "outputs": []
    },
    {
      "cell_type": "markdown",
      "metadata": {
        "id": "6maFh4rv2Ao2"
      },
      "source": [
        "# **Manejo de series de tiempo en Pandas**"
      ]
    },
    {
      "cell_type": "markdown",
      "metadata": {
        "id": "DqpJXNZH2Z_p"
      },
      "source": [
        "Las series de tiempo se identifican por ser un conjunto de eventos que depende del tiempo, existen bajo una ventana o intervalo temporal y con una frecuencia específica que los hace continuos. Si bien podemos tener una columna de tipo fecha, el tener estas como un **Index** hace que nuestro `DataFrame` se vuelva una serie de tiempo en forma.  "
      ]
    },
    {
      "cell_type": "code",
      "metadata": {
        "id": "RPrbs5K72D-s"
      },
      "source": [
        "import pandas as pd\n",
        "from datetime import datetime #--> el módulo estandas para el manejo de tiempos en python"
      ],
      "execution_count": null,
      "outputs": []
    },
    {
      "cell_type": "code",
      "metadata": {
        "colab": {
          "base_uri": "https://localhost:8080/"
        },
        "id": "DEHh9f_X6x9l",
        "outputId": "454816de-9b44-4edc-ffe7-891234450067"
      },
      "source": [
        "datetime.today() #Objeto Fecha/Tiempo en la máquina que usamos"
      ],
      "execution_count": null,
      "outputs": [
        {
          "output_type": "execute_result",
          "data": {
            "text/plain": [
              "datetime.datetime(2020, 11, 26, 23, 26, 47, 34398)"
            ]
          },
          "metadata": {
            "tags": []
          },
          "execution_count": 102
        }
      ]
    },
    {
      "cell_type": "markdown",
      "metadata": {
        "id": "-FNLOfF-7ECu"
      },
      "source": [
        "## Tipos de objetos de Fecha/Tiempo (datetime)\n",
        "\n",
        "* Timestamp: Marca de tiempo\n",
        "```python\n",
        "pd.Timestamp(datetime(2020,1,1))\n",
        "pd.Timestamp('2020-01-01')\n",
        "```"
      ]
    },
    {
      "cell_type": "code",
      "metadata": {
        "id": "PmQC7ljm63zx"
      },
      "source": [
        "year_2020 = pd.Timestamp('2020-11-26')"
      ],
      "execution_count": null,
      "outputs": []
    },
    {
      "cell_type": "code",
      "metadata": {
        "colab": {
          "base_uri": "https://localhost:8080/"
        },
        "id": "mDtxrMBj5RJo",
        "outputId": "3df23d9d-bb98-4373-977d-3572842de007"
      },
      "source": [
        "year_2020."
      ],
      "execution_count": null,
      "outputs": [
        {
          "output_type": "execute_result",
          "data": {
            "text/plain": [
              "Timestamp('2020-11-26 00:00:00')"
            ]
          },
          "metadata": {
            "tags": []
          },
          "execution_count": 104
        }
      ]
    },
    {
      "cell_type": "code",
      "metadata": {
        "colab": {
          "base_uri": "https://localhost:8080/"
        },
        "id": "HYjT2e6R7VE1",
        "outputId": "575b5f10-5b10-4d64-9674-189d47616864"
      },
      "source": [
        "year_2020.year, year_2020.day_name()"
      ],
      "execution_count": null,
      "outputs": [
        {
          "output_type": "execute_result",
          "data": {
            "text/plain": [
              "(2020, 'Thursday')"
            ]
          },
          "metadata": {
            "tags": []
          },
          "execution_count": 105
        }
      ]
    },
    {
      "cell_type": "markdown",
      "metadata": {
        "id": "mdaA4Ablm_Mq"
      },
      "source": [
        "* Period: Periodo de tiempo con una frecuencia \n",
        "```python\n",
        "pd.Period('2020-01')\n",
        "```\n",
        "\n",
        "|Periodo| Alias|\n",
        "|-|-|\n",
        "|Horas|H|\n",
        "|Diario|D|\n",
        "|Semanal|W|\n",
        "|Mes|M|\n",
        "|Trimestre|Q|\n",
        "|Anual|A|\n",
        "\n",
        "\n"
      ]
    },
    {
      "cell_type": "code",
      "metadata": {
        "id": "2p7GV1PKm1Xg"
      },
      "source": [
        "p_month = pd.Period('2020-07') #default M \n",
        "p_day =p_month.asfreq('D')"
      ],
      "execution_count": null,
      "outputs": []
    },
    {
      "cell_type": "code",
      "metadata": {
        "colab": {
          "base_uri": "https://localhost:8080/"
        },
        "id": "y-yU_9vSnbEI",
        "outputId": "a2a47b2d-9db0-4922-afb8-b3ca7568391a"
      },
      "source": [
        "p_month"
      ],
      "execution_count": null,
      "outputs": [
        {
          "output_type": "execute_result",
          "data": {
            "text/plain": [
              "Period('2020-07', 'M')"
            ]
          },
          "metadata": {
            "tags": []
          },
          "execution_count": 109
        }
      ]
    },
    {
      "cell_type": "code",
      "metadata": {
        "colab": {
          "base_uri": "https://localhost:8080/"
        },
        "id": "5ZfFvi7MnaUv",
        "outputId": "7cf3853e-8642-4832-ad96-0ebaa273fafc"
      },
      "source": [
        "p_day"
      ],
      "execution_count": null,
      "outputs": [
        {
          "output_type": "execute_result",
          "data": {
            "text/plain": [
              "Period('2020-07-31', 'D')"
            ]
          },
          "metadata": {
            "tags": []
          },
          "execution_count": 110
        }
      ]
    },
    {
      "cell_type": "code",
      "metadata": {
        "colab": {
          "base_uri": "https://localhost:8080/"
        },
        "id": "RfGFxkYHncf-",
        "outputId": "9952dc27-ff1b-4f14-910d-644b388b4429"
      },
      "source": [
        "month.to_timestamp() #.to_period('M')"
      ],
      "execution_count": null,
      "outputs": [
        {
          "output_type": "execute_result",
          "data": {
            "text/plain": [
              "Timestamp('2020-07-01 00:00:00')"
            ]
          },
          "metadata": {
            "tags": []
          },
          "execution_count": 11
        }
      ]
    },
    {
      "cell_type": "code",
      "metadata": {
        "colab": {
          "base_uri": "https://localhost:8080/"
        },
        "id": "EFmZ9ACNoSbO",
        "outputId": "1cb92a72-4e05-4640-8e4a-90f17b25b042"
      },
      "source": [
        "month + 2"
      ],
      "execution_count": null,
      "outputs": [
        {
          "output_type": "execute_result",
          "data": {
            "text/plain": [
              "Period('2020-09', 'M')"
            ]
          },
          "metadata": {
            "tags": []
          },
          "execution_count": 111
        }
      ]
    },
    {
      "cell_type": "markdown",
      "metadata": {
        "id": "Kv_o5pf3oeHe"
      },
      "source": [
        "* DatetimeIndex:\n",
        "\n",
        "```python\n",
        "pd.date_range(start='2020-01-01',periods=6, freq='M')\n",
        "```"
      ]
    },
    {
      "cell_type": "code",
      "metadata": {
        "id": "9sdjVw30oTjN"
      },
      "source": [
        "range_2020 = pd.date_range(start='2020-01-01',periods=12, freq='M')"
      ],
      "execution_count": null,
      "outputs": []
    },
    {
      "cell_type": "code",
      "metadata": {
        "colab": {
          "base_uri": "https://localhost:8080/"
        },
        "id": "u94mEDUGo0x3",
        "outputId": "032728a0-b84d-4543-ef84-df27805c1bb4"
      },
      "source": [
        "type(range_2020)"
      ],
      "execution_count": null,
      "outputs": [
        {
          "output_type": "execute_result",
          "data": {
            "text/plain": [
              "pandas.core.indexes.datetimes.DatetimeIndex"
            ]
          },
          "metadata": {
            "tags": []
          },
          "execution_count": 113
        }
      ]
    },
    {
      "cell_type": "code",
      "metadata": {
        "colab": {
          "base_uri": "https://localhost:8080/"
        },
        "id": "6oTpMeDV7Jwf",
        "outputId": "0ebca60a-c11d-46e1-b1d6-1cea18e05800"
      },
      "source": [
        "range_2020"
      ],
      "execution_count": null,
      "outputs": [
        {
          "output_type": "execute_result",
          "data": {
            "text/plain": [
              "DatetimeIndex(['2020-01-31', '2020-02-29', '2020-03-31', '2020-04-30',\n",
              "               '2020-05-31', '2020-06-30', '2020-07-31', '2020-08-31',\n",
              "               '2020-09-30', '2020-10-31', '2020-11-30', '2020-12-31'],\n",
              "              dtype='datetime64[ns]', freq='M')"
            ]
          },
          "metadata": {
            "tags": []
          },
          "execution_count": 114
        }
      ]
    },
    {
      "cell_type": "markdown",
      "metadata": {
        "id": "a3TkmZB1pMx5"
      },
      "source": [
        "* PeriodIndex:"
      ]
    },
    {
      "cell_type": "code",
      "metadata": {
        "colab": {
          "base_uri": "https://localhost:8080/"
        },
        "id": "epiahohTpBTU",
        "outputId": "037a835b-3714-46c4-8568-8c38132033db"
      },
      "source": [
        "range_2020.to_period()"
      ],
      "execution_count": null,
      "outputs": [
        {
          "output_type": "execute_result",
          "data": {
            "text/plain": [
              "PeriodIndex(['2020-01', '2020-02', '2020-03', '2020-04', '2020-05', '2020-06',\n",
              "             '2020-07', '2020-08', '2020-09', '2020-10', '2020-11', '2020-12'],\n",
              "            dtype='period[M]', freq='M')"
            ]
          },
          "metadata": {
            "tags": []
          },
          "execution_count": 115
        }
      ]
    },
    {
      "cell_type": "markdown",
      "metadata": {
        "id": "zZ62_KQrpjEo"
      },
      "source": [
        "## Dataframe con index tipo fecha"
      ]
    },
    {
      "cell_type": "code",
      "metadata": {
        "colab": {
          "base_uri": "https://localhost:8080/",
          "height": 421
        },
        "id": "-T8UN6wopTog",
        "outputId": "6b0bef69-f576-496a-a54a-f044b1bde652"
      },
      "source": [
        "pd.DataFrame(np.random.random((12,3)), index = range_2020)"
      ],
      "execution_count": null,
      "outputs": [
        {
          "output_type": "execute_result",
          "data": {
            "text/html": [
              "<div>\n",
              "<style scoped>\n",
              "    .dataframe tbody tr th:only-of-type {\n",
              "        vertical-align: middle;\n",
              "    }\n",
              "\n",
              "    .dataframe tbody tr th {\n",
              "        vertical-align: top;\n",
              "    }\n",
              "\n",
              "    .dataframe thead th {\n",
              "        text-align: right;\n",
              "    }\n",
              "</style>\n",
              "<table border=\"1\" class=\"dataframe\">\n",
              "  <thead>\n",
              "    <tr style=\"text-align: right;\">\n",
              "      <th></th>\n",
              "      <th>0</th>\n",
              "      <th>1</th>\n",
              "      <th>2</th>\n",
              "    </tr>\n",
              "  </thead>\n",
              "  <tbody>\n",
              "    <tr>\n",
              "      <th>2020-01-31</th>\n",
              "      <td>0.019277</td>\n",
              "      <td>0.037095</td>\n",
              "      <td>0.998961</td>\n",
              "    </tr>\n",
              "    <tr>\n",
              "      <th>2020-02-29</th>\n",
              "      <td>0.636231</td>\n",
              "      <td>0.102258</td>\n",
              "      <td>0.135807</td>\n",
              "    </tr>\n",
              "    <tr>\n",
              "      <th>2020-03-31</th>\n",
              "      <td>0.832143</td>\n",
              "      <td>0.536505</td>\n",
              "      <td>0.983828</td>\n",
              "    </tr>\n",
              "    <tr>\n",
              "      <th>2020-04-30</th>\n",
              "      <td>0.758916</td>\n",
              "      <td>0.865499</td>\n",
              "      <td>0.918020</td>\n",
              "    </tr>\n",
              "    <tr>\n",
              "      <th>2020-05-31</th>\n",
              "      <td>0.630620</td>\n",
              "      <td>0.334977</td>\n",
              "      <td>0.134777</td>\n",
              "    </tr>\n",
              "    <tr>\n",
              "      <th>2020-06-30</th>\n",
              "      <td>0.650358</td>\n",
              "      <td>0.413382</td>\n",
              "      <td>0.967593</td>\n",
              "    </tr>\n",
              "    <tr>\n",
              "      <th>2020-07-31</th>\n",
              "      <td>0.974856</td>\n",
              "      <td>0.635531</td>\n",
              "      <td>0.917371</td>\n",
              "    </tr>\n",
              "    <tr>\n",
              "      <th>2020-08-31</th>\n",
              "      <td>0.624495</td>\n",
              "      <td>0.340591</td>\n",
              "      <td>0.312278</td>\n",
              "    </tr>\n",
              "    <tr>\n",
              "      <th>2020-09-30</th>\n",
              "      <td>0.529474</td>\n",
              "      <td>0.195496</td>\n",
              "      <td>0.788908</td>\n",
              "    </tr>\n",
              "    <tr>\n",
              "      <th>2020-10-31</th>\n",
              "      <td>0.410549</td>\n",
              "      <td>0.944214</td>\n",
              "      <td>0.645993</td>\n",
              "    </tr>\n",
              "    <tr>\n",
              "      <th>2020-11-30</th>\n",
              "      <td>0.407049</td>\n",
              "      <td>0.490551</td>\n",
              "      <td>0.478517</td>\n",
              "    </tr>\n",
              "    <tr>\n",
              "      <th>2020-12-31</th>\n",
              "      <td>0.583886</td>\n",
              "      <td>0.865134</td>\n",
              "      <td>0.941426</td>\n",
              "    </tr>\n",
              "  </tbody>\n",
              "</table>\n",
              "</div>"
            ],
            "text/plain": [
              "                   0         1         2\n",
              "2020-01-31  0.019277  0.037095  0.998961\n",
              "2020-02-29  0.636231  0.102258  0.135807\n",
              "2020-03-31  0.832143  0.536505  0.983828\n",
              "2020-04-30  0.758916  0.865499  0.918020\n",
              "2020-05-31  0.630620  0.334977  0.134777\n",
              "2020-06-30  0.650358  0.413382  0.967593\n",
              "2020-07-31  0.974856  0.635531  0.917371\n",
              "2020-08-31  0.624495  0.340591  0.312278\n",
              "2020-09-30  0.529474  0.195496  0.788908\n",
              "2020-10-31  0.410549  0.944214  0.645993\n",
              "2020-11-30  0.407049  0.490551  0.478517\n",
              "2020-12-31  0.583886  0.865134  0.941426"
            ]
          },
          "metadata": {
            "tags": []
          },
          "execution_count": 19
        }
      ]
    },
    {
      "cell_type": "code",
      "metadata": {
        "colab": {
          "base_uri": "https://localhost:8080/"
        },
        "id": "O0BD6iLK7-LX",
        "outputId": "36ffc599-027e-4b52-87c1-262211046935"
      },
      "source": [
        "pd.DataFrame(np.random.random((12,3)), index = range_2020).info()"
      ],
      "execution_count": null,
      "outputs": [
        {
          "output_type": "stream",
          "text": [
            "<class 'pandas.core.frame.DataFrame'>\n",
            "DatetimeIndex: 12 entries, 2020-01-31 to 2020-12-31\n",
            "Freq: M\n",
            "Data columns (total 3 columns):\n",
            " #   Column  Non-Null Count  Dtype  \n",
            "---  ------  --------------  -----  \n",
            " 0   0       12 non-null     float64\n",
            " 1   1       12 non-null     float64\n",
            " 2   2       12 non-null     float64\n",
            "dtypes: float64(3)\n",
            "memory usage: 384.0 bytes\n"
          ],
          "name": "stdout"
        }
      ]
    },
    {
      "cell_type": "code",
      "metadata": {
        "id": "nnIuaMcMpy_a"
      },
      "source": [
        "#API SOCRATA, un link a una base viva (actualizada en tiempo real)\n",
        "path = 'https://www.datos.gov.co/resource/32sa-8pi3.json?$limit=10000'\n",
        "TMR = pd.read_json(path)"
      ],
      "execution_count": null,
      "outputs": []
    },
    {
      "cell_type": "code",
      "metadata": {
        "colab": {
          "base_uri": "https://localhost:8080/"
        },
        "id": "u2CHPr2VrvjG",
        "outputId": "356fdcb0-1c25-4dfc-9224-eede4e78546a"
      },
      "source": [
        "TMR.info()"
      ],
      "execution_count": null,
      "outputs": [
        {
          "output_type": "stream",
          "text": [
            "<class 'pandas.core.frame.DataFrame'>\n",
            "RangeIndex: 6976 entries, 0 to 6975\n",
            "Data columns (total 4 columns):\n",
            " #   Column         Non-Null Count  Dtype  \n",
            "---  ------         --------------  -----  \n",
            " 0   valor          6976 non-null   float64\n",
            " 1   unidad         6976 non-null   object \n",
            " 2   vigenciadesde  6976 non-null   object \n",
            " 3   vigenciahasta  6976 non-null   object \n",
            "dtypes: float64(1), object(3)\n",
            "memory usage: 218.1+ KB\n"
          ],
          "name": "stdout"
        }
      ]
    },
    {
      "cell_type": "code",
      "metadata": {
        "id": "llf1wui68qQH"
      },
      "source": [
        "#########\n",
        "#pd.read_csv(path, parse_dates=[1,2,3] (es la columnas que quiero leer como fecha),\n",
        "#            date_parser=func (función particular para leer la fecha))\n",
        "#########"
      ],
      "execution_count": null,
      "outputs": []
    },
    {
      "cell_type": "code",
      "metadata": {
        "colab": {
          "base_uri": "https://localhost:8080/",
          "height": 204
        },
        "id": "BUCX3zxn-KXw",
        "outputId": "82de121f-18da-4798-d314-11c1a64841d5"
      },
      "source": [
        "TMR.head()"
      ],
      "execution_count": null,
      "outputs": [
        {
          "output_type": "execute_result",
          "data": {
            "text/html": [
              "<div>\n",
              "<style scoped>\n",
              "    .dataframe tbody tr th:only-of-type {\n",
              "        vertical-align: middle;\n",
              "    }\n",
              "\n",
              "    .dataframe tbody tr th {\n",
              "        vertical-align: top;\n",
              "    }\n",
              "\n",
              "    .dataframe thead th {\n",
              "        text-align: right;\n",
              "    }\n",
              "</style>\n",
              "<table border=\"1\" class=\"dataframe\">\n",
              "  <thead>\n",
              "    <tr style=\"text-align: right;\">\n",
              "      <th></th>\n",
              "      <th>valor</th>\n",
              "      <th>unidad</th>\n",
              "      <th>vigenciadesde</th>\n",
              "      <th>vigenciahasta</th>\n",
              "    </tr>\n",
              "  </thead>\n",
              "  <tbody>\n",
              "    <tr>\n",
              "      <th>0</th>\n",
              "      <td>3842.34</td>\n",
              "      <td>COP</td>\n",
              "      <td>2020-10-02T00:00:00.000</td>\n",
              "      <td>2020-10-02T00:00:00.000</td>\n",
              "    </tr>\n",
              "    <tr>\n",
              "      <th>1</th>\n",
              "      <td>3865.47</td>\n",
              "      <td>COP</td>\n",
              "      <td>2020-10-01T00:00:00.000</td>\n",
              "      <td>2020-10-01T00:00:00.000</td>\n",
              "    </tr>\n",
              "    <tr>\n",
              "      <th>2</th>\n",
              "      <td>3878.94</td>\n",
              "      <td>COP</td>\n",
              "      <td>2020-09-30T00:00:00.000</td>\n",
              "      <td>2020-09-30T00:00:00.000</td>\n",
              "    </tr>\n",
              "    <tr>\n",
              "      <th>3</th>\n",
              "      <td>3859.90</td>\n",
              "      <td>COP</td>\n",
              "      <td>2020-09-29T00:00:00.000</td>\n",
              "      <td>2020-09-29T00:00:00.000</td>\n",
              "    </tr>\n",
              "    <tr>\n",
              "      <th>4</th>\n",
              "      <td>3867.81</td>\n",
              "      <td>COP</td>\n",
              "      <td>2020-09-26T00:00:00.000</td>\n",
              "      <td>2020-09-28T00:00:00.000</td>\n",
              "    </tr>\n",
              "  </tbody>\n",
              "</table>\n",
              "</div>"
            ],
            "text/plain": [
              "     valor unidad            vigenciadesde            vigenciahasta\n",
              "0  3842.34    COP  2020-10-02T00:00:00.000  2020-10-02T00:00:00.000\n",
              "1  3865.47    COP  2020-10-01T00:00:00.000  2020-10-01T00:00:00.000\n",
              "2  3878.94    COP  2020-09-30T00:00:00.000  2020-09-30T00:00:00.000\n",
              "3  3859.90    COP  2020-09-29T00:00:00.000  2020-09-29T00:00:00.000\n",
              "4  3867.81    COP  2020-09-26T00:00:00.000  2020-09-28T00:00:00.000"
            ]
          },
          "metadata": {
            "tags": []
          },
          "execution_count": 119
        }
      ]
    },
    {
      "cell_type": "markdown",
      "metadata": {
        "id": "fHOkB0FpA9G_"
      },
      "source": [
        "### Manejo de Errores "
      ]
    },
    {
      "cell_type": "code",
      "metadata": {
        "colab": {
          "base_uri": "https://localhost:8080/",
          "height": 359
        },
        "id": "ldJ4PCFl-W03",
        "outputId": "dc0e95e9-5435-4564-9bde-0b8fc29d22ee"
      },
      "source": [
        "test_TMR = TMR.copy()\n",
        "test_TMR.iloc[5,2] = 'Cadena'\n",
        "test_TMR.head(10)"
      ],
      "execution_count": null,
      "outputs": [
        {
          "output_type": "execute_result",
          "data": {
            "text/html": [
              "<div>\n",
              "<style scoped>\n",
              "    .dataframe tbody tr th:only-of-type {\n",
              "        vertical-align: middle;\n",
              "    }\n",
              "\n",
              "    .dataframe tbody tr th {\n",
              "        vertical-align: top;\n",
              "    }\n",
              "\n",
              "    .dataframe thead th {\n",
              "        text-align: right;\n",
              "    }\n",
              "</style>\n",
              "<table border=\"1\" class=\"dataframe\">\n",
              "  <thead>\n",
              "    <tr style=\"text-align: right;\">\n",
              "      <th></th>\n",
              "      <th>valor</th>\n",
              "      <th>unidad</th>\n",
              "      <th>vigenciadesde</th>\n",
              "      <th>vigenciahasta</th>\n",
              "    </tr>\n",
              "  </thead>\n",
              "  <tbody>\n",
              "    <tr>\n",
              "      <th>0</th>\n",
              "      <td>3842.34</td>\n",
              "      <td>COP</td>\n",
              "      <td>2020-10-02T00:00:00.000</td>\n",
              "      <td>2020-10-02T00:00:00.000</td>\n",
              "    </tr>\n",
              "    <tr>\n",
              "      <th>1</th>\n",
              "      <td>3865.47</td>\n",
              "      <td>COP</td>\n",
              "      <td>2020-10-01T00:00:00.000</td>\n",
              "      <td>2020-10-01T00:00:00.000</td>\n",
              "    </tr>\n",
              "    <tr>\n",
              "      <th>2</th>\n",
              "      <td>3878.94</td>\n",
              "      <td>COP</td>\n",
              "      <td>2020-09-30T00:00:00.000</td>\n",
              "      <td>2020-09-30T00:00:00.000</td>\n",
              "    </tr>\n",
              "    <tr>\n",
              "      <th>3</th>\n",
              "      <td>3859.90</td>\n",
              "      <td>COP</td>\n",
              "      <td>2020-09-29T00:00:00.000</td>\n",
              "      <td>2020-09-29T00:00:00.000</td>\n",
              "    </tr>\n",
              "    <tr>\n",
              "      <th>4</th>\n",
              "      <td>3867.81</td>\n",
              "      <td>COP</td>\n",
              "      <td>2020-09-26T00:00:00.000</td>\n",
              "      <td>2020-09-28T00:00:00.000</td>\n",
              "    </tr>\n",
              "    <tr>\n",
              "      <th>5</th>\n",
              "      <td>3873.80</td>\n",
              "      <td>COP</td>\n",
              "      <td>Cadena</td>\n",
              "      <td>2020-09-25T00:00:00.000</td>\n",
              "    </tr>\n",
              "    <tr>\n",
              "      <th>6</th>\n",
              "      <td>3863.60</td>\n",
              "      <td>COP</td>\n",
              "      <td>2020-09-24T00:00:00.000</td>\n",
              "      <td>2020-09-24T00:00:00.000</td>\n",
              "    </tr>\n",
              "    <tr>\n",
              "      <th>7</th>\n",
              "      <td>3813.30</td>\n",
              "      <td>COP</td>\n",
              "      <td>2020-09-23T00:00:00.000</td>\n",
              "      <td>2020-09-23T00:00:00.000</td>\n",
              "    </tr>\n",
              "    <tr>\n",
              "      <th>8</th>\n",
              "      <td>3790.54</td>\n",
              "      <td>COP</td>\n",
              "      <td>2020-09-22T00:00:00.000</td>\n",
              "      <td>2020-09-22T00:00:00.000</td>\n",
              "    </tr>\n",
              "    <tr>\n",
              "      <th>9</th>\n",
              "      <td>3725.37</td>\n",
              "      <td>COP</td>\n",
              "      <td>2020-09-19T00:00:00.000</td>\n",
              "      <td>2020-09-21T00:00:00.000</td>\n",
              "    </tr>\n",
              "  </tbody>\n",
              "</table>\n",
              "</div>"
            ],
            "text/plain": [
              "     valor unidad            vigenciadesde            vigenciahasta\n",
              "0  3842.34    COP  2020-10-02T00:00:00.000  2020-10-02T00:00:00.000\n",
              "1  3865.47    COP  2020-10-01T00:00:00.000  2020-10-01T00:00:00.000\n",
              "2  3878.94    COP  2020-09-30T00:00:00.000  2020-09-30T00:00:00.000\n",
              "3  3859.90    COP  2020-09-29T00:00:00.000  2020-09-29T00:00:00.000\n",
              "4  3867.81    COP  2020-09-26T00:00:00.000  2020-09-28T00:00:00.000\n",
              "5  3873.80    COP                   Cadena  2020-09-25T00:00:00.000\n",
              "6  3863.60    COP  2020-09-24T00:00:00.000  2020-09-24T00:00:00.000\n",
              "7  3813.30    COP  2020-09-23T00:00:00.000  2020-09-23T00:00:00.000\n",
              "8  3790.54    COP  2020-09-22T00:00:00.000  2020-09-22T00:00:00.000\n",
              "9  3725.37    COP  2020-09-19T00:00:00.000  2020-09-21T00:00:00.000"
            ]
          },
          "metadata": {
            "tags": []
          },
          "execution_count": 123
        }
      ]
    },
    {
      "cell_type": "code",
      "metadata": {
        "colab": {
          "base_uri": "https://localhost:8080/"
        },
        "id": "E5lx6MEP-257",
        "outputId": "26fc459b-7916-414c-b658-916d24fb068b"
      },
      "source": [
        "try: \n",
        "  test_TMR['vigenciadesde'] = pd.to_datetime(test_TMR['vigenciadesde'])\n",
        "except Exception as err:\n",
        "  print(err)"
      ],
      "execution_count": null,
      "outputs": [
        {
          "output_type": "stream",
          "text": [
            "Unknown string format: Cadena\n"
          ],
          "name": "stdout"
        }
      ]
    },
    {
      "cell_type": "code",
      "metadata": {
        "id": "8BtJQWqQ_RBP"
      },
      "source": [
        "values_unique = test_TMR.vigenciadesde.unique()\n",
        "error = [values for values in values_unique if not values.startswith('2') and not values.startswith('1')]"
      ],
      "execution_count": null,
      "outputs": []
    },
    {
      "cell_type": "code",
      "metadata": {
        "colab": {
          "base_uri": "https://localhost:8080/",
          "height": 359
        },
        "id": "i2dpAMd3ANR-",
        "outputId": "fe374fc9-d3fe-4376-d416-3d9860025305"
      },
      "source": [
        "test_TMR = test_TMR.replace(error,np.nan)\n",
        "test_TMR.head(10)"
      ],
      "execution_count": null,
      "outputs": [
        {
          "output_type": "execute_result",
          "data": {
            "text/html": [
              "<div>\n",
              "<style scoped>\n",
              "    .dataframe tbody tr th:only-of-type {\n",
              "        vertical-align: middle;\n",
              "    }\n",
              "\n",
              "    .dataframe tbody tr th {\n",
              "        vertical-align: top;\n",
              "    }\n",
              "\n",
              "    .dataframe thead th {\n",
              "        text-align: right;\n",
              "    }\n",
              "</style>\n",
              "<table border=\"1\" class=\"dataframe\">\n",
              "  <thead>\n",
              "    <tr style=\"text-align: right;\">\n",
              "      <th></th>\n",
              "      <th>valor</th>\n",
              "      <th>unidad</th>\n",
              "      <th>vigenciadesde</th>\n",
              "      <th>vigenciahasta</th>\n",
              "    </tr>\n",
              "  </thead>\n",
              "  <tbody>\n",
              "    <tr>\n",
              "      <th>0</th>\n",
              "      <td>3842.34</td>\n",
              "      <td>COP</td>\n",
              "      <td>2020-10-02T00:00:00.000</td>\n",
              "      <td>2020-10-02T00:00:00.000</td>\n",
              "    </tr>\n",
              "    <tr>\n",
              "      <th>1</th>\n",
              "      <td>3865.47</td>\n",
              "      <td>COP</td>\n",
              "      <td>2020-10-01T00:00:00.000</td>\n",
              "      <td>2020-10-01T00:00:00.000</td>\n",
              "    </tr>\n",
              "    <tr>\n",
              "      <th>2</th>\n",
              "      <td>3878.94</td>\n",
              "      <td>COP</td>\n",
              "      <td>2020-09-30T00:00:00.000</td>\n",
              "      <td>2020-09-30T00:00:00.000</td>\n",
              "    </tr>\n",
              "    <tr>\n",
              "      <th>3</th>\n",
              "      <td>3859.90</td>\n",
              "      <td>COP</td>\n",
              "      <td>2020-09-29T00:00:00.000</td>\n",
              "      <td>2020-09-29T00:00:00.000</td>\n",
              "    </tr>\n",
              "    <tr>\n",
              "      <th>4</th>\n",
              "      <td>3867.81</td>\n",
              "      <td>COP</td>\n",
              "      <td>2020-09-26T00:00:00.000</td>\n",
              "      <td>2020-09-28T00:00:00.000</td>\n",
              "    </tr>\n",
              "    <tr>\n",
              "      <th>5</th>\n",
              "      <td>3873.80</td>\n",
              "      <td>COP</td>\n",
              "      <td>NaN</td>\n",
              "      <td>2020-09-25T00:00:00.000</td>\n",
              "    </tr>\n",
              "    <tr>\n",
              "      <th>6</th>\n",
              "      <td>3863.60</td>\n",
              "      <td>COP</td>\n",
              "      <td>2020-09-24T00:00:00.000</td>\n",
              "      <td>2020-09-24T00:00:00.000</td>\n",
              "    </tr>\n",
              "    <tr>\n",
              "      <th>7</th>\n",
              "      <td>3813.30</td>\n",
              "      <td>COP</td>\n",
              "      <td>2020-09-23T00:00:00.000</td>\n",
              "      <td>2020-09-23T00:00:00.000</td>\n",
              "    </tr>\n",
              "    <tr>\n",
              "      <th>8</th>\n",
              "      <td>3790.54</td>\n",
              "      <td>COP</td>\n",
              "      <td>2020-09-22T00:00:00.000</td>\n",
              "      <td>2020-09-22T00:00:00.000</td>\n",
              "    </tr>\n",
              "    <tr>\n",
              "      <th>9</th>\n",
              "      <td>3725.37</td>\n",
              "      <td>COP</td>\n",
              "      <td>2020-09-19T00:00:00.000</td>\n",
              "      <td>2020-09-21T00:00:00.000</td>\n",
              "    </tr>\n",
              "  </tbody>\n",
              "</table>\n",
              "</div>"
            ],
            "text/plain": [
              "     valor unidad            vigenciadesde            vigenciahasta\n",
              "0  3842.34    COP  2020-10-02T00:00:00.000  2020-10-02T00:00:00.000\n",
              "1  3865.47    COP  2020-10-01T00:00:00.000  2020-10-01T00:00:00.000\n",
              "2  3878.94    COP  2020-09-30T00:00:00.000  2020-09-30T00:00:00.000\n",
              "3  3859.90    COP  2020-09-29T00:00:00.000  2020-09-29T00:00:00.000\n",
              "4  3867.81    COP  2020-09-26T00:00:00.000  2020-09-28T00:00:00.000\n",
              "5  3873.80    COP                      NaN  2020-09-25T00:00:00.000\n",
              "6  3863.60    COP  2020-09-24T00:00:00.000  2020-09-24T00:00:00.000\n",
              "7  3813.30    COP  2020-09-23T00:00:00.000  2020-09-23T00:00:00.000\n",
              "8  3790.54    COP  2020-09-22T00:00:00.000  2020-09-22T00:00:00.000\n",
              "9  3725.37    COP  2020-09-19T00:00:00.000  2020-09-21T00:00:00.000"
            ]
          },
          "metadata": {
            "tags": []
          },
          "execution_count": 133
        }
      ]
    },
    {
      "cell_type": "code",
      "metadata": {
        "id": "24VLpaeXA3Pg"
      },
      "source": [
        "test_TMR['vigenciadesde'] = pd.to_datetime(test_TMR['vigenciadesde'])"
      ],
      "execution_count": null,
      "outputs": []
    },
    {
      "cell_type": "markdown",
      "metadata": {
        "id": "UmJQMzQzBEMe"
      },
      "source": [
        "### Gráficas de series de tiempo"
      ]
    },
    {
      "cell_type": "code",
      "metadata": {
        "id": "TPerrN51r0PQ"
      },
      "source": [
        "TMR['vigenciadesde'] = pd.to_datetime(TMR['vigenciadesde'])\n",
        "#Pueden haber errores \n",
        "TMR.set_index(TMR['vigenciadesde'], inplace=True)"
      ],
      "execution_count": null,
      "outputs": []
    },
    {
      "cell_type": "code",
      "metadata": {
        "id": "7svaj6YWxOH7"
      },
      "source": [
        "TMR = TMR[['valor','vigenciahasta']]"
      ],
      "execution_count": null,
      "outputs": []
    },
    {
      "cell_type": "code",
      "metadata": {
        "colab": {
          "base_uri": "https://localhost:8080/",
          "height": 360
        },
        "id": "za9_46Sbt39q",
        "outputId": "9b585b8e-d793-4a41-bff2-c579623e330e"
      },
      "source": [
        "TMR.valor.plot(title='TMR Colombia', figsize=(15,5))\n",
        "plt.plot()"
      ],
      "execution_count": null,
      "outputs": [
        {
          "output_type": "execute_result",
          "data": {
            "text/plain": [
              "[]"
            ]
          },
          "metadata": {
            "tags": []
          },
          "execution_count": 137
        },
        {
          "output_type": "display_data",
          "data": {
            "image/png": "[encoded data removed]",
            "text/plain": [
              "<Figure size 1080x360 with 1 Axes>"
            ]
          },
          "metadata": {
            "tags": [],
            "needs_background": "light"
          }
        }
      ]
    },
    {
      "cell_type": "markdown",
      "metadata": {
        "id": "j5bR8a-bu7SQ"
      },
      "source": [
        "## Indexado con fechas"
      ]
    },
    {
      "cell_type": "code",
      "metadata": {
        "colab": {
          "base_uri": "https://localhost:8080/"
        },
        "id": "c0wCH8RDCMt9",
        "outputId": "deec6517-d631-4365-e6be-13820e11bf33"
      },
      "source": [
        "TMR.info()"
      ],
      "execution_count": null,
      "outputs": [
        {
          "output_type": "stream",
          "text": [
            "<class 'pandas.core.frame.DataFrame'>\n",
            "DatetimeIndex: 6976 entries, 2020-10-02 to 2020-05-22\n",
            "Data columns (total 2 columns):\n",
            " #   Column         Non-Null Count  Dtype  \n",
            "---  ------         --------------  -----  \n",
            " 0   valor          6976 non-null   float64\n",
            " 1   vigenciahasta  6976 non-null   object \n",
            "dtypes: float64(1), object(1)\n",
            "memory usage: 163.5+ KB\n"
          ],
          "name": "stdout"
        }
      ]
    },
    {
      "cell_type": "code",
      "metadata": {
        "colab": {
          "base_uri": "https://localhost:8080/",
          "height": 235
        },
        "id": "g8k3Ki7QuiH8",
        "outputId": "5154112a-0663-48cb-ce8f-90e867f629b1"
      },
      "source": [
        "#TMR['2015-01'] <-- puede ser confuso\n",
        "TMR.loc['2015'].head() "
      ],
      "execution_count": null,
      "outputs": [
        {
          "output_type": "execute_result",
          "data": {
            "text/html": [
              "<div>\n",
              "<style scoped>\n",
              "    .dataframe tbody tr th:only-of-type {\n",
              "        vertical-align: middle;\n",
              "    }\n",
              "\n",
              "    .dataframe tbody tr th {\n",
              "        vertical-align: top;\n",
              "    }\n",
              "\n",
              "    .dataframe thead th {\n",
              "        text-align: right;\n",
              "    }\n",
              "</style>\n",
              "<table border=\"1\" class=\"dataframe\">\n",
              "  <thead>\n",
              "    <tr style=\"text-align: right;\">\n",
              "      <th></th>\n",
              "      <th>valor</th>\n",
              "      <th>vigenciahasta</th>\n",
              "    </tr>\n",
              "    <tr>\n",
              "      <th>vigenciadesde</th>\n",
              "      <th></th>\n",
              "      <th></th>\n",
              "    </tr>\n",
              "  </thead>\n",
              "  <tbody>\n",
              "    <tr>\n",
              "      <th>2015-01-03</th>\n",
              "      <td>2383.37</td>\n",
              "      <td>2015-01-05T00:00:00.000</td>\n",
              "    </tr>\n",
              "    <tr>\n",
              "      <th>2015-01-06</th>\n",
              "      <td>2412.82</td>\n",
              "      <td>2015-01-06T00:00:00.000</td>\n",
              "    </tr>\n",
              "    <tr>\n",
              "      <th>2015-01-07</th>\n",
              "      <td>2452.11</td>\n",
              "      <td>2015-01-07T00:00:00.000</td>\n",
              "    </tr>\n",
              "    <tr>\n",
              "      <th>2015-01-08</th>\n",
              "      <td>2434.31</td>\n",
              "      <td>2015-01-08T00:00:00.000</td>\n",
              "    </tr>\n",
              "    <tr>\n",
              "      <th>2015-01-09</th>\n",
              "      <td>2405.03</td>\n",
              "      <td>2015-01-09T00:00:00.000</td>\n",
              "    </tr>\n",
              "  </tbody>\n",
              "</table>\n",
              "</div>"
            ],
            "text/plain": [
              "                 valor            vigenciahasta\n",
              "vigenciadesde                                  \n",
              "2015-01-03     2383.37  2015-01-05T00:00:00.000\n",
              "2015-01-06     2412.82  2015-01-06T00:00:00.000\n",
              "2015-01-07     2452.11  2015-01-07T00:00:00.000\n",
              "2015-01-08     2434.31  2015-01-08T00:00:00.000\n",
              "2015-01-09     2405.03  2015-01-09T00:00:00.000"
            ]
          },
          "metadata": {
            "tags": []
          },
          "execution_count": 139
        }
      ]
    },
    {
      "cell_type": "code",
      "metadata": {
        "colab": {
          "base_uri": "https://localhost:8080/",
          "height": 235
        },
        "id": "D95Nk_uCvCHI",
        "outputId": "27f4d91c-9607-458a-cac1-2a81b57adff6"
      },
      "source": [
        "interval = TMR.loc['2015-03':'2015-06']\n",
        "interval.head()"
      ],
      "execution_count": null,
      "outputs": [
        {
          "output_type": "execute_result",
          "data": {
            "text/html": [
              "<div>\n",
              "<style scoped>\n",
              "    .dataframe tbody tr th:only-of-type {\n",
              "        vertical-align: middle;\n",
              "    }\n",
              "\n",
              "    .dataframe tbody tr th {\n",
              "        vertical-align: top;\n",
              "    }\n",
              "\n",
              "    .dataframe thead th {\n",
              "        text-align: right;\n",
              "    }\n",
              "</style>\n",
              "<table border=\"1\" class=\"dataframe\">\n",
              "  <thead>\n",
              "    <tr style=\"text-align: right;\">\n",
              "      <th></th>\n",
              "      <th>valor</th>\n",
              "      <th>vigenciahasta</th>\n",
              "    </tr>\n",
              "    <tr>\n",
              "      <th>vigenciadesde</th>\n",
              "      <th></th>\n",
              "      <th></th>\n",
              "    </tr>\n",
              "  </thead>\n",
              "  <tbody>\n",
              "    <tr>\n",
              "      <th>2015-03-03</th>\n",
              "      <td>2522.03</td>\n",
              "      <td>2015-03-03T00:00:00.000</td>\n",
              "    </tr>\n",
              "    <tr>\n",
              "      <th>2015-03-04</th>\n",
              "      <td>2555.08</td>\n",
              "      <td>2015-03-04T00:00:00.000</td>\n",
              "    </tr>\n",
              "    <tr>\n",
              "      <th>2015-03-05</th>\n",
              "      <td>2565.90</td>\n",
              "      <td>2015-03-05T00:00:00.000</td>\n",
              "    </tr>\n",
              "    <tr>\n",
              "      <th>2015-03-06</th>\n",
              "      <td>2543.47</td>\n",
              "      <td>2015-03-06T00:00:00.000</td>\n",
              "    </tr>\n",
              "    <tr>\n",
              "      <th>2015-03-07</th>\n",
              "      <td>2565.61</td>\n",
              "      <td>2015-03-09T00:00:00.000</td>\n",
              "    </tr>\n",
              "  </tbody>\n",
              "</table>\n",
              "</div>"
            ],
            "text/plain": [
              "                 valor            vigenciahasta\n",
              "vigenciadesde                                  \n",
              "2015-03-03     2522.03  2015-03-03T00:00:00.000\n",
              "2015-03-04     2555.08  2015-03-04T00:00:00.000\n",
              "2015-03-05     2565.90  2015-03-05T00:00:00.000\n",
              "2015-03-06     2543.47  2015-03-06T00:00:00.000\n",
              "2015-03-07     2565.61  2015-03-09T00:00:00.000"
            ]
          },
          "metadata": {
            "tags": []
          },
          "execution_count": 140
        }
      ]
    },
    {
      "cell_type": "markdown",
      "metadata": {
        "id": "sWu7LvRFxcuh"
      },
      "source": [
        "## Asignar frecuencias"
      ]
    },
    {
      "cell_type": "code",
      "metadata": {
        "id": "mQTbB8mIwyQp"
      },
      "source": [
        "index = pd.date_range('2020-1-1', periods=2, freq='M')\n",
        "index_period = index.to_period()"
      ],
      "execution_count": null,
      "outputs": []
    },
    {
      "cell_type": "code",
      "metadata": {
        "id": "jD1tUEmvwz_b"
      },
      "source": [
        "series = pd.Series([0.0, 2.0], index=index)\n",
        "df = pd.DataFrame({'s':series})\n",
        "\n",
        "series_period = pd.Series([0.0, 2.0], index=index_period)\n",
        "df_period = pd.DataFrame({'s':series_period})"
      ],
      "execution_count": null,
      "outputs": []
    },
    {
      "cell_type": "code",
      "metadata": {
        "colab": {
          "base_uri": "https://localhost:8080/"
        },
        "id": "AT6YvhG3xsK1",
        "outputId": "7971e0f4-cb10-4900-d6dc-a240db20b75e"
      },
      "source": [
        "new_df = df.asfreq(freq='D') # df.asfreq(freq='30S', fill_value=9.0)\n",
        "new_df.shape"
      ],
      "execution_count": null,
      "outputs": [
        {
          "output_type": "execute_result",
          "data": {
            "text/plain": [
              "(30, 1)"
            ]
          },
          "metadata": {
            "tags": []
          },
          "execution_count": 240
        }
      ]
    },
    {
      "cell_type": "code",
      "metadata": {
        "colab": {
          "base_uri": "https://localhost:8080/"
        },
        "id": "i0AgMBM9Rl6X",
        "outputId": "4ba1e860-cb28-414b-ee73-9edc05362da6"
      },
      "source": [
        "new_df_period = df_period.asfreq(freq='D')\n",
        "new_df_period.shape"
      ],
      "execution_count": null,
      "outputs": [
        {
          "output_type": "execute_result",
          "data": {
            "text/plain": [
              "(2, 1)"
            ]
          },
          "metadata": {
            "tags": []
          },
          "execution_count": 243
        }
      ]
    },
    {
      "cell_type": "code",
      "metadata": {
        "colab": {
          "base_uri": "https://localhost:8080/"
        },
        "id": "5xO_yOhNSHhD",
        "outputId": "2434c35f-56e5-4a59-8735-8edf3120b7f5"
      },
      "source": [
        "index_period"
      ],
      "execution_count": null,
      "outputs": [
        {
          "output_type": "execute_result",
          "data": {
            "text/plain": [
              "PeriodIndex(['2020-01', '2020-02'], dtype='period[M]', freq='M')"
            ]
          },
          "metadata": {
            "tags": []
          },
          "execution_count": 248
        }
      ]
    },
    {
      "cell_type": "code",
      "metadata": {
        "colab": {
          "base_uri": "https://localhost:8080/"
        },
        "id": "DlPk1S9uR5eM",
        "outputId": "5a9f481b-ca80-4722-f249-0a9bdd9f7368"
      },
      "source": [
        "index_period.asfreq('W')"
      ],
      "execution_count": null,
      "outputs": [
        {
          "output_type": "execute_result",
          "data": {
            "text/plain": [
              "PeriodIndex(['2020-01-27/2020-02-02', '2020-02-24/2020-03-01'], dtype='period[W-SUN]', freq='W-SUN')"
            ]
          },
          "metadata": {
            "tags": []
          },
          "execution_count": 247
        }
      ]
    },
    {
      "cell_type": "code",
      "metadata": {
        "id": "X8LeAk5Px0oi",
        "colab": {
          "base_uri": "https://localhost:8080/",
          "height": 204
        },
        "outputId": "2e350e82-8162-4a19-ec1e-bf298855746e"
      },
      "source": [
        "new_df.head()"
      ],
      "execution_count": null,
      "outputs": [
        {
          "output_type": "execute_result",
          "data": {
            "text/html": [
              "<div>\n",
              "<style scoped>\n",
              "    .dataframe tbody tr th:only-of-type {\n",
              "        vertical-align: middle;\n",
              "    }\n",
              "\n",
              "    .dataframe tbody tr th {\n",
              "        vertical-align: top;\n",
              "    }\n",
              "\n",
              "    .dataframe thead th {\n",
              "        text-align: right;\n",
              "    }\n",
              "</style>\n",
              "<table border=\"1\" class=\"dataframe\">\n",
              "  <thead>\n",
              "    <tr style=\"text-align: right;\">\n",
              "      <th></th>\n",
              "      <th>s</th>\n",
              "    </tr>\n",
              "  </thead>\n",
              "  <tbody>\n",
              "    <tr>\n",
              "      <th>2020-01-31 00:00:00</th>\n",
              "      <td>0.0</td>\n",
              "    </tr>\n",
              "    <tr>\n",
              "      <th>2020-01-31 00:00:30</th>\n",
              "      <td>NaN</td>\n",
              "    </tr>\n",
              "    <tr>\n",
              "      <th>2020-01-31 00:01:00</th>\n",
              "      <td>NaN</td>\n",
              "    </tr>\n",
              "    <tr>\n",
              "      <th>2020-01-31 00:01:30</th>\n",
              "      <td>NaN</td>\n",
              "    </tr>\n",
              "    <tr>\n",
              "      <th>2020-01-31 00:02:00</th>\n",
              "      <td>NaN</td>\n",
              "    </tr>\n",
              "  </tbody>\n",
              "</table>\n",
              "</div>"
            ],
            "text/plain": [
              "                       s\n",
              "2020-01-31 00:00:00  0.0\n",
              "2020-01-31 00:00:30  NaN\n",
              "2020-01-31 00:01:00  NaN\n",
              "2020-01-31 00:01:30  NaN\n",
              "2020-01-31 00:02:00  NaN"
            ]
          },
          "metadata": {
            "tags": []
          },
          "execution_count": 146
        }
      ]
    },
    {
      "cell_type": "code",
      "metadata": {
        "colab": {
          "base_uri": "https://localhost:8080/",
          "height": 204
        },
        "id": "Gkwoso7WDLQs",
        "outputId": "619a23a4-96bb-4947-c318-ba1349a40f87"
      },
      "source": [
        "df.asfreq(freq='D', fill_value=9.0).head()"
      ],
      "execution_count": null,
      "outputs": [
        {
          "output_type": "execute_result",
          "data": {
            "text/html": [
              "<div>\n",
              "<style scoped>\n",
              "    .dataframe tbody tr th:only-of-type {\n",
              "        vertical-align: middle;\n",
              "    }\n",
              "\n",
              "    .dataframe tbody tr th {\n",
              "        vertical-align: top;\n",
              "    }\n",
              "\n",
              "    .dataframe thead th {\n",
              "        text-align: right;\n",
              "    }\n",
              "</style>\n",
              "<table border=\"1\" class=\"dataframe\">\n",
              "  <thead>\n",
              "    <tr style=\"text-align: right;\">\n",
              "      <th></th>\n",
              "      <th>s</th>\n",
              "    </tr>\n",
              "  </thead>\n",
              "  <tbody>\n",
              "    <tr>\n",
              "      <th>2020-01-31</th>\n",
              "      <td>0.0</td>\n",
              "    </tr>\n",
              "    <tr>\n",
              "      <th>2020-02-01</th>\n",
              "      <td>9.0</td>\n",
              "    </tr>\n",
              "    <tr>\n",
              "      <th>2020-02-02</th>\n",
              "      <td>9.0</td>\n",
              "    </tr>\n",
              "    <tr>\n",
              "      <th>2020-02-03</th>\n",
              "      <td>9.0</td>\n",
              "    </tr>\n",
              "    <tr>\n",
              "      <th>2020-02-04</th>\n",
              "      <td>9.0</td>\n",
              "    </tr>\n",
              "  </tbody>\n",
              "</table>\n",
              "</div>"
            ],
            "text/plain": [
              "              s\n",
              "2020-01-31  0.0\n",
              "2020-02-01  9.0\n",
              "2020-02-02  9.0\n",
              "2020-02-03  9.0\n",
              "2020-02-04  9.0"
            ]
          },
          "metadata": {
            "tags": []
          },
          "execution_count": 231
        }
      ]
    },
    {
      "cell_type": "code",
      "metadata": {
        "colab": {
          "base_uri": "https://localhost:8080/",
          "height": 111
        },
        "id": "v3h0C28SUEdv",
        "outputId": "dec60367-e7b0-4252-dad3-45c5f0f2c725"
      },
      "source": [
        "df_cols  = pd.DataFrame(np.random.random((2,2)), index=index,columns=['A','B'])\n",
        "df_cols"
      ],
      "execution_count": null,
      "outputs": [
        {
          "output_type": "execute_result",
          "data": {
            "text/html": [
              "<div>\n",
              "<style scoped>\n",
              "    .dataframe tbody tr th:only-of-type {\n",
              "        vertical-align: middle;\n",
              "    }\n",
              "\n",
              "    .dataframe tbody tr th {\n",
              "        vertical-align: top;\n",
              "    }\n",
              "\n",
              "    .dataframe thead th {\n",
              "        text-align: right;\n",
              "    }\n",
              "</style>\n",
              "<table border=\"1\" class=\"dataframe\">\n",
              "  <thead>\n",
              "    <tr style=\"text-align: right;\">\n",
              "      <th></th>\n",
              "      <th>A</th>\n",
              "      <th>B</th>\n",
              "    </tr>\n",
              "  </thead>\n",
              "  <tbody>\n",
              "    <tr>\n",
              "      <th>2020-01-31</th>\n",
              "      <td>0.766698</td>\n",
              "      <td>0.082448</td>\n",
              "    </tr>\n",
              "    <tr>\n",
              "      <th>2020-02-29</th>\n",
              "      <td>0.921140</td>\n",
              "      <td>0.420431</td>\n",
              "    </tr>\n",
              "  </tbody>\n",
              "</table>\n",
              "</div>"
            ],
            "text/plain": [
              "                   A         B\n",
              "2020-01-31  0.766698  0.082448\n",
              "2020-02-29  0.921140  0.420431"
            ]
          },
          "metadata": {
            "tags": []
          },
          "execution_count": 261
        }
      ]
    },
    {
      "cell_type": "code",
      "metadata": {
        "colab": {
          "base_uri": "https://localhost:8080/",
          "height": 204
        },
        "id": "b6HjtgrZUVw8",
        "outputId": "91c28c72-9d56-4e1e-d1f4-3cfa02a2878a"
      },
      "source": [
        "df_cols.asfreq('D',method='ffill').head()"
      ],
      "execution_count": null,
      "outputs": [
        {
          "output_type": "execute_result",
          "data": {
            "text/html": [
              "<div>\n",
              "<style scoped>\n",
              "    .dataframe tbody tr th:only-of-type {\n",
              "        vertical-align: middle;\n",
              "    }\n",
              "\n",
              "    .dataframe tbody tr th {\n",
              "        vertical-align: top;\n",
              "    }\n",
              "\n",
              "    .dataframe thead th {\n",
              "        text-align: right;\n",
              "    }\n",
              "</style>\n",
              "<table border=\"1\" class=\"dataframe\">\n",
              "  <thead>\n",
              "    <tr style=\"text-align: right;\">\n",
              "      <th></th>\n",
              "      <th>A</th>\n",
              "      <th>B</th>\n",
              "    </tr>\n",
              "  </thead>\n",
              "  <tbody>\n",
              "    <tr>\n",
              "      <th>2020-01-31</th>\n",
              "      <td>0.766698</td>\n",
              "      <td>0.082448</td>\n",
              "    </tr>\n",
              "    <tr>\n",
              "      <th>2020-02-01</th>\n",
              "      <td>0.766698</td>\n",
              "      <td>0.082448</td>\n",
              "    </tr>\n",
              "    <tr>\n",
              "      <th>2020-02-02</th>\n",
              "      <td>0.766698</td>\n",
              "      <td>0.082448</td>\n",
              "    </tr>\n",
              "    <tr>\n",
              "      <th>2020-02-03</th>\n",
              "      <td>0.766698</td>\n",
              "      <td>0.082448</td>\n",
              "    </tr>\n",
              "    <tr>\n",
              "      <th>2020-02-04</th>\n",
              "      <td>0.766698</td>\n",
              "      <td>0.082448</td>\n",
              "    </tr>\n",
              "  </tbody>\n",
              "</table>\n",
              "</div>"
            ],
            "text/plain": [
              "                   A         B\n",
              "2020-01-31  0.766698  0.082448\n",
              "2020-02-01  0.766698  0.082448\n",
              "2020-02-02  0.766698  0.082448\n",
              "2020-02-03  0.766698  0.082448\n",
              "2020-02-04  0.766698  0.082448"
            ]
          },
          "metadata": {
            "tags": []
          },
          "execution_count": 262
        }
      ]
    },
    {
      "cell_type": "code",
      "metadata": {
        "colab": {
          "base_uri": "https://localhost:8080/",
          "height": 979
        },
        "id": "MeKCzrGlU0QV",
        "outputId": "b3ac4fa1-9afa-4e68-ad08-f9ea532f934f"
      },
      "source": [
        "#values = {'A':df_cols.A.mean(), 'B':df_cols.B.mean()}\n",
        "values = {k:df_cols[k].mean() for k in df_cols.columns.values}\n",
        "df_cols.asfreq('D').fillna(values)"
      ],
      "execution_count": null,
      "outputs": [
        {
          "output_type": "execute_result",
          "data": {
            "text/html": [
              "<div>\n",
              "<style scoped>\n",
              "    .dataframe tbody tr th:only-of-type {\n",
              "        vertical-align: middle;\n",
              "    }\n",
              "\n",
              "    .dataframe tbody tr th {\n",
              "        vertical-align: top;\n",
              "    }\n",
              "\n",
              "    .dataframe thead th {\n",
              "        text-align: right;\n",
              "    }\n",
              "</style>\n",
              "<table border=\"1\" class=\"dataframe\">\n",
              "  <thead>\n",
              "    <tr style=\"text-align: right;\">\n",
              "      <th></th>\n",
              "      <th>A</th>\n",
              "      <th>B</th>\n",
              "    </tr>\n",
              "  </thead>\n",
              "  <tbody>\n",
              "    <tr>\n",
              "      <th>2020-01-31</th>\n",
              "      <td>0.766698</td>\n",
              "      <td>0.082448</td>\n",
              "    </tr>\n",
              "    <tr>\n",
              "      <th>2020-02-01</th>\n",
              "      <td>0.843919</td>\n",
              "      <td>0.251440</td>\n",
              "    </tr>\n",
              "    <tr>\n",
              "      <th>2020-02-02</th>\n",
              "      <td>0.843919</td>\n",
              "      <td>0.251440</td>\n",
              "    </tr>\n",
              "    <tr>\n",
              "      <th>2020-02-03</th>\n",
              "      <td>0.843919</td>\n",
              "      <td>0.251440</td>\n",
              "    </tr>\n",
              "    <tr>\n",
              "      <th>2020-02-04</th>\n",
              "      <td>0.843919</td>\n",
              "      <td>0.251440</td>\n",
              "    </tr>\n",
              "    <tr>\n",
              "      <th>2020-02-05</th>\n",
              "      <td>0.843919</td>\n",
              "      <td>0.251440</td>\n",
              "    </tr>\n",
              "    <tr>\n",
              "      <th>2020-02-06</th>\n",
              "      <td>0.843919</td>\n",
              "      <td>0.251440</td>\n",
              "    </tr>\n",
              "    <tr>\n",
              "      <th>2020-02-07</th>\n",
              "      <td>0.843919</td>\n",
              "      <td>0.251440</td>\n",
              "    </tr>\n",
              "    <tr>\n",
              "      <th>2020-02-08</th>\n",
              "      <td>0.843919</td>\n",
              "      <td>0.251440</td>\n",
              "    </tr>\n",
              "    <tr>\n",
              "      <th>2020-02-09</th>\n",
              "      <td>0.843919</td>\n",
              "      <td>0.251440</td>\n",
              "    </tr>\n",
              "    <tr>\n",
              "      <th>2020-02-10</th>\n",
              "      <td>0.843919</td>\n",
              "      <td>0.251440</td>\n",
              "    </tr>\n",
              "    <tr>\n",
              "      <th>2020-02-11</th>\n",
              "      <td>0.843919</td>\n",
              "      <td>0.251440</td>\n",
              "    </tr>\n",
              "    <tr>\n",
              "      <th>2020-02-12</th>\n",
              "      <td>0.843919</td>\n",
              "      <td>0.251440</td>\n",
              "    </tr>\n",
              "    <tr>\n",
              "      <th>2020-02-13</th>\n",
              "      <td>0.843919</td>\n",
              "      <td>0.251440</td>\n",
              "    </tr>\n",
              "    <tr>\n",
              "      <th>2020-02-14</th>\n",
              "      <td>0.843919</td>\n",
              "      <td>0.251440</td>\n",
              "    </tr>\n",
              "    <tr>\n",
              "      <th>2020-02-15</th>\n",
              "      <td>0.843919</td>\n",
              "      <td>0.251440</td>\n",
              "    </tr>\n",
              "    <tr>\n",
              "      <th>2020-02-16</th>\n",
              "      <td>0.843919</td>\n",
              "      <td>0.251440</td>\n",
              "    </tr>\n",
              "    <tr>\n",
              "      <th>2020-02-17</th>\n",
              "      <td>0.843919</td>\n",
              "      <td>0.251440</td>\n",
              "    </tr>\n",
              "    <tr>\n",
              "      <th>2020-02-18</th>\n",
              "      <td>0.843919</td>\n",
              "      <td>0.251440</td>\n",
              "    </tr>\n",
              "    <tr>\n",
              "      <th>2020-02-19</th>\n",
              "      <td>0.843919</td>\n",
              "      <td>0.251440</td>\n",
              "    </tr>\n",
              "    <tr>\n",
              "      <th>2020-02-20</th>\n",
              "      <td>0.843919</td>\n",
              "      <td>0.251440</td>\n",
              "    </tr>\n",
              "    <tr>\n",
              "      <th>2020-02-21</th>\n",
              "      <td>0.843919</td>\n",
              "      <td>0.251440</td>\n",
              "    </tr>\n",
              "    <tr>\n",
              "      <th>2020-02-22</th>\n",
              "      <td>0.843919</td>\n",
              "      <td>0.251440</td>\n",
              "    </tr>\n",
              "    <tr>\n",
              "      <th>2020-02-23</th>\n",
              "      <td>0.843919</td>\n",
              "      <td>0.251440</td>\n",
              "    </tr>\n",
              "    <tr>\n",
              "      <th>2020-02-24</th>\n",
              "      <td>0.843919</td>\n",
              "      <td>0.251440</td>\n",
              "    </tr>\n",
              "    <tr>\n",
              "      <th>2020-02-25</th>\n",
              "      <td>0.843919</td>\n",
              "      <td>0.251440</td>\n",
              "    </tr>\n",
              "    <tr>\n",
              "      <th>2020-02-26</th>\n",
              "      <td>0.843919</td>\n",
              "      <td>0.251440</td>\n",
              "    </tr>\n",
              "    <tr>\n",
              "      <th>2020-02-27</th>\n",
              "      <td>0.843919</td>\n",
              "      <td>0.251440</td>\n",
              "    </tr>\n",
              "    <tr>\n",
              "      <th>2020-02-28</th>\n",
              "      <td>0.843919</td>\n",
              "      <td>0.251440</td>\n",
              "    </tr>\n",
              "    <tr>\n",
              "      <th>2020-02-29</th>\n",
              "      <td>0.921140</td>\n",
              "      <td>0.420431</td>\n",
              "    </tr>\n",
              "  </tbody>\n",
              "</table>\n",
              "</div>"
            ],
            "text/plain": [
              "                   A         B\n",
              "2020-01-31  0.766698  0.082448\n",
              "2020-02-01  0.843919  0.251440\n",
              "2020-02-02  0.843919  0.251440\n",
              "2020-02-03  0.843919  0.251440\n",
              "2020-02-04  0.843919  0.251440\n",
              "2020-02-05  0.843919  0.251440\n",
              "2020-02-06  0.843919  0.251440\n",
              "2020-02-07  0.843919  0.251440\n",
              "2020-02-08  0.843919  0.251440\n",
              "2020-02-09  0.843919  0.251440\n",
              "2020-02-10  0.843919  0.251440\n",
              "2020-02-11  0.843919  0.251440\n",
              "2020-02-12  0.843919  0.251440\n",
              "2020-02-13  0.843919  0.251440\n",
              "2020-02-14  0.843919  0.251440\n",
              "2020-02-15  0.843919  0.251440\n",
              "2020-02-16  0.843919  0.251440\n",
              "2020-02-17  0.843919  0.251440\n",
              "2020-02-18  0.843919  0.251440\n",
              "2020-02-19  0.843919  0.251440\n",
              "2020-02-20  0.843919  0.251440\n",
              "2020-02-21  0.843919  0.251440\n",
              "2020-02-22  0.843919  0.251440\n",
              "2020-02-23  0.843919  0.251440\n",
              "2020-02-24  0.843919  0.251440\n",
              "2020-02-25  0.843919  0.251440\n",
              "2020-02-26  0.843919  0.251440\n",
              "2020-02-27  0.843919  0.251440\n",
              "2020-02-28  0.843919  0.251440\n",
              "2020-02-29  0.921140  0.420431"
            ]
          },
          "metadata": {
            "tags": []
          },
          "execution_count": 267
        }
      ]
    },
    {
      "cell_type": "markdown",
      "metadata": {
        "id": "oX44t3kzEw2t"
      },
      "source": [
        "##Media móvil "
      ]
    },
    {
      "cell_type": "code",
      "metadata": {
        "id": "JxHzb6S5Nv0F"
      },
      "source": [
        "TMR_zone = TMR.loc['2014':'2015']"
      ],
      "execution_count": null,
      "outputs": []
    },
    {
      "cell_type": "code",
      "metadata": {
        "id": "Voud6OXRFnJ2"
      },
      "source": [
        "means_TMR = TMR_zone.rolling(window=30, min_periods=1).mean()"
      ],
      "execution_count": null,
      "outputs": []
    },
    {
      "cell_type": "code",
      "metadata": {
        "colab": {
          "base_uri": "https://localhost:8080/",
          "height": 235
        },
        "id": "hLFv_RUVN-w8",
        "outputId": "ff09db67-0d36-4638-e45f-bc8f19dd8b74"
      },
      "source": [
        "TMR_zone.head()"
      ],
      "execution_count": null,
      "outputs": [
        {
          "output_type": "execute_result",
          "data": {
            "text/html": [
              "<div>\n",
              "<style scoped>\n",
              "    .dataframe tbody tr th:only-of-type {\n",
              "        vertical-align: middle;\n",
              "    }\n",
              "\n",
              "    .dataframe tbody tr th {\n",
              "        vertical-align: top;\n",
              "    }\n",
              "\n",
              "    .dataframe thead th {\n",
              "        text-align: right;\n",
              "    }\n",
              "</style>\n",
              "<table border=\"1\" class=\"dataframe\">\n",
              "  <thead>\n",
              "    <tr style=\"text-align: right;\">\n",
              "      <th></th>\n",
              "      <th>valor</th>\n",
              "      <th>vigenciahasta</th>\n",
              "    </tr>\n",
              "    <tr>\n",
              "      <th>vigenciadesde</th>\n",
              "      <th></th>\n",
              "      <th></th>\n",
              "    </tr>\n",
              "  </thead>\n",
              "  <tbody>\n",
              "    <tr>\n",
              "      <th>2014-03-15</th>\n",
              "      <td>2044.58</td>\n",
              "      <td>2014-03-17T00:00:00.000</td>\n",
              "    </tr>\n",
              "    <tr>\n",
              "      <th>2014-03-18</th>\n",
              "      <td>2035.16</td>\n",
              "      <td>2014-03-18T00:00:00.000</td>\n",
              "    </tr>\n",
              "    <tr>\n",
              "      <th>2014-03-19</th>\n",
              "      <td>2034.86</td>\n",
              "      <td>2014-03-19T00:00:00.000</td>\n",
              "    </tr>\n",
              "    <tr>\n",
              "      <th>2014-03-20</th>\n",
              "      <td>2017.38</td>\n",
              "      <td>2014-03-20T00:00:00.000</td>\n",
              "    </tr>\n",
              "    <tr>\n",
              "      <th>2014-03-21</th>\n",
              "      <td>1998.60</td>\n",
              "      <td>2014-03-21T00:00:00.000</td>\n",
              "    </tr>\n",
              "  </tbody>\n",
              "</table>\n",
              "</div>"
            ],
            "text/plain": [
              "                 valor            vigenciahasta\n",
              "vigenciadesde                                  \n",
              "2014-03-15     2044.58  2014-03-17T00:00:00.000\n",
              "2014-03-18     2035.16  2014-03-18T00:00:00.000\n",
              "2014-03-19     2034.86  2014-03-19T00:00:00.000\n",
              "2014-03-20     2017.38  2014-03-20T00:00:00.000\n",
              "2014-03-21     1998.60  2014-03-21T00:00:00.000"
            ]
          },
          "metadata": {
            "tags": []
          },
          "execution_count": 271
        }
      ]
    },
    {
      "cell_type": "code",
      "metadata": {
        "colab": {
          "base_uri": "https://localhost:8080/",
          "height": 235
        },
        "id": "ZnTh61z_NeGE",
        "outputId": "cf355abd-b3b7-4c01-ab8a-0db689ff34ec"
      },
      "source": [
        "means_TMR.head()"
      ],
      "execution_count": null,
      "outputs": [
        {
          "output_type": "execute_result",
          "data": {
            "text/html": [
              "<div>\n",
              "<style scoped>\n",
              "    .dataframe tbody tr th:only-of-type {\n",
              "        vertical-align: middle;\n",
              "    }\n",
              "\n",
              "    .dataframe tbody tr th {\n",
              "        vertical-align: top;\n",
              "    }\n",
              "\n",
              "    .dataframe thead th {\n",
              "        text-align: right;\n",
              "    }\n",
              "</style>\n",
              "<table border=\"1\" class=\"dataframe\">\n",
              "  <thead>\n",
              "    <tr style=\"text-align: right;\">\n",
              "      <th></th>\n",
              "      <th>valor</th>\n",
              "    </tr>\n",
              "    <tr>\n",
              "      <th>vigenciadesde</th>\n",
              "      <th></th>\n",
              "    </tr>\n",
              "  </thead>\n",
              "  <tbody>\n",
              "    <tr>\n",
              "      <th>2014-03-15</th>\n",
              "      <td>2044.580</td>\n",
              "    </tr>\n",
              "    <tr>\n",
              "      <th>2014-03-18</th>\n",
              "      <td>2039.870</td>\n",
              "    </tr>\n",
              "    <tr>\n",
              "      <th>2014-03-19</th>\n",
              "      <td>2038.200</td>\n",
              "    </tr>\n",
              "    <tr>\n",
              "      <th>2014-03-20</th>\n",
              "      <td>2032.995</td>\n",
              "    </tr>\n",
              "    <tr>\n",
              "      <th>2014-03-21</th>\n",
              "      <td>2026.116</td>\n",
              "    </tr>\n",
              "  </tbody>\n",
              "</table>\n",
              "</div>"
            ],
            "text/plain": [
              "                  valor\n",
              "vigenciadesde          \n",
              "2014-03-15     2044.580\n",
              "2014-03-18     2039.870\n",
              "2014-03-19     2038.200\n",
              "2014-03-20     2032.995\n",
              "2014-03-21     2026.116"
            ]
          },
          "metadata": {
            "tags": []
          },
          "execution_count": 272
        }
      ]
    },
    {
      "cell_type": "code",
      "metadata": {
        "colab": {
          "base_uri": "https://localhost:8080/",
          "height": 451
        },
        "id": "UdweH4QbH6kN",
        "outputId": "cf236e73-7324-4e40-ca3d-aee14270adda"
      },
      "source": [
        "fig, ax = plt.subplots()\n",
        "means_TMR.plot(figsize=(12,7),ax=ax)\n",
        "TMR_zone.plot(figsize=(12,7),ax=ax)\n",
        "ax.legend(['valor_mean','valor'])"
      ],
      "execution_count": null,
      "outputs": [
        {
          "output_type": "execute_result",
          "data": {
            "text/plain": [
              "<matplotlib.legend.Legend at 0x7ff0ecb31898>"
            ]
          },
          "metadata": {
            "tags": []
          },
          "execution_count": 273
        },
        {
          "output_type": "display_data",
          "data": {
            "image/png": "[encoded data removed]",
            "text/plain": [
              "<Figure size 864x504 with 1 Axes>"
            ]
          },
          "metadata": {
            "tags": [],
            "needs_background": "light"
          }
        }
      ]
    },
    {
      "cell_type": "code",
      "metadata": {
        "id": "YBs8OnLsFdJF"
      },
      "source": [
        "ewm_TMR = TMR_zone.ewm(span=365,adjust=True).mean()"
      ],
      "execution_count": null,
      "outputs": []
    },
    {
      "cell_type": "code",
      "metadata": {
        "colab": {
          "base_uri": "https://localhost:8080/",
          "height": 451
        },
        "id": "1lywqOPhFjpw",
        "outputId": "5a3ca745-e190-44e9-ad8b-d4e70988ad85"
      },
      "source": [
        "fig, ax = plt.subplots()\n",
        "ewm_TMR.plot(figsize=(12,7),ax=ax)\n",
        "TMR_zone.plot(figsize=(12,7),ax=ax)\n",
        "ax.legend(['valor_mean','valor'])"
      ],
      "execution_count": null,
      "outputs": [
        {
          "output_type": "execute_result",
          "data": {
            "text/plain": [
              "<matplotlib.legend.Legend at 0x7ff0eca86da0>"
            ]
          },
          "metadata": {
            "tags": []
          },
          "execution_count": 279
        },
        {
          "output_type": "display_data",
          "data": {
            "image/png": "[encoded data removed]",
            "text/plain": [
              "<Figure size 864x504 with 1 Axes>"
            ]
          },
          "metadata": {
            "tags": [],
            "needs_background": "light"
          }
        }
      ]
    },
    {
      "cell_type": "markdown",
      "metadata": {
        "id": "vsRbE7bvObxU"
      },
      "source": [
        "## Autocorrelación "
      ]
    },
    {
      "cell_type": "code",
      "metadata": {
        "colab": {
          "base_uri": "https://localhost:8080/"
        },
        "id": "THcRu67rJRoV",
        "outputId": "4289a6a8-4eb1-415d-d8b2-97670e0977b4"
      },
      "source": [
        "from statsmodels.graphics.tsaplots import plot_acf, plot_pacf\n",
        "from pandas.plotting import autocorrelation_plot"
      ],
      "execution_count": null,
      "outputs": [
        {
          "output_type": "stream",
          "text": [
            "/usr/local/lib/python3.6/dist-packages/statsmodels/tools/_testing.py:19: FutureWarning: pandas.util.testing is deprecated. Use the functions in the public API at pandas.testing instead.\n",
            "  import pandas.util.testing as tm\n"
          ],
          "name": "stderr"
        }
      ]
    },
    {
      "cell_type": "code",
      "metadata": {
        "colab": {
          "base_uri": "https://localhost:8080/",
          "height": 307
        },
        "id": "sIQjs_icPgvy",
        "outputId": "6354bcaf-eb82-4f71-8feb-27365e9b09b0"
      },
      "source": [
        "autocorrelation_plot(TMR_zone.valor)"
      ],
      "execution_count": null,
      "outputs": [
        {
          "output_type": "execute_result",
          "data": {
            "text/plain": [
              "<matplotlib.axes._subplots.AxesSubplot at 0x7ff0f2d91320>"
            ]
          },
          "metadata": {
            "tags": []
          },
          "execution_count": 221
        },
        {
          "output_type": "display_data",
          "data": {
            "image/png": "[encoded data removed]",
            "text/plain": [
              "<Figure size 432x288 with 1 Axes>"
            ]
          },
          "metadata": {
            "tags": [],
            "needs_background": "light"
          }
        }
      ]
    },
    {
      "cell_type": "code",
      "metadata": {
        "colab": {
          "base_uri": "https://localhost:8080/",
          "height": 553
        },
        "id": "x27KlRxcPkkP",
        "outputId": "ac8f5971-7170-4cc7-e9df-f1c365affebc"
      },
      "source": [
        "plot_acf(TMR_zone.valor,lags=50)   \n",
        "plot_pacf(TMR_zone.valor, lags=50) \n",
        "plt.show()"
      ],
      "execution_count": null,
      "outputs": [
        {
          "output_type": "display_data",
          "data": {
            "image/png": "[encoded data removed]",
            "text/plain": [
              "<Figure size 432x288 with 1 Axes>"
            ]
          },
          "metadata": {
            "tags": [],
            "needs_background": "light"
          }
        },
        {
          "output_type": "display_data",
          "data": {
            "image/png": "[encoded data removed]",
            "text/plain": [
              "<Figure size 432x288 with 1 Axes>"
            ]
          },
          "metadata": {
            "tags": [],
            "needs_background": "light"
          }
        }
      ]
    },
    {
      "cell_type": "code",
      "metadata": {
        "id": "aZnaoGzLP2uS"
      },
      "source": [
        ""
      ],
      "execution_count": null,
      "outputs": []
    }
  ]
}