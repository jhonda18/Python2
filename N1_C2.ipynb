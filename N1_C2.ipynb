{
  "nbformat": 4,
  "nbformat_minor": 0,
  "metadata": {
    "colab": {
      "name": "N1_C2.ipynb",
      "provenance": [],
      "collapsed_sections": [],
      "include_colab_link": true
    },
    "kernelspec": {
      "name": "python3",
      "display_name": "Python 3"
    }
  },
  "cells": [
    {
      "cell_type": "markdown",
      "metadata": {
        "id": "view-in-github",
        "colab_type": "text"
      },
      "source": [
        "<a href=\"https://colab.research.google.com/github/jhonda18/Python-2/blob/main/N1_C2.ipynb\" target=\"_parent\"><img src=\"https://colab.research.google.com/assets/colab-badge.svg\" alt=\"Open In Colab\"/></a>"
      ]
    },
    {
      "cell_type": "markdown",
      "metadata": {
        "id": "Rf_b8XQuMsgL"
      },
      "source": [
        "<p><img alt=\"Colaboratory logo\" height=\"140px\" src=\"https://upload.wikimedia.org/wikipedia/commons/archive/f/fb/20161010213812%21Escudo-UdeA.svg\" align=\"left\" hspace=\"10px\" vspace=\"0px\"></p>\n",
        "\n",
        "<h1> <b>Técnicas computacionales en Python para Ciencias Económicas - Universidad de Antioquia </b> </h1>\n",
        "<hr size=10 noshade color=\"green\">\n",
        "<p>\n",
        "<img alt=\"CC BY-NC-SA logo\" height=\"70px\" src=\"https://lahormigonera.info/wp-content/uploads/2014/04/by-nc-sa-ccLicense.png\" align=\"left\" hspace=\"0px\" vspace=\"0px\">\n",
        "</p>\n",
        "\n",
        "<div align=\"right\">  \n",
        "Este documento está bajo licencia <a href=\"https://creativecommons.org/licenses/by-nc-sa/4.0/deed.es\">[CC BY-NC-SA]</a><br> \n",
        "<a href=\"mailto:sheryl.avendano@udea.edu.co\"> ✉ Sheryl Avendaño </a> ,  <a href=\"mailto:sergio.sanes@udea.edu.co\"> ✉ Sergio Sanes </a>, <a href=\"mailto: mario.sucerquia@udea.edu.co\"> ✉ Mario Sucerquia </a><br>\n",
        "Versión actualizada: 3-Ago-2020\n",
        "</div>\n",
        "\n",
        "<br>\n",
        "\n",
        "**El presente curso hace parte de la Facultad de Ciencias Económicas (FCE) de la Universidad de Antioquia.**\n",
        "\n",
        "El curso será dictado en 11 sesiones o clases de 3 horas los días martes y jueves por medio de Google meeting. Para un total de dedicación temporal de 32 horas. \n"
      ]
    },
    {
      "cell_type": "markdown",
      "metadata": {
        "id": "VTrtLez0X9IK"
      },
      "source": [
        "# **Python**"
      ]
    },
    {
      "cell_type": "markdown",
      "metadata": {
        "id": "ATBAYYookHeS"
      },
      "source": [
        "> Python es un lenguaje de programación interpretado cuya filosofía hace hincapié en la legibilidad de su código.​ Se trata de un lenguaje de programación multiparadigma, ya que soporta orientación a objetos, programación imperativa y, en menor medida, programación funcional. Es un lenguaje interpretado, dinámico y multiplataforma. \n",
        "\n",
        "\n",
        "<div align=\"center\"> \n",
        "<img alt=\"Monty\" height=\"200px\" src=\"https://upload.wikimedia.org/wikipedia/commons/thumb/0/03/Monty_Python_O2_Arena.jpg/800px-Monty_Python_O2_Arena.jpg\" align=\"center\" hspace=\"0px\" vspace=\"0px\">\n",
        "</div>\n",
        "\n",
        "\n",
        "> Python fue creado a finales de los ochenta​ por Guido van Rossum en el Centro para las Matemáticas y la Informática (CWI, Centrum Wiskunde & Informatica), en los Países Bajos, como un sucesor del lenguaje de programación ABC, capaz de manejar excepciones e interactuar con el sistema operativo Amoeba. El nombre del lenguaje proviene de la afición de su creador por los humoristas británicos Monty Python.​\n",
        "\n",
        "Tomado de [Wikipedia](https://es.wikipedia.org/wiki/Python)"
      ]
    },
    {
      "cell_type": "markdown",
      "metadata": {
        "id": "_iiQbGjJj_mL"
      },
      "source": [
        "## Entonces Python es...\n",
        "\n",
        "* Lenguaje de Alto nivel.\n",
        "* Lenguaje interpretado (scripts).\n",
        "* Software Libre (GPL).\n",
        "* Multiplataforma (S.O - Online)\n",
        "* Programación orientada a objetos.\n",
        "\n",
        "**Puntos fuertes**\n",
        "\n",
        "Gráficas, Machine learning, Instrumental, Software cientifico, Comunidad.\n",
        "\n",
        "**Puntos debiles**\n",
        "\n",
        "Programación del alto performance (que se puede solventar con el uso de Wrappers o funciones vectorizadas)\n"
      ]
    },
    {
      "cell_type": "markdown",
      "metadata": {
        "id": "EMap4PyIct7i"
      },
      "source": [
        "## ¿Cómo consigo Python?\n",
        "\n",
        "Existen varias versiones de python pero las podemos dividir en python 2.7 y python 3.x, ambas son muy diferentes pero Python 2 ya no recibe soporte. Este curso usará Python 3.\n"
      ]
    },
    {
      "cell_type": "markdown",
      "metadata": {
        "id": "PJwTrxg2obeG"
      },
      "source": [
        "### ANACONDA\n",
        "\n",
        "<div  align=\"center\">\n",
        "<img alt=\"anaconda logo\" height=\"200px\" src=\"https://upload.wikimedia.org/wikipedia/en/c/cd/Anaconda_Logo.png\" align=\"center\" hspace=\"0px\" vspace=\"0px\">\n",
        "</div>\n",
        "\n",
        "[Anaconda](https://www.anaconda.com/distribution/) es una distribución libre y abierta de Python y R que puede ser instalada en  Windows, Linux y MacOS. Su gestor de paquetes se conoce como conda y la [instalación](https://www.youtube.com/watch?v=52h3r_lROGY) es sencilla en Windows aunque consume muchos recursos.\n",
        "Si los recursos no son un problema se aconseja complementar con un editor tipo [VScode](https://www.youtube.com/watch?v=tZTpKF2pkQo). "
      ]
    },
    {
      "cell_type": "markdown",
      "metadata": {
        "id": "HC5JNBhlofQo"
      },
      "source": [
        "### Recursos online replt.it\n",
        "\n",
        "<p>\n",
        "<img alt=\"CC BY-NC-SA logo\" height=\"70px\" weight=\"300px\" src=\"https://encrypted-tbn0.gstatic.com/images?q=tbn:ANd9GcQDg8nsceKE9mMq5eBmy-jQWXbeI--eT4O2GgwsO9ErxsHF8lQr&s\" align=\"left\" hspace=\"0px\" vspace=\"0px\">\n",
        "</p>\n",
        "\n",
        "Opciones online hay varias pero [relp.it](https://repl.it/languages) es un página que ofrece editores, compiladores e intérpretes en la nube de varios lenguajes y en el cual podemos usar la consola y los scripts de python. Tiene la ventaja de poder crear documentos compartidos por 3 personas y es bastante fácil de [usar](https://www.youtube.com/watch?v=Nane8oy_yUI).\n"
      ]
    },
    {
      "cell_type": "markdown",
      "metadata": {
        "id": "DIgBlzn8zMYH"
      },
      "source": [
        "### Recursos online Google Colaboratory\n",
        "\n",
        "[Colaboratory](https://colab.research.google.com/) o Colab, es un proyecto de google en donde podemos trabajar con [notebooks](http://jupyter.org), que es un documento interactivo en donde puedes escribir en un lenguaje de marcado de texto sencillo conocido como [markdown](https://markdown.es/) (aunque también puedes usar algo de HTML) pero lo más importante puedes programar en Python [¡todo en el mismo lugar!](https://www.youtube.com/watch?v=inN8seMm7UI) "
      ]
    },
    {
      "cell_type": "code",
      "metadata": {
        "id": "SKIzsZ8koatW",
        "colab": {
          "base_uri": "https://localhost:8080/"
        },
        "outputId": "ac436285-d835-429c-914e-deae8f64fb74"
      },
      "source": [
        "print(\"¡Bienvenido a Colab!\")"
      ],
      "execution_count": null,
      "outputs": [
        {
          "output_type": "stream",
          "text": [
            "¡Bienvenido a Colab!\n"
          ],
          "name": "stdout"
        }
      ]
    },
    {
      "cell_type": "markdown",
      "metadata": {
        "id": "O4See1ov46TC"
      },
      "source": [
        "# **Ipython y Jupyter**\n"
      ]
    },
    {
      "cell_type": "markdown",
      "metadata": {
        "id": "cThVPLmkHcUA"
      },
      "source": [
        "\n",
        "<p>\n",
        "<img alt=\"CC BY-NC-SA logo\" height=\"100px\" weight=\"300px\" src=\"https://e7.pngegg.com/pngimages/821/214/png-clipart-ipython-jupyter-shell-computer-software-shell-angle-text.png\" align=\"left\" hspace=\"10px\" vspace=\"0px\">\n",
        "</p>\n",
        "\n",
        "El cuaderno Notebook de [IPython](https://es.wikipedia.org/wiki/IPython) está basado en la web y es interactivo. Un notebook en IPython es un documento JSON que contiene una lista ordenada de entradas/salidas las cuales pueden tener código, texto, matemáticas, dibujos y media. Los notebooks de IPython pueden ser convertidos a otros formatos de archivos como HTML, presentaciones de diapositivas, LaTeX, PDF, Python, etc).\n",
        "<p>\n",
        "<img alt=\"CC BY-NC-SA logo\" height=\"120px\" weight=\"300px\" src=\"https://upload.wikimedia.org/wikipedia/commons/thumb/3/38/Jupyter_logo.svg/1200px-Jupyter_logo.svg.png\" align=\"right\" hspace=\"10px\" vspace=\"0px\">\n",
        "</p>\n",
        "\n",
        "El [Proyecto Jupyter](https://es.wikipedia.org/wiki/Proyecto_Jupyter) es una organización sin ánimo de lucro creada para \"desarrollar software de código abierto, estándares abiertos y servicios para computación interactiva en docenas de lenguajes de programación\". Según el sitio [web](https://jupyter.org/) del Proyecto Jupyter, \"Jupyter siempre será un software 100% de código abierto, de uso gratuito para todos y lanzado bajo los términos liberales de la licencia BSD modificada\".\n",
        "\n",
        "\n",
        "\n",
        "<p>\n",
        "<img alt=\"CC BY-NC-SA logo\" height=\"150px\" weight=\"300px\" src=\"https://upload.wikimedia.org/wikipedia/commons/8/80/Fernando_Perez_-_2012_FSF_Award_%28cropped%29.jpg\" align=\"left\" hspace=\"50px\" vspace=\"0px\">\n",
        "</p>\n",
        "\n",
        "[Fernando Pérez](http://fperez.org/) es un físico, desarrollador de software y promotor del software libre y creador de IPython. [Fernando Pérez](https://www.linkedin.com/in/fperezorg/?locale=es_ES) nació en Medellín, Colombia y realizó su pregrado en Física en la Universidad de Antioquia (1994) y su maestría en Física en la misma universidad Colombiana (1996). Posteriormente, obtuvo el título de doctorado en física de partículas de la Universidad de Colorado en Boulder (2002). \n",
        "\n",
        "\n",
        "\n",
        "\n",
        "\n",
        "\n",
        "\n"
      ]
    },
    {
      "cell_type": "code",
      "metadata": {
        "id": "EvrsN7QB4rrU",
        "colab": {
          "base_uri": "https://localhost:8080/"
        },
        "outputId": "426a0271-67e6-4afd-cace-af463069b969"
      },
      "source": [
        "from IPython.display import YouTubeVideo\n",
        "YouTubeVideo('inN8seMm7UI',width=800,height=400) "
      ],
      "execution_count": null,
      "outputs": [
        {
          "output_type": "execute_result",
          "data": {
            "text/html": [
              "\n",
              "        <iframe\n",
              "            width=\"800\"\n",
              "            height=\"400\"\n",
              "            src=\"https://www.youtube.com/embed/inN8seMm7UI\"\n",
              "            frameborder=\"0\"\n",
              "            allowfullscreen\n",
              "        ></iframe>\n",
              "        "
            ],
            "text/plain": [
              "<IPython.lib.display.YouTubeVideo at 0x7f43ea9eab38>"
            ],
            "image/jpeg": "[encoded data removed]"
          },
          "metadata": {
            "tags": []
          },
          "execution_count": 2
        }
      ]
    },
    {
      "cell_type": "markdown",
      "metadata": {
        "id": "7p0cpmBn_oaM"
      },
      "source": [
        "## Shortcuts\n",
        "\n",
        "* Paleta de comandos: \"Ctrl+m+h\"\n",
        "* Celda de código abajo \"Ctrl+m+a\"\n",
        "* Celda de código arriba: \"Ctrl+m+b\"\n",
        "* Borrar celdas: \"Ctrl+m+d\"\n",
        "* Comentar: \"Crtl+/\" \n",
        "\n",
        "El simbolo **#** antes de una línea en las celdas de comandos indica que esa línea es un comentario y no debe interpretarse ni ejecutarse. \n",
        "\n"
      ]
    },
    {
      "cell_type": "code",
      "metadata": {
        "id": "GEUvY-_aAmV8",
        "colab": {
          "base_uri": "https://localhost:8080/"
        },
        "outputId": "8b1ef7e8-85cd-4819-a95e-04dc4b47b4f7"
      },
      "source": [
        "## MAGICS\n",
        "\n",
        "%ls           \n",
        "%dirs           \n",
        "%lsmagic               \n",
        "%matplotlib inline  \n",
        "## It allows the output of plotting command to be displayed inline i.e. in Jupyter lab UI.              \n",
        "%who  \n",
        "## will list all variables that exist in the global scope.           \n",
        "%time  \n",
        "## will give you information about the time taken in a single run of the code in your cell."
      ],
      "execution_count": null,
      "outputs": [
        {
          "output_type": "stream",
          "text": [
            "\u001b[0m\u001b[01;34msample_data\u001b[0m/\n",
            "YouTubeVideo\t \n",
            "CPU times: user 3 µs, sys: 0 ns, total: 3 µs\n",
            "Wall time: 7.87 µs\n"
          ],
          "name": "stdout"
        }
      ]
    },
    {
      "cell_type": "code",
      "metadata": {
        "id": "Wscu7Edf5CgD"
      },
      "source": [
        "#from google.colab import drive\n",
        "#drive.mount('/content/drive')"
      ],
      "execution_count": null,
      "outputs": []
    },
    {
      "cell_type": "code",
      "metadata": {
        "id": "-aeOTyKgBF0Y"
      },
      "source": [
        "## REFERENCE MANUAL\n",
        "? print"
      ],
      "execution_count": null,
      "outputs": []
    },
    {
      "cell_type": "markdown",
      "metadata": {
        "id": "z4im50zptbNA"
      },
      "source": [
        "# **Introducción a Pandas**\n"
      ]
    },
    {
      "cell_type": "markdown",
      "metadata": {
        "id": "MrF8KhApH6uH"
      },
      "source": [
        "\n",
        "\n",
        "\n",
        "[Pandas](https://pandas.pydata.org/) es un módulo que fue creado en 2008 por Wes McKinney, es un proyecto Open Source con una licencia muy permisiva, tiene una comunidad bastante amplia con más de 100 desarrolladores de código que día a día lo hacen mejor. Pandas es una de las librerías más usadas hoy por hoy en lo que respecta a Data science. En esta clase intentaremos abordar un poco lo que respecta a Pandas, sin embargo si lo desea se recomienda pasar por \"Python for Data Analysis\" escrito por Wes McKinney y publicado por la editorian O'Reilly."
      ]
    },
    {
      "cell_type": "code",
      "metadata": {
        "id": "_aL76GM_tUZO"
      },
      "source": [
        "import numpy as np\n",
        "import matplotlib.pyplot as plt\n",
        "import pandas as pd"
      ],
      "execution_count": null,
      "outputs": []
    },
    {
      "cell_type": "markdown",
      "metadata": {
        "id": "BG4tKXOfauQs"
      },
      "source": [
        "## Objetos principales\n",
        "\n",
        "* Numpy --> Array\n",
        "* Matplotlib --> Figure y Axes\n",
        "* Pandas --> Series y DataFrame"
      ]
    },
    {
      "cell_type": "markdown",
      "metadata": {
        "id": "QEj0wkAVu_zg"
      },
      "source": [
        "### Series en pandas:\n"
      ]
    },
    {
      "cell_type": "markdown",
      "metadata": {
        "id": "yJ-o63ZpIK49"
      },
      "source": [
        "\n",
        "<p><img alt=\"Colaboratory logo\" height=\"300px\" src=\"https://github.com/tomasate/Curso0/blob/master/Captura2.PNG?raw=true\" align=\"left\" hspace=\"10px\" vspace=\"0px\"></p>"
      ]
    },
    {
      "cell_type": "code",
      "metadata": {
        "id": "Z40uy7_LvPLg",
        "colab": {
          "base_uri": "https://localhost:8080/"
        },
        "outputId": "ea599eac-b391-496c-d6d3-5c48c83b650e"
      },
      "source": [
        "ciudades = [\"Santa Marta\", \"Bógota\", \"Medellín\", \"Sincelejo\", \"Cartagena\"]\n",
        "#Numpy np.array([])\n",
        "#Matplotlib plt.figure() -- plt.subplot(), plt.subplots()\n",
        "s1 = pd.Series(ciudades)\n",
        "s1"
      ],
      "execution_count": null,
      "outputs": [
        {
          "output_type": "execute_result",
          "data": {
            "text/plain": [
              "0    Santa Marta\n",
              "1         Bógota\n",
              "2       Medellín\n",
              "3      Sincelejo\n",
              "4      Cartagena\n",
              "dtype: object"
            ]
          },
          "metadata": {
            "tags": []
          },
          "execution_count": 7
        }
      ]
    },
    {
      "cell_type": "code",
      "metadata": {
        "id": "51ppPVVywPL2",
        "colab": {
          "base_uri": "https://localhost:8080/"
        },
        "outputId": "4ddccfcd-d9f3-44c1-d6c1-14265c2a2871"
      },
      "source": [
        "planetas_int = {\"Mercurio\":0.055, \"Venus\":0.815, \"Tierra\":1.0, \"Marte\":0.107, \"Jupiter\":317.8}\n",
        "s2 = pd.Series(planetas_int)\n",
        "s2"
      ],
      "execution_count": null,
      "outputs": [
        {
          "output_type": "execute_result",
          "data": {
            "text/plain": [
              "Mercurio      0.055\n",
              "Venus         0.815\n",
              "Tierra        1.000\n",
              "Marte         0.107\n",
              "Jupiter     317.800\n",
              "dtype: float64"
            ]
          },
          "metadata": {
            "tags": []
          },
          "execution_count": 8
        }
      ]
    },
    {
      "cell_type": "code",
      "metadata": {
        "id": "-oq-72WurD8z",
        "colab": {
          "base_uri": "https://localhost:8080/"
        },
        "outputId": "53965822-90c0-4568-ae35-28eaf8ae0131"
      },
      "source": [
        "type(s1)"
      ],
      "execution_count": null,
      "outputs": [
        {
          "output_type": "execute_result",
          "data": {
            "text/plain": [
              "pandas.core.series.Series"
            ]
          },
          "metadata": {
            "tags": []
          },
          "execution_count": 9
        }
      ]
    },
    {
      "cell_type": "markdown",
      "metadata": {
        "id": "qj_qQuaWaqWe"
      },
      "source": [
        "### Ubicar valores"
      ]
    },
    {
      "cell_type": "code",
      "metadata": {
        "id": "ojtDMGrOwynF",
        "colab": {
          "base_uri": "https://localhost:8080/"
        },
        "outputId": "f905f662-fd36-46d1-ff0c-8168b312bb04"
      },
      "source": [
        "#Método de localización de un par index,column\n",
        "s2.loc[\"Tierra\"]"
      ],
      "execution_count": null,
      "outputs": [
        {
          "output_type": "execute_result",
          "data": {
            "text/plain": [
              "1.0"
            ]
          },
          "metadata": {
            "tags": []
          },
          "execution_count": 10
        }
      ]
    },
    {
      "cell_type": "code",
      "metadata": {
        "id": "igXk042pxZ25",
        "colab": {
          "base_uri": "https://localhost:8080/"
        },
        "outputId": "348a7923-85f3-4cac-cb27-140d1111d4d6"
      },
      "source": [
        "#Método de localización por índice númerico o posición\n",
        "s1.iloc[2]"
      ],
      "execution_count": null,
      "outputs": [
        {
          "output_type": "execute_result",
          "data": {
            "application/vnd.google.colaboratory.intrinsic+json": {
              "type": "string"
            },
            "text/plain": [
              "'Medellín'"
            ]
          },
          "metadata": {
            "tags": []
          },
          "execution_count": 11
        }
      ]
    },
    {
      "cell_type": "code",
      "metadata": {
        "id": "FgC9Bk6oxiQL",
        "colab": {
          "base_uri": "https://localhost:8080/"
        },
        "outputId": "545ec757-f00e-413c-dc68-7ff7cc9ab661"
      },
      "source": [
        "#Estructura para manejor de errores\n",
        "try:\n",
        "  s2.loc[0]\n",
        "except Exception as err:\n",
        "  print(err)"
      ],
      "execution_count": null,
      "outputs": [
        {
          "output_type": "stream",
          "text": [
            "0\n"
          ],
          "name": "stdout"
        }
      ]
    },
    {
      "cell_type": "code",
      "metadata": {
        "id": "h4KjMx8nxzla",
        "colab": {
          "base_uri": "https://localhost:8080/"
        },
        "outputId": "4e35c8b6-8e74-46d9-986b-0e11a2299151"
      },
      "source": [
        "#NO es aconsejable por la confusión index != posición\n",
        "print(s1[0])\n",
        "print(s2['Mercurio'])\n",
        "print(s2[0])"
      ],
      "execution_count": null,
      "outputs": [
        {
          "output_type": "stream",
          "text": [
            "Santa Marta\n",
            "0.055\n",
            "0.055\n"
          ],
          "name": "stdout"
        }
      ]
    },
    {
      "cell_type": "code",
      "metadata": {
        "id": "AtM7gvqwyDC8",
        "colab": {
          "base_uri": "https://localhost:8080/"
        },
        "outputId": "9878865a-9077-4de4-a983-8fe24d1ac93a"
      },
      "source": [
        "#Panda evita el cambio in situ, es decir hace una copia del objeto pero no modifica el original\n",
        "s2 = s2.append(pd.Series({\"Mercurio\":3.285e23}))\n",
        "s2['Mercurio']"
      ],
      "execution_count": null,
      "outputs": [
        {
          "output_type": "execute_result",
          "data": {
            "text/plain": [
              "Mercurio    5.500000e-02\n",
              "Mercurio    3.285000e+23\n",
              "dtype: float64"
            ]
          },
          "metadata": {
            "tags": []
          },
          "execution_count": 14
        }
      ]
    },
    {
      "cell_type": "markdown",
      "metadata": {
        "id": "S0Yw6qmez5J8"
      },
      "source": [
        "### DataFrame en pandas:\n",
        "\n",
        "Uno puede pensar en un data frame como una serie dos dimensional, donde tenemos un índice y múltiples columnas, donde cada columna tendrá una etiqueta."
      ]
    },
    {
      "cell_type": "code",
      "metadata": {
        "id": "Y3XzXRUGyuFL",
        "colab": {
          "base_uri": "https://localhost:8080/"
        },
        "outputId": "15df3afa-30d6-4f42-9390-a9ee4a48e2f5"
      },
      "source": [
        "s1 = pd.Series({\"Masa\":0.055,\"Distancia\":0.39})\n",
        "s2 = pd.Series({\"Masa\":0.815,\"Distancia\":0.72})\n",
        "s3 = pd.Series({\"Masa\":1,\"Distancia\":1.0})\n",
        "s4 = pd.Series({\"Masa\":0.107,\"Distancia\":1.52})\n",
        "s5 = pd.Series({\"Masa\":317.8,\"Distancia\":5.20})\n",
        "\n",
        "data = pd.DataFrame([s1,s2,s3,s4,s5],index=['Mercurio',\"Venus\",\"Tierra\",\"Marte\",\"Jupiter\"])\n",
        "data"
      ],
      "execution_count": null,
      "outputs": [
        {
          "output_type": "execute_result",
          "data": {
            "text/html": [
              "<div>\n",
              "<style scoped>\n",
              "    .dataframe tbody tr th:only-of-type {\n",
              "        vertical-align: middle;\n",
              "    }\n",
              "\n",
              "    .dataframe tbody tr th {\n",
              "        vertical-align: top;\n",
              "    }\n",
              "\n",
              "    .dataframe thead th {\n",
              "        text-align: right;\n",
              "    }\n",
              "</style>\n",
              "<table border=\"1\" class=\"dataframe\">\n",
              "  <thead>\n",
              "    <tr style=\"text-align: right;\">\n",
              "      <th></th>\n",
              "      <th>Masa</th>\n",
              "      <th>Distancia</th>\n",
              "    </tr>\n",
              "  </thead>\n",
              "  <tbody>\n",
              "    <tr>\n",
              "      <th>Mercurio</th>\n",
              "      <td>0.055</td>\n",
              "      <td>0.39</td>\n",
              "    </tr>\n",
              "    <tr>\n",
              "      <th>Venus</th>\n",
              "      <td>0.815</td>\n",
              "      <td>0.72</td>\n",
              "    </tr>\n",
              "    <tr>\n",
              "      <th>Tierra</th>\n",
              "      <td>1.000</td>\n",
              "      <td>1.00</td>\n",
              "    </tr>\n",
              "    <tr>\n",
              "      <th>Marte</th>\n",
              "      <td>0.107</td>\n",
              "      <td>1.52</td>\n",
              "    </tr>\n",
              "    <tr>\n",
              "      <th>Jupiter</th>\n",
              "      <td>317.800</td>\n",
              "      <td>5.20</td>\n",
              "    </tr>\n",
              "  </tbody>\n",
              "</table>\n",
              "</div>"
            ],
            "text/plain": [
              "             Masa  Distancia\n",
              "Mercurio    0.055       0.39\n",
              "Venus       0.815       0.72\n",
              "Tierra      1.000       1.00\n",
              "Marte       0.107       1.52\n",
              "Jupiter   317.800       5.20"
            ]
          },
          "metadata": {
            "tags": []
          },
          "execution_count": 15
        }
      ]
    },
    {
      "cell_type": "code",
      "metadata": {
        "id": "qHwhB2n-1LZU",
        "colab": {
          "base_uri": "https://localhost:8080/"
        },
        "outputId": "81aa9eb6-8420-43a7-afa9-7fb432620448"
      },
      "source": [
        "data2 = pd.DataFrame({\"Nombres\":[\"a\",\"b\",\"c\"],\"Valores\":[1,2,3]})\n",
        "data2"
      ],
      "execution_count": null,
      "outputs": [
        {
          "output_type": "execute_result",
          "data": {
            "text/html": [
              "<div>\n",
              "<style scoped>\n",
              "    .dataframe tbody tr th:only-of-type {\n",
              "        vertical-align: middle;\n",
              "    }\n",
              "\n",
              "    .dataframe tbody tr th {\n",
              "        vertical-align: top;\n",
              "    }\n",
              "\n",
              "    .dataframe thead th {\n",
              "        text-align: right;\n",
              "    }\n",
              "</style>\n",
              "<table border=\"1\" class=\"dataframe\">\n",
              "  <thead>\n",
              "    <tr style=\"text-align: right;\">\n",
              "      <th></th>\n",
              "      <th>Nombres</th>\n",
              "      <th>Valores</th>\n",
              "    </tr>\n",
              "  </thead>\n",
              "  <tbody>\n",
              "    <tr>\n",
              "      <th>0</th>\n",
              "      <td>a</td>\n",
              "      <td>1</td>\n",
              "    </tr>\n",
              "    <tr>\n",
              "      <th>1</th>\n",
              "      <td>b</td>\n",
              "      <td>2</td>\n",
              "    </tr>\n",
              "    <tr>\n",
              "      <th>2</th>\n",
              "      <td>c</td>\n",
              "      <td>3</td>\n",
              "    </tr>\n",
              "  </tbody>\n",
              "</table>\n",
              "</div>"
            ],
            "text/plain": [
              "  Nombres  Valores\n",
              "0       a        1\n",
              "1       b        2\n",
              "2       c        3"
            ]
          },
          "metadata": {
            "tags": []
          },
          "execution_count": 16
        }
      ]
    },
    {
      "cell_type": "markdown",
      "metadata": {
        "id": "rsRXMJKuvljX"
      },
      "source": [
        "### Revisar DataFrame\n",
        "Para visualizar el dataFrame creado, sobretodo en el caso de almacenamiento de grandes tablas, existen dos métodos o funciones útiles mediante las cuales se puede inspecciónar el principio y final de los datos. Para inspeccionar la cabecera de la tabla usamos la función `head()` de la librería."
      ]
    },
    {
      "cell_type": "code",
      "metadata": {
        "id": "D52QkidaIoe1"
      },
      "source": [
        "numbers = {\"even\":list(range(0,200,2)),\"odd\":list(range(1,200,2))}\n",
        "# Creación de un dataFrame en pandas\n",
        "df=pd.DataFrame(numbers)"
      ],
      "execution_count": null,
      "outputs": []
    },
    {
      "cell_type": "code",
      "metadata": {
        "id": "TKWoYo0Dt1x2",
        "colab": {
          "base_uri": "https://localhost:8080/"
        },
        "outputId": "757d1d86-313a-4191-fde7-928856a75067"
      },
      "source": [
        "df.shape # -->  # row , # cols"
      ],
      "execution_count": null,
      "outputs": [
        {
          "output_type": "execute_result",
          "data": {
            "text/plain": [
              "(100, 2)"
            ]
          },
          "metadata": {
            "tags": []
          },
          "execution_count": 18
        }
      ]
    },
    {
      "cell_type": "code",
      "metadata": {
        "id": "2atMDMORwGdm",
        "colab": {
          "base_uri": "https://localhost:8080/"
        },
        "outputId": "584dded9-65ad-48d6-82d8-fd0a379a1a15"
      },
      "source": [
        "df.head()"
      ],
      "execution_count": null,
      "outputs": [
        {
          "output_type": "execute_result",
          "data": {
            "text/html": [
              "<div>\n",
              "<style scoped>\n",
              "    .dataframe tbody tr th:only-of-type {\n",
              "        vertical-align: middle;\n",
              "    }\n",
              "\n",
              "    .dataframe tbody tr th {\n",
              "        vertical-align: top;\n",
              "    }\n",
              "\n",
              "    .dataframe thead th {\n",
              "        text-align: right;\n",
              "    }\n",
              "</style>\n",
              "<table border=\"1\" class=\"dataframe\">\n",
              "  <thead>\n",
              "    <tr style=\"text-align: right;\">\n",
              "      <th></th>\n",
              "      <th>even</th>\n",
              "      <th>odd</th>\n",
              "    </tr>\n",
              "  </thead>\n",
              "  <tbody>\n",
              "    <tr>\n",
              "      <th>0</th>\n",
              "      <td>0</td>\n",
              "      <td>1</td>\n",
              "    </tr>\n",
              "    <tr>\n",
              "      <th>1</th>\n",
              "      <td>2</td>\n",
              "      <td>3</td>\n",
              "    </tr>\n",
              "    <tr>\n",
              "      <th>2</th>\n",
              "      <td>4</td>\n",
              "      <td>5</td>\n",
              "    </tr>\n",
              "    <tr>\n",
              "      <th>3</th>\n",
              "      <td>6</td>\n",
              "      <td>7</td>\n",
              "    </tr>\n",
              "    <tr>\n",
              "      <th>4</th>\n",
              "      <td>8</td>\n",
              "      <td>9</td>\n",
              "    </tr>\n",
              "  </tbody>\n",
              "</table>\n",
              "</div>"
            ],
            "text/plain": [
              "   even  odd\n",
              "0     0    1\n",
              "1     2    3\n",
              "2     4    5\n",
              "3     6    7\n",
              "4     8    9"
            ]
          },
          "metadata": {
            "tags": []
          },
          "execution_count": 19
        }
      ]
    },
    {
      "cell_type": "markdown",
      "metadata": {
        "id": "_YWMAyg2w1Ct"
      },
      "source": [
        "Por defecto, la función `head()` mostrará las cinco primeras filas de la tabla, además de la cabecera. \n",
        "\n",
        "Si se quiere imprimir en pantalla más elementos de la fila, se debe indicar el número deseado de la siguiente forma: "
      ]
    },
    {
      "cell_type": "code",
      "metadata": {
        "id": "HPkxwIoUw5Yq",
        "colab": {
          "base_uri": "https://localhost:8080/"
        },
        "outputId": "873d9a5a-94a0-427e-8cb9-b185245ca0c7"
      },
      "source": [
        "# Mostrar en pantalla las 8 primeras filas del dataFrame\n",
        "df.head(8)"
      ],
      "execution_count": null,
      "outputs": [
        {
          "output_type": "execute_result",
          "data": {
            "text/html": [
              "<div>\n",
              "<style scoped>\n",
              "    .dataframe tbody tr th:only-of-type {\n",
              "        vertical-align: middle;\n",
              "    }\n",
              "\n",
              "    .dataframe tbody tr th {\n",
              "        vertical-align: top;\n",
              "    }\n",
              "\n",
              "    .dataframe thead th {\n",
              "        text-align: right;\n",
              "    }\n",
              "</style>\n",
              "<table border=\"1\" class=\"dataframe\">\n",
              "  <thead>\n",
              "    <tr style=\"text-align: right;\">\n",
              "      <th></th>\n",
              "      <th>even</th>\n",
              "      <th>odd</th>\n",
              "    </tr>\n",
              "  </thead>\n",
              "  <tbody>\n",
              "    <tr>\n",
              "      <th>0</th>\n",
              "      <td>0</td>\n",
              "      <td>1</td>\n",
              "    </tr>\n",
              "    <tr>\n",
              "      <th>1</th>\n",
              "      <td>2</td>\n",
              "      <td>3</td>\n",
              "    </tr>\n",
              "    <tr>\n",
              "      <th>2</th>\n",
              "      <td>4</td>\n",
              "      <td>5</td>\n",
              "    </tr>\n",
              "    <tr>\n",
              "      <th>3</th>\n",
              "      <td>6</td>\n",
              "      <td>7</td>\n",
              "    </tr>\n",
              "    <tr>\n",
              "      <th>4</th>\n",
              "      <td>8</td>\n",
              "      <td>9</td>\n",
              "    </tr>\n",
              "    <tr>\n",
              "      <th>5</th>\n",
              "      <td>10</td>\n",
              "      <td>11</td>\n",
              "    </tr>\n",
              "    <tr>\n",
              "      <th>6</th>\n",
              "      <td>12</td>\n",
              "      <td>13</td>\n",
              "    </tr>\n",
              "    <tr>\n",
              "      <th>7</th>\n",
              "      <td>14</td>\n",
              "      <td>15</td>\n",
              "    </tr>\n",
              "  </tbody>\n",
              "</table>\n",
              "</div>"
            ],
            "text/plain": [
              "   even  odd\n",
              "0     0    1\n",
              "1     2    3\n",
              "2     4    5\n",
              "3     6    7\n",
              "4     8    9\n",
              "5    10   11\n",
              "6    12   13\n",
              "7    14   15"
            ]
          },
          "metadata": {
            "tags": []
          },
          "execution_count": 20
        }
      ]
    },
    {
      "cell_type": "markdown",
      "metadata": {
        "id": "vlSG623Fx4gA"
      },
      "source": [
        "Por otra parte, si lo que se quiere inspeccionar son los últimos datos del dataFrame, debemos usar la función `tail()`:"
      ]
    },
    {
      "cell_type": "code",
      "metadata": {
        "id": "mcM_YsB6yEsu",
        "colab": {
          "base_uri": "https://localhost:8080/"
        },
        "outputId": "7bc8399c-a624-4256-f1e4-0bace1cdadb7"
      },
      "source": [
        "# Inspección del final del dataFrame\n",
        "\n",
        "df.tail()"
      ],
      "execution_count": null,
      "outputs": [
        {
          "output_type": "execute_result",
          "data": {
            "text/html": [
              "<div>\n",
              "<style scoped>\n",
              "    .dataframe tbody tr th:only-of-type {\n",
              "        vertical-align: middle;\n",
              "    }\n",
              "\n",
              "    .dataframe tbody tr th {\n",
              "        vertical-align: top;\n",
              "    }\n",
              "\n",
              "    .dataframe thead th {\n",
              "        text-align: right;\n",
              "    }\n",
              "</style>\n",
              "<table border=\"1\" class=\"dataframe\">\n",
              "  <thead>\n",
              "    <tr style=\"text-align: right;\">\n",
              "      <th></th>\n",
              "      <th>even</th>\n",
              "      <th>odd</th>\n",
              "    </tr>\n",
              "  </thead>\n",
              "  <tbody>\n",
              "    <tr>\n",
              "      <th>95</th>\n",
              "      <td>190</td>\n",
              "      <td>191</td>\n",
              "    </tr>\n",
              "    <tr>\n",
              "      <th>96</th>\n",
              "      <td>192</td>\n",
              "      <td>193</td>\n",
              "    </tr>\n",
              "    <tr>\n",
              "      <th>97</th>\n",
              "      <td>194</td>\n",
              "      <td>195</td>\n",
              "    </tr>\n",
              "    <tr>\n",
              "      <th>98</th>\n",
              "      <td>196</td>\n",
              "      <td>197</td>\n",
              "    </tr>\n",
              "    <tr>\n",
              "      <th>99</th>\n",
              "      <td>198</td>\n",
              "      <td>199</td>\n",
              "    </tr>\n",
              "  </tbody>\n",
              "</table>\n",
              "</div>"
            ],
            "text/plain": [
              "    even  odd\n",
              "95   190  191\n",
              "96   192  193\n",
              "97   194  195\n",
              "98   196  197\n",
              "99   198  199"
            ]
          },
          "metadata": {
            "tags": []
          },
          "execution_count": 21
        }
      ]
    },
    {
      "cell_type": "markdown",
      "metadata": {
        "id": "aqs77P9kyVW7"
      },
      "source": [
        "De forma análoga a la función `head()`, podemos especificar el número de filas a visualizar en la parte final del dataFrame:"
      ]
    },
    {
      "cell_type": "code",
      "metadata": {
        "id": "LDYEnNlCyjw6",
        "colab": {
          "base_uri": "https://localhost:8080/"
        },
        "outputId": "56f56508-f397-4368-ca1e-b5b851e3390c"
      },
      "source": [
        "df.tail(7)"
      ],
      "execution_count": null,
      "outputs": [
        {
          "output_type": "execute_result",
          "data": {
            "text/html": [
              "<div>\n",
              "<style scoped>\n",
              "    .dataframe tbody tr th:only-of-type {\n",
              "        vertical-align: middle;\n",
              "    }\n",
              "\n",
              "    .dataframe tbody tr th {\n",
              "        vertical-align: top;\n",
              "    }\n",
              "\n",
              "    .dataframe thead th {\n",
              "        text-align: right;\n",
              "    }\n",
              "</style>\n",
              "<table border=\"1\" class=\"dataframe\">\n",
              "  <thead>\n",
              "    <tr style=\"text-align: right;\">\n",
              "      <th></th>\n",
              "      <th>even</th>\n",
              "      <th>odd</th>\n",
              "    </tr>\n",
              "  </thead>\n",
              "  <tbody>\n",
              "    <tr>\n",
              "      <th>93</th>\n",
              "      <td>186</td>\n",
              "      <td>187</td>\n",
              "    </tr>\n",
              "    <tr>\n",
              "      <th>94</th>\n",
              "      <td>188</td>\n",
              "      <td>189</td>\n",
              "    </tr>\n",
              "    <tr>\n",
              "      <th>95</th>\n",
              "      <td>190</td>\n",
              "      <td>191</td>\n",
              "    </tr>\n",
              "    <tr>\n",
              "      <th>96</th>\n",
              "      <td>192</td>\n",
              "      <td>193</td>\n",
              "    </tr>\n",
              "    <tr>\n",
              "      <th>97</th>\n",
              "      <td>194</td>\n",
              "      <td>195</td>\n",
              "    </tr>\n",
              "    <tr>\n",
              "      <th>98</th>\n",
              "      <td>196</td>\n",
              "      <td>197</td>\n",
              "    </tr>\n",
              "    <tr>\n",
              "      <th>99</th>\n",
              "      <td>198</td>\n",
              "      <td>199</td>\n",
              "    </tr>\n",
              "  </tbody>\n",
              "</table>\n",
              "</div>"
            ],
            "text/plain": [
              "    even  odd\n",
              "93   186  187\n",
              "94   188  189\n",
              "95   190  191\n",
              "96   192  193\n",
              "97   194  195\n",
              "98   196  197\n",
              "99   198  199"
            ]
          },
          "metadata": {
            "tags": []
          },
          "execution_count": 22
        }
      ]
    },
    {
      "cell_type": "markdown",
      "metadata": {
        "id": "sWUDpbTIuuvY"
      },
      "source": [
        "Para visualizar información de tipo y nulos usamos:"
      ]
    },
    {
      "cell_type": "code",
      "metadata": {
        "id": "UQI7hT-SW0LI",
        "colab": {
          "base_uri": "https://localhost:8080/"
        },
        "outputId": "56fab299-1e30-48ca-a36c-0fc787c130b8"
      },
      "source": [
        "df.dtypes"
      ],
      "execution_count": null,
      "outputs": [
        {
          "output_type": "execute_result",
          "data": {
            "text/plain": [
              "even    int64\n",
              "odd     int64\n",
              "dtype: object"
            ]
          },
          "metadata": {
            "tags": []
          },
          "execution_count": 23
        }
      ]
    },
    {
      "cell_type": "code",
      "metadata": {
        "id": "zxg4Td5Tut92",
        "colab": {
          "base_uri": "https://localhost:8080/"
        },
        "outputId": "b827ca96-538e-4071-ca8c-af63140fa765"
      },
      "source": [
        "df.info()"
      ],
      "execution_count": null,
      "outputs": [
        {
          "output_type": "stream",
          "text": [
            "<class 'pandas.core.frame.DataFrame'>\n",
            "RangeIndex: 100 entries, 0 to 99\n",
            "Data columns (total 2 columns):\n",
            " #   Column  Non-Null Count  Dtype\n",
            "---  ------  --------------  -----\n",
            " 0   even    100 non-null    int64\n",
            " 1   odd     100 non-null    int64\n",
            "dtypes: int64(2)\n",
            "memory usage: 1.7 KB\n"
          ],
          "name": "stdout"
        }
      ]
    },
    {
      "cell_type": "markdown",
      "metadata": {
        "id": "BjLc1PtF17oH"
      },
      "source": [
        "## Lectura de datos en Pandas\n",
        "\n",
        "El módulo de Pandas tiene una gran cantidad de funciones para la letura de datos en distintos formatos, tan solo vamos a mencionar algunas cosas sobre ellas. No olvide consultar constantemente la [documentación](https://pandas.pydata.org/docs/user_guide/io.html) para enterarse de las novedades del API.\n",
        "\n",
        "**CSV** es el formato texto plano más usado en el mundo de los datos y con el cual vamos a trabajar en este clase. Sin embargo no es el único formato texto que se conoce, hay dos en particular: los formatos de [Excel](https://pandas.pydata.org/docs/user_guide/io.html#io-excel-reader) y los [JSON](https://pandas.pydata.org/docs/user_guide/io.html#io-json-reader). "
      ]
    },
    {
      "cell_type": "markdown",
      "metadata": {
        "id": "SvdNP-2bcgXe"
      },
      "source": [
        "### El formato XLSX"
      ]
    },
    {
      "cell_type": "code",
      "metadata": {
        "id": "_4oy2rcYJIHT",
        "colab": {
          "base_uri": "https://localhost:8080/"
        },
        "outputId": "046ecc5e-f22b-4f63-d78b-c91863cdb185"
      },
      "source": [
        "path_to_file = \"https://github.com/diplomado-bigdata-machinelearning-udea/curso0/blob/master/s07/Tasa_de_Cambio_Representativa_del_Mercado-_TRM.xlsx?raw=True\"\n",
        "eneroTMR = pd.read_excel(path_to_file, sheet_name='Enero') #sheet_name = None --> Lee todas las hojas del xlsx\n",
        "eneroTMR.head()"
      ],
      "execution_count": null,
      "outputs": [
        {
          "output_type": "execute_result",
          "data": {
            "text/html": [
              "<div>\n",
              "<style scoped>\n",
              "    .dataframe tbody tr th:only-of-type {\n",
              "        vertical-align: middle;\n",
              "    }\n",
              "\n",
              "    .dataframe tbody tr th {\n",
              "        vertical-align: top;\n",
              "    }\n",
              "\n",
              "    .dataframe thead th {\n",
              "        text-align: right;\n",
              "    }\n",
              "</style>\n",
              "<table border=\"1\" class=\"dataframe\">\n",
              "  <thead>\n",
              "    <tr style=\"text-align: right;\">\n",
              "      <th></th>\n",
              "      <th>VALOR</th>\n",
              "      <th>UNIDAD</th>\n",
              "      <th>VIGENCIADESDE</th>\n",
              "      <th>VIGENCIAHASTA</th>\n",
              "    </tr>\n",
              "  </thead>\n",
              "  <tbody>\n",
              "    <tr>\n",
              "      <th>0</th>\n",
              "      <td>3,258.84</td>\n",
              "      <td>COP</td>\n",
              "      <td>2020-01-03</td>\n",
              "      <td>2020-01-03</td>\n",
              "    </tr>\n",
              "    <tr>\n",
              "      <th>1</th>\n",
              "      <td>3,262.05</td>\n",
              "      <td>COP</td>\n",
              "      <td>2020-01-04</td>\n",
              "      <td>2020-01-07</td>\n",
              "    </tr>\n",
              "    <tr>\n",
              "      <th>2</th>\n",
              "      <td>3,264.26</td>\n",
              "      <td>COP</td>\n",
              "      <td>2020-01-08</td>\n",
              "      <td>2020-01-08</td>\n",
              "    </tr>\n",
              "    <tr>\n",
              "      <th>3</th>\n",
              "      <td>3,254.42</td>\n",
              "      <td>COP</td>\n",
              "      <td>2020-01-09</td>\n",
              "      <td>2020-01-09</td>\n",
              "    </tr>\n",
              "    <tr>\n",
              "      <th>4</th>\n",
              "      <td>3,253.89</td>\n",
              "      <td>COP</td>\n",
              "      <td>2020-01-10</td>\n",
              "      <td>2020-01-10</td>\n",
              "    </tr>\n",
              "  </tbody>\n",
              "</table>\n",
              "</div>"
            ],
            "text/plain": [
              "      VALOR UNIDAD VIGENCIADESDE VIGENCIAHASTA\n",
              "0  3,258.84    COP    2020-01-03    2020-01-03\n",
              "1  3,262.05    COP    2020-01-04    2020-01-07\n",
              "2  3,264.26    COP    2020-01-08    2020-01-08\n",
              "3  3,254.42    COP    2020-01-09    2020-01-09\n",
              "4  3,253.89    COP    2020-01-10    2020-01-10"
            ]
          },
          "metadata": {
            "tags": []
          },
          "execution_count": 25
        }
      ]
    },
    {
      "cell_type": "code",
      "metadata": {
        "id": "PRWNH397JIHU",
        "colab": {
          "base_uri": "https://localhost:8080/"
        },
        "outputId": "4dad4741-5877-4e5f-d3c7-08b7923f8ed5"
      },
      "source": [
        "eneroTMR.loc[5,\"VALOR\"]"
      ],
      "execution_count": null,
      "outputs": [
        {
          "output_type": "execute_result",
          "data": {
            "application/vnd.google.colaboratory.intrinsic+json": {
              "type": "string"
            },
            "text/plain": [
              "'3,272.62'"
            ]
          },
          "metadata": {
            "tags": []
          },
          "execution_count": 26
        }
      ]
    },
    {
      "cell_type": "code",
      "metadata": {
        "id": "LiYIDe3yJIHX",
        "colab": {
          "base_uri": "https://localhost:8080/"
        },
        "outputId": "ba911c32-3f92-44b1-f648-08113ccc8088"
      },
      "source": [
        "eneroTMR['VALOR'] #DataFrame --> [] slice(NO)  seleccionar una columna"
      ],
      "execution_count": null,
      "outputs": [
        {
          "output_type": "execute_result",
          "data": {
            "text/plain": [
              "0     3,258.84\n",
              "1     3,262.05\n",
              "2     3,264.26\n",
              "3     3,254.42\n",
              "4     3,253.89\n",
              "5     3,272.62\n",
              "6     3,288.05\n",
              "7     3,278.83\n",
              "8     3,296.74\n",
              "9     3,313.40\n",
              "10    3,320.77\n",
              "11    3,347.91\n",
              "12    3,337.77\n",
              "13    3,353.76\n",
              "14    3,366.01\n",
              "15    3,398.40\n",
              "16    3,392.60\n",
              "17    3,395.10\n",
              "18    3,411.45\n",
              "Name: VALOR, dtype: object"
            ]
          },
          "metadata": {
            "tags": []
          },
          "execution_count": 27
        }
      ]
    },
    {
      "cell_type": "code",
      "metadata": {
        "id": "pesE0uOU5A5r"
      },
      "source": [
        "#Pandas prefiere inferir que es un columna de str\n",
        "#eneroTMR['VALOR'].str.replace(',','').astype(float)"
      ],
      "execution_count": null,
      "outputs": []
    },
    {
      "cell_type": "code",
      "metadata": {
        "id": "5dT40fJoxrYU"
      },
      "source": [
        "TMR = pd.read_excel(path_to_file, sheet_name=None)"
      ],
      "execution_count": null,
      "outputs": []
    },
    {
      "cell_type": "code",
      "metadata": {
        "id": "1H6ASW8sx5jN",
        "colab": {
          "base_uri": "https://localhost:8080/"
        },
        "outputId": "521b2f9b-f317-4920-b6a4-e454a4666944"
      },
      "source": [
        "TMR['Febrero']"
      ],
      "execution_count": null,
      "outputs": [
        {
          "output_type": "execute_result",
          "data": {
            "text/html": [
              "<div>\n",
              "<style scoped>\n",
              "    .dataframe tbody tr th:only-of-type {\n",
              "        vertical-align: middle;\n",
              "    }\n",
              "\n",
              "    .dataframe tbody tr th {\n",
              "        vertical-align: top;\n",
              "    }\n",
              "\n",
              "    .dataframe thead th {\n",
              "        text-align: right;\n",
              "    }\n",
              "</style>\n",
              "<table border=\"1\" class=\"dataframe\">\n",
              "  <thead>\n",
              "    <tr style=\"text-align: right;\">\n",
              "      <th></th>\n",
              "      <th>VALOR</th>\n",
              "      <th>UNIDAD</th>\n",
              "      <th>VIGENCIADESDE</th>\n",
              "      <th>VIGENCIAHASTA</th>\n",
              "    </tr>\n",
              "  </thead>\n",
              "  <tbody>\n",
              "    <tr>\n",
              "      <th>0</th>\n",
              "      <td>3,423.24</td>\n",
              "      <td>COP</td>\n",
              "      <td>2020-02-01</td>\n",
              "      <td>2020-02-03</td>\n",
              "    </tr>\n",
              "    <tr>\n",
              "      <th>1</th>\n",
              "      <td>3,401.56</td>\n",
              "      <td>COP</td>\n",
              "      <td>2020-02-04</td>\n",
              "      <td>2020-02-04</td>\n",
              "    </tr>\n",
              "    <tr>\n",
              "      <th>2</th>\n",
              "      <td>3,368.87</td>\n",
              "      <td>COP</td>\n",
              "      <td>2020-02-05</td>\n",
              "      <td>2020-02-05</td>\n",
              "    </tr>\n",
              "    <tr>\n",
              "      <th>3</th>\n",
              "      <td>3,355.44</td>\n",
              "      <td>COP</td>\n",
              "      <td>2020-02-06</td>\n",
              "      <td>2020-02-06</td>\n",
              "    </tr>\n",
              "    <tr>\n",
              "      <th>4</th>\n",
              "      <td>3,378.43</td>\n",
              "      <td>COP</td>\n",
              "      <td>2020-02-07</td>\n",
              "      <td>2020-02-07</td>\n",
              "    </tr>\n",
              "    <tr>\n",
              "      <th>5</th>\n",
              "      <td>3,408.35</td>\n",
              "      <td>COP</td>\n",
              "      <td>2020-02-08</td>\n",
              "      <td>2020-02-10</td>\n",
              "    </tr>\n",
              "    <tr>\n",
              "      <th>6</th>\n",
              "      <td>3,440.96</td>\n",
              "      <td>COP</td>\n",
              "      <td>2020-02-11</td>\n",
              "      <td>2020-02-11</td>\n",
              "    </tr>\n",
              "    <tr>\n",
              "      <th>7</th>\n",
              "      <td>3,432.89</td>\n",
              "      <td>COP</td>\n",
              "      <td>2020-02-12</td>\n",
              "      <td>2020-02-12</td>\n",
              "    </tr>\n",
              "    <tr>\n",
              "      <th>8</th>\n",
              "      <td>3,394.80</td>\n",
              "      <td>COP</td>\n",
              "      <td>2020-02-13</td>\n",
              "      <td>2020-02-13</td>\n",
              "    </tr>\n",
              "    <tr>\n",
              "      <th>9</th>\n",
              "      <td>3,385.11</td>\n",
              "      <td>COP</td>\n",
              "      <td>2020-02-14</td>\n",
              "      <td>2020-02-14</td>\n",
              "    </tr>\n",
              "    <tr>\n",
              "      <th>10</th>\n",
              "      <td>3,378.29</td>\n",
              "      <td>COP</td>\n",
              "      <td>2020-02-15</td>\n",
              "      <td>2020-02-18</td>\n",
              "    </tr>\n",
              "    <tr>\n",
              "      <th>11</th>\n",
              "      <td>3,410.24</td>\n",
              "      <td>COP</td>\n",
              "      <td>2020-02-19</td>\n",
              "      <td>2020-02-19</td>\n",
              "    </tr>\n",
              "    <tr>\n",
              "      <th>12</th>\n",
              "      <td>3,400.98</td>\n",
              "      <td>COP</td>\n",
              "      <td>2020-02-20</td>\n",
              "      <td>2020-02-20</td>\n",
              "    </tr>\n",
              "    <tr>\n",
              "      <th>13</th>\n",
              "      <td>3,403.50</td>\n",
              "      <td>COP</td>\n",
              "      <td>2020-02-21</td>\n",
              "      <td>2020-02-21</td>\n",
              "    </tr>\n",
              "    <tr>\n",
              "      <th>14</th>\n",
              "      <td>3,398.05</td>\n",
              "      <td>COP</td>\n",
              "      <td>2020-02-22</td>\n",
              "      <td>2020-02-24</td>\n",
              "    </tr>\n",
              "    <tr>\n",
              "      <th>15</th>\n",
              "      <td>3,431.60</td>\n",
              "      <td>COP</td>\n",
              "      <td>2020-02-25</td>\n",
              "      <td>2020-02-25</td>\n",
              "    </tr>\n",
              "    <tr>\n",
              "      <th>16</th>\n",
              "      <td>3,425.22</td>\n",
              "      <td>COP</td>\n",
              "      <td>2020-02-26</td>\n",
              "      <td>2020-02-26</td>\n",
              "    </tr>\n",
              "    <tr>\n",
              "      <th>17</th>\n",
              "      <td>3,441.88</td>\n",
              "      <td>COP</td>\n",
              "      <td>2020-02-27</td>\n",
              "      <td>2020-02-27</td>\n",
              "    </tr>\n",
              "    <tr>\n",
              "      <th>18</th>\n",
              "      <td>3,507.11</td>\n",
              "      <td>COP</td>\n",
              "      <td>2020-02-28</td>\n",
              "      <td>2020-02-28</td>\n",
              "    </tr>\n",
              "    <tr>\n",
              "      <th>19</th>\n",
              "      <td>3,539.86</td>\n",
              "      <td>COP</td>\n",
              "      <td>2020-02-29</td>\n",
              "      <td>2020-03-02</td>\n",
              "    </tr>\n",
              "  </tbody>\n",
              "</table>\n",
              "</div>"
            ],
            "text/plain": [
              "       VALOR UNIDAD VIGENCIADESDE VIGENCIAHASTA\n",
              "0   3,423.24    COP    2020-02-01    2020-02-03\n",
              "1   3,401.56    COP    2020-02-04    2020-02-04\n",
              "2   3,368.87    COP    2020-02-05    2020-02-05\n",
              "3   3,355.44    COP    2020-02-06    2020-02-06\n",
              "4   3,378.43    COP    2020-02-07    2020-02-07\n",
              "5   3,408.35    COP    2020-02-08    2020-02-10\n",
              "6   3,440.96    COP    2020-02-11    2020-02-11\n",
              "7   3,432.89    COP    2020-02-12    2020-02-12\n",
              "8   3,394.80    COP    2020-02-13    2020-02-13\n",
              "9   3,385.11    COP    2020-02-14    2020-02-14\n",
              "10  3,378.29    COP    2020-02-15    2020-02-18\n",
              "11  3,410.24    COP    2020-02-19    2020-02-19\n",
              "12  3,400.98    COP    2020-02-20    2020-02-20\n",
              "13  3,403.50    COP    2020-02-21    2020-02-21\n",
              "14  3,398.05    COP    2020-02-22    2020-02-24\n",
              "15  3,431.60    COP    2020-02-25    2020-02-25\n",
              "16  3,425.22    COP    2020-02-26    2020-02-26\n",
              "17  3,441.88    COP    2020-02-27    2020-02-27\n",
              "18  3,507.11    COP    2020-02-28    2020-02-28\n",
              "19  3,539.86    COP    2020-02-29    2020-03-02"
            ]
          },
          "metadata": {
            "tags": []
          },
          "execution_count": 30
        }
      ]
    },
    {
      "cell_type": "markdown",
      "metadata": {
        "id": "Yi627w6jcrfM"
      },
      "source": [
        "### El formato JSON"
      ]
    },
    {
      "cell_type": "markdown",
      "metadata": {
        "id": "Ro0ADytU9MeG"
      },
      "source": [
        "JSON o JavaScript Object Notation es un formato de intercambio de Datos que se considera uno de los más independientes del lenguaje. JSON surgió de la necesidad de un protocolo de comunicación de servidor a navegador en tiempo real y es uno de los formatos más extendido para tal fin. \n",
        "\n",
        "Si vamos a la [página](https://www.datos.gov.co/browse?sortBy=newest) oficial de datos de Colombia, tendremos una enorme base de datos para trabajar que podemos leer en formato JSON. \n",
        "\n",
        "Vamos a leer los [datos](https://www.datos.gov.co/Transporte/Informe-de-carga-a-rea/4wwa-qb9a) de carga áerea en medio del aislamiento. En la página usted puede descargar los datos de dos maneras:\n",
        "\n",
        "\n",
        "\n",
        "![texto alternativo](https://github.com/diplomado-bigdata-machinelearning-udea/curso0/blob/master/s07/imagenes/read.png?raw=true)\n",
        "\n",
        "Cuando usted entra a **API**, allí le habla un poco sobre lo que es SODA, Socrata Open Data API, puede revisar sobre este tipo de API para manejo de bases abiertas, pero en la parte inferior hay un link de internet, seguido de dos opciones, escogemos JSON y copiamos el link: \n"
      ]
    },
    {
      "cell_type": "code",
      "metadata": {
        "id": "VS7Dfzhp_xR9",
        "colab": {
          "base_uri": "https://localhost:8080/"
        },
        "outputId": "dcd92707-9ef5-43fd-bca6-25228f9626a7"
      },
      "source": [
        "source = \"https://www.datos.gov.co/resource/4wwa-qb9a.json\"\n",
        "info_carga = pd.read_json(source)\n",
        "print(info_carga.shape)\n",
        "info_carga.head()"
      ],
      "execution_count": null,
      "outputs": [
        {
          "output_type": "stream",
          "text": [
            "(1000, 17)\n"
          ],
          "name": "stdout"
        },
        {
          "output_type": "execute_result",
          "data": {
            "text/html": [
              "<div>\n",
              "<style scoped>\n",
              "    .dataframe tbody tr th:only-of-type {\n",
              "        vertical-align: middle;\n",
              "    }\n",
              "\n",
              "    .dataframe tbody tr th {\n",
              "        vertical-align: top;\n",
              "    }\n",
              "\n",
              "    .dataframe thead th {\n",
              "        text-align: right;\n",
              "    }\n",
              "</style>\n",
              "<table border=\"1\" class=\"dataframe\">\n",
              "  <thead>\n",
              "    <tr style=\"text-align: right;\">\n",
              "      <th></th>\n",
              "      <th>fecha</th>\n",
              "      <th>regiones</th>\n",
              "      <th>departamento</th>\n",
              "      <th>latitud</th>\n",
              "      <th>longitud</th>\n",
              "      <th>aeropuerto</th>\n",
              "      <th>carga_llegadas_nacionales</th>\n",
              "      <th>carga_salidas_nacionales</th>\n",
              "      <th>carga_llegadas_internacionales</th>\n",
              "      <th>carga_salidas_internacionales</th>\n",
              "      <th>vuelos_carga</th>\n",
              "      <th>vuelos_ambulancia</th>\n",
              "      <th>vuelos_humanitarios</th>\n",
              "      <th>total_vuelos</th>\n",
              "      <th>total_carga_transportada</th>\n",
              "      <th>carga_vuelos_nacionales_ton</th>\n",
              "      <th>carga_vuelos_internacionales</th>\n",
              "    </tr>\n",
              "  </thead>\n",
              "  <tbody>\n",
              "    <tr>\n",
              "      <th>0</th>\n",
              "      <td>25/03/2020</td>\n",
              "      <td>Cundinamarca</td>\n",
              "      <td>Cundinamarca</td>\n",
              "      <td>4,70131</td>\n",
              "      <td>-74,146303</td>\n",
              "      <td>Bogotá</td>\n",
              "      <td>88.0</td>\n",
              "      <td>11.0</td>\n",
              "      <td>118</td>\n",
              "      <td>234,71</td>\n",
              "      <td>22</td>\n",
              "      <td>5</td>\n",
              "      <td>1</td>\n",
              "      <td>28</td>\n",
              "      <td>364,59</td>\n",
              "      <td>1188.0</td>\n",
              "      <td>352,71</td>\n",
              "    </tr>\n",
              "    <tr>\n",
              "      <th>1</th>\n",
              "      <td>25/03/2020</td>\n",
              "      <td>Cundinamarca</td>\n",
              "      <td>Amazonas</td>\n",
              "      <td>-4,197339</td>\n",
              "      <td>-69,943241</td>\n",
              "      <td>Leticia</td>\n",
              "      <td>12.0</td>\n",
              "      <td>0.0</td>\n",
              "      <td>0</td>\n",
              "      <td>0</td>\n",
              "      <td>1</td>\n",
              "      <td>0</td>\n",
              "      <td>0</td>\n",
              "      <td>1</td>\n",
              "      <td>12</td>\n",
              "      <td>12.0</td>\n",
              "      <td>0</td>\n",
              "    </tr>\n",
              "    <tr>\n",
              "      <th>2</th>\n",
              "      <td>25/03/2020</td>\n",
              "      <td>Cundinamarca</td>\n",
              "      <td>Tolima</td>\n",
              "      <td>4,425723</td>\n",
              "      <td>-75,139972</td>\n",
              "      <td>Ibague</td>\n",
              "      <td>0.0</td>\n",
              "      <td>0.0</td>\n",
              "      <td>0</td>\n",
              "      <td>0</td>\n",
              "      <td>0</td>\n",
              "      <td>0</td>\n",
              "      <td>0</td>\n",
              "      <td>0</td>\n",
              "      <td>0</td>\n",
              "      <td>0.0</td>\n",
              "      <td>0</td>\n",
              "    </tr>\n",
              "    <tr>\n",
              "      <th>3</th>\n",
              "      <td>25/03/2020</td>\n",
              "      <td>Cundinamarca</td>\n",
              "      <td>Caquetá</td>\n",
              "      <td>1,588831</td>\n",
              "      <td>-75,560881</td>\n",
              "      <td>Florencia</td>\n",
              "      <td>0.0</td>\n",
              "      <td>0.0</td>\n",
              "      <td>0</td>\n",
              "      <td>0</td>\n",
              "      <td>0</td>\n",
              "      <td>0</td>\n",
              "      <td>0</td>\n",
              "      <td>0</td>\n",
              "      <td>0</td>\n",
              "      <td>0.0</td>\n",
              "      <td>0</td>\n",
              "    </tr>\n",
              "    <tr>\n",
              "      <th>4</th>\n",
              "      <td>25/03/2020</td>\n",
              "      <td>Cundinamarca</td>\n",
              "      <td>Huila</td>\n",
              "      <td>2,946729</td>\n",
              "      <td>-75,293746</td>\n",
              "      <td>Neiva</td>\n",
              "      <td>13.0</td>\n",
              "      <td>0.0</td>\n",
              "      <td>0</td>\n",
              "      <td>0</td>\n",
              "      <td>0</td>\n",
              "      <td>0</td>\n",
              "      <td>0</td>\n",
              "      <td>0</td>\n",
              "      <td>13</td>\n",
              "      <td>13.0</td>\n",
              "      <td>0</td>\n",
              "    </tr>\n",
              "  </tbody>\n",
              "</table>\n",
              "</div>"
            ],
            "text/plain": [
              "        fecha  ... carga_vuelos_internacionales\n",
              "0  25/03/2020  ...                       352,71\n",
              "1  25/03/2020  ...                            0\n",
              "2  25/03/2020  ...                            0\n",
              "3  25/03/2020  ...                            0\n",
              "4  25/03/2020  ...                            0\n",
              "\n",
              "[5 rows x 17 columns]"
            ]
          },
          "metadata": {
            "tags": []
          },
          "execution_count": 31
        }
      ]
    },
    {
      "cell_type": "markdown",
      "metadata": {
        "id": "xNtild7RA5E8"
      },
      "source": [
        "Es importante, y si revisamos la página, nos daremos cuenta que sólo nos ha dado 1000 filas, cuando la base de datos tiene más de 2000. Esto se debe a que las peticiones, es decir abrir el link, tiene un limite impuesto por la página que sirve para evitar estrangular los recursos del servidor donde viven los datos. El limite en Socrata es de 50000, más que suficiente para pedir todos esos datos pero tenemos que decirle, ¿Cómo? De esta manera:\n",
        "\n"
      ]
    },
    {
      "cell_type": "code",
      "metadata": {
        "id": "9ZYH1Jl6Arb-",
        "colab": {
          "base_uri": "https://localhost:8080/"
        },
        "outputId": "fa947e4b-1d92-4c1e-f244-fd06af57bb1f"
      },
      "source": [
        "source = \"https://www.datos.gov.co/resource/4wwa-qb9a.json?$limit=30000\"\n",
        "info_carga = pd.read_json(source)\n",
        "print(info_carga.shape)\n",
        "info_carga.head()"
      ],
      "execution_count": null,
      "outputs": [
        {
          "output_type": "stream",
          "text": [
            "(11560, 17)\n"
          ],
          "name": "stdout"
        },
        {
          "output_type": "execute_result",
          "data": {
            "text/html": [
              "<div>\n",
              "<style scoped>\n",
              "    .dataframe tbody tr th:only-of-type {\n",
              "        vertical-align: middle;\n",
              "    }\n",
              "\n",
              "    .dataframe tbody tr th {\n",
              "        vertical-align: top;\n",
              "    }\n",
              "\n",
              "    .dataframe thead th {\n",
              "        text-align: right;\n",
              "    }\n",
              "</style>\n",
              "<table border=\"1\" class=\"dataframe\">\n",
              "  <thead>\n",
              "    <tr style=\"text-align: right;\">\n",
              "      <th></th>\n",
              "      <th>fecha</th>\n",
              "      <th>regiones</th>\n",
              "      <th>departamento</th>\n",
              "      <th>latitud</th>\n",
              "      <th>longitud</th>\n",
              "      <th>aeropuerto</th>\n",
              "      <th>carga_llegadas_nacionales</th>\n",
              "      <th>carga_salidas_nacionales</th>\n",
              "      <th>carga_llegadas_internacionales</th>\n",
              "      <th>carga_salidas_internacionales</th>\n",
              "      <th>vuelos_carga</th>\n",
              "      <th>vuelos_ambulancia</th>\n",
              "      <th>vuelos_humanitarios</th>\n",
              "      <th>total_vuelos</th>\n",
              "      <th>total_carga_transportada</th>\n",
              "      <th>carga_vuelos_nacionales_ton</th>\n",
              "      <th>carga_vuelos_internacionales</th>\n",
              "    </tr>\n",
              "  </thead>\n",
              "  <tbody>\n",
              "    <tr>\n",
              "      <th>0</th>\n",
              "      <td>25/03/2020</td>\n",
              "      <td>Cundinamarca</td>\n",
              "      <td>Cundinamarca</td>\n",
              "      <td>4,70131</td>\n",
              "      <td>-74,146303</td>\n",
              "      <td>Bogotá</td>\n",
              "      <td>88.0</td>\n",
              "      <td>11.0</td>\n",
              "      <td>118.0</td>\n",
              "      <td>234,71</td>\n",
              "      <td>22</td>\n",
              "      <td>5</td>\n",
              "      <td>1</td>\n",
              "      <td>28</td>\n",
              "      <td>364,59</td>\n",
              "      <td>1188.0</td>\n",
              "      <td>352,71</td>\n",
              "    </tr>\n",
              "    <tr>\n",
              "      <th>1</th>\n",
              "      <td>25/03/2020</td>\n",
              "      <td>Cundinamarca</td>\n",
              "      <td>Amazonas</td>\n",
              "      <td>-4,197339</td>\n",
              "      <td>-69,943241</td>\n",
              "      <td>Leticia</td>\n",
              "      <td>12.0</td>\n",
              "      <td>0.0</td>\n",
              "      <td>0.0</td>\n",
              "      <td>0</td>\n",
              "      <td>1</td>\n",
              "      <td>0</td>\n",
              "      <td>0</td>\n",
              "      <td>1</td>\n",
              "      <td>12</td>\n",
              "      <td>12.0</td>\n",
              "      <td>0</td>\n",
              "    </tr>\n",
              "    <tr>\n",
              "      <th>2</th>\n",
              "      <td>25/03/2020</td>\n",
              "      <td>Cundinamarca</td>\n",
              "      <td>Tolima</td>\n",
              "      <td>4,425723</td>\n",
              "      <td>-75,139972</td>\n",
              "      <td>Ibague</td>\n",
              "      <td>0.0</td>\n",
              "      <td>0.0</td>\n",
              "      <td>0.0</td>\n",
              "      <td>0</td>\n",
              "      <td>0</td>\n",
              "      <td>0</td>\n",
              "      <td>0</td>\n",
              "      <td>0</td>\n",
              "      <td>0</td>\n",
              "      <td>0.0</td>\n",
              "      <td>0</td>\n",
              "    </tr>\n",
              "    <tr>\n",
              "      <th>3</th>\n",
              "      <td>25/03/2020</td>\n",
              "      <td>Cundinamarca</td>\n",
              "      <td>Caquetá</td>\n",
              "      <td>1,588831</td>\n",
              "      <td>-75,560881</td>\n",
              "      <td>Florencia</td>\n",
              "      <td>0.0</td>\n",
              "      <td>0.0</td>\n",
              "      <td>0.0</td>\n",
              "      <td>0</td>\n",
              "      <td>0</td>\n",
              "      <td>0</td>\n",
              "      <td>0</td>\n",
              "      <td>0</td>\n",
              "      <td>0</td>\n",
              "      <td>0.0</td>\n",
              "      <td>0</td>\n",
              "    </tr>\n",
              "    <tr>\n",
              "      <th>4</th>\n",
              "      <td>25/03/2020</td>\n",
              "      <td>Cundinamarca</td>\n",
              "      <td>Huila</td>\n",
              "      <td>2,946729</td>\n",
              "      <td>-75,293746</td>\n",
              "      <td>Neiva</td>\n",
              "      <td>13.0</td>\n",
              "      <td>0.0</td>\n",
              "      <td>0.0</td>\n",
              "      <td>0</td>\n",
              "      <td>0</td>\n",
              "      <td>0</td>\n",
              "      <td>0</td>\n",
              "      <td>0</td>\n",
              "      <td>13</td>\n",
              "      <td>13.0</td>\n",
              "      <td>0</td>\n",
              "    </tr>\n",
              "  </tbody>\n",
              "</table>\n",
              "</div>"
            ],
            "text/plain": [
              "        fecha  ... carga_vuelos_internacionales\n",
              "0  25/03/2020  ...                       352,71\n",
              "1  25/03/2020  ...                            0\n",
              "2  25/03/2020  ...                            0\n",
              "3  25/03/2020  ...                            0\n",
              "4  25/03/2020  ...                            0\n",
              "\n",
              "[5 rows x 17 columns]"
            ]
          },
          "metadata": {
            "tags": []
          },
          "execution_count": 32
        }
      ]
    },
    {
      "cell_type": "markdown",
      "metadata": {
        "id": "KseoJOpxcnFP"
      },
      "source": [
        "### El formato CSV"
      ]
    },
    {
      "cell_type": "code",
      "metadata": {
        "id": "o2ji8VAvu9ij"
      },
      "source": [
        "# Lectura de una base de datos en internet y asignación a la variable df.\n",
        "path = \"https://s3-api.us-geo.objectstorage.softlayer.net/cf-courses-data/CognitiveClass/DA0101EN/auto.csv\"\n",
        "df = pd.read_csv(path, header=None)"
      ],
      "execution_count": null,
      "outputs": []
    },
    {
      "cell_type": "markdown",
      "metadata": {
        "id": "HKLB_0Cdvy94"
      },
      "source": [
        "Inspección de la tabla"
      ]
    },
    {
      "cell_type": "code",
      "metadata": {
        "id": "NquKtl9zwDwo",
        "colab": {
          "base_uri": "https://localhost:8080/"
        },
        "outputId": "3d194453-6c45-4c9e-e4df-2a1aad9c339f"
      },
      "source": [
        "df.head()"
      ],
      "execution_count": null,
      "outputs": [
        {
          "output_type": "execute_result",
          "data": {
            "text/html": [
              "<div>\n",
              "<style scoped>\n",
              "    .dataframe tbody tr th:only-of-type {\n",
              "        vertical-align: middle;\n",
              "    }\n",
              "\n",
              "    .dataframe tbody tr th {\n",
              "        vertical-align: top;\n",
              "    }\n",
              "\n",
              "    .dataframe thead th {\n",
              "        text-align: right;\n",
              "    }\n",
              "</style>\n",
              "<table border=\"1\" class=\"dataframe\">\n",
              "  <thead>\n",
              "    <tr style=\"text-align: right;\">\n",
              "      <th></th>\n",
              "      <th>0</th>\n",
              "      <th>1</th>\n",
              "      <th>2</th>\n",
              "      <th>3</th>\n",
              "      <th>4</th>\n",
              "      <th>5</th>\n",
              "      <th>6</th>\n",
              "      <th>7</th>\n",
              "      <th>8</th>\n",
              "      <th>9</th>\n",
              "      <th>10</th>\n",
              "      <th>11</th>\n",
              "      <th>12</th>\n",
              "      <th>13</th>\n",
              "      <th>14</th>\n",
              "      <th>15</th>\n",
              "      <th>16</th>\n",
              "      <th>17</th>\n",
              "      <th>18</th>\n",
              "      <th>19</th>\n",
              "      <th>20</th>\n",
              "      <th>21</th>\n",
              "      <th>22</th>\n",
              "      <th>23</th>\n",
              "      <th>24</th>\n",
              "      <th>25</th>\n",
              "    </tr>\n",
              "  </thead>\n",
              "  <tbody>\n",
              "    <tr>\n",
              "      <th>0</th>\n",
              "      <td>3</td>\n",
              "      <td>?</td>\n",
              "      <td>alfa-romero</td>\n",
              "      <td>gas</td>\n",
              "      <td>std</td>\n",
              "      <td>two</td>\n",
              "      <td>convertible</td>\n",
              "      <td>rwd</td>\n",
              "      <td>front</td>\n",
              "      <td>88.6</td>\n",
              "      <td>168.8</td>\n",
              "      <td>64.1</td>\n",
              "      <td>48.8</td>\n",
              "      <td>2548</td>\n",
              "      <td>dohc</td>\n",
              "      <td>four</td>\n",
              "      <td>130</td>\n",
              "      <td>mpfi</td>\n",
              "      <td>3.47</td>\n",
              "      <td>2.68</td>\n",
              "      <td>9.0</td>\n",
              "      <td>111</td>\n",
              "      <td>5000</td>\n",
              "      <td>21</td>\n",
              "      <td>27</td>\n",
              "      <td>13495</td>\n",
              "    </tr>\n",
              "    <tr>\n",
              "      <th>1</th>\n",
              "      <td>3</td>\n",
              "      <td>?</td>\n",
              "      <td>alfa-romero</td>\n",
              "      <td>gas</td>\n",
              "      <td>std</td>\n",
              "      <td>two</td>\n",
              "      <td>convertible</td>\n",
              "      <td>rwd</td>\n",
              "      <td>front</td>\n",
              "      <td>88.6</td>\n",
              "      <td>168.8</td>\n",
              "      <td>64.1</td>\n",
              "      <td>48.8</td>\n",
              "      <td>2548</td>\n",
              "      <td>dohc</td>\n",
              "      <td>four</td>\n",
              "      <td>130</td>\n",
              "      <td>mpfi</td>\n",
              "      <td>3.47</td>\n",
              "      <td>2.68</td>\n",
              "      <td>9.0</td>\n",
              "      <td>111</td>\n",
              "      <td>5000</td>\n",
              "      <td>21</td>\n",
              "      <td>27</td>\n",
              "      <td>16500</td>\n",
              "    </tr>\n",
              "    <tr>\n",
              "      <th>2</th>\n",
              "      <td>1</td>\n",
              "      <td>?</td>\n",
              "      <td>alfa-romero</td>\n",
              "      <td>gas</td>\n",
              "      <td>std</td>\n",
              "      <td>two</td>\n",
              "      <td>hatchback</td>\n",
              "      <td>rwd</td>\n",
              "      <td>front</td>\n",
              "      <td>94.5</td>\n",
              "      <td>171.2</td>\n",
              "      <td>65.5</td>\n",
              "      <td>52.4</td>\n",
              "      <td>2823</td>\n",
              "      <td>ohcv</td>\n",
              "      <td>six</td>\n",
              "      <td>152</td>\n",
              "      <td>mpfi</td>\n",
              "      <td>2.68</td>\n",
              "      <td>3.47</td>\n",
              "      <td>9.0</td>\n",
              "      <td>154</td>\n",
              "      <td>5000</td>\n",
              "      <td>19</td>\n",
              "      <td>26</td>\n",
              "      <td>16500</td>\n",
              "    </tr>\n",
              "    <tr>\n",
              "      <th>3</th>\n",
              "      <td>2</td>\n",
              "      <td>164</td>\n",
              "      <td>audi</td>\n",
              "      <td>gas</td>\n",
              "      <td>std</td>\n",
              "      <td>four</td>\n",
              "      <td>sedan</td>\n",
              "      <td>fwd</td>\n",
              "      <td>front</td>\n",
              "      <td>99.8</td>\n",
              "      <td>176.6</td>\n",
              "      <td>66.2</td>\n",
              "      <td>54.3</td>\n",
              "      <td>2337</td>\n",
              "      <td>ohc</td>\n",
              "      <td>four</td>\n",
              "      <td>109</td>\n",
              "      <td>mpfi</td>\n",
              "      <td>3.19</td>\n",
              "      <td>3.40</td>\n",
              "      <td>10.0</td>\n",
              "      <td>102</td>\n",
              "      <td>5500</td>\n",
              "      <td>24</td>\n",
              "      <td>30</td>\n",
              "      <td>13950</td>\n",
              "    </tr>\n",
              "    <tr>\n",
              "      <th>4</th>\n",
              "      <td>2</td>\n",
              "      <td>164</td>\n",
              "      <td>audi</td>\n",
              "      <td>gas</td>\n",
              "      <td>std</td>\n",
              "      <td>four</td>\n",
              "      <td>sedan</td>\n",
              "      <td>4wd</td>\n",
              "      <td>front</td>\n",
              "      <td>99.4</td>\n",
              "      <td>176.6</td>\n",
              "      <td>66.4</td>\n",
              "      <td>54.3</td>\n",
              "      <td>2824</td>\n",
              "      <td>ohc</td>\n",
              "      <td>five</td>\n",
              "      <td>136</td>\n",
              "      <td>mpfi</td>\n",
              "      <td>3.19</td>\n",
              "      <td>3.40</td>\n",
              "      <td>8.0</td>\n",
              "      <td>115</td>\n",
              "      <td>5500</td>\n",
              "      <td>18</td>\n",
              "      <td>22</td>\n",
              "      <td>17450</td>\n",
              "    </tr>\n",
              "  </tbody>\n",
              "</table>\n",
              "</div>"
            ],
            "text/plain": [
              "   0    1            2    3    4     5   ...    20   21    22  23  24     25\n",
              "0   3    ?  alfa-romero  gas  std   two  ...   9.0  111  5000  21  27  13495\n",
              "1   3    ?  alfa-romero  gas  std   two  ...   9.0  111  5000  21  27  16500\n",
              "2   1    ?  alfa-romero  gas  std   two  ...   9.0  154  5000  19  26  16500\n",
              "3   2  164         audi  gas  std  four  ...  10.0  102  5500  24  30  13950\n",
              "4   2  164         audi  gas  std  four  ...   8.0  115  5500  18  22  17450\n",
              "\n",
              "[5 rows x 26 columns]"
            ]
          },
          "metadata": {
            "tags": []
          },
          "execution_count": 34
        }
      ]
    },
    {
      "cell_type": "markdown",
      "metadata": {
        "id": "_gW_tx5Wwbf7"
      },
      "source": [
        "Nótese que la cabecera de la tabla no se imprime, esto se debe a que, cuando se importó la tabla, no incluimos la cabecera al indicarlo mediante el argumento `header=None`."
      ]
    },
    {
      "cell_type": "code",
      "metadata": {
        "id": "I6ndQk2bwMq7",
        "colab": {
          "base_uri": "https://localhost:8080/"
        },
        "outputId": "8f14914e-ad7d-4eb0-aa78-404a90a0498d"
      },
      "source": [
        "df.tail()"
      ],
      "execution_count": null,
      "outputs": [
        {
          "output_type": "execute_result",
          "data": {
            "text/html": [
              "<div>\n",
              "<style scoped>\n",
              "    .dataframe tbody tr th:only-of-type {\n",
              "        vertical-align: middle;\n",
              "    }\n",
              "\n",
              "    .dataframe tbody tr th {\n",
              "        vertical-align: top;\n",
              "    }\n",
              "\n",
              "    .dataframe thead th {\n",
              "        text-align: right;\n",
              "    }\n",
              "</style>\n",
              "<table border=\"1\" class=\"dataframe\">\n",
              "  <thead>\n",
              "    <tr style=\"text-align: right;\">\n",
              "      <th></th>\n",
              "      <th>0</th>\n",
              "      <th>1</th>\n",
              "      <th>2</th>\n",
              "      <th>3</th>\n",
              "      <th>4</th>\n",
              "      <th>5</th>\n",
              "      <th>6</th>\n",
              "      <th>7</th>\n",
              "      <th>8</th>\n",
              "      <th>9</th>\n",
              "      <th>10</th>\n",
              "      <th>11</th>\n",
              "      <th>12</th>\n",
              "      <th>13</th>\n",
              "      <th>14</th>\n",
              "      <th>15</th>\n",
              "      <th>16</th>\n",
              "      <th>17</th>\n",
              "      <th>18</th>\n",
              "      <th>19</th>\n",
              "      <th>20</th>\n",
              "      <th>21</th>\n",
              "      <th>22</th>\n",
              "      <th>23</th>\n",
              "      <th>24</th>\n",
              "      <th>25</th>\n",
              "    </tr>\n",
              "  </thead>\n",
              "  <tbody>\n",
              "    <tr>\n",
              "      <th>200</th>\n",
              "      <td>-1</td>\n",
              "      <td>95</td>\n",
              "      <td>volvo</td>\n",
              "      <td>gas</td>\n",
              "      <td>std</td>\n",
              "      <td>four</td>\n",
              "      <td>sedan</td>\n",
              "      <td>rwd</td>\n",
              "      <td>front</td>\n",
              "      <td>109.1</td>\n",
              "      <td>188.8</td>\n",
              "      <td>68.9</td>\n",
              "      <td>55.5</td>\n",
              "      <td>2952</td>\n",
              "      <td>ohc</td>\n",
              "      <td>four</td>\n",
              "      <td>141</td>\n",
              "      <td>mpfi</td>\n",
              "      <td>3.78</td>\n",
              "      <td>3.15</td>\n",
              "      <td>9.5</td>\n",
              "      <td>114</td>\n",
              "      <td>5400</td>\n",
              "      <td>23</td>\n",
              "      <td>28</td>\n",
              "      <td>16845</td>\n",
              "    </tr>\n",
              "    <tr>\n",
              "      <th>201</th>\n",
              "      <td>-1</td>\n",
              "      <td>95</td>\n",
              "      <td>volvo</td>\n",
              "      <td>gas</td>\n",
              "      <td>turbo</td>\n",
              "      <td>four</td>\n",
              "      <td>sedan</td>\n",
              "      <td>rwd</td>\n",
              "      <td>front</td>\n",
              "      <td>109.1</td>\n",
              "      <td>188.8</td>\n",
              "      <td>68.8</td>\n",
              "      <td>55.5</td>\n",
              "      <td>3049</td>\n",
              "      <td>ohc</td>\n",
              "      <td>four</td>\n",
              "      <td>141</td>\n",
              "      <td>mpfi</td>\n",
              "      <td>3.78</td>\n",
              "      <td>3.15</td>\n",
              "      <td>8.7</td>\n",
              "      <td>160</td>\n",
              "      <td>5300</td>\n",
              "      <td>19</td>\n",
              "      <td>25</td>\n",
              "      <td>19045</td>\n",
              "    </tr>\n",
              "    <tr>\n",
              "      <th>202</th>\n",
              "      <td>-1</td>\n",
              "      <td>95</td>\n",
              "      <td>volvo</td>\n",
              "      <td>gas</td>\n",
              "      <td>std</td>\n",
              "      <td>four</td>\n",
              "      <td>sedan</td>\n",
              "      <td>rwd</td>\n",
              "      <td>front</td>\n",
              "      <td>109.1</td>\n",
              "      <td>188.8</td>\n",
              "      <td>68.9</td>\n",
              "      <td>55.5</td>\n",
              "      <td>3012</td>\n",
              "      <td>ohcv</td>\n",
              "      <td>six</td>\n",
              "      <td>173</td>\n",
              "      <td>mpfi</td>\n",
              "      <td>3.58</td>\n",
              "      <td>2.87</td>\n",
              "      <td>8.8</td>\n",
              "      <td>134</td>\n",
              "      <td>5500</td>\n",
              "      <td>18</td>\n",
              "      <td>23</td>\n",
              "      <td>21485</td>\n",
              "    </tr>\n",
              "    <tr>\n",
              "      <th>203</th>\n",
              "      <td>-1</td>\n",
              "      <td>95</td>\n",
              "      <td>volvo</td>\n",
              "      <td>diesel</td>\n",
              "      <td>turbo</td>\n",
              "      <td>four</td>\n",
              "      <td>sedan</td>\n",
              "      <td>rwd</td>\n",
              "      <td>front</td>\n",
              "      <td>109.1</td>\n",
              "      <td>188.8</td>\n",
              "      <td>68.9</td>\n",
              "      <td>55.5</td>\n",
              "      <td>3217</td>\n",
              "      <td>ohc</td>\n",
              "      <td>six</td>\n",
              "      <td>145</td>\n",
              "      <td>idi</td>\n",
              "      <td>3.01</td>\n",
              "      <td>3.40</td>\n",
              "      <td>23.0</td>\n",
              "      <td>106</td>\n",
              "      <td>4800</td>\n",
              "      <td>26</td>\n",
              "      <td>27</td>\n",
              "      <td>22470</td>\n",
              "    </tr>\n",
              "    <tr>\n",
              "      <th>204</th>\n",
              "      <td>-1</td>\n",
              "      <td>95</td>\n",
              "      <td>volvo</td>\n",
              "      <td>gas</td>\n",
              "      <td>turbo</td>\n",
              "      <td>four</td>\n",
              "      <td>sedan</td>\n",
              "      <td>rwd</td>\n",
              "      <td>front</td>\n",
              "      <td>109.1</td>\n",
              "      <td>188.8</td>\n",
              "      <td>68.9</td>\n",
              "      <td>55.5</td>\n",
              "      <td>3062</td>\n",
              "      <td>ohc</td>\n",
              "      <td>four</td>\n",
              "      <td>141</td>\n",
              "      <td>mpfi</td>\n",
              "      <td>3.78</td>\n",
              "      <td>3.15</td>\n",
              "      <td>9.5</td>\n",
              "      <td>114</td>\n",
              "      <td>5400</td>\n",
              "      <td>19</td>\n",
              "      <td>25</td>\n",
              "      <td>22625</td>\n",
              "    </tr>\n",
              "  </tbody>\n",
              "</table>\n",
              "</div>"
            ],
            "text/plain": [
              "     0   1      2       3      4     5   ...    20   21    22  23  24     25\n",
              "200  -1  95  volvo     gas    std  four  ...   9.5  114  5400  23  28  16845\n",
              "201  -1  95  volvo     gas  turbo  four  ...   8.7  160  5300  19  25  19045\n",
              "202  -1  95  volvo     gas    std  four  ...   8.8  134  5500  18  23  21485\n",
              "203  -1  95  volvo  diesel  turbo  four  ...  23.0  106  4800  26  27  22470\n",
              "204  -1  95  volvo     gas  turbo  four  ...   9.5  114  5400  19  25  22625\n",
              "\n",
              "[5 rows x 26 columns]"
            ]
          },
          "metadata": {
            "tags": []
          },
          "execution_count": 35
        }
      ]
    },
    {
      "cell_type": "markdown",
      "metadata": {
        "id": "uRHx-OTDBWp7"
      },
      "source": [
        "Agreguemos un header a los datos cargados:"
      ]
    },
    {
      "cell_type": "code",
      "metadata": {
        "id": "ggmzAZlmBbnX",
        "colab": {
          "base_uri": "https://localhost:8080/"
        },
        "outputId": "9414694c-defd-4802-f84b-1e8d7042ac8a"
      },
      "source": [
        "# Creación de un header\n",
        "headers = [\"symboling\",\"normalized-losses\",\"make\",\"fuel-type\",\"aspiration\", \"num-of-doors\",\"body-style\",\n",
        "         \"drive-wheels\",\"engine-location\",\"wheel-base\", \"length\",\"width\",\"height\",\"curb-weight\",\"engine-type\",\n",
        "         \"num-of-cylinders\", \"engine-size\",\"fuel-system\",\"bore\",\"stroke\",\"compression-ratio\",\"horsepower\",\n",
        "         \"peak-rpm\",\"city-mpg\",\"highway-mpg\",\"price\"]\n",
        "print(\"headers\\n\", headers)"
      ],
      "execution_count": null,
      "outputs": [
        {
          "output_type": "stream",
          "text": [
            "headers\n",
            " ['symboling', 'normalized-losses', 'make', 'fuel-type', 'aspiration', 'num-of-doors', 'body-style', 'drive-wheels', 'engine-location', 'wheel-base', 'length', 'width', 'height', 'curb-weight', 'engine-type', 'num-of-cylinders', 'engine-size', 'fuel-system', 'bore', 'stroke', 'compression-ratio', 'horsepower', 'peak-rpm', 'city-mpg', 'highway-mpg', 'price']\n"
          ],
          "name": "stdout"
        }
      ]
    },
    {
      "cell_type": "code",
      "metadata": {
        "id": "GMuydezuyPuC",
        "colab": {
          "base_uri": "https://localhost:8080/"
        },
        "outputId": "b68c0184-41a1-42ca-ee3e-ea914755d37c"
      },
      "source": [
        "df.columns"
      ],
      "execution_count": null,
      "outputs": [
        {
          "output_type": "execute_result",
          "data": {
            "text/plain": [
              "Int64Index([ 0,  1,  2,  3,  4,  5,  6,  7,  8,  9, 10, 11, 12, 13, 14, 15, 16,\n",
              "            17, 18, 19, 20, 21, 22, 23, 24, 25],\n",
              "           dtype='int64')"
            ]
          },
          "metadata": {
            "tags": []
          },
          "execution_count": 37
        }
      ]
    },
    {
      "cell_type": "markdown",
      "metadata": {
        "id": "72gjs6qUBgoy"
      },
      "source": [
        "Remplazo del header en el dataFrame"
      ]
    },
    {
      "cell_type": "code",
      "metadata": {
        "id": "3ySUhc6qBme1",
        "colab": {
          "base_uri": "https://localhost:8080/"
        },
        "outputId": "ffbc081f-7cc3-4a12-d018-4126ef9103db"
      },
      "source": [
        "df.columns = headers\n",
        "df.head(10)"
      ],
      "execution_count": null,
      "outputs": [
        {
          "output_type": "execute_result",
          "data": {
            "text/html": [
              "<div>\n",
              "<style scoped>\n",
              "    .dataframe tbody tr th:only-of-type {\n",
              "        vertical-align: middle;\n",
              "    }\n",
              "\n",
              "    .dataframe tbody tr th {\n",
              "        vertical-align: top;\n",
              "    }\n",
              "\n",
              "    .dataframe thead th {\n",
              "        text-align: right;\n",
              "    }\n",
              "</style>\n",
              "<table border=\"1\" class=\"dataframe\">\n",
              "  <thead>\n",
              "    <tr style=\"text-align: right;\">\n",
              "      <th></th>\n",
              "      <th>symboling</th>\n",
              "      <th>normalized-losses</th>\n",
              "      <th>make</th>\n",
              "      <th>fuel-type</th>\n",
              "      <th>aspiration</th>\n",
              "      <th>num-of-doors</th>\n",
              "      <th>body-style</th>\n",
              "      <th>drive-wheels</th>\n",
              "      <th>engine-location</th>\n",
              "      <th>wheel-base</th>\n",
              "      <th>length</th>\n",
              "      <th>width</th>\n",
              "      <th>height</th>\n",
              "      <th>curb-weight</th>\n",
              "      <th>engine-type</th>\n",
              "      <th>num-of-cylinders</th>\n",
              "      <th>engine-size</th>\n",
              "      <th>fuel-system</th>\n",
              "      <th>bore</th>\n",
              "      <th>stroke</th>\n",
              "      <th>compression-ratio</th>\n",
              "      <th>horsepower</th>\n",
              "      <th>peak-rpm</th>\n",
              "      <th>city-mpg</th>\n",
              "      <th>highway-mpg</th>\n",
              "      <th>price</th>\n",
              "    </tr>\n",
              "  </thead>\n",
              "  <tbody>\n",
              "    <tr>\n",
              "      <th>0</th>\n",
              "      <td>3</td>\n",
              "      <td>?</td>\n",
              "      <td>alfa-romero</td>\n",
              "      <td>gas</td>\n",
              "      <td>std</td>\n",
              "      <td>two</td>\n",
              "      <td>convertible</td>\n",
              "      <td>rwd</td>\n",
              "      <td>front</td>\n",
              "      <td>88.6</td>\n",
              "      <td>168.8</td>\n",
              "      <td>64.1</td>\n",
              "      <td>48.8</td>\n",
              "      <td>2548</td>\n",
              "      <td>dohc</td>\n",
              "      <td>four</td>\n",
              "      <td>130</td>\n",
              "      <td>mpfi</td>\n",
              "      <td>3.47</td>\n",
              "      <td>2.68</td>\n",
              "      <td>9.0</td>\n",
              "      <td>111</td>\n",
              "      <td>5000</td>\n",
              "      <td>21</td>\n",
              "      <td>27</td>\n",
              "      <td>13495</td>\n",
              "    </tr>\n",
              "    <tr>\n",
              "      <th>1</th>\n",
              "      <td>3</td>\n",
              "      <td>?</td>\n",
              "      <td>alfa-romero</td>\n",
              "      <td>gas</td>\n",
              "      <td>std</td>\n",
              "      <td>two</td>\n",
              "      <td>convertible</td>\n",
              "      <td>rwd</td>\n",
              "      <td>front</td>\n",
              "      <td>88.6</td>\n",
              "      <td>168.8</td>\n",
              "      <td>64.1</td>\n",
              "      <td>48.8</td>\n",
              "      <td>2548</td>\n",
              "      <td>dohc</td>\n",
              "      <td>four</td>\n",
              "      <td>130</td>\n",
              "      <td>mpfi</td>\n",
              "      <td>3.47</td>\n",
              "      <td>2.68</td>\n",
              "      <td>9.0</td>\n",
              "      <td>111</td>\n",
              "      <td>5000</td>\n",
              "      <td>21</td>\n",
              "      <td>27</td>\n",
              "      <td>16500</td>\n",
              "    </tr>\n",
              "    <tr>\n",
              "      <th>2</th>\n",
              "      <td>1</td>\n",
              "      <td>?</td>\n",
              "      <td>alfa-romero</td>\n",
              "      <td>gas</td>\n",
              "      <td>std</td>\n",
              "      <td>two</td>\n",
              "      <td>hatchback</td>\n",
              "      <td>rwd</td>\n",
              "      <td>front</td>\n",
              "      <td>94.5</td>\n",
              "      <td>171.2</td>\n",
              "      <td>65.5</td>\n",
              "      <td>52.4</td>\n",
              "      <td>2823</td>\n",
              "      <td>ohcv</td>\n",
              "      <td>six</td>\n",
              "      <td>152</td>\n",
              "      <td>mpfi</td>\n",
              "      <td>2.68</td>\n",
              "      <td>3.47</td>\n",
              "      <td>9.0</td>\n",
              "      <td>154</td>\n",
              "      <td>5000</td>\n",
              "      <td>19</td>\n",
              "      <td>26</td>\n",
              "      <td>16500</td>\n",
              "    </tr>\n",
              "    <tr>\n",
              "      <th>3</th>\n",
              "      <td>2</td>\n",
              "      <td>164</td>\n",
              "      <td>audi</td>\n",
              "      <td>gas</td>\n",
              "      <td>std</td>\n",
              "      <td>four</td>\n",
              "      <td>sedan</td>\n",
              "      <td>fwd</td>\n",
              "      <td>front</td>\n",
              "      <td>99.8</td>\n",
              "      <td>176.6</td>\n",
              "      <td>66.2</td>\n",
              "      <td>54.3</td>\n",
              "      <td>2337</td>\n",
              "      <td>ohc</td>\n",
              "      <td>four</td>\n",
              "      <td>109</td>\n",
              "      <td>mpfi</td>\n",
              "      <td>3.19</td>\n",
              "      <td>3.40</td>\n",
              "      <td>10.0</td>\n",
              "      <td>102</td>\n",
              "      <td>5500</td>\n",
              "      <td>24</td>\n",
              "      <td>30</td>\n",
              "      <td>13950</td>\n",
              "    </tr>\n",
              "    <tr>\n",
              "      <th>4</th>\n",
              "      <td>2</td>\n",
              "      <td>164</td>\n",
              "      <td>audi</td>\n",
              "      <td>gas</td>\n",
              "      <td>std</td>\n",
              "      <td>four</td>\n",
              "      <td>sedan</td>\n",
              "      <td>4wd</td>\n",
              "      <td>front</td>\n",
              "      <td>99.4</td>\n",
              "      <td>176.6</td>\n",
              "      <td>66.4</td>\n",
              "      <td>54.3</td>\n",
              "      <td>2824</td>\n",
              "      <td>ohc</td>\n",
              "      <td>five</td>\n",
              "      <td>136</td>\n",
              "      <td>mpfi</td>\n",
              "      <td>3.19</td>\n",
              "      <td>3.40</td>\n",
              "      <td>8.0</td>\n",
              "      <td>115</td>\n",
              "      <td>5500</td>\n",
              "      <td>18</td>\n",
              "      <td>22</td>\n",
              "      <td>17450</td>\n",
              "    </tr>\n",
              "    <tr>\n",
              "      <th>5</th>\n",
              "      <td>2</td>\n",
              "      <td>?</td>\n",
              "      <td>audi</td>\n",
              "      <td>gas</td>\n",
              "      <td>std</td>\n",
              "      <td>two</td>\n",
              "      <td>sedan</td>\n",
              "      <td>fwd</td>\n",
              "      <td>front</td>\n",
              "      <td>99.8</td>\n",
              "      <td>177.3</td>\n",
              "      <td>66.3</td>\n",
              "      <td>53.1</td>\n",
              "      <td>2507</td>\n",
              "      <td>ohc</td>\n",
              "      <td>five</td>\n",
              "      <td>136</td>\n",
              "      <td>mpfi</td>\n",
              "      <td>3.19</td>\n",
              "      <td>3.40</td>\n",
              "      <td>8.5</td>\n",
              "      <td>110</td>\n",
              "      <td>5500</td>\n",
              "      <td>19</td>\n",
              "      <td>25</td>\n",
              "      <td>15250</td>\n",
              "    </tr>\n",
              "    <tr>\n",
              "      <th>6</th>\n",
              "      <td>1</td>\n",
              "      <td>158</td>\n",
              "      <td>audi</td>\n",
              "      <td>gas</td>\n",
              "      <td>std</td>\n",
              "      <td>four</td>\n",
              "      <td>sedan</td>\n",
              "      <td>fwd</td>\n",
              "      <td>front</td>\n",
              "      <td>105.8</td>\n",
              "      <td>192.7</td>\n",
              "      <td>71.4</td>\n",
              "      <td>55.7</td>\n",
              "      <td>2844</td>\n",
              "      <td>ohc</td>\n",
              "      <td>five</td>\n",
              "      <td>136</td>\n",
              "      <td>mpfi</td>\n",
              "      <td>3.19</td>\n",
              "      <td>3.40</td>\n",
              "      <td>8.5</td>\n",
              "      <td>110</td>\n",
              "      <td>5500</td>\n",
              "      <td>19</td>\n",
              "      <td>25</td>\n",
              "      <td>17710</td>\n",
              "    </tr>\n",
              "    <tr>\n",
              "      <th>7</th>\n",
              "      <td>1</td>\n",
              "      <td>?</td>\n",
              "      <td>audi</td>\n",
              "      <td>gas</td>\n",
              "      <td>std</td>\n",
              "      <td>four</td>\n",
              "      <td>wagon</td>\n",
              "      <td>fwd</td>\n",
              "      <td>front</td>\n",
              "      <td>105.8</td>\n",
              "      <td>192.7</td>\n",
              "      <td>71.4</td>\n",
              "      <td>55.7</td>\n",
              "      <td>2954</td>\n",
              "      <td>ohc</td>\n",
              "      <td>five</td>\n",
              "      <td>136</td>\n",
              "      <td>mpfi</td>\n",
              "      <td>3.19</td>\n",
              "      <td>3.40</td>\n",
              "      <td>8.5</td>\n",
              "      <td>110</td>\n",
              "      <td>5500</td>\n",
              "      <td>19</td>\n",
              "      <td>25</td>\n",
              "      <td>18920</td>\n",
              "    </tr>\n",
              "    <tr>\n",
              "      <th>8</th>\n",
              "      <td>1</td>\n",
              "      <td>158</td>\n",
              "      <td>audi</td>\n",
              "      <td>gas</td>\n",
              "      <td>turbo</td>\n",
              "      <td>four</td>\n",
              "      <td>sedan</td>\n",
              "      <td>fwd</td>\n",
              "      <td>front</td>\n",
              "      <td>105.8</td>\n",
              "      <td>192.7</td>\n",
              "      <td>71.4</td>\n",
              "      <td>55.9</td>\n",
              "      <td>3086</td>\n",
              "      <td>ohc</td>\n",
              "      <td>five</td>\n",
              "      <td>131</td>\n",
              "      <td>mpfi</td>\n",
              "      <td>3.13</td>\n",
              "      <td>3.40</td>\n",
              "      <td>8.3</td>\n",
              "      <td>140</td>\n",
              "      <td>5500</td>\n",
              "      <td>17</td>\n",
              "      <td>20</td>\n",
              "      <td>23875</td>\n",
              "    </tr>\n",
              "    <tr>\n",
              "      <th>9</th>\n",
              "      <td>0</td>\n",
              "      <td>?</td>\n",
              "      <td>audi</td>\n",
              "      <td>gas</td>\n",
              "      <td>turbo</td>\n",
              "      <td>two</td>\n",
              "      <td>hatchback</td>\n",
              "      <td>4wd</td>\n",
              "      <td>front</td>\n",
              "      <td>99.5</td>\n",
              "      <td>178.2</td>\n",
              "      <td>67.9</td>\n",
              "      <td>52.0</td>\n",
              "      <td>3053</td>\n",
              "      <td>ohc</td>\n",
              "      <td>five</td>\n",
              "      <td>131</td>\n",
              "      <td>mpfi</td>\n",
              "      <td>3.13</td>\n",
              "      <td>3.40</td>\n",
              "      <td>7.0</td>\n",
              "      <td>160</td>\n",
              "      <td>5500</td>\n",
              "      <td>16</td>\n",
              "      <td>22</td>\n",
              "      <td>?</td>\n",
              "    </tr>\n",
              "  </tbody>\n",
              "</table>\n",
              "</div>"
            ],
            "text/plain": [
              "   symboling normalized-losses         make  ... city-mpg highway-mpg  price\n",
              "0          3                 ?  alfa-romero  ...       21          27  13495\n",
              "1          3                 ?  alfa-romero  ...       21          27  16500\n",
              "2          1                 ?  alfa-romero  ...       19          26  16500\n",
              "3          2               164         audi  ...       24          30  13950\n",
              "4          2               164         audi  ...       18          22  17450\n",
              "5          2                 ?         audi  ...       19          25  15250\n",
              "6          1               158         audi  ...       19          25  17710\n",
              "7          1                 ?         audi  ...       19          25  18920\n",
              "8          1               158         audi  ...       17          20  23875\n",
              "9          0                 ?         audi  ...       16          22      ?\n",
              "\n",
              "[10 rows x 26 columns]"
            ]
          },
          "metadata": {
            "tags": []
          },
          "execution_count": 38
        }
      ]
    },
    {
      "cell_type": "markdown",
      "metadata": {
        "id": "bcholMKi38Qz"
      },
      "source": [
        "# **Manipulación de datos**"
      ]
    },
    {
      "cell_type": "code",
      "metadata": {
        "id": "cjdALyDr5fQu"
      },
      "source": [
        "df=pd.read_csv(\"https://raw.githubusercontent.com/diplomado-bigdata-machinelearning-udea/Curso1/master/s03/dataVentas2009.csv\") "
      ],
      "execution_count": null,
      "outputs": []
    },
    {
      "cell_type": "code",
      "metadata": {
        "id": "CFy5EutLf_7U",
        "colab": {
          "base_uri": "https://localhost:8080/"
        },
        "outputId": "81589209-0dba-4af4-b9e2-8d7d0d06f1ae"
      },
      "source": [
        "df.head()"
      ],
      "execution_count": null,
      "outputs": [
        {
          "output_type": "execute_result",
          "data": {
            "text/html": [
              "<div>\n",
              "<style scoped>\n",
              "    .dataframe tbody tr th:only-of-type {\n",
              "        vertical-align: middle;\n",
              "    }\n",
              "\n",
              "    .dataframe tbody tr th {\n",
              "        vertical-align: top;\n",
              "    }\n",
              "\n",
              "    .dataframe thead th {\n",
              "        text-align: right;\n",
              "    }\n",
              "</style>\n",
              "<table border=\"1\" class=\"dataframe\">\n",
              "  <thead>\n",
              "    <tr style=\"text-align: right;\">\n",
              "      <th></th>\n",
              "      <th>Fecha</th>\n",
              "      <th>Producto1</th>\n",
              "      <th>Producto2</th>\n",
              "      <th>Producto3</th>\n",
              "      <th>Producto4</th>\n",
              "    </tr>\n",
              "  </thead>\n",
              "  <tbody>\n",
              "    <tr>\n",
              "      <th>0</th>\n",
              "      <td>01/01/2009</td>\n",
              "      <td>29</td>\n",
              "      <td>20</td>\n",
              "      <td>35</td>\n",
              "      <td>NaN</td>\n",
              "    </tr>\n",
              "    <tr>\n",
              "      <th>1</th>\n",
              "      <td>02/01/2009</td>\n",
              "      <td>19</td>\n",
              "      <td>3</td>\n",
              "      <td>22</td>\n",
              "      <td>NaN</td>\n",
              "    </tr>\n",
              "    <tr>\n",
              "      <th>2</th>\n",
              "      <td>03/01/2009</td>\n",
              "      <td>24</td>\n",
              "      <td>12</td>\n",
              "      <td>22</td>\n",
              "      <td>NaN</td>\n",
              "    </tr>\n",
              "    <tr>\n",
              "      <th>3</th>\n",
              "      <td>04/01/2009</td>\n",
              "      <td>24</td>\n",
              "      <td>8</td>\n",
              "      <td>15</td>\n",
              "      <td>NaN</td>\n",
              "    </tr>\n",
              "    <tr>\n",
              "      <th>4</th>\n",
              "      <td>05/01/2009</td>\n",
              "      <td>120</td>\n",
              "      <td>111</td>\n",
              "      <td>141</td>\n",
              "      <td>NaN</td>\n",
              "    </tr>\n",
              "  </tbody>\n",
              "</table>\n",
              "</div>"
            ],
            "text/plain": [
              "        Fecha  Producto1  Producto2  Producto3  Producto4\n",
              "0  01/01/2009         29         20         35        NaN\n",
              "1  02/01/2009         19          3         22        NaN\n",
              "2  03/01/2009         24         12         22        NaN\n",
              "3  04/01/2009         24          8         15        NaN\n",
              "4  05/01/2009        120        111        141        NaN"
            ]
          },
          "metadata": {
            "tags": []
          },
          "execution_count": 40
        }
      ]
    },
    {
      "cell_type": "code",
      "metadata": {
        "id": "8RKPq77HkBJs",
        "colab": {
          "base_uri": "https://localhost:8080/"
        },
        "outputId": "9e19c587-3937-41c6-ec6f-d24df8f0e5fb"
      },
      "source": [
        "df.columns"
      ],
      "execution_count": null,
      "outputs": [
        {
          "output_type": "execute_result",
          "data": {
            "text/plain": [
              "Index(['Fecha', 'Producto1', 'Producto2', 'Producto3', 'Producto4'], dtype='object')"
            ]
          },
          "metadata": {
            "tags": []
          },
          "execution_count": 41
        }
      ]
    },
    {
      "cell_type": "code",
      "metadata": {
        "id": "-taPUR91kBVJ",
        "colab": {
          "base_uri": "https://localhost:8080/"
        },
        "outputId": "cc51d7a8-3eb0-45d7-a74c-56a02e7c8bb2"
      },
      "source": [
        "df.shape"
      ],
      "execution_count": null,
      "outputs": [
        {
          "output_type": "execute_result",
          "data": {
            "text/plain": [
              "(365, 5)"
            ]
          },
          "metadata": {
            "tags": []
          },
          "execution_count": 42
        }
      ]
    },
    {
      "cell_type": "code",
      "metadata": {
        "id": "8GIGCskg7qM2",
        "colab": {
          "base_uri": "https://localhost:8080/"
        },
        "outputId": "97081b7d-3811-4e00-df5d-fcaf9c06b392"
      },
      "source": [
        "df.dtypes"
      ],
      "execution_count": null,
      "outputs": [
        {
          "output_type": "execute_result",
          "data": {
            "text/plain": [
              "Fecha         object\n",
              "Producto1      int64\n",
              "Producto2      int64\n",
              "Producto3      int64\n",
              "Producto4    float64\n",
              "dtype: object"
            ]
          },
          "metadata": {
            "tags": []
          },
          "execution_count": 43
        }
      ]
    },
    {
      "cell_type": "code",
      "metadata": {
        "id": "M1J0ucuGkBXy",
        "colab": {
          "base_uri": "https://localhost:8080/"
        },
        "outputId": "0637c776-6269-4349-886c-1ffca9485634"
      },
      "source": [
        "df.describe()"
      ],
      "execution_count": null,
      "outputs": [
        {
          "output_type": "execute_result",
          "data": {
            "text/html": [
              "<div>\n",
              "<style scoped>\n",
              "    .dataframe tbody tr th:only-of-type {\n",
              "        vertical-align: middle;\n",
              "    }\n",
              "\n",
              "    .dataframe tbody tr th {\n",
              "        vertical-align: top;\n",
              "    }\n",
              "\n",
              "    .dataframe thead th {\n",
              "        text-align: right;\n",
              "    }\n",
              "</style>\n",
              "<table border=\"1\" class=\"dataframe\">\n",
              "  <thead>\n",
              "    <tr style=\"text-align: right;\">\n",
              "      <th></th>\n",
              "      <th>Producto1</th>\n",
              "      <th>Producto2</th>\n",
              "      <th>Producto3</th>\n",
              "      <th>Producto4</th>\n",
              "    </tr>\n",
              "  </thead>\n",
              "  <tbody>\n",
              "    <tr>\n",
              "      <th>count</th>\n",
              "      <td>365.000000</td>\n",
              "      <td>365.000000</td>\n",
              "      <td>365.000000</td>\n",
              "      <td>178.000000</td>\n",
              "    </tr>\n",
              "    <tr>\n",
              "      <th>mean</th>\n",
              "      <td>2032.200000</td>\n",
              "      <td>1060.252055</td>\n",
              "      <td>2093.169863</td>\n",
              "      <td>2576.359551</td>\n",
              "    </tr>\n",
              "    <tr>\n",
              "      <th>std</th>\n",
              "      <td>1878.879799</td>\n",
              "      <td>1079.533086</td>\n",
              "      <td>1854.368523</td>\n",
              "      <td>2484.004743</td>\n",
              "    </tr>\n",
              "    <tr>\n",
              "      <th>min</th>\n",
              "      <td>0.000000</td>\n",
              "      <td>0.000000</td>\n",
              "      <td>0.000000</td>\n",
              "      <td>0.000000</td>\n",
              "    </tr>\n",
              "    <tr>\n",
              "      <th>25%</th>\n",
              "      <td>194.000000</td>\n",
              "      <td>90.000000</td>\n",
              "      <td>228.000000</td>\n",
              "      <td>0.000000</td>\n",
              "    </tr>\n",
              "    <tr>\n",
              "      <th>50%</th>\n",
              "      <td>1726.000000</td>\n",
              "      <td>678.000000</td>\n",
              "      <td>1686.000000</td>\n",
              "      <td>1443.500000</td>\n",
              "    </tr>\n",
              "    <tr>\n",
              "      <th>75%</th>\n",
              "      <td>3540.000000</td>\n",
              "      <td>1882.000000</td>\n",
              "      <td>3520.000000</td>\n",
              "      <td>4638.000000</td>\n",
              "    </tr>\n",
              "    <tr>\n",
              "      <th>max</th>\n",
              "      <td>6626.000000</td>\n",
              "      <td>4242.000000</td>\n",
              "      <td>6587.000000</td>\n",
              "      <td>7575.000000</td>\n",
              "    </tr>\n",
              "  </tbody>\n",
              "</table>\n",
              "</div>"
            ],
            "text/plain": [
              "         Producto1    Producto2    Producto3    Producto4\n",
              "count   365.000000   365.000000   365.000000   178.000000\n",
              "mean   2032.200000  1060.252055  2093.169863  2576.359551\n",
              "std    1878.879799  1079.533086  1854.368523  2484.004743\n",
              "min       0.000000     0.000000     0.000000     0.000000\n",
              "25%     194.000000    90.000000   228.000000     0.000000\n",
              "50%    1726.000000   678.000000  1686.000000  1443.500000\n",
              "75%    3540.000000  1882.000000  3520.000000  4638.000000\n",
              "max    6626.000000  4242.000000  6587.000000  7575.000000"
            ]
          },
          "metadata": {
            "tags": []
          },
          "execution_count": 44
        }
      ]
    },
    {
      "cell_type": "code",
      "metadata": {
        "id": "kxaA4JfT76mH",
        "colab": {
          "base_uri": "https://localhost:8080/"
        },
        "outputId": "1e736fa0-daa7-4014-f96c-9c069aa02e1f"
      },
      "source": [
        "df.Fecha.describe()"
      ],
      "execution_count": null,
      "outputs": [
        {
          "output_type": "execute_result",
          "data": {
            "text/plain": [
              "count            365\n",
              "unique           365\n",
              "top       23/01/2009\n",
              "freq               1\n",
              "Name: Fecha, dtype: object"
            ]
          },
          "metadata": {
            "tags": []
          },
          "execution_count": 45
        }
      ]
    },
    {
      "cell_type": "code",
      "metadata": {
        "id": "brvIm-PYySHc",
        "colab": {
          "base_uri": "https://localhost:8080/"
        },
        "outputId": "3a934a09-a61b-44fc-ffde-1c0c3f0e820e"
      },
      "source": [
        "df[\"Producto4\"].unique()"
      ],
      "execution_count": null,
      "outputs": [
        {
          "output_type": "execute_result",
          "data": {
            "text/plain": [
              "array([  nan, 2156., 4548., 7575., 7268., 2320., 5081., 4236., 3755.,\n",
              "       6939., 4278., 5999., 3586., 4132., 7064., 6996., 4331., 6134.,\n",
              "       4639., 4635., 2144., 5041., 7219., 7208., 5237., 5869., 1753.,\n",
              "       7194., 5384., 7121., 5259., 5103., 5514., 3524., 4187., 4359.,\n",
              "       7127., 6971., 6178., 5078., 4416., 5683., 5647., 6901., 4902.,\n",
              "       3752., 4822., 4015., 5534., 7044., 6242., 6239., 5661., 1445.,\n",
              "       3064., 5941., 7052., 6864., 5837., 4185., 4036., 4375., 6763.,\n",
              "       6686., 6520., 6044., 5205., 3959., 4263., 4379., 4256., 3985.,\n",
              "       2169., 2550., 2605., 3599., 1923., 2044., 3183., 2709., 2547.,\n",
              "        656., 1415., 1342., 1799., 1588., 1906.,  705., 1116., 1773.,\n",
              "       2211.,  984., 1967.,  663., 1003.,  825.,  924.,  870., 1373.,\n",
              "       1311., 1238.,  919., 1006., 1483., 1374., 1442.,  633.,  952.,\n",
              "        286.,  833., 1191., 1114., 1075., 1230.,  958.,  309.,  859.,\n",
              "       1208.,  798., 1046.,  906.,  864.,  552., 1063., 1341., 1300.,\n",
              "       1175., 1108., 1005.,  321.,  404.,    0.])"
            ]
          },
          "metadata": {
            "tags": []
          },
          "execution_count": 46
        }
      ]
    },
    {
      "cell_type": "code",
      "metadata": {
        "id": "15A4kPyQDJq5",
        "colab": {
          "base_uri": "https://localhost:8080/"
        },
        "outputId": "c6100b2a-5d13-472a-9555-8b985505cc4c"
      },
      "source": [
        "df.mean()"
      ],
      "execution_count": null,
      "outputs": [
        {
          "output_type": "execute_result",
          "data": {
            "text/plain": [
              "Producto1    2032.200000\n",
              "Producto2    1060.252055\n",
              "Producto3    2093.169863\n",
              "Producto4    2576.359551\n",
              "dtype: float64"
            ]
          },
          "metadata": {
            "tags": []
          },
          "execution_count": 47
        }
      ]
    },
    {
      "cell_type": "code",
      "metadata": {
        "id": "ZXoXrt0xDSU7",
        "colab": {
          "base_uri": "https://localhost:8080/"
        },
        "outputId": "6e922b96-9c2b-4156-acb6-e8a0e79068ea"
      },
      "source": [
        "df.std()"
      ],
      "execution_count": null,
      "outputs": [
        {
          "output_type": "execute_result",
          "data": {
            "text/plain": [
              "Producto1    1878.879799\n",
              "Producto2    1079.533086\n",
              "Producto3    1854.368523\n",
              "Producto4    2484.004743\n",
              "dtype: float64"
            ]
          },
          "metadata": {
            "tags": []
          },
          "execution_count": 48
        }
      ]
    },
    {
      "cell_type": "code",
      "metadata": {
        "id": "DA0qwpeb8cpi",
        "colab": {
          "base_uri": "https://localhost:8080/"
        },
        "outputId": "70034b80-2f66-4ee9-9f1c-a3ce4e83f05c"
      },
      "source": [
        "df.sum()"
      ],
      "execution_count": null,
      "outputs": [
        {
          "output_type": "execute_result",
          "data": {
            "text/plain": [
              "Fecha        01/01/200902/01/200903/01/200904/01/200905/01/...\n",
              "Producto1                                               741753\n",
              "Producto2                                               386992\n",
              "Producto3                                               764007\n",
              "Producto4                                               458592\n",
              "dtype: object"
            ]
          },
          "metadata": {
            "tags": []
          },
          "execution_count": 49
        }
      ]
    },
    {
      "cell_type": "code",
      "metadata": {
        "id": "2-IAO3Ir8iEX",
        "colab": {
          "base_uri": "https://localhost:8080/"
        },
        "outputId": "d510735b-c73a-4173-d86d-9f9b24858424"
      },
      "source": [
        "df.min()"
      ],
      "execution_count": null,
      "outputs": [
        {
          "output_type": "execute_result",
          "data": {
            "text/plain": [
              "Fecha        01/01/2009\n",
              "Producto1             0\n",
              "Producto2             0\n",
              "Producto3             0\n",
              "Producto4             0\n",
              "dtype: object"
            ]
          },
          "metadata": {
            "tags": []
          },
          "execution_count": 50
        }
      ]
    },
    {
      "cell_type": "markdown",
      "metadata": {
        "id": "N0sYljD4K4UX"
      },
      "source": [
        "## Formateo de datos temporales"
      ]
    },
    {
      "cell_type": "markdown",
      "metadata": {
        "id": "HtYNEVV9LC-z"
      },
      "source": [
        "La función `to_datetime` permite convertir los datos a un formato especial de tiempo"
      ]
    },
    {
      "cell_type": "code",
      "metadata": {
        "id": "5XzounFS_4zL",
        "colab": {
          "base_uri": "https://localhost:8080/"
        },
        "outputId": "3f90c3c6-5a0e-48f2-d115-e7c14eb7191c"
      },
      "source": [
        "pd.to_datetime(df.Fecha).head() #Otra forma de acceder a una columna es con su nombre como un atributo"
      ],
      "execution_count": null,
      "outputs": [
        {
          "output_type": "execute_result",
          "data": {
            "text/plain": [
              "0   2009-01-01\n",
              "1   2009-02-01\n",
              "2   2009-03-01\n",
              "3   2009-04-01\n",
              "4   2009-05-01\n",
              "Name: Fecha, dtype: datetime64[ns]"
            ]
          },
          "metadata": {
            "tags": []
          },
          "execution_count": 51
        }
      ]
    },
    {
      "cell_type": "code",
      "metadata": {
        "id": "RRD46rmYLvcm",
        "colab": {
          "base_uri": "https://localhost:8080/"
        },
        "outputId": "52ee22da-f278-456b-b783-cec04e53002c"
      },
      "source": [
        "pd.to_datetime(df.Fecha, format='%d/%m/%Y', dayfirst=True).head()"
      ],
      "execution_count": null,
      "outputs": [
        {
          "output_type": "execute_result",
          "data": {
            "text/plain": [
              "0   2009-01-01\n",
              "1   2009-01-02\n",
              "2   2009-01-03\n",
              "3   2009-01-04\n",
              "4   2009-01-05\n",
              "Name: Fecha, dtype: datetime64[ns]"
            ]
          },
          "metadata": {
            "tags": []
          },
          "execution_count": 52
        }
      ]
    },
    {
      "cell_type": "code",
      "metadata": {
        "id": "l2i3pwVcAaeP",
        "colab": {
          "base_uri": "https://localhost:8080/"
        },
        "outputId": "4d950625-f1bd-43d2-8722-d2df85cf456a"
      },
      "source": [
        "df.Fecha=pd.to_datetime(df.Fecha)\n",
        "df.set_index('Fecha', inplace=True)\n",
        "df.head()"
      ],
      "execution_count": null,
      "outputs": [
        {
          "output_type": "execute_result",
          "data": {
            "text/html": [
              "<div>\n",
              "<style scoped>\n",
              "    .dataframe tbody tr th:only-of-type {\n",
              "        vertical-align: middle;\n",
              "    }\n",
              "\n",
              "    .dataframe tbody tr th {\n",
              "        vertical-align: top;\n",
              "    }\n",
              "\n",
              "    .dataframe thead th {\n",
              "        text-align: right;\n",
              "    }\n",
              "</style>\n",
              "<table border=\"1\" class=\"dataframe\">\n",
              "  <thead>\n",
              "    <tr style=\"text-align: right;\">\n",
              "      <th></th>\n",
              "      <th>Producto1</th>\n",
              "      <th>Producto2</th>\n",
              "      <th>Producto3</th>\n",
              "      <th>Producto4</th>\n",
              "    </tr>\n",
              "    <tr>\n",
              "      <th>Fecha</th>\n",
              "      <th></th>\n",
              "      <th></th>\n",
              "      <th></th>\n",
              "      <th></th>\n",
              "    </tr>\n",
              "  </thead>\n",
              "  <tbody>\n",
              "    <tr>\n",
              "      <th>2009-01-01</th>\n",
              "      <td>29</td>\n",
              "      <td>20</td>\n",
              "      <td>35</td>\n",
              "      <td>NaN</td>\n",
              "    </tr>\n",
              "    <tr>\n",
              "      <th>2009-02-01</th>\n",
              "      <td>19</td>\n",
              "      <td>3</td>\n",
              "      <td>22</td>\n",
              "      <td>NaN</td>\n",
              "    </tr>\n",
              "    <tr>\n",
              "      <th>2009-03-01</th>\n",
              "      <td>24</td>\n",
              "      <td>12</td>\n",
              "      <td>22</td>\n",
              "      <td>NaN</td>\n",
              "    </tr>\n",
              "    <tr>\n",
              "      <th>2009-04-01</th>\n",
              "      <td>24</td>\n",
              "      <td>8</td>\n",
              "      <td>15</td>\n",
              "      <td>NaN</td>\n",
              "    </tr>\n",
              "    <tr>\n",
              "      <th>2009-05-01</th>\n",
              "      <td>120</td>\n",
              "      <td>111</td>\n",
              "      <td>141</td>\n",
              "      <td>NaN</td>\n",
              "    </tr>\n",
              "  </tbody>\n",
              "</table>\n",
              "</div>"
            ],
            "text/plain": [
              "            Producto1  Producto2  Producto3  Producto4\n",
              "Fecha                                                 \n",
              "2009-01-01         29         20         35        NaN\n",
              "2009-02-01         19          3         22        NaN\n",
              "2009-03-01         24         12         22        NaN\n",
              "2009-04-01         24          8         15        NaN\n",
              "2009-05-01        120        111        141        NaN"
            ]
          },
          "metadata": {
            "tags": []
          },
          "execution_count": 53
        }
      ]
    },
    {
      "cell_type": "code",
      "metadata": {
        "id": "Odc_eB5KE94d",
        "colab": {
          "base_uri": "https://localhost:8080/"
        },
        "outputId": "0a53f1ed-f120-4137-f61b-de93bc45745c"
      },
      "source": [
        "df.info()"
      ],
      "execution_count": null,
      "outputs": [
        {
          "output_type": "stream",
          "text": [
            "<class 'pandas.core.frame.DataFrame'>\n",
            "DatetimeIndex: 365 entries, 2009-01-01 to 2009-12-31\n",
            "Data columns (total 4 columns):\n",
            " #   Column     Non-Null Count  Dtype  \n",
            "---  ------     --------------  -----  \n",
            " 0   Producto1  365 non-null    int64  \n",
            " 1   Producto2  365 non-null    int64  \n",
            " 2   Producto3  365 non-null    int64  \n",
            " 3   Producto4  178 non-null    float64\n",
            "dtypes: float64(1), int64(3)\n",
            "memory usage: 14.3 KB\n"
          ],
          "name": "stdout"
        }
      ]
    },
    {
      "cell_type": "code",
      "metadata": {
        "id": "B64IGrjK-E-A",
        "colab": {
          "base_uri": "https://localhost:8080/"
        },
        "outputId": "be6ce314-fd29-44d7-88b6-26d31b24ddb5"
      },
      "source": [
        "#Columna df['col'].dt.year\n",
        "df.index.day"
      ],
      "execution_count": null,
      "outputs": [
        {
          "output_type": "execute_result",
          "data": {
            "text/plain": [
              "Int64Index([ 1,  1,  1,  1,  1,  1,  1,  1,  1,  1,\n",
              "            ...\n",
              "            22, 23, 24, 25, 26, 27, 28, 29, 30, 31],\n",
              "           dtype='int64', name='Fecha', length=365)"
            ]
          },
          "metadata": {
            "tags": []
          },
          "execution_count": 55
        }
      ]
    },
    {
      "cell_type": "markdown",
      "metadata": {
        "id": "L5pKpKPmN8-3"
      },
      "source": [
        "## Procesamiento de datos nulos"
      ]
    },
    {
      "cell_type": "code",
      "metadata": {
        "id": "fQRvzVfuBKRS",
        "colab": {
          "base_uri": "https://localhost:8080/"
        },
        "outputId": "a2113966-0705-469d-a185-eeeee4527cbd"
      },
      "source": [
        "df.isna().head() "
      ],
      "execution_count": null,
      "outputs": [
        {
          "output_type": "execute_result",
          "data": {
            "text/html": [
              "<div>\n",
              "<style scoped>\n",
              "    .dataframe tbody tr th:only-of-type {\n",
              "        vertical-align: middle;\n",
              "    }\n",
              "\n",
              "    .dataframe tbody tr th {\n",
              "        vertical-align: top;\n",
              "    }\n",
              "\n",
              "    .dataframe thead th {\n",
              "        text-align: right;\n",
              "    }\n",
              "</style>\n",
              "<table border=\"1\" class=\"dataframe\">\n",
              "  <thead>\n",
              "    <tr style=\"text-align: right;\">\n",
              "      <th></th>\n",
              "      <th>Producto1</th>\n",
              "      <th>Producto2</th>\n",
              "      <th>Producto3</th>\n",
              "      <th>Producto4</th>\n",
              "    </tr>\n",
              "    <tr>\n",
              "      <th>Fecha</th>\n",
              "      <th></th>\n",
              "      <th></th>\n",
              "      <th></th>\n",
              "      <th></th>\n",
              "    </tr>\n",
              "  </thead>\n",
              "  <tbody>\n",
              "    <tr>\n",
              "      <th>2009-01-01</th>\n",
              "      <td>False</td>\n",
              "      <td>False</td>\n",
              "      <td>False</td>\n",
              "      <td>True</td>\n",
              "    </tr>\n",
              "    <tr>\n",
              "      <th>2009-02-01</th>\n",
              "      <td>False</td>\n",
              "      <td>False</td>\n",
              "      <td>False</td>\n",
              "      <td>True</td>\n",
              "    </tr>\n",
              "    <tr>\n",
              "      <th>2009-03-01</th>\n",
              "      <td>False</td>\n",
              "      <td>False</td>\n",
              "      <td>False</td>\n",
              "      <td>True</td>\n",
              "    </tr>\n",
              "    <tr>\n",
              "      <th>2009-04-01</th>\n",
              "      <td>False</td>\n",
              "      <td>False</td>\n",
              "      <td>False</td>\n",
              "      <td>True</td>\n",
              "    </tr>\n",
              "    <tr>\n",
              "      <th>2009-05-01</th>\n",
              "      <td>False</td>\n",
              "      <td>False</td>\n",
              "      <td>False</td>\n",
              "      <td>True</td>\n",
              "    </tr>\n",
              "  </tbody>\n",
              "</table>\n",
              "</div>"
            ],
            "text/plain": [
              "            Producto1  Producto2  Producto3  Producto4\n",
              "Fecha                                                 \n",
              "2009-01-01      False      False      False       True\n",
              "2009-02-01      False      False      False       True\n",
              "2009-03-01      False      False      False       True\n",
              "2009-04-01      False      False      False       True\n",
              "2009-05-01      False      False      False       True"
            ]
          },
          "metadata": {
            "tags": []
          },
          "execution_count": 56
        }
      ]
    },
    {
      "cell_type": "markdown",
      "metadata": {
        "id": "9q_xfpstLYS6"
      },
      "source": [
        " Es lo mismo que df.isnull, ver: https://datascience.stackexchange.com/questions/37878/difference-between-isna-and-isnull-in-pandas"
      ]
    },
    {
      "cell_type": "markdown",
      "metadata": {
        "id": "mvt0PKf1CpsC"
      },
      "source": [
        "Usar el comando `fillna()` para reemplazar los valores nulos con el valor deseado. Puede hacerse en una sola columna `df.columna.fillna()` o en todas al mismo tiempo `df.fillna()` "
      ]
    },
    {
      "cell_type": "code",
      "metadata": {
        "id": "pu5d3XsZoJuJ",
        "colab": {
          "base_uri": "https://localhost:8080/"
        },
        "outputId": "d12ef855-942b-4cc7-f577-7a1904e83b98"
      },
      "source": [
        "# Solo visual\n",
        "df.Producto4.fillna(0)"
      ],
      "execution_count": null,
      "outputs": [
        {
          "output_type": "execute_result",
          "data": {
            "text/plain": [
              "Fecha\n",
              "2009-01-01    0.0\n",
              "2009-02-01    0.0\n",
              "2009-03-01    0.0\n",
              "2009-04-01    0.0\n",
              "2009-05-01    0.0\n",
              "             ... \n",
              "2009-12-27    0.0\n",
              "2009-12-28    0.0\n",
              "2009-12-29    0.0\n",
              "2009-12-30    0.0\n",
              "2009-12-31    0.0\n",
              "Name: Producto4, Length: 365, dtype: float64"
            ]
          },
          "metadata": {
            "tags": []
          },
          "execution_count": 57
        }
      ]
    },
    {
      "cell_type": "code",
      "metadata": {
        "id": "TVtHx9DhymFo",
        "colab": {
          "base_uri": "https://localhost:8080/"
        },
        "outputId": "bdaf02fe-1d0d-41a3-9ce7-9ba93df645da"
      },
      "source": [
        "# Cambiando los datos\n",
        "df.Producto4.fillna(df.Producto4.mean(),inplace=True) #Importante inplace\n",
        "df.head()"
      ],
      "execution_count": null,
      "outputs": [
        {
          "output_type": "execute_result",
          "data": {
            "text/html": [
              "<div>\n",
              "<style scoped>\n",
              "    .dataframe tbody tr th:only-of-type {\n",
              "        vertical-align: middle;\n",
              "    }\n",
              "\n",
              "    .dataframe tbody tr th {\n",
              "        vertical-align: top;\n",
              "    }\n",
              "\n",
              "    .dataframe thead th {\n",
              "        text-align: right;\n",
              "    }\n",
              "</style>\n",
              "<table border=\"1\" class=\"dataframe\">\n",
              "  <thead>\n",
              "    <tr style=\"text-align: right;\">\n",
              "      <th></th>\n",
              "      <th>Producto1</th>\n",
              "      <th>Producto2</th>\n",
              "      <th>Producto3</th>\n",
              "      <th>Producto4</th>\n",
              "    </tr>\n",
              "    <tr>\n",
              "      <th>Fecha</th>\n",
              "      <th></th>\n",
              "      <th></th>\n",
              "      <th></th>\n",
              "      <th></th>\n",
              "    </tr>\n",
              "  </thead>\n",
              "  <tbody>\n",
              "    <tr>\n",
              "      <th>2009-01-01</th>\n",
              "      <td>29</td>\n",
              "      <td>20</td>\n",
              "      <td>35</td>\n",
              "      <td>2576.359551</td>\n",
              "    </tr>\n",
              "    <tr>\n",
              "      <th>2009-02-01</th>\n",
              "      <td>19</td>\n",
              "      <td>3</td>\n",
              "      <td>22</td>\n",
              "      <td>2576.359551</td>\n",
              "    </tr>\n",
              "    <tr>\n",
              "      <th>2009-03-01</th>\n",
              "      <td>24</td>\n",
              "      <td>12</td>\n",
              "      <td>22</td>\n",
              "      <td>2576.359551</td>\n",
              "    </tr>\n",
              "    <tr>\n",
              "      <th>2009-04-01</th>\n",
              "      <td>24</td>\n",
              "      <td>8</td>\n",
              "      <td>15</td>\n",
              "      <td>2576.359551</td>\n",
              "    </tr>\n",
              "    <tr>\n",
              "      <th>2009-05-01</th>\n",
              "      <td>120</td>\n",
              "      <td>111</td>\n",
              "      <td>141</td>\n",
              "      <td>2576.359551</td>\n",
              "    </tr>\n",
              "  </tbody>\n",
              "</table>\n",
              "</div>"
            ],
            "text/plain": [
              "            Producto1  Producto2  Producto3    Producto4\n",
              "Fecha                                                   \n",
              "2009-01-01         29         20         35  2576.359551\n",
              "2009-02-01         19          3         22  2576.359551\n",
              "2009-03-01         24         12         22  2576.359551\n",
              "2009-04-01         24          8         15  2576.359551\n",
              "2009-05-01        120        111        141  2576.359551"
            ]
          },
          "metadata": {
            "tags": []
          },
          "execution_count": 58
        }
      ]
    },
    {
      "cell_type": "markdown",
      "metadata": {
        "id": "JozGd7c9Fsso"
      },
      "source": [
        "## Indexación y localización\n",
        "Usando los comandos `iloc` y `loc`  en un dataframe, se puede acceder a los datos con base en las etiquetas y la ubicación respectivamente "
      ]
    },
    {
      "cell_type": "code",
      "metadata": {
        "id": "6ozNIUigzLgG",
        "colab": {
          "base_uri": "https://localhost:8080/"
        },
        "outputId": "578a483b-aecf-4374-acf1-bd2e796e99d3"
      },
      "source": [
        "df.iloc[100:110,0:2] #slice index,column [index1:index2:paso,icolumns]"
      ],
      "execution_count": null,
      "outputs": [
        {
          "output_type": "execute_result",
          "data": {
            "text/html": [
              "<div>\n",
              "<style scoped>\n",
              "    .dataframe tbody tr th:only-of-type {\n",
              "        vertical-align: middle;\n",
              "    }\n",
              "\n",
              "    .dataframe tbody tr th {\n",
              "        vertical-align: top;\n",
              "    }\n",
              "\n",
              "    .dataframe thead th {\n",
              "        text-align: right;\n",
              "    }\n",
              "</style>\n",
              "<table border=\"1\" class=\"dataframe\">\n",
              "  <thead>\n",
              "    <tr style=\"text-align: right;\">\n",
              "      <th></th>\n",
              "      <th>Producto1</th>\n",
              "      <th>Producto2</th>\n",
              "    </tr>\n",
              "    <tr>\n",
              "      <th>Fecha</th>\n",
              "      <th></th>\n",
              "      <th></th>\n",
              "    </tr>\n",
              "  </thead>\n",
              "  <tbody>\n",
              "    <tr>\n",
              "      <th>2009-11-04</th>\n",
              "      <td>0</td>\n",
              "      <td>0</td>\n",
              "    </tr>\n",
              "    <tr>\n",
              "      <th>2009-12-04</th>\n",
              "      <td>0</td>\n",
              "      <td>0</td>\n",
              "    </tr>\n",
              "    <tr>\n",
              "      <th>2009-04-13</th>\n",
              "      <td>0</td>\n",
              "      <td>0</td>\n",
              "    </tr>\n",
              "    <tr>\n",
              "      <th>2009-04-14</th>\n",
              "      <td>0</td>\n",
              "      <td>0</td>\n",
              "    </tr>\n",
              "    <tr>\n",
              "      <th>2009-04-15</th>\n",
              "      <td>0</td>\n",
              "      <td>0</td>\n",
              "    </tr>\n",
              "    <tr>\n",
              "      <th>2009-04-16</th>\n",
              "      <td>0</td>\n",
              "      <td>0</td>\n",
              "    </tr>\n",
              "    <tr>\n",
              "      <th>2009-04-17</th>\n",
              "      <td>1286</td>\n",
              "      <td>820</td>\n",
              "    </tr>\n",
              "    <tr>\n",
              "      <th>2009-04-18</th>\n",
              "      <td>1178</td>\n",
              "      <td>667</td>\n",
              "    </tr>\n",
              "    <tr>\n",
              "      <th>2009-04-19</th>\n",
              "      <td>2131</td>\n",
              "      <td>1155</td>\n",
              "    </tr>\n",
              "    <tr>\n",
              "      <th>2009-04-20</th>\n",
              "      <td>2709</td>\n",
              "      <td>1697</td>\n",
              "    </tr>\n",
              "  </tbody>\n",
              "</table>\n",
              "</div>"
            ],
            "text/plain": [
              "            Producto1  Producto2\n",
              "Fecha                           \n",
              "2009-11-04          0          0\n",
              "2009-12-04          0          0\n",
              "2009-04-13          0          0\n",
              "2009-04-14          0          0\n",
              "2009-04-15          0          0\n",
              "2009-04-16          0          0\n",
              "2009-04-17       1286        820\n",
              "2009-04-18       1178        667\n",
              "2009-04-19       2131       1155\n",
              "2009-04-20       2709       1697"
            ]
          },
          "metadata": {
            "tags": []
          },
          "execution_count": 59
        }
      ]
    },
    {
      "cell_type": "markdown",
      "metadata": {
        "id": "xQ3ai7KcPKdA"
      },
      "source": [
        "Indexación para un subconjunto de columnas"
      ]
    },
    {
      "cell_type": "code",
      "metadata": {
        "id": "Vy9_2BNyPJPU",
        "colab": {
          "base_uri": "https://localhost:8080/"
        },
        "outputId": "069c1870-67e1-4092-88cb-8fa7e9ae5c36"
      },
      "source": [
        "df[['Producto1','Producto4']].iloc[100:110]"
      ],
      "execution_count": null,
      "outputs": [
        {
          "output_type": "execute_result",
          "data": {
            "text/html": [
              "<div>\n",
              "<style scoped>\n",
              "    .dataframe tbody tr th:only-of-type {\n",
              "        vertical-align: middle;\n",
              "    }\n",
              "\n",
              "    .dataframe tbody tr th {\n",
              "        vertical-align: top;\n",
              "    }\n",
              "\n",
              "    .dataframe thead th {\n",
              "        text-align: right;\n",
              "    }\n",
              "</style>\n",
              "<table border=\"1\" class=\"dataframe\">\n",
              "  <thead>\n",
              "    <tr style=\"text-align: right;\">\n",
              "      <th></th>\n",
              "      <th>Producto1</th>\n",
              "      <th>Producto4</th>\n",
              "    </tr>\n",
              "    <tr>\n",
              "      <th>Fecha</th>\n",
              "      <th></th>\n",
              "      <th></th>\n",
              "    </tr>\n",
              "  </thead>\n",
              "  <tbody>\n",
              "    <tr>\n",
              "      <th>2009-11-04</th>\n",
              "      <td>0</td>\n",
              "      <td>2576.359551</td>\n",
              "    </tr>\n",
              "    <tr>\n",
              "      <th>2009-12-04</th>\n",
              "      <td>0</td>\n",
              "      <td>2576.359551</td>\n",
              "    </tr>\n",
              "    <tr>\n",
              "      <th>2009-04-13</th>\n",
              "      <td>0</td>\n",
              "      <td>2576.359551</td>\n",
              "    </tr>\n",
              "    <tr>\n",
              "      <th>2009-04-14</th>\n",
              "      <td>0</td>\n",
              "      <td>2576.359551</td>\n",
              "    </tr>\n",
              "    <tr>\n",
              "      <th>2009-04-15</th>\n",
              "      <td>0</td>\n",
              "      <td>2576.359551</td>\n",
              "    </tr>\n",
              "    <tr>\n",
              "      <th>2009-04-16</th>\n",
              "      <td>0</td>\n",
              "      <td>2576.359551</td>\n",
              "    </tr>\n",
              "    <tr>\n",
              "      <th>2009-04-17</th>\n",
              "      <td>1286</td>\n",
              "      <td>2576.359551</td>\n",
              "    </tr>\n",
              "    <tr>\n",
              "      <th>2009-04-18</th>\n",
              "      <td>1178</td>\n",
              "      <td>2576.359551</td>\n",
              "    </tr>\n",
              "    <tr>\n",
              "      <th>2009-04-19</th>\n",
              "      <td>2131</td>\n",
              "      <td>2576.359551</td>\n",
              "    </tr>\n",
              "    <tr>\n",
              "      <th>2009-04-20</th>\n",
              "      <td>2709</td>\n",
              "      <td>2576.359551</td>\n",
              "    </tr>\n",
              "  </tbody>\n",
              "</table>\n",
              "</div>"
            ],
            "text/plain": [
              "            Producto1    Producto4\n",
              "Fecha                             \n",
              "2009-11-04          0  2576.359551\n",
              "2009-12-04          0  2576.359551\n",
              "2009-04-13          0  2576.359551\n",
              "2009-04-14          0  2576.359551\n",
              "2009-04-15          0  2576.359551\n",
              "2009-04-16          0  2576.359551\n",
              "2009-04-17       1286  2576.359551\n",
              "2009-04-18       1178  2576.359551\n",
              "2009-04-19       2131  2576.359551\n",
              "2009-04-20       2709  2576.359551"
            ]
          },
          "metadata": {
            "tags": []
          },
          "execution_count": 60
        }
      ]
    },
    {
      "cell_type": "code",
      "metadata": {
        "id": "UZwfvVR1yVoH",
        "colab": {
          "base_uri": "https://localhost:8080/"
        },
        "outputId": "4e752171-ba18-4485-d351-8df8aad538bc"
      },
      "source": [
        "df.iloc[:,1:3]"
      ],
      "execution_count": null,
      "outputs": [
        {
          "output_type": "execute_result",
          "data": {
            "text/html": [
              "<div>\n",
              "<style scoped>\n",
              "    .dataframe tbody tr th:only-of-type {\n",
              "        vertical-align: middle;\n",
              "    }\n",
              "\n",
              "    .dataframe tbody tr th {\n",
              "        vertical-align: top;\n",
              "    }\n",
              "\n",
              "    .dataframe thead th {\n",
              "        text-align: right;\n",
              "    }\n",
              "</style>\n",
              "<table border=\"1\" class=\"dataframe\">\n",
              "  <thead>\n",
              "    <tr style=\"text-align: right;\">\n",
              "      <th></th>\n",
              "      <th>Producto2</th>\n",
              "      <th>Producto3</th>\n",
              "    </tr>\n",
              "    <tr>\n",
              "      <th>Fecha</th>\n",
              "      <th></th>\n",
              "      <th></th>\n",
              "    </tr>\n",
              "  </thead>\n",
              "  <tbody>\n",
              "    <tr>\n",
              "      <th>2009-01-01</th>\n",
              "      <td>20</td>\n",
              "      <td>35</td>\n",
              "    </tr>\n",
              "    <tr>\n",
              "      <th>2009-02-01</th>\n",
              "      <td>3</td>\n",
              "      <td>22</td>\n",
              "    </tr>\n",
              "    <tr>\n",
              "      <th>2009-03-01</th>\n",
              "      <td>12</td>\n",
              "      <td>22</td>\n",
              "    </tr>\n",
              "    <tr>\n",
              "      <th>2009-04-01</th>\n",
              "      <td>8</td>\n",
              "      <td>15</td>\n",
              "    </tr>\n",
              "    <tr>\n",
              "      <th>2009-05-01</th>\n",
              "      <td>111</td>\n",
              "      <td>141</td>\n",
              "    </tr>\n",
              "    <tr>\n",
              "      <th>...</th>\n",
              "      <td>...</td>\n",
              "      <td>...</td>\n",
              "    </tr>\n",
              "    <tr>\n",
              "      <th>2009-12-27</th>\n",
              "      <td>29</td>\n",
              "      <td>52</td>\n",
              "    </tr>\n",
              "    <tr>\n",
              "      <th>2009-12-28</th>\n",
              "      <td>41</td>\n",
              "      <td>99</td>\n",
              "    </tr>\n",
              "    <tr>\n",
              "      <th>2009-12-29</th>\n",
              "      <td>52</td>\n",
              "      <td>115</td>\n",
              "    </tr>\n",
              "    <tr>\n",
              "      <th>2009-12-30</th>\n",
              "      <td>43</td>\n",
              "      <td>115</td>\n",
              "    </tr>\n",
              "    <tr>\n",
              "      <th>2009-12-31</th>\n",
              "      <td>46</td>\n",
              "      <td>112</td>\n",
              "    </tr>\n",
              "  </tbody>\n",
              "</table>\n",
              "<p>365 rows × 2 columns</p>\n",
              "</div>"
            ],
            "text/plain": [
              "            Producto2  Producto3\n",
              "Fecha                           \n",
              "2009-01-01         20         35\n",
              "2009-02-01          3         22\n",
              "2009-03-01         12         22\n",
              "2009-04-01          8         15\n",
              "2009-05-01        111        141\n",
              "...               ...        ...\n",
              "2009-12-27         29         52\n",
              "2009-12-28         41         99\n",
              "2009-12-29         52        115\n",
              "2009-12-30         43        115\n",
              "2009-12-31         46        112\n",
              "\n",
              "[365 rows x 2 columns]"
            ]
          },
          "metadata": {
            "tags": []
          },
          "execution_count": 61
        }
      ]
    },
    {
      "cell_type": "code",
      "metadata": {
        "id": "QpV0o-N3vWv1",
        "colab": {
          "base_uri": "https://localhost:8080/"
        },
        "outputId": "b0338647-3abf-43f8-a71f-e7da13ebba2f"
      },
      "source": [
        "#slice init:end\n",
        "df.loc[\"2009-10-01\":\"2009-10-10\"]"
      ],
      "execution_count": null,
      "outputs": [
        {
          "output_type": "execute_result",
          "data": {
            "text/html": [
              "<div>\n",
              "<style scoped>\n",
              "    .dataframe tbody tr th:only-of-type {\n",
              "        vertical-align: middle;\n",
              "    }\n",
              "\n",
              "    .dataframe tbody tr th {\n",
              "        vertical-align: top;\n",
              "    }\n",
              "\n",
              "    .dataframe thead th {\n",
              "        text-align: right;\n",
              "    }\n",
              "</style>\n",
              "<table border=\"1\" class=\"dataframe\">\n",
              "  <thead>\n",
              "    <tr style=\"text-align: right;\">\n",
              "      <th></th>\n",
              "      <th>Producto1</th>\n",
              "      <th>Producto2</th>\n",
              "      <th>Producto3</th>\n",
              "      <th>Producto4</th>\n",
              "    </tr>\n",
              "    <tr>\n",
              "      <th>Fecha</th>\n",
              "      <th></th>\n",
              "      <th></th>\n",
              "      <th></th>\n",
              "      <th></th>\n",
              "    </tr>\n",
              "  </thead>\n",
              "  <tbody>\n",
              "    <tr>\n",
              "      <th>2009-10-01</th>\n",
              "      <td>81</td>\n",
              "      <td>45</td>\n",
              "      <td>79</td>\n",
              "      <td>2576.359551</td>\n",
              "    </tr>\n",
              "    <tr>\n",
              "      <th>2009-10-02</th>\n",
              "      <td>228</td>\n",
              "      <td>101</td>\n",
              "      <td>260</td>\n",
              "      <td>2576.359551</td>\n",
              "    </tr>\n",
              "    <tr>\n",
              "      <th>2009-10-03</th>\n",
              "      <td>366</td>\n",
              "      <td>203</td>\n",
              "      <td>354</td>\n",
              "      <td>2576.359551</td>\n",
              "    </tr>\n",
              "    <tr>\n",
              "      <th>2009-10-04</th>\n",
              "      <td>0</td>\n",
              "      <td>0</td>\n",
              "      <td>0</td>\n",
              "      <td>2576.359551</td>\n",
              "    </tr>\n",
              "    <tr>\n",
              "      <th>2009-10-05</th>\n",
              "      <td>728</td>\n",
              "      <td>362</td>\n",
              "      <td>523</td>\n",
              "      <td>2576.359551</td>\n",
              "    </tr>\n",
              "    <tr>\n",
              "      <th>2009-10-06</th>\n",
              "      <td>3460</td>\n",
              "      <td>2354</td>\n",
              "      <td>3978</td>\n",
              "      <td>2576.359551</td>\n",
              "    </tr>\n",
              "    <tr>\n",
              "      <th>2009-10-07</th>\n",
              "      <td>6274</td>\n",
              "      <td>4242</td>\n",
              "      <td>5435</td>\n",
              "      <td>7268.000000</td>\n",
              "    </tr>\n",
              "    <tr>\n",
              "      <th>2009-10-08</th>\n",
              "      <td>2999</td>\n",
              "      <td>1545</td>\n",
              "      <td>3185</td>\n",
              "      <td>4187.000000</td>\n",
              "    </tr>\n",
              "    <tr>\n",
              "      <th>2009-10-09</th>\n",
              "      <td>5496</td>\n",
              "      <td>2921</td>\n",
              "      <td>6587</td>\n",
              "      <td>6520.000000</td>\n",
              "    </tr>\n",
              "    <tr>\n",
              "      <th>2009-10-10</th>\n",
              "      <td>1407</td>\n",
              "      <td>725</td>\n",
              "      <td>1443</td>\n",
              "      <td>1003.000000</td>\n",
              "    </tr>\n",
              "  </tbody>\n",
              "</table>\n",
              "</div>"
            ],
            "text/plain": [
              "            Producto1  Producto2  Producto3    Producto4\n",
              "Fecha                                                   \n",
              "2009-10-01         81         45         79  2576.359551\n",
              "2009-10-02        228        101        260  2576.359551\n",
              "2009-10-03        366        203        354  2576.359551\n",
              "2009-10-04          0          0          0  2576.359551\n",
              "2009-10-05        728        362        523  2576.359551\n",
              "2009-10-06       3460       2354       3978  2576.359551\n",
              "2009-10-07       6274       4242       5435  7268.000000\n",
              "2009-10-08       2999       1545       3185  4187.000000\n",
              "2009-10-09       5496       2921       6587  6520.000000\n",
              "2009-10-10       1407        725       1443  1003.000000"
            ]
          },
          "metadata": {
            "tags": []
          },
          "execution_count": 62
        }
      ]
    },
    {
      "cell_type": "code",
      "metadata": {
        "id": "_-TPOca3zOHd",
        "colab": {
          "base_uri": "https://localhost:8080/"
        },
        "outputId": "86b6ad71-3ee9-47d3-bf7d-15c0285a6030"
      },
      "source": [
        "#[index seleccionados]\n",
        "df.loc[[\"2009-10-01\",\"2009-10-10\"]]"
      ],
      "execution_count": null,
      "outputs": [
        {
          "output_type": "execute_result",
          "data": {
            "text/html": [
              "<div>\n",
              "<style scoped>\n",
              "    .dataframe tbody tr th:only-of-type {\n",
              "        vertical-align: middle;\n",
              "    }\n",
              "\n",
              "    .dataframe tbody tr th {\n",
              "        vertical-align: top;\n",
              "    }\n",
              "\n",
              "    .dataframe thead th {\n",
              "        text-align: right;\n",
              "    }\n",
              "</style>\n",
              "<table border=\"1\" class=\"dataframe\">\n",
              "  <thead>\n",
              "    <tr style=\"text-align: right;\">\n",
              "      <th></th>\n",
              "      <th>Producto1</th>\n",
              "      <th>Producto2</th>\n",
              "      <th>Producto3</th>\n",
              "      <th>Producto4</th>\n",
              "    </tr>\n",
              "    <tr>\n",
              "      <th>Fecha</th>\n",
              "      <th></th>\n",
              "      <th></th>\n",
              "      <th></th>\n",
              "      <th></th>\n",
              "    </tr>\n",
              "  </thead>\n",
              "  <tbody>\n",
              "    <tr>\n",
              "      <th>2009-10-01</th>\n",
              "      <td>81</td>\n",
              "      <td>45</td>\n",
              "      <td>79</td>\n",
              "      <td>2576.359551</td>\n",
              "    </tr>\n",
              "    <tr>\n",
              "      <th>2009-10-10</th>\n",
              "      <td>1407</td>\n",
              "      <td>725</td>\n",
              "      <td>1443</td>\n",
              "      <td>1003.000000</td>\n",
              "    </tr>\n",
              "  </tbody>\n",
              "</table>\n",
              "</div>"
            ],
            "text/plain": [
              "            Producto1  Producto2  Producto3    Producto4\n",
              "Fecha                                                   \n",
              "2009-10-01         81         45         79  2576.359551\n",
              "2009-10-10       1407        725       1443  1003.000000"
            ]
          },
          "metadata": {
            "tags": []
          },
          "execution_count": 63
        }
      ]
    },
    {
      "cell_type": "code",
      "metadata": {
        "id": "rqWyI84Ivlbr",
        "colab": {
          "base_uri": "https://localhost:8080/"
        },
        "outputId": "61245014-473c-4a26-8c4d-44f406b1e3ca"
      },
      "source": [
        "df.loc[:,['Producto1','Producto4']]\n",
        "#Slice columnas\n",
        "#df.loc[:,'Producto1':'Producto3']"
      ],
      "execution_count": null,
      "outputs": [
        {
          "output_type": "execute_result",
          "data": {
            "text/html": [
              "<div>\n",
              "<style scoped>\n",
              "    .dataframe tbody tr th:only-of-type {\n",
              "        vertical-align: middle;\n",
              "    }\n",
              "\n",
              "    .dataframe tbody tr th {\n",
              "        vertical-align: top;\n",
              "    }\n",
              "\n",
              "    .dataframe thead th {\n",
              "        text-align: right;\n",
              "    }\n",
              "</style>\n",
              "<table border=\"1\" class=\"dataframe\">\n",
              "  <thead>\n",
              "    <tr style=\"text-align: right;\">\n",
              "      <th></th>\n",
              "      <th>Producto1</th>\n",
              "      <th>Producto4</th>\n",
              "    </tr>\n",
              "    <tr>\n",
              "      <th>Fecha</th>\n",
              "      <th></th>\n",
              "      <th></th>\n",
              "    </tr>\n",
              "  </thead>\n",
              "  <tbody>\n",
              "    <tr>\n",
              "      <th>2009-01-01</th>\n",
              "      <td>29</td>\n",
              "      <td>2576.359551</td>\n",
              "    </tr>\n",
              "    <tr>\n",
              "      <th>2009-02-01</th>\n",
              "      <td>19</td>\n",
              "      <td>2576.359551</td>\n",
              "    </tr>\n",
              "    <tr>\n",
              "      <th>2009-03-01</th>\n",
              "      <td>24</td>\n",
              "      <td>2576.359551</td>\n",
              "    </tr>\n",
              "    <tr>\n",
              "      <th>2009-04-01</th>\n",
              "      <td>24</td>\n",
              "      <td>2576.359551</td>\n",
              "    </tr>\n",
              "    <tr>\n",
              "      <th>2009-05-01</th>\n",
              "      <td>120</td>\n",
              "      <td>2576.359551</td>\n",
              "    </tr>\n",
              "    <tr>\n",
              "      <th>...</th>\n",
              "      <td>...</td>\n",
              "      <td>...</td>\n",
              "    </tr>\n",
              "    <tr>\n",
              "      <th>2009-12-27</th>\n",
              "      <td>66</td>\n",
              "      <td>0.000000</td>\n",
              "    </tr>\n",
              "    <tr>\n",
              "      <th>2009-12-28</th>\n",
              "      <td>61</td>\n",
              "      <td>0.000000</td>\n",
              "    </tr>\n",
              "    <tr>\n",
              "      <th>2009-12-29</th>\n",
              "      <td>89</td>\n",
              "      <td>0.000000</td>\n",
              "    </tr>\n",
              "    <tr>\n",
              "      <th>2009-12-30</th>\n",
              "      <td>76</td>\n",
              "      <td>0.000000</td>\n",
              "    </tr>\n",
              "    <tr>\n",
              "      <th>2009-12-31</th>\n",
              "      <td>53</td>\n",
              "      <td>0.000000</td>\n",
              "    </tr>\n",
              "  </tbody>\n",
              "</table>\n",
              "<p>365 rows × 2 columns</p>\n",
              "</div>"
            ],
            "text/plain": [
              "            Producto1    Producto4\n",
              "Fecha                             \n",
              "2009-01-01         29  2576.359551\n",
              "2009-02-01         19  2576.359551\n",
              "2009-03-01         24  2576.359551\n",
              "2009-04-01         24  2576.359551\n",
              "2009-05-01        120  2576.359551\n",
              "...               ...          ...\n",
              "2009-12-27         66     0.000000\n",
              "2009-12-28         61     0.000000\n",
              "2009-12-29         89     0.000000\n",
              "2009-12-30         76     0.000000\n",
              "2009-12-31         53     0.000000\n",
              "\n",
              "[365 rows x 2 columns]"
            ]
          },
          "metadata": {
            "tags": []
          },
          "execution_count": 64
        }
      ]
    },
    {
      "cell_type": "code",
      "metadata": {
        "id": "7ATUVkdbwelL",
        "colab": {
          "base_uri": "https://localhost:8080/"
        },
        "outputId": "b5a46385-44e6-4784-8b9a-7d7d90cdfa88"
      },
      "source": [
        "#Filtro por valor de columnas\n",
        "cond = df[df['Producto1']<30]\n",
        "cond.index"
      ],
      "execution_count": null,
      "outputs": [
        {
          "output_type": "execute_result",
          "data": {
            "text/plain": [
              "DatetimeIndex(['2009-01-01', '2009-02-01', '2009-03-01', '2009-04-01',\n",
              "               '2009-08-01', '2009-01-17', '2009-01-24', '2009-01-31',\n",
              "               '2009-01-02', '2009-09-03', '2009-03-29', '2009-03-30',\n",
              "               '2009-03-31', '2009-01-04', '2009-03-04', '2009-04-04',\n",
              "               '2009-05-04', '2009-06-04', '2009-07-04', '2009-08-04',\n",
              "               '2009-09-04', '2009-10-04', '2009-11-04', '2009-12-04',\n",
              "               '2009-04-13', '2009-04-14', '2009-04-15', '2009-04-16'],\n",
              "              dtype='datetime64[ns]', name='Fecha', freq=None)"
            ]
          },
          "metadata": {
            "tags": []
          },
          "execution_count": 65
        }
      ]
    },
    {
      "cell_type": "code",
      "metadata": {
        "id": "EGcVySIrw7FR",
        "colab": {
          "base_uri": "https://localhost:8080/"
        },
        "outputId": "60ae94a0-d4a1-4bd5-b722-e394ec25253d"
      },
      "source": [
        "#Con métodos de numpy/pandas\n",
        "df.loc[~df.index.isin(cond.index)]\n",
        "#filtro = [i for i in df.index.values if i not in cond.index.values]"
      ],
      "execution_count": null,
      "outputs": [
        {
          "output_type": "execute_result",
          "data": {
            "text/html": [
              "<div>\n",
              "<style scoped>\n",
              "    .dataframe tbody tr th:only-of-type {\n",
              "        vertical-align: middle;\n",
              "    }\n",
              "\n",
              "    .dataframe tbody tr th {\n",
              "        vertical-align: top;\n",
              "    }\n",
              "\n",
              "    .dataframe thead th {\n",
              "        text-align: right;\n",
              "    }\n",
              "</style>\n",
              "<table border=\"1\" class=\"dataframe\">\n",
              "  <thead>\n",
              "    <tr style=\"text-align: right;\">\n",
              "      <th></th>\n",
              "      <th>Producto1</th>\n",
              "      <th>Producto2</th>\n",
              "      <th>Producto3</th>\n",
              "      <th>Producto4</th>\n",
              "    </tr>\n",
              "    <tr>\n",
              "      <th>Fecha</th>\n",
              "      <th></th>\n",
              "      <th></th>\n",
              "      <th></th>\n",
              "      <th></th>\n",
              "    </tr>\n",
              "  </thead>\n",
              "  <tbody>\n",
              "    <tr>\n",
              "      <th>2009-05-01</th>\n",
              "      <td>120</td>\n",
              "      <td>111</td>\n",
              "      <td>141</td>\n",
              "      <td>2576.359551</td>\n",
              "    </tr>\n",
              "    <tr>\n",
              "      <th>2009-06-01</th>\n",
              "      <td>261</td>\n",
              "      <td>146</td>\n",
              "      <td>236</td>\n",
              "      <td>2576.359551</td>\n",
              "    </tr>\n",
              "    <tr>\n",
              "      <th>2009-07-01</th>\n",
              "      <td>60</td>\n",
              "      <td>33</td>\n",
              "      <td>80</td>\n",
              "      <td>2576.359551</td>\n",
              "    </tr>\n",
              "    <tr>\n",
              "      <th>2009-09-01</th>\n",
              "      <td>35</td>\n",
              "      <td>20</td>\n",
              "      <td>32</td>\n",
              "      <td>2576.359551</td>\n",
              "    </tr>\n",
              "    <tr>\n",
              "      <th>2009-10-01</th>\n",
              "      <td>81</td>\n",
              "      <td>45</td>\n",
              "      <td>79</td>\n",
              "      <td>2576.359551</td>\n",
              "    </tr>\n",
              "    <tr>\n",
              "      <th>...</th>\n",
              "      <td>...</td>\n",
              "      <td>...</td>\n",
              "      <td>...</td>\n",
              "      <td>...</td>\n",
              "    </tr>\n",
              "    <tr>\n",
              "      <th>2009-12-27</th>\n",
              "      <td>66</td>\n",
              "      <td>29</td>\n",
              "      <td>52</td>\n",
              "      <td>0.000000</td>\n",
              "    </tr>\n",
              "    <tr>\n",
              "      <th>2009-12-28</th>\n",
              "      <td>61</td>\n",
              "      <td>41</td>\n",
              "      <td>99</td>\n",
              "      <td>0.000000</td>\n",
              "    </tr>\n",
              "    <tr>\n",
              "      <th>2009-12-29</th>\n",
              "      <td>89</td>\n",
              "      <td>52</td>\n",
              "      <td>115</td>\n",
              "      <td>0.000000</td>\n",
              "    </tr>\n",
              "    <tr>\n",
              "      <th>2009-12-30</th>\n",
              "      <td>76</td>\n",
              "      <td>43</td>\n",
              "      <td>115</td>\n",
              "      <td>0.000000</td>\n",
              "    </tr>\n",
              "    <tr>\n",
              "      <th>2009-12-31</th>\n",
              "      <td>53</td>\n",
              "      <td>46</td>\n",
              "      <td>112</td>\n",
              "      <td>0.000000</td>\n",
              "    </tr>\n",
              "  </tbody>\n",
              "</table>\n",
              "<p>337 rows × 4 columns</p>\n",
              "</div>"
            ],
            "text/plain": [
              "            Producto1  Producto2  Producto3    Producto4\n",
              "Fecha                                                   \n",
              "2009-05-01        120        111        141  2576.359551\n",
              "2009-06-01        261        146        236  2576.359551\n",
              "2009-07-01         60         33         80  2576.359551\n",
              "2009-09-01         35         20         32  2576.359551\n",
              "2009-10-01         81         45         79  2576.359551\n",
              "...               ...        ...        ...          ...\n",
              "2009-12-27         66         29         52     0.000000\n",
              "2009-12-28         61         41         99     0.000000\n",
              "2009-12-29         89         52        115     0.000000\n",
              "2009-12-30         76         43        115     0.000000\n",
              "2009-12-31         53         46        112     0.000000\n",
              "\n",
              "[337 rows x 4 columns]"
            ]
          },
          "metadata": {
            "tags": []
          },
          "execution_count": 66
        }
      ]
    },
    {
      "cell_type": "markdown",
      "metadata": {
        "id": "ELqP9yEhg1Tb"
      },
      "source": [
        "Parar reasignar un valor de dataframe, simplemente se debe saber la localización, ya sea por indice o por etiqueta y usar el operador de asignación `=`"
      ]
    },
    {
      "cell_type": "code",
      "metadata": {
        "id": "y3iwyTO2gZhD"
      },
      "source": [
        "df.iloc[109,0] = 1000"
      ],
      "execution_count": null,
      "outputs": []
    },
    {
      "cell_type": "code",
      "metadata": {
        "id": "JjRmd-N3hVqZ"
      },
      "source": [
        "df.loc['2009-04-19','Producto1'] = 999"
      ],
      "execution_count": null,
      "outputs": []
    },
    {
      "cell_type": "markdown",
      "metadata": {
        "id": "rSN2AyoUhukD"
      },
      "source": [
        "Validemos la re-asignación de los valores"
      ]
    },
    {
      "cell_type": "code",
      "metadata": {
        "id": "ED45O4mPhiBG",
        "colab": {
          "base_uri": "https://localhost:8080/"
        },
        "outputId": "f627f235-a394-429a-a5bd-7a60c9305234"
      },
      "source": [
        "df[['Producto1']].iloc[108:110]"
      ],
      "execution_count": null,
      "outputs": [
        {
          "output_type": "execute_result",
          "data": {
            "text/html": [
              "<div>\n",
              "<style scoped>\n",
              "    .dataframe tbody tr th:only-of-type {\n",
              "        vertical-align: middle;\n",
              "    }\n",
              "\n",
              "    .dataframe tbody tr th {\n",
              "        vertical-align: top;\n",
              "    }\n",
              "\n",
              "    .dataframe thead th {\n",
              "        text-align: right;\n",
              "    }\n",
              "</style>\n",
              "<table border=\"1\" class=\"dataframe\">\n",
              "  <thead>\n",
              "    <tr style=\"text-align: right;\">\n",
              "      <th></th>\n",
              "      <th>Producto1</th>\n",
              "    </tr>\n",
              "    <tr>\n",
              "      <th>Fecha</th>\n",
              "      <th></th>\n",
              "    </tr>\n",
              "  </thead>\n",
              "  <tbody>\n",
              "    <tr>\n",
              "      <th>2009-04-19</th>\n",
              "      <td>999</td>\n",
              "    </tr>\n",
              "    <tr>\n",
              "      <th>2009-04-20</th>\n",
              "      <td>1000</td>\n",
              "    </tr>\n",
              "  </tbody>\n",
              "</table>\n",
              "</div>"
            ],
            "text/plain": [
              "            Producto1\n",
              "Fecha                \n",
              "2009-04-19        999\n",
              "2009-04-20       1000"
            ]
          },
          "metadata": {
            "tags": []
          },
          "execution_count": 69
        }
      ]
    },
    {
      "cell_type": "code",
      "metadata": {
        "id": "M8rgxkVPGbhT"
      },
      "source": [
        "df.iloc[109,0] = \"bla bla\" #Asignación pude cambiarme la clase de toda la columna"
      ],
      "execution_count": null,
      "outputs": []
    },
    {
      "cell_type": "code",
      "metadata": {
        "id": "HdeNsbkkGquF",
        "colab": {
          "base_uri": "https://localhost:8080/"
        },
        "outputId": "92038acf-813f-4e43-d93d-aa0b2e0ed19d"
      },
      "source": [
        "df.dtypes"
      ],
      "execution_count": null,
      "outputs": [
        {
          "output_type": "execute_result",
          "data": {
            "text/plain": [
              "Producto1     object\n",
              "Producto2      int64\n",
              "Producto3      int64\n",
              "Producto4    float64\n",
              "dtype: object"
            ]
          },
          "metadata": {
            "tags": []
          },
          "execution_count": 71
        }
      ]
    },
    {
      "cell_type": "code",
      "metadata": {
        "id": "6P0a7eXEzUeM",
        "colab": {
          "base_uri": "https://localhost:8080/"
        },
        "outputId": "ff34d58c-bbc4-4248-8472-7a603e31a815"
      },
      "source": [
        "df.Producto2.mean()"
      ],
      "execution_count": null,
      "outputs": [
        {
          "output_type": "execute_result",
          "data": {
            "text/plain": [
              "1060.2520547945205"
            ]
          },
          "metadata": {
            "tags": []
          },
          "execution_count": 72
        }
      ]
    },
    {
      "cell_type": "code",
      "metadata": {
        "id": "GCQJxjn-zEPX",
        "colab": {
          "base_uri": "https://localhost:8080/"
        },
        "outputId": "2f0330a6-5b36-41e5-8b77-62904202de5e"
      },
      "source": [
        "try:\n",
        "  df.Producto1.mean()\n",
        "except Exception as e:\n",
        "  print(e)"
      ],
      "execution_count": null,
      "outputs": [
        {
          "output_type": "stream",
          "text": [
            "unsupported operand type(s) for +: 'int' and 'str'\n"
          ],
          "name": "stdout"
        }
      ]
    },
    {
      "cell_type": "markdown",
      "metadata": {
        "id": "ZkASh8amHAZJ"
      },
      "source": [
        "## Organización de dataframes\n",
        "El método `sort_values` permite organizar los dataframes con base a los valores de las columnas o las filas"
      ]
    },
    {
      "cell_type": "code",
      "metadata": {
        "id": "mH5XUssqzRTP",
        "colab": {
          "base_uri": "https://localhost:8080/"
        },
        "outputId": "e108e6a3-22f3-4c37-a0ff-50c732bab6d8"
      },
      "source": [
        "try:\n",
        "  df.sort_values(by=\"Producto1\").head()\n",
        "except Exception as e:\n",
        "  print(e)"
      ],
      "execution_count": null,
      "outputs": [
        {
          "output_type": "stream",
          "text": [
            "'<' not supported between instances of 'int' and 'str'\n"
          ],
          "name": "stdout"
        }
      ]
    },
    {
      "cell_type": "code",
      "metadata": {
        "id": "MsSfBxHwH33_",
        "colab": {
          "base_uri": "https://localhost:8080/"
        },
        "outputId": "ac8b2a82-6f5a-41dc-b3c8-296915e45204"
      },
      "source": [
        "df.sort_values(by=\"Producto2\",ascending=False).head()"
      ],
      "execution_count": null,
      "outputs": [
        {
          "output_type": "execute_result",
          "data": {
            "text/html": [
              "<div>\n",
              "<style scoped>\n",
              "    .dataframe tbody tr th:only-of-type {\n",
              "        vertical-align: middle;\n",
              "    }\n",
              "\n",
              "    .dataframe tbody tr th {\n",
              "        vertical-align: top;\n",
              "    }\n",
              "\n",
              "    .dataframe thead th {\n",
              "        text-align: right;\n",
              "    }\n",
              "</style>\n",
              "<table border=\"1\" class=\"dataframe\">\n",
              "  <thead>\n",
              "    <tr style=\"text-align: right;\">\n",
              "      <th></th>\n",
              "      <th>Producto1</th>\n",
              "      <th>Producto2</th>\n",
              "      <th>Producto3</th>\n",
              "      <th>Producto4</th>\n",
              "    </tr>\n",
              "    <tr>\n",
              "      <th>Fecha</th>\n",
              "      <th></th>\n",
              "      <th></th>\n",
              "      <th></th>\n",
              "      <th></th>\n",
              "    </tr>\n",
              "  </thead>\n",
              "  <tbody>\n",
              "    <tr>\n",
              "      <th>2009-10-07</th>\n",
              "      <td>6274</td>\n",
              "      <td>4242</td>\n",
              "      <td>5435</td>\n",
              "      <td>7268.000000</td>\n",
              "    </tr>\n",
              "    <tr>\n",
              "      <th>2009-09-07</th>\n",
              "      <td>6626</td>\n",
              "      <td>4227</td>\n",
              "      <td>5751</td>\n",
              "      <td>7575.000000</td>\n",
              "    </tr>\n",
              "    <tr>\n",
              "      <th>2009-05-06</th>\n",
              "      <td>6028</td>\n",
              "      <td>4120</td>\n",
              "      <td>4223</td>\n",
              "      <td>2576.359551</td>\n",
              "    </tr>\n",
              "    <tr>\n",
              "      <th>2009-07-20</th>\n",
              "      <td>5607</td>\n",
              "      <td>3825</td>\n",
              "      <td>5092</td>\n",
              "      <td>7064.000000</td>\n",
              "    </tr>\n",
              "    <tr>\n",
              "      <th>2009-07-15</th>\n",
              "      <td>6100</td>\n",
              "      <td>3767</td>\n",
              "      <td>5536</td>\n",
              "      <td>6939.000000</td>\n",
              "    </tr>\n",
              "  </tbody>\n",
              "</table>\n",
              "</div>"
            ],
            "text/plain": [
              "           Producto1  Producto2  Producto3    Producto4\n",
              "Fecha                                                  \n",
              "2009-10-07      6274       4242       5435  7268.000000\n",
              "2009-09-07      6626       4227       5751  7575.000000\n",
              "2009-05-06      6028       4120       4223  2576.359551\n",
              "2009-07-20      5607       3825       5092  7064.000000\n",
              "2009-07-15      6100       3767       5536  6939.000000"
            ]
          },
          "metadata": {
            "tags": []
          },
          "execution_count": 75
        }
      ]
    },
    {
      "cell_type": "code",
      "metadata": {
        "id": "HfquRJXyIIub",
        "colab": {
          "base_uri": "https://localhost:8080/"
        },
        "outputId": "9b938ff8-d82c-4707-928d-1d8e191f6b3a"
      },
      "source": [
        "df.sort_values(by=[\"Producto2\",\"Producto3\"],ascending=False).head()"
      ],
      "execution_count": null,
      "outputs": [
        {
          "output_type": "execute_result",
          "data": {
            "text/html": [
              "<div>\n",
              "<style scoped>\n",
              "    .dataframe tbody tr th:only-of-type {\n",
              "        vertical-align: middle;\n",
              "    }\n",
              "\n",
              "    .dataframe tbody tr th {\n",
              "        vertical-align: top;\n",
              "    }\n",
              "\n",
              "    .dataframe thead th {\n",
              "        text-align: right;\n",
              "    }\n",
              "</style>\n",
              "<table border=\"1\" class=\"dataframe\">\n",
              "  <thead>\n",
              "    <tr style=\"text-align: right;\">\n",
              "      <th></th>\n",
              "      <th>Producto1</th>\n",
              "      <th>Producto2</th>\n",
              "      <th>Producto3</th>\n",
              "      <th>Producto4</th>\n",
              "    </tr>\n",
              "    <tr>\n",
              "      <th>Fecha</th>\n",
              "      <th></th>\n",
              "      <th></th>\n",
              "      <th></th>\n",
              "      <th></th>\n",
              "    </tr>\n",
              "  </thead>\n",
              "  <tbody>\n",
              "    <tr>\n",
              "      <th>2009-10-07</th>\n",
              "      <td>6274</td>\n",
              "      <td>4242</td>\n",
              "      <td>5435</td>\n",
              "      <td>7268.000000</td>\n",
              "    </tr>\n",
              "    <tr>\n",
              "      <th>2009-09-07</th>\n",
              "      <td>6626</td>\n",
              "      <td>4227</td>\n",
              "      <td>5751</td>\n",
              "      <td>7575.000000</td>\n",
              "    </tr>\n",
              "    <tr>\n",
              "      <th>2009-05-06</th>\n",
              "      <td>6028</td>\n",
              "      <td>4120</td>\n",
              "      <td>4223</td>\n",
              "      <td>2576.359551</td>\n",
              "    </tr>\n",
              "    <tr>\n",
              "      <th>2009-07-20</th>\n",
              "      <td>5607</td>\n",
              "      <td>3825</td>\n",
              "      <td>5092</td>\n",
              "      <td>7064.000000</td>\n",
              "    </tr>\n",
              "    <tr>\n",
              "      <th>2009-07-15</th>\n",
              "      <td>6100</td>\n",
              "      <td>3767</td>\n",
              "      <td>5536</td>\n",
              "      <td>6939.000000</td>\n",
              "    </tr>\n",
              "  </tbody>\n",
              "</table>\n",
              "</div>"
            ],
            "text/plain": [
              "           Producto1  Producto2  Producto3    Producto4\n",
              "Fecha                                                  \n",
              "2009-10-07      6274       4242       5435  7268.000000\n",
              "2009-09-07      6626       4227       5751  7575.000000\n",
              "2009-05-06      6028       4120       4223  2576.359551\n",
              "2009-07-20      5607       3825       5092  7064.000000\n",
              "2009-07-15      6100       3767       5536  6939.000000"
            ]
          },
          "metadata": {
            "tags": []
          },
          "execution_count": 76
        }
      ]
    },
    {
      "cell_type": "code",
      "metadata": {
        "id": "cR3SPkXt12nX",
        "colab": {
          "base_uri": "https://localhost:8080/"
        },
        "outputId": "a5a2dea3-6029-47d0-ca38-a2d992793970"
      },
      "source": [
        "df.sort_index(ascending=False)"
      ],
      "execution_count": null,
      "outputs": [
        {
          "output_type": "execute_result",
          "data": {
            "text/html": [
              "<div>\n",
              "<style scoped>\n",
              "    .dataframe tbody tr th:only-of-type {\n",
              "        vertical-align: middle;\n",
              "    }\n",
              "\n",
              "    .dataframe tbody tr th {\n",
              "        vertical-align: top;\n",
              "    }\n",
              "\n",
              "    .dataframe thead th {\n",
              "        text-align: right;\n",
              "    }\n",
              "</style>\n",
              "<table border=\"1\" class=\"dataframe\">\n",
              "  <thead>\n",
              "    <tr style=\"text-align: right;\">\n",
              "      <th></th>\n",
              "      <th>Producto1</th>\n",
              "      <th>Producto2</th>\n",
              "      <th>Producto3</th>\n",
              "      <th>Producto4</th>\n",
              "    </tr>\n",
              "    <tr>\n",
              "      <th>Fecha</th>\n",
              "      <th></th>\n",
              "      <th></th>\n",
              "      <th></th>\n",
              "      <th></th>\n",
              "    </tr>\n",
              "  </thead>\n",
              "  <tbody>\n",
              "    <tr>\n",
              "      <th>2009-12-31</th>\n",
              "      <td>53</td>\n",
              "      <td>46</td>\n",
              "      <td>112</td>\n",
              "      <td>0.000000</td>\n",
              "    </tr>\n",
              "    <tr>\n",
              "      <th>2009-12-30</th>\n",
              "      <td>76</td>\n",
              "      <td>43</td>\n",
              "      <td>115</td>\n",
              "      <td>0.000000</td>\n",
              "    </tr>\n",
              "    <tr>\n",
              "      <th>2009-12-29</th>\n",
              "      <td>89</td>\n",
              "      <td>52</td>\n",
              "      <td>115</td>\n",
              "      <td>0.000000</td>\n",
              "    </tr>\n",
              "    <tr>\n",
              "      <th>2009-12-28</th>\n",
              "      <td>61</td>\n",
              "      <td>41</td>\n",
              "      <td>99</td>\n",
              "      <td>0.000000</td>\n",
              "    </tr>\n",
              "    <tr>\n",
              "      <th>2009-12-27</th>\n",
              "      <td>66</td>\n",
              "      <td>29</td>\n",
              "      <td>52</td>\n",
              "      <td>0.000000</td>\n",
              "    </tr>\n",
              "    <tr>\n",
              "      <th>...</th>\n",
              "      <td>...</td>\n",
              "      <td>...</td>\n",
              "      <td>...</td>\n",
              "      <td>...</td>\n",
              "    </tr>\n",
              "    <tr>\n",
              "      <th>2009-01-05</th>\n",
              "      <td>1925</td>\n",
              "      <td>1256</td>\n",
              "      <td>1501</td>\n",
              "      <td>2576.359551</td>\n",
              "    </tr>\n",
              "    <tr>\n",
              "      <th>2009-01-04</th>\n",
              "      <td>0</td>\n",
              "      <td>0</td>\n",
              "      <td>0</td>\n",
              "      <td>2576.359551</td>\n",
              "    </tr>\n",
              "    <tr>\n",
              "      <th>2009-01-03</th>\n",
              "      <td>67</td>\n",
              "      <td>30</td>\n",
              "      <td>80</td>\n",
              "      <td>2576.359551</td>\n",
              "    </tr>\n",
              "    <tr>\n",
              "      <th>2009-01-02</th>\n",
              "      <td>14</td>\n",
              "      <td>2</td>\n",
              "      <td>2</td>\n",
              "      <td>2576.359551</td>\n",
              "    </tr>\n",
              "    <tr>\n",
              "      <th>2009-01-01</th>\n",
              "      <td>29</td>\n",
              "      <td>20</td>\n",
              "      <td>35</td>\n",
              "      <td>2576.359551</td>\n",
              "    </tr>\n",
              "  </tbody>\n",
              "</table>\n",
              "<p>365 rows × 4 columns</p>\n",
              "</div>"
            ],
            "text/plain": [
              "           Producto1  Producto2  Producto3    Producto4\n",
              "Fecha                                                  \n",
              "2009-12-31        53         46        112     0.000000\n",
              "2009-12-30        76         43        115     0.000000\n",
              "2009-12-29        89         52        115     0.000000\n",
              "2009-12-28        61         41         99     0.000000\n",
              "2009-12-27        66         29         52     0.000000\n",
              "...              ...        ...        ...          ...\n",
              "2009-01-05      1925       1256       1501  2576.359551\n",
              "2009-01-04         0          0          0  2576.359551\n",
              "2009-01-03        67         30         80  2576.359551\n",
              "2009-01-02        14          2          2  2576.359551\n",
              "2009-01-01        29         20         35  2576.359551\n",
              "\n",
              "[365 rows x 4 columns]"
            ]
          },
          "metadata": {
            "tags": []
          },
          "execution_count": 77
        }
      ]
    },
    {
      "cell_type": "code",
      "metadata": {
        "id": "sXMdpuYr2LMe",
        "colab": {
          "base_uri": "https://localhost:8080/"
        },
        "outputId": "19939b58-b78c-4893-cce5-b3a627663916"
      },
      "source": [
        "df.sort_index(axis=1, ascending=False)"
      ],
      "execution_count": null,
      "outputs": [
        {
          "output_type": "execute_result",
          "data": {
            "text/html": [
              "<div>\n",
              "<style scoped>\n",
              "    .dataframe tbody tr th:only-of-type {\n",
              "        vertical-align: middle;\n",
              "    }\n",
              "\n",
              "    .dataframe tbody tr th {\n",
              "        vertical-align: top;\n",
              "    }\n",
              "\n",
              "    .dataframe thead th {\n",
              "        text-align: right;\n",
              "    }\n",
              "</style>\n",
              "<table border=\"1\" class=\"dataframe\">\n",
              "  <thead>\n",
              "    <tr style=\"text-align: right;\">\n",
              "      <th></th>\n",
              "      <th>Producto4</th>\n",
              "      <th>Producto3</th>\n",
              "      <th>Producto2</th>\n",
              "      <th>Producto1</th>\n",
              "    </tr>\n",
              "    <tr>\n",
              "      <th>Fecha</th>\n",
              "      <th></th>\n",
              "      <th></th>\n",
              "      <th></th>\n",
              "      <th></th>\n",
              "    </tr>\n",
              "  </thead>\n",
              "  <tbody>\n",
              "    <tr>\n",
              "      <th>2009-01-01</th>\n",
              "      <td>2576.359551</td>\n",
              "      <td>35</td>\n",
              "      <td>20</td>\n",
              "      <td>29</td>\n",
              "    </tr>\n",
              "    <tr>\n",
              "      <th>2009-02-01</th>\n",
              "      <td>2576.359551</td>\n",
              "      <td>22</td>\n",
              "      <td>3</td>\n",
              "      <td>19</td>\n",
              "    </tr>\n",
              "    <tr>\n",
              "      <th>2009-03-01</th>\n",
              "      <td>2576.359551</td>\n",
              "      <td>22</td>\n",
              "      <td>12</td>\n",
              "      <td>24</td>\n",
              "    </tr>\n",
              "    <tr>\n",
              "      <th>2009-04-01</th>\n",
              "      <td>2576.359551</td>\n",
              "      <td>15</td>\n",
              "      <td>8</td>\n",
              "      <td>24</td>\n",
              "    </tr>\n",
              "    <tr>\n",
              "      <th>2009-05-01</th>\n",
              "      <td>2576.359551</td>\n",
              "      <td>141</td>\n",
              "      <td>111</td>\n",
              "      <td>120</td>\n",
              "    </tr>\n",
              "    <tr>\n",
              "      <th>...</th>\n",
              "      <td>...</td>\n",
              "      <td>...</td>\n",
              "      <td>...</td>\n",
              "      <td>...</td>\n",
              "    </tr>\n",
              "    <tr>\n",
              "      <th>2009-12-27</th>\n",
              "      <td>0.000000</td>\n",
              "      <td>52</td>\n",
              "      <td>29</td>\n",
              "      <td>66</td>\n",
              "    </tr>\n",
              "    <tr>\n",
              "      <th>2009-12-28</th>\n",
              "      <td>0.000000</td>\n",
              "      <td>99</td>\n",
              "      <td>41</td>\n",
              "      <td>61</td>\n",
              "    </tr>\n",
              "    <tr>\n",
              "      <th>2009-12-29</th>\n",
              "      <td>0.000000</td>\n",
              "      <td>115</td>\n",
              "      <td>52</td>\n",
              "      <td>89</td>\n",
              "    </tr>\n",
              "    <tr>\n",
              "      <th>2009-12-30</th>\n",
              "      <td>0.000000</td>\n",
              "      <td>115</td>\n",
              "      <td>43</td>\n",
              "      <td>76</td>\n",
              "    </tr>\n",
              "    <tr>\n",
              "      <th>2009-12-31</th>\n",
              "      <td>0.000000</td>\n",
              "      <td>112</td>\n",
              "      <td>46</td>\n",
              "      <td>53</td>\n",
              "    </tr>\n",
              "  </tbody>\n",
              "</table>\n",
              "<p>365 rows × 4 columns</p>\n",
              "</div>"
            ],
            "text/plain": [
              "              Producto4  Producto3  Producto2 Producto1\n",
              "Fecha                                                  \n",
              "2009-01-01  2576.359551         35         20        29\n",
              "2009-02-01  2576.359551         22          3        19\n",
              "2009-03-01  2576.359551         22         12        24\n",
              "2009-04-01  2576.359551         15          8        24\n",
              "2009-05-01  2576.359551        141        111       120\n",
              "...                 ...        ...        ...       ...\n",
              "2009-12-27     0.000000         52         29        66\n",
              "2009-12-28     0.000000         99         41        61\n",
              "2009-12-29     0.000000        115         52        89\n",
              "2009-12-30     0.000000        115         43        76\n",
              "2009-12-31     0.000000        112         46        53\n",
              "\n",
              "[365 rows x 4 columns]"
            ]
          },
          "metadata": {
            "tags": []
          },
          "execution_count": 78
        }
      ]
    },
    {
      "cell_type": "code",
      "metadata": {
        "id": "jgc4WN1g21dd",
        "colab": {
          "base_uri": "https://localhost:8080/"
        },
        "outputId": "7eba26e6-cf73-450b-a0c3-ce2fdcaa04f3"
      },
      "source": [
        "df[['Producto4','Producto1','Producto2','Producto3']]"
      ],
      "execution_count": null,
      "outputs": [
        {
          "output_type": "execute_result",
          "data": {
            "text/html": [
              "<div>\n",
              "<style scoped>\n",
              "    .dataframe tbody tr th:only-of-type {\n",
              "        vertical-align: middle;\n",
              "    }\n",
              "\n",
              "    .dataframe tbody tr th {\n",
              "        vertical-align: top;\n",
              "    }\n",
              "\n",
              "    .dataframe thead th {\n",
              "        text-align: right;\n",
              "    }\n",
              "</style>\n",
              "<table border=\"1\" class=\"dataframe\">\n",
              "  <thead>\n",
              "    <tr style=\"text-align: right;\">\n",
              "      <th></th>\n",
              "      <th>Producto4</th>\n",
              "      <th>Producto1</th>\n",
              "      <th>Producto2</th>\n",
              "      <th>Producto3</th>\n",
              "    </tr>\n",
              "    <tr>\n",
              "      <th>Fecha</th>\n",
              "      <th></th>\n",
              "      <th></th>\n",
              "      <th></th>\n",
              "      <th></th>\n",
              "    </tr>\n",
              "  </thead>\n",
              "  <tbody>\n",
              "    <tr>\n",
              "      <th>2009-01-01</th>\n",
              "      <td>2576.359551</td>\n",
              "      <td>29</td>\n",
              "      <td>20</td>\n",
              "      <td>35</td>\n",
              "    </tr>\n",
              "    <tr>\n",
              "      <th>2009-02-01</th>\n",
              "      <td>2576.359551</td>\n",
              "      <td>19</td>\n",
              "      <td>3</td>\n",
              "      <td>22</td>\n",
              "    </tr>\n",
              "    <tr>\n",
              "      <th>2009-03-01</th>\n",
              "      <td>2576.359551</td>\n",
              "      <td>24</td>\n",
              "      <td>12</td>\n",
              "      <td>22</td>\n",
              "    </tr>\n",
              "    <tr>\n",
              "      <th>2009-04-01</th>\n",
              "      <td>2576.359551</td>\n",
              "      <td>24</td>\n",
              "      <td>8</td>\n",
              "      <td>15</td>\n",
              "    </tr>\n",
              "    <tr>\n",
              "      <th>2009-05-01</th>\n",
              "      <td>2576.359551</td>\n",
              "      <td>120</td>\n",
              "      <td>111</td>\n",
              "      <td>141</td>\n",
              "    </tr>\n",
              "    <tr>\n",
              "      <th>...</th>\n",
              "      <td>...</td>\n",
              "      <td>...</td>\n",
              "      <td>...</td>\n",
              "      <td>...</td>\n",
              "    </tr>\n",
              "    <tr>\n",
              "      <th>2009-12-27</th>\n",
              "      <td>0.000000</td>\n",
              "      <td>66</td>\n",
              "      <td>29</td>\n",
              "      <td>52</td>\n",
              "    </tr>\n",
              "    <tr>\n",
              "      <th>2009-12-28</th>\n",
              "      <td>0.000000</td>\n",
              "      <td>61</td>\n",
              "      <td>41</td>\n",
              "      <td>99</td>\n",
              "    </tr>\n",
              "    <tr>\n",
              "      <th>2009-12-29</th>\n",
              "      <td>0.000000</td>\n",
              "      <td>89</td>\n",
              "      <td>52</td>\n",
              "      <td>115</td>\n",
              "    </tr>\n",
              "    <tr>\n",
              "      <th>2009-12-30</th>\n",
              "      <td>0.000000</td>\n",
              "      <td>76</td>\n",
              "      <td>43</td>\n",
              "      <td>115</td>\n",
              "    </tr>\n",
              "    <tr>\n",
              "      <th>2009-12-31</th>\n",
              "      <td>0.000000</td>\n",
              "      <td>53</td>\n",
              "      <td>46</td>\n",
              "      <td>112</td>\n",
              "    </tr>\n",
              "  </tbody>\n",
              "</table>\n",
              "<p>365 rows × 4 columns</p>\n",
              "</div>"
            ],
            "text/plain": [
              "              Producto4 Producto1  Producto2  Producto3\n",
              "Fecha                                                  \n",
              "2009-01-01  2576.359551        29         20         35\n",
              "2009-02-01  2576.359551        19          3         22\n",
              "2009-03-01  2576.359551        24         12         22\n",
              "2009-04-01  2576.359551        24          8         15\n",
              "2009-05-01  2576.359551       120        111        141\n",
              "...                 ...       ...        ...        ...\n",
              "2009-12-27     0.000000        66         29         52\n",
              "2009-12-28     0.000000        61         41         99\n",
              "2009-12-29     0.000000        89         52        115\n",
              "2009-12-30     0.000000        76         43        115\n",
              "2009-12-31     0.000000        53         46        112\n",
              "\n",
              "[365 rows x 4 columns]"
            ]
          },
          "metadata": {
            "tags": []
          },
          "execution_count": 79
        }
      ]
    },
    {
      "cell_type": "code",
      "metadata": {
        "id": "OXE1phJ43Fb8",
        "colab": {
          "base_uri": "https://localhost:8080/"
        },
        "outputId": "9a427010-da67-4bce-f6c1-80caf471675e"
      },
      "source": [
        "df.columns"
      ],
      "execution_count": null,
      "outputs": [
        {
          "output_type": "execute_result",
          "data": {
            "text/plain": [
              "Index(['Producto1', 'Producto2', 'Producto3', 'Producto4'], dtype='object')"
            ]
          },
          "metadata": {
            "tags": []
          },
          "execution_count": 80
        }
      ]
    },
    {
      "cell_type": "code",
      "metadata": {
        "id": "JLVjyBNX3JmF",
        "colab": {
          "base_uri": "https://localhost:8080/"
        },
        "outputId": "2c92c7cd-b62d-4113-d3f4-40445a598c73"
      },
      "source": [
        "col_adelante = ['Producto4']\n",
        "col_reorg = col_adelante + [col for col in df.columns if col not in col_adelante]\n",
        "col_reorg"
      ],
      "execution_count": null,
      "outputs": [
        {
          "output_type": "execute_result",
          "data": {
            "text/plain": [
              "['Producto4', 'Producto1', 'Producto2', 'Producto3']"
            ]
          },
          "metadata": {
            "tags": []
          },
          "execution_count": 81
        }
      ]
    },
    {
      "cell_type": "markdown",
      "metadata": {
        "id": "hAo8K_5pzjjA"
      },
      "source": [
        "## Graficando desde pandas\n",
        "Pandas permite realizar algunas gráficas directamente con el comando `DataFrame.plot()`.   "
      ]
    },
    {
      "cell_type": "code",
      "metadata": {
        "id": "s3PyHmNH02_H",
        "colab": {
          "base_uri": "https://localhost:8080/"
        },
        "outputId": "fc76aa43-40f0-4080-8302-d2ac4ca7d7d0"
      },
      "source": [
        "df.Producto2.plot(figsize=(15,3))"
      ],
      "execution_count": null,
      "outputs": [
        {
          "output_type": "execute_result",
          "data": {
            "text/plain": [
              "<matplotlib.axes._subplots.AxesSubplot at 0x7f43e940f160>"
            ]
          },
          "metadata": {
            "tags": []
          },
          "execution_count": 82
        },
        {
          "output_type": "display_data",
          "data": {
            "image/png": "[encoded data removed]",
            "text/plain": [
              "<Figure size 1080x216 with 1 Axes>"
            ]
          },
          "metadata": {
            "tags": [],
            "needs_background": "light"
          }
        }
      ]
    },
    {
      "cell_type": "code",
      "metadata": {
        "id": "eagowDNs40dZ",
        "colab": {
          "base_uri": "https://localhost:8080/"
        },
        "outputId": "8ed0abc2-0ede-4e21-d011-25c7c1c869be"
      },
      "source": [
        "df.plot(figsize=(17,3))"
      ],
      "execution_count": null,
      "outputs": [
        {
          "output_type": "execute_result",
          "data": {
            "text/plain": [
              "<matplotlib.axes._subplots.AxesSubplot at 0x7f43e815b7b8>"
            ]
          },
          "metadata": {
            "tags": []
          },
          "execution_count": 83
        },
        {
          "output_type": "display_data",
          "data": {
            "image/png": "[encoded data removed]",
            "text/plain": [
              "<Figure size 1224x216 with 1 Axes>"
            ]
          },
          "metadata": {
            "tags": [],
            "needs_background": "light"
          }
        }
      ]
    },
    {
      "cell_type": "code",
      "metadata": {
        "id": "sGFfkAxpzWnJ",
        "colab": {
          "base_uri": "https://localhost:8080/"
        },
        "outputId": "f869b84c-50c5-46c7-bb47-2f764fddbc6d"
      },
      "source": [
        "df.plot(figsize=(17,9),subplots=True)"
      ],
      "execution_count": null,
      "outputs": [
        {
          "output_type": "execute_result",
          "data": {
            "text/plain": [
              "array([<matplotlib.axes._subplots.AxesSubplot object at 0x7f43e8090a90>,\n",
              "       <matplotlib.axes._subplots.AxesSubplot object at 0x7f43e7fe9e48>,\n",
              "       <matplotlib.axes._subplots.AxesSubplot object at 0x7f43e7fb7e10>],\n",
              "      dtype=object)"
            ]
          },
          "metadata": {
            "tags": []
          },
          "execution_count": 84
        },
        {
          "output_type": "display_data",
          "data": {
            "image/png": "[encoded data removed]",
            "text/plain": [
              "<Figure size 1224x648 with 3 Axes>"
            ]
          },
          "metadata": {
            "tags": [],
            "needs_background": "light"
          }
        }
      ]
    },
    {
      "cell_type": "markdown",
      "metadata": {
        "id": "FbXvkQgdinjx"
      },
      "source": [
        "Además de gráficos de línea, pandas tiene otro tipo de gráficos los cuales se puede usar con el argumento `kind` dentro del método DataFrame.plot(). Los otro gráficos disponibles son:\n",
        "\n",
        "* `'bar'` or `'barh'` for bar plots\n",
        "* `'hist'` for histogram\n",
        "* `'box'` for boxplot\n",
        "* `'kde'` or `'density'` for density plots\n",
        "* ‘`'area'` for area plots\n",
        "* `'scatter'` for scatter plots\n",
        "* `'hexbin'` for hexagonal bin plots\n",
        "* `'pie'` for pie plots"
      ]
    },
    {
      "cell_type": "code",
      "metadata": {
        "id": "V0ftRiDyoG2_",
        "colab": {
          "base_uri": "https://localhost:8080/"
        },
        "outputId": "50167992-a03d-4fa0-864f-d71300312e87"
      },
      "source": [
        "df.Producto2.plot(kind='hist')"
      ],
      "execution_count": null,
      "outputs": [
        {
          "output_type": "execute_result",
          "data": {
            "text/plain": [
              "<matplotlib.axes._subplots.AxesSubplot at 0x7f43e7da8908>"
            ]
          },
          "metadata": {
            "tags": []
          },
          "execution_count": 85
        },
        {
          "output_type": "display_data",
          "data": {
            "image/png": "[encoded data removed]",
            "text/plain": [
              "<Figure size 432x288 with 1 Axes>"
            ]
          },
          "metadata": {
            "tags": [],
            "needs_background": "light"
          }
        }
      ]
    },
    {
      "cell_type": "code",
      "metadata": {
        "id": "0xC0aaJKbKUW",
        "colab": {
          "base_uri": "https://localhost:8080/"
        },
        "outputId": "26f60b4e-82fa-4c45-ffd2-b15f3a390cd0"
      },
      "source": [
        "df.hist(column='Producto3')"
      ],
      "execution_count": null,
      "outputs": [
        {
          "output_type": "execute_result",
          "data": {
            "text/plain": [
              "array([[<matplotlib.axes._subplots.AxesSubplot object at 0x7f43e7cfa5c0>]],\n",
              "      dtype=object)"
            ]
          },
          "metadata": {
            "tags": []
          },
          "execution_count": 86
        },
        {
          "output_type": "display_data",
          "data": {
            "image/png": "[encoded data removed]",
            "text/plain": [
              "<Figure size 432x288 with 1 Axes>"
            ]
          },
          "metadata": {
            "tags": [],
            "needs_background": "light"
          }
        }
      ]
    },
    {
      "cell_type": "code",
      "metadata": {
        "id": "XnDzbZKCIxNe",
        "colab": {
          "base_uri": "https://localhost:8080/"
        },
        "outputId": "60c71cf2-26df-48f9-a3b7-e1f9728bb976"
      },
      "source": [
        "df.plot(y=\"Producto3\",x=\"Producto4\",kind=\"scatter\")"
      ],
      "execution_count": null,
      "outputs": [
        {
          "output_type": "execute_result",
          "data": {
            "text/plain": [
              "<matplotlib.axes._subplots.AxesSubplot at 0x7f43e7e79b38>"
            ]
          },
          "metadata": {
            "tags": []
          },
          "execution_count": 87
        },
        {
          "output_type": "display_data",
          "data": {
            "image/png": "[encoded data removed]",
            "text/plain": [
              "<Figure size 432x288 with 1 Axes>"
            ]
          },
          "metadata": {
            "tags": [],
            "needs_background": "light"
          }
        }
      ]
    },
    {
      "cell_type": "markdown",
      "metadata": {
        "id": "f_22rRw1W3kL"
      },
      "source": [
        "## Operaciones con columnas y filas\n",
        "La función `apply` regresa algún valor después de aplicarle una función a cada columna/fila del dataframe. \n"
      ]
    },
    {
      "cell_type": "code",
      "metadata": {
        "id": "eCyZEb3zW2r0"
      },
      "source": [
        "df['Producto3sqrt'] = df.Producto3.apply(np.sqrt) #apply --> aplica un función a cada columna"
      ],
      "execution_count": null,
      "outputs": []
    },
    {
      "cell_type": "code",
      "metadata": {
        "id": "yUNmqGbsYRD5",
        "colab": {
          "base_uri": "https://localhost:8080/"
        },
        "outputId": "304e9795-8356-4290-f909-2a9bbd19e058"
      },
      "source": [
        "df.tail()"
      ],
      "execution_count": null,
      "outputs": [
        {
          "output_type": "execute_result",
          "data": {
            "text/html": [
              "<div>\n",
              "<style scoped>\n",
              "    .dataframe tbody tr th:only-of-type {\n",
              "        vertical-align: middle;\n",
              "    }\n",
              "\n",
              "    .dataframe tbody tr th {\n",
              "        vertical-align: top;\n",
              "    }\n",
              "\n",
              "    .dataframe thead th {\n",
              "        text-align: right;\n",
              "    }\n",
              "</style>\n",
              "<table border=\"1\" class=\"dataframe\">\n",
              "  <thead>\n",
              "    <tr style=\"text-align: right;\">\n",
              "      <th></th>\n",
              "      <th>Producto1</th>\n",
              "      <th>Producto2</th>\n",
              "      <th>Producto3</th>\n",
              "      <th>Producto4</th>\n",
              "      <th>Producto3sqrt</th>\n",
              "    </tr>\n",
              "    <tr>\n",
              "      <th>Fecha</th>\n",
              "      <th></th>\n",
              "      <th></th>\n",
              "      <th></th>\n",
              "      <th></th>\n",
              "      <th></th>\n",
              "    </tr>\n",
              "  </thead>\n",
              "  <tbody>\n",
              "    <tr>\n",
              "      <th>2009-12-27</th>\n",
              "      <td>66</td>\n",
              "      <td>29</td>\n",
              "      <td>52</td>\n",
              "      <td>0.0</td>\n",
              "      <td>7.211103</td>\n",
              "    </tr>\n",
              "    <tr>\n",
              "      <th>2009-12-28</th>\n",
              "      <td>61</td>\n",
              "      <td>41</td>\n",
              "      <td>99</td>\n",
              "      <td>0.0</td>\n",
              "      <td>9.949874</td>\n",
              "    </tr>\n",
              "    <tr>\n",
              "      <th>2009-12-29</th>\n",
              "      <td>89</td>\n",
              "      <td>52</td>\n",
              "      <td>115</td>\n",
              "      <td>0.0</td>\n",
              "      <td>10.723805</td>\n",
              "    </tr>\n",
              "    <tr>\n",
              "      <th>2009-12-30</th>\n",
              "      <td>76</td>\n",
              "      <td>43</td>\n",
              "      <td>115</td>\n",
              "      <td>0.0</td>\n",
              "      <td>10.723805</td>\n",
              "    </tr>\n",
              "    <tr>\n",
              "      <th>2009-12-31</th>\n",
              "      <td>53</td>\n",
              "      <td>46</td>\n",
              "      <td>112</td>\n",
              "      <td>0.0</td>\n",
              "      <td>10.583005</td>\n",
              "    </tr>\n",
              "  </tbody>\n",
              "</table>\n",
              "</div>"
            ],
            "text/plain": [
              "           Producto1  Producto2  Producto3  Producto4  Producto3sqrt\n",
              "Fecha                                                               \n",
              "2009-12-27        66         29         52        0.0       7.211103\n",
              "2009-12-28        61         41         99        0.0       9.949874\n",
              "2009-12-29        89         52        115        0.0      10.723805\n",
              "2009-12-30        76         43        115        0.0      10.723805\n",
              "2009-12-31        53         46        112        0.0      10.583005"
            ]
          },
          "metadata": {
            "tags": []
          },
          "execution_count": 89
        }
      ]
    },
    {
      "cell_type": "code",
      "metadata": {
        "id": "qVyXEPE06xDL",
        "colab": {
          "base_uri": "https://localhost:8080/"
        },
        "outputId": "13f5f0b1-b277-4c32-c8b2-4c373787d612"
      },
      "source": [
        "df[[col for col in df.columns if col!=\"Producto1\"]]"
      ],
      "execution_count": null,
      "outputs": [
        {
          "output_type": "execute_result",
          "data": {
            "text/html": [
              "<div>\n",
              "<style scoped>\n",
              "    .dataframe tbody tr th:only-of-type {\n",
              "        vertical-align: middle;\n",
              "    }\n",
              "\n",
              "    .dataframe tbody tr th {\n",
              "        vertical-align: top;\n",
              "    }\n",
              "\n",
              "    .dataframe thead th {\n",
              "        text-align: right;\n",
              "    }\n",
              "</style>\n",
              "<table border=\"1\" class=\"dataframe\">\n",
              "  <thead>\n",
              "    <tr style=\"text-align: right;\">\n",
              "      <th></th>\n",
              "      <th>Producto2</th>\n",
              "      <th>Producto3</th>\n",
              "      <th>Producto4</th>\n",
              "      <th>Producto3sqrt</th>\n",
              "    </tr>\n",
              "    <tr>\n",
              "      <th>Fecha</th>\n",
              "      <th></th>\n",
              "      <th></th>\n",
              "      <th></th>\n",
              "      <th></th>\n",
              "    </tr>\n",
              "  </thead>\n",
              "  <tbody>\n",
              "    <tr>\n",
              "      <th>2009-01-01</th>\n",
              "      <td>20</td>\n",
              "      <td>35</td>\n",
              "      <td>2576.359551</td>\n",
              "      <td>5.916080</td>\n",
              "    </tr>\n",
              "    <tr>\n",
              "      <th>2009-02-01</th>\n",
              "      <td>3</td>\n",
              "      <td>22</td>\n",
              "      <td>2576.359551</td>\n",
              "      <td>4.690416</td>\n",
              "    </tr>\n",
              "    <tr>\n",
              "      <th>2009-03-01</th>\n",
              "      <td>12</td>\n",
              "      <td>22</td>\n",
              "      <td>2576.359551</td>\n",
              "      <td>4.690416</td>\n",
              "    </tr>\n",
              "    <tr>\n",
              "      <th>2009-04-01</th>\n",
              "      <td>8</td>\n",
              "      <td>15</td>\n",
              "      <td>2576.359551</td>\n",
              "      <td>3.872983</td>\n",
              "    </tr>\n",
              "    <tr>\n",
              "      <th>2009-05-01</th>\n",
              "      <td>111</td>\n",
              "      <td>141</td>\n",
              "      <td>2576.359551</td>\n",
              "      <td>11.874342</td>\n",
              "    </tr>\n",
              "    <tr>\n",
              "      <th>...</th>\n",
              "      <td>...</td>\n",
              "      <td>...</td>\n",
              "      <td>...</td>\n",
              "      <td>...</td>\n",
              "    </tr>\n",
              "    <tr>\n",
              "      <th>2009-12-27</th>\n",
              "      <td>29</td>\n",
              "      <td>52</td>\n",
              "      <td>0.000000</td>\n",
              "      <td>7.211103</td>\n",
              "    </tr>\n",
              "    <tr>\n",
              "      <th>2009-12-28</th>\n",
              "      <td>41</td>\n",
              "      <td>99</td>\n",
              "      <td>0.000000</td>\n",
              "      <td>9.949874</td>\n",
              "    </tr>\n",
              "    <tr>\n",
              "      <th>2009-12-29</th>\n",
              "      <td>52</td>\n",
              "      <td>115</td>\n",
              "      <td>0.000000</td>\n",
              "      <td>10.723805</td>\n",
              "    </tr>\n",
              "    <tr>\n",
              "      <th>2009-12-30</th>\n",
              "      <td>43</td>\n",
              "      <td>115</td>\n",
              "      <td>0.000000</td>\n",
              "      <td>10.723805</td>\n",
              "    </tr>\n",
              "    <tr>\n",
              "      <th>2009-12-31</th>\n",
              "      <td>46</td>\n",
              "      <td>112</td>\n",
              "      <td>0.000000</td>\n",
              "      <td>10.583005</td>\n",
              "    </tr>\n",
              "  </tbody>\n",
              "</table>\n",
              "<p>365 rows × 4 columns</p>\n",
              "</div>"
            ],
            "text/plain": [
              "            Producto2  Producto3    Producto4  Producto3sqrt\n",
              "Fecha                                                       \n",
              "2009-01-01         20         35  2576.359551       5.916080\n",
              "2009-02-01          3         22  2576.359551       4.690416\n",
              "2009-03-01         12         22  2576.359551       4.690416\n",
              "2009-04-01          8         15  2576.359551       3.872983\n",
              "2009-05-01        111        141  2576.359551      11.874342\n",
              "...               ...        ...          ...            ...\n",
              "2009-12-27         29         52     0.000000       7.211103\n",
              "2009-12-28         41         99     0.000000       9.949874\n",
              "2009-12-29         52        115     0.000000      10.723805\n",
              "2009-12-30         43        115     0.000000      10.723805\n",
              "2009-12-31         46        112     0.000000      10.583005\n",
              "\n",
              "[365 rows x 4 columns]"
            ]
          },
          "metadata": {
            "tags": []
          },
          "execution_count": 90
        }
      ]
    },
    {
      "cell_type": "code",
      "metadata": {
        "id": "xz9fFJVt7HTw",
        "colab": {
          "base_uri": "https://localhost:8080/"
        },
        "outputId": "6babd2fd-1538-4483-a37e-9682a8667461"
      },
      "source": [
        "df.select_dtypes(exclude='object')"
      ],
      "execution_count": null,
      "outputs": [
        {
          "output_type": "execute_result",
          "data": {
            "text/html": [
              "<div>\n",
              "<style scoped>\n",
              "    .dataframe tbody tr th:only-of-type {\n",
              "        vertical-align: middle;\n",
              "    }\n",
              "\n",
              "    .dataframe tbody tr th {\n",
              "        vertical-align: top;\n",
              "    }\n",
              "\n",
              "    .dataframe thead th {\n",
              "        text-align: right;\n",
              "    }\n",
              "</style>\n",
              "<table border=\"1\" class=\"dataframe\">\n",
              "  <thead>\n",
              "    <tr style=\"text-align: right;\">\n",
              "      <th></th>\n",
              "      <th>Producto2</th>\n",
              "      <th>Producto3</th>\n",
              "      <th>Producto4</th>\n",
              "      <th>Producto3sqrt</th>\n",
              "    </tr>\n",
              "    <tr>\n",
              "      <th>Fecha</th>\n",
              "      <th></th>\n",
              "      <th></th>\n",
              "      <th></th>\n",
              "      <th></th>\n",
              "    </tr>\n",
              "  </thead>\n",
              "  <tbody>\n",
              "    <tr>\n",
              "      <th>2009-01-01</th>\n",
              "      <td>20</td>\n",
              "      <td>35</td>\n",
              "      <td>2576.359551</td>\n",
              "      <td>5.916080</td>\n",
              "    </tr>\n",
              "    <tr>\n",
              "      <th>2009-02-01</th>\n",
              "      <td>3</td>\n",
              "      <td>22</td>\n",
              "      <td>2576.359551</td>\n",
              "      <td>4.690416</td>\n",
              "    </tr>\n",
              "    <tr>\n",
              "      <th>2009-03-01</th>\n",
              "      <td>12</td>\n",
              "      <td>22</td>\n",
              "      <td>2576.359551</td>\n",
              "      <td>4.690416</td>\n",
              "    </tr>\n",
              "    <tr>\n",
              "      <th>2009-04-01</th>\n",
              "      <td>8</td>\n",
              "      <td>15</td>\n",
              "      <td>2576.359551</td>\n",
              "      <td>3.872983</td>\n",
              "    </tr>\n",
              "    <tr>\n",
              "      <th>2009-05-01</th>\n",
              "      <td>111</td>\n",
              "      <td>141</td>\n",
              "      <td>2576.359551</td>\n",
              "      <td>11.874342</td>\n",
              "    </tr>\n",
              "    <tr>\n",
              "      <th>...</th>\n",
              "      <td>...</td>\n",
              "      <td>...</td>\n",
              "      <td>...</td>\n",
              "      <td>...</td>\n",
              "    </tr>\n",
              "    <tr>\n",
              "      <th>2009-12-27</th>\n",
              "      <td>29</td>\n",
              "      <td>52</td>\n",
              "      <td>0.000000</td>\n",
              "      <td>7.211103</td>\n",
              "    </tr>\n",
              "    <tr>\n",
              "      <th>2009-12-28</th>\n",
              "      <td>41</td>\n",
              "      <td>99</td>\n",
              "      <td>0.000000</td>\n",
              "      <td>9.949874</td>\n",
              "    </tr>\n",
              "    <tr>\n",
              "      <th>2009-12-29</th>\n",
              "      <td>52</td>\n",
              "      <td>115</td>\n",
              "      <td>0.000000</td>\n",
              "      <td>10.723805</td>\n",
              "    </tr>\n",
              "    <tr>\n",
              "      <th>2009-12-30</th>\n",
              "      <td>43</td>\n",
              "      <td>115</td>\n",
              "      <td>0.000000</td>\n",
              "      <td>10.723805</td>\n",
              "    </tr>\n",
              "    <tr>\n",
              "      <th>2009-12-31</th>\n",
              "      <td>46</td>\n",
              "      <td>112</td>\n",
              "      <td>0.000000</td>\n",
              "      <td>10.583005</td>\n",
              "    </tr>\n",
              "  </tbody>\n",
              "</table>\n",
              "<p>365 rows × 4 columns</p>\n",
              "</div>"
            ],
            "text/plain": [
              "            Producto2  Producto3    Producto4  Producto3sqrt\n",
              "Fecha                                                       \n",
              "2009-01-01         20         35  2576.359551       5.916080\n",
              "2009-02-01          3         22  2576.359551       4.690416\n",
              "2009-03-01         12         22  2576.359551       4.690416\n",
              "2009-04-01          8         15  2576.359551       3.872983\n",
              "2009-05-01        111        141  2576.359551      11.874342\n",
              "...               ...        ...          ...            ...\n",
              "2009-12-27         29         52     0.000000       7.211103\n",
              "2009-12-28         41         99     0.000000       9.949874\n",
              "2009-12-29         52        115     0.000000      10.723805\n",
              "2009-12-30         43        115     0.000000      10.723805\n",
              "2009-12-31         46        112     0.000000      10.583005\n",
              "\n",
              "[365 rows x 4 columns]"
            ]
          },
          "metadata": {
            "tags": []
          },
          "execution_count": 91
        }
      ]
    },
    {
      "cell_type": "code",
      "metadata": {
        "id": "i3LBg-iZYbxY",
        "colab": {
          "base_uri": "https://localhost:8080/"
        },
        "outputId": "9a322ef0-19c5-42f1-8eef-d620f79f2eb7"
      },
      "source": [
        "#Seleccción de columnas\n",
        "df[[col for col in df.columns if col!=\"Producto1\"]].apply(np.sum, axis=0)"
      ],
      "execution_count": null,
      "outputs": [
        {
          "output_type": "execute_result",
          "data": {
            "text/plain": [
              "Producto2        386992.000000\n",
              "Producto3        764007.000000\n",
              "Producto4        940371.235955\n",
              "Producto3sqrt     14277.399684\n",
              "dtype: float64"
            ]
          },
          "metadata": {
            "tags": []
          },
          "execution_count": 92
        }
      ]
    },
    {
      "cell_type": "code",
      "metadata": {
        "id": "0ouPbhcIJq27",
        "colab": {
          "base_uri": "https://localhost:8080/"
        },
        "outputId": "ae971396-be06-4883-9493-3681e43b100a"
      },
      "source": [
        "df.sum()"
      ],
      "execution_count": null,
      "outputs": [
        {
          "output_type": "execute_result",
          "data": {
            "text/plain": [
              "Producto2        386992.000000\n",
              "Producto3        764007.000000\n",
              "Producto4        940371.235955\n",
              "Producto3sqrt     14277.399684\n",
              "dtype: float64"
            ]
          },
          "metadata": {
            "tags": []
          },
          "execution_count": 93
        }
      ]
    },
    {
      "cell_type": "code",
      "metadata": {
        "id": "kw2hTTsiolEn",
        "colab": {
          "base_uri": "https://localhost:8080/"
        },
        "outputId": "a29f6747-5eba-420d-bc8f-453b8c705e9d"
      },
      "source": [
        "df.sum().plot(kind='pie')"
      ],
      "execution_count": null,
      "outputs": [
        {
          "output_type": "execute_result",
          "data": {
            "text/plain": [
              "<matplotlib.axes._subplots.AxesSubplot at 0x7f43e7bd8b38>"
            ]
          },
          "metadata": {
            "tags": []
          },
          "execution_count": 94
        },
        {
          "output_type": "display_data",
          "data": {
            "image/png": "[encoded data removed]",
            "text/plain": [
              "<Figure size 432x288 with 1 Axes>"
            ]
          },
          "metadata": {
            "tags": []
          }
        }
      ]
    },
    {
      "cell_type": "markdown",
      "metadata": {
        "id": "l9mkwArF6Z8-"
      },
      "source": [
        "# **Agrupar y agregando datos**\n"
      ]
    },
    {
      "cell_type": "markdown",
      "metadata": {
        "id": "NyO8yc5DK2fr"
      },
      "source": [
        "\n",
        "En lo subsecuente, trabajaremos con el concepto de **dividir-aplicar-combinar** \n",
        "\n",
        "![texto alternativo](https://github.com/diplomado-bigdata-machinelearning-udea/curso0/blob/master/s07/imagenes/group_process.png?raw=true)"
      ]
    },
    {
      "cell_type": "code",
      "metadata": {
        "id": "iZvMMOZw5fwq",
        "colab": {
          "base_uri": "https://localhost:8080/",
          "height": 204
        },
        "outputId": "60801e73-7b55-4715-b275-2cfae93dd182"
      },
      "source": [
        "data = pd.read_csv(\"/content/sample_data/california_housing_train.csv\")\n",
        "data.head()"
      ],
      "execution_count": null,
      "outputs": [
        {
          "output_type": "execute_result",
          "data": {
            "text/html": [
              "<div>\n",
              "<style scoped>\n",
              "    .dataframe tbody tr th:only-of-type {\n",
              "        vertical-align: middle;\n",
              "    }\n",
              "\n",
              "    .dataframe tbody tr th {\n",
              "        vertical-align: top;\n",
              "    }\n",
              "\n",
              "    .dataframe thead th {\n",
              "        text-align: right;\n",
              "    }\n",
              "</style>\n",
              "<table border=\"1\" class=\"dataframe\">\n",
              "  <thead>\n",
              "    <tr style=\"text-align: right;\">\n",
              "      <th></th>\n",
              "      <th>longitude</th>\n",
              "      <th>latitude</th>\n",
              "      <th>housing_median_age</th>\n",
              "      <th>total_rooms</th>\n",
              "      <th>total_bedrooms</th>\n",
              "      <th>population</th>\n",
              "      <th>households</th>\n",
              "      <th>median_income</th>\n",
              "      <th>median_house_value</th>\n",
              "    </tr>\n",
              "  </thead>\n",
              "  <tbody>\n",
              "    <tr>\n",
              "      <th>0</th>\n",
              "      <td>-114.31</td>\n",
              "      <td>34.19</td>\n",
              "      <td>15.0</td>\n",
              "      <td>5612.0</td>\n",
              "      <td>1283.0</td>\n",
              "      <td>1015.0</td>\n",
              "      <td>472.0</td>\n",
              "      <td>1.4936</td>\n",
              "      <td>66900.0</td>\n",
              "    </tr>\n",
              "    <tr>\n",
              "      <th>1</th>\n",
              "      <td>-114.47</td>\n",
              "      <td>34.40</td>\n",
              "      <td>19.0</td>\n",
              "      <td>7650.0</td>\n",
              "      <td>1901.0</td>\n",
              "      <td>1129.0</td>\n",
              "      <td>463.0</td>\n",
              "      <td>1.8200</td>\n",
              "      <td>80100.0</td>\n",
              "    </tr>\n",
              "    <tr>\n",
              "      <th>2</th>\n",
              "      <td>-114.56</td>\n",
              "      <td>33.69</td>\n",
              "      <td>17.0</td>\n",
              "      <td>720.0</td>\n",
              "      <td>174.0</td>\n",
              "      <td>333.0</td>\n",
              "      <td>117.0</td>\n",
              "      <td>1.6509</td>\n",
              "      <td>85700.0</td>\n",
              "    </tr>\n",
              "    <tr>\n",
              "      <th>3</th>\n",
              "      <td>-114.57</td>\n",
              "      <td>33.64</td>\n",
              "      <td>14.0</td>\n",
              "      <td>1501.0</td>\n",
              "      <td>337.0</td>\n",
              "      <td>515.0</td>\n",
              "      <td>226.0</td>\n",
              "      <td>3.1917</td>\n",
              "      <td>73400.0</td>\n",
              "    </tr>\n",
              "    <tr>\n",
              "      <th>4</th>\n",
              "      <td>-114.57</td>\n",
              "      <td>33.57</td>\n",
              "      <td>20.0</td>\n",
              "      <td>1454.0</td>\n",
              "      <td>326.0</td>\n",
              "      <td>624.0</td>\n",
              "      <td>262.0</td>\n",
              "      <td>1.9250</td>\n",
              "      <td>65500.0</td>\n",
              "    </tr>\n",
              "  </tbody>\n",
              "</table>\n",
              "</div>"
            ],
            "text/plain": [
              "   longitude  latitude  ...  median_income  median_house_value\n",
              "0    -114.31     34.19  ...         1.4936             66900.0\n",
              "1    -114.47     34.40  ...         1.8200             80100.0\n",
              "2    -114.56     33.69  ...         1.6509             85700.0\n",
              "3    -114.57     33.64  ...         3.1917             73400.0\n",
              "4    -114.57     33.57  ...         1.9250             65500.0\n",
              "\n",
              "[5 rows x 9 columns]"
            ]
          },
          "metadata": {
            "tags": []
          },
          "execution_count": 95
        }
      ]
    },
    {
      "cell_type": "code",
      "metadata": {
        "id": "qOZLgtEMMYxu",
        "colab": {
          "base_uri": "https://localhost:8080/"
        },
        "outputId": "f9d5b106-7ee7-49fb-df75-e1b5286bba52"
      },
      "source": [
        "data.shape"
      ],
      "execution_count": null,
      "outputs": [
        {
          "output_type": "execute_result",
          "data": {
            "text/plain": [
              "(17000, 9)"
            ]
          },
          "metadata": {
            "tags": []
          },
          "execution_count": 96
        }
      ]
    },
    {
      "cell_type": "code",
      "metadata": {
        "id": "CMjLPXv76V7B"
      },
      "source": [
        "objGroupBy = data.groupby(\"housing_median_age\") # el método revisa si existe esa columna\n",
        "#para evitar que el dataframe final tenga la columna como un index as_index=False"
      ],
      "execution_count": null,
      "outputs": []
    },
    {
      "cell_type": "code",
      "metadata": {
        "id": "Lj15G3Vd6UT5",
        "colab": {
          "base_uri": "https://localhost:8080/"
        },
        "outputId": "33405b6a-f209-4dea-f1d2-31f17063b836"
      },
      "source": [
        "for g in objGroupBy:\n",
        "  print(g)\n",
        "  break"
      ],
      "execution_count": null,
      "outputs": [
        {
          "output_type": "stream",
          "text": [
            "(1.0,        longitude  latitude  ...  median_income  median_house_value\n",
            "10993    -120.93     37.65  ...         4.2500            189200.0\n",
            "13708    -122.00     38.23  ...         5.2636            191300.0\n",
            "\n",
            "[2 rows x 9 columns])\n"
          ],
          "name": "stdout"
        }
      ]
    },
    {
      "cell_type": "code",
      "metadata": {
        "id": "282m_gY87ULg",
        "colab": {
          "base_uri": "https://localhost:8080/",
          "height": 235
        },
        "outputId": "169f0dbd-af15-45f2-c8be-54de21e60556"
      },
      "source": [
        "objGroupBy.mean().head()"
      ],
      "execution_count": null,
      "outputs": [
        {
          "output_type": "execute_result",
          "data": {
            "text/html": [
              "<div>\n",
              "<style scoped>\n",
              "    .dataframe tbody tr th:only-of-type {\n",
              "        vertical-align: middle;\n",
              "    }\n",
              "\n",
              "    .dataframe tbody tr th {\n",
              "        vertical-align: top;\n",
              "    }\n",
              "\n",
              "    .dataframe thead th {\n",
              "        text-align: right;\n",
              "    }\n",
              "</style>\n",
              "<table border=\"1\" class=\"dataframe\">\n",
              "  <thead>\n",
              "    <tr style=\"text-align: right;\">\n",
              "      <th></th>\n",
              "      <th>longitude</th>\n",
              "      <th>latitude</th>\n",
              "      <th>total_rooms</th>\n",
              "      <th>total_bedrooms</th>\n",
              "      <th>population</th>\n",
              "      <th>households</th>\n",
              "      <th>median_income</th>\n",
              "      <th>median_house_value</th>\n",
              "    </tr>\n",
              "    <tr>\n",
              "      <th>housing_median_age</th>\n",
              "      <th></th>\n",
              "      <th></th>\n",
              "      <th></th>\n",
              "      <th></th>\n",
              "      <th></th>\n",
              "      <th></th>\n",
              "      <th></th>\n",
              "      <th></th>\n",
              "    </tr>\n",
              "  </thead>\n",
              "  <tbody>\n",
              "    <tr>\n",
              "      <th>1.0</th>\n",
              "      <td>-121.465000</td>\n",
              "      <td>37.940000</td>\n",
              "      <td>2158.000000</td>\n",
              "      <td>335.500000</td>\n",
              "      <td>637.000000</td>\n",
              "      <td>190.000000</td>\n",
              "      <td>4.756800</td>\n",
              "      <td>190250.000000</td>\n",
              "    </tr>\n",
              "    <tr>\n",
              "      <th>2.0</th>\n",
              "      <td>-119.035306</td>\n",
              "      <td>35.410816</td>\n",
              "      <td>5237.102041</td>\n",
              "      <td>871.448980</td>\n",
              "      <td>2005.224490</td>\n",
              "      <td>707.122449</td>\n",
              "      <td>5.074237</td>\n",
              "      <td>229438.836735</td>\n",
              "    </tr>\n",
              "    <tr>\n",
              "      <th>3.0</th>\n",
              "      <td>-118.798478</td>\n",
              "      <td>35.164783</td>\n",
              "      <td>6920.326087</td>\n",
              "      <td>1190.826087</td>\n",
              "      <td>2934.673913</td>\n",
              "      <td>1030.413043</td>\n",
              "      <td>5.572013</td>\n",
              "      <td>239450.043478</td>\n",
              "    </tr>\n",
              "    <tr>\n",
              "      <th>4.0</th>\n",
              "      <td>-118.805093</td>\n",
              "      <td>34.987764</td>\n",
              "      <td>6065.614907</td>\n",
              "      <td>1068.192547</td>\n",
              "      <td>2739.956522</td>\n",
              "      <td>964.291925</td>\n",
              "      <td>5.196055</td>\n",
              "      <td>230054.105590</td>\n",
              "    </tr>\n",
              "    <tr>\n",
              "      <th>5.0</th>\n",
              "      <td>-118.789497</td>\n",
              "      <td>35.095327</td>\n",
              "      <td>4926.261307</td>\n",
              "      <td>910.924623</td>\n",
              "      <td>2456.979899</td>\n",
              "      <td>826.768844</td>\n",
              "      <td>4.732460</td>\n",
              "      <td>211035.708543</td>\n",
              "    </tr>\n",
              "  </tbody>\n",
              "</table>\n",
              "</div>"
            ],
            "text/plain": [
              "                     longitude   latitude  ...  median_income  median_house_value\n",
              "housing_median_age                         ...                                   \n",
              "1.0                -121.465000  37.940000  ...       4.756800       190250.000000\n",
              "2.0                -119.035306  35.410816  ...       5.074237       229438.836735\n",
              "3.0                -118.798478  35.164783  ...       5.572013       239450.043478\n",
              "4.0                -118.805093  34.987764  ...       5.196055       230054.105590\n",
              "5.0                -118.789497  35.095327  ...       4.732460       211035.708543\n",
              "\n",
              "[5 rows x 8 columns]"
            ]
          },
          "metadata": {
            "tags": []
          },
          "execution_count": 99
        }
      ]
    },
    {
      "cell_type": "code",
      "metadata": {
        "id": "gQjtpeli7lEZ",
        "colab": {
          "base_uri": "https://localhost:8080/"
        },
        "outputId": "910dc311-ac92-45bc-bcc2-3a01d21f1675"
      },
      "source": [
        "#He agrupado una sola columna por otras dos columnas en el mismo conjunto de datos\n",
        "data[\"median_house_value\"].groupby([data[\"total_rooms\"],data[\"housing_median_age\"]]).mean()"
      ],
      "execution_count": null,
      "outputs": [
        {
          "output_type": "execute_result",
          "data": {
            "text/plain": [
              "total_rooms  housing_median_age\n",
              "2.0          4.0                   137500.0\n",
              "8.0          52.0                  500001.0\n",
              "11.0         46.0                  162500.0\n",
              "12.0         46.0                   67500.0\n",
              "15.0         26.0                  350000.0\n",
              "                                     ...   \n",
              "30401.0      4.0                   212300.0\n",
              "30405.0      9.0                   399200.0\n",
              "32054.0      8.0                   253900.0\n",
              "32627.0      11.0                  118800.0\n",
              "37937.0      4.0                   366300.0\n",
              "Name: median_house_value, Length: 16077, dtype: float64"
            ]
          },
          "metadata": {
            "tags": []
          },
          "execution_count": 100
        }
      ]
    },
    {
      "cell_type": "markdown",
      "metadata": {
        "id": "kon8fxp5KISl"
      },
      "source": [
        "##Agregación de datos\n"
      ]
    },
    {
      "cell_type": "markdown",
      "metadata": {
        "id": "0yJukr2GP8q0"
      },
      "source": [
        "\n",
        "Por agregación se entiende varios tipos de tranformaciones que producen un valor escalar a partir de un arreglo. En los métodos que usamos junto a `groupby`vimos muchos de ellos como `sum`, `count`, `min`, `max`, etc. Algunos de ellos se describen en la siguiente tabla:\n",
        "\n",
        "| Función | Descripción |\n",
        "| --- | --- |\n",
        "| `count` | Determina el número de elementos diferentes a `NaN` |\n",
        "| `sum` | Suma elementos diferentes a `NaN` |\n",
        "| `mean` | Media de elementos diferentes a `NaN` |\n",
        "| `std, var` | Desviación estandar y Varianza |\n",
        "| `min, max` | Valores mínimos y máximos |\n",
        "| `count` | Producto de los valores distinto a `NaN` |\n",
        "| `first, last` | Primer y último elementos distintos a `NaN` |\n",
        "\n",
        "Veamos una applicación de estas funciones mediante el método `agg`. Para ello, vamos a usar un dataset de `kaggle` de 'Animal Crossing', un video juego de simulación social de Nintendo. El dataset que usaremos se llama 'items.csv' el cual contine información sobre aldeanos, articulos, manualidades, accesorios, etc."
      ]
    },
    {
      "cell_type": "code",
      "metadata": {
        "id": "d9baJFAJrLRy",
        "colab": {
          "base_uri": "https://localhost:8080/"
        },
        "outputId": "738d0181-1a14-4c6b-aae7-c3dfb3f2e2c5"
      },
      "source": [
        "data[\"median_house_value\"].groupby([data[\"total_rooms\"],data[\"housing_median_age\"]]).agg('mean')"
      ],
      "execution_count": null,
      "outputs": [
        {
          "output_type": "execute_result",
          "data": {
            "text/plain": [
              "total_rooms  housing_median_age\n",
              "2.0          4.0                   137500.0\n",
              "8.0          52.0                  500001.0\n",
              "11.0         46.0                  162500.0\n",
              "12.0         46.0                   67500.0\n",
              "15.0         26.0                  350000.0\n",
              "                                     ...   \n",
              "30401.0      4.0                   212300.0\n",
              "30405.0      9.0                   399200.0\n",
              "32054.0      8.0                   253900.0\n",
              "32627.0      11.0                  118800.0\n",
              "37937.0      4.0                   366300.0\n",
              "Name: median_house_value, Length: 16077, dtype: float64"
            ]
          },
          "metadata": {
            "tags": []
          },
          "execution_count": 101
        }
      ]
    },
    {
      "cell_type": "code",
      "metadata": {
        "id": "CsYfIFKTrRPx",
        "colab": {
          "base_uri": "https://localhost:8080/"
        },
        "outputId": "fd41b458-f9f8-4135-85a5-97b797b0fdf5"
      },
      "source": [
        "data[\"median_house_value\"].groupby([data[\"total_rooms\"],data[\"housing_median_age\"]]).agg(['mean','sum','max'])"
      ],
      "execution_count": null,
      "outputs": [
        {
          "output_type": "execute_result",
          "data": {
            "text/html": [
              "<div>\n",
              "<style scoped>\n",
              "    .dataframe tbody tr th:only-of-type {\n",
              "        vertical-align: middle;\n",
              "    }\n",
              "\n",
              "    .dataframe tbody tr th {\n",
              "        vertical-align: top;\n",
              "    }\n",
              "\n",
              "    .dataframe thead th {\n",
              "        text-align: right;\n",
              "    }\n",
              "</style>\n",
              "<table border=\"1\" class=\"dataframe\">\n",
              "  <thead>\n",
              "    <tr style=\"text-align: right;\">\n",
              "      <th></th>\n",
              "      <th></th>\n",
              "      <th>mean</th>\n",
              "      <th>sum</th>\n",
              "      <th>max</th>\n",
              "    </tr>\n",
              "    <tr>\n",
              "      <th>total_rooms</th>\n",
              "      <th>housing_median_age</th>\n",
              "      <th></th>\n",
              "      <th></th>\n",
              "      <th></th>\n",
              "    </tr>\n",
              "  </thead>\n",
              "  <tbody>\n",
              "    <tr>\n",
              "      <th>2.0</th>\n",
              "      <th>4.0</th>\n",
              "      <td>137500.0</td>\n",
              "      <td>137500.0</td>\n",
              "      <td>137500.0</td>\n",
              "    </tr>\n",
              "    <tr>\n",
              "      <th>8.0</th>\n",
              "      <th>52.0</th>\n",
              "      <td>500001.0</td>\n",
              "      <td>500001.0</td>\n",
              "      <td>500001.0</td>\n",
              "    </tr>\n",
              "    <tr>\n",
              "      <th>11.0</th>\n",
              "      <th>46.0</th>\n",
              "      <td>162500.0</td>\n",
              "      <td>162500.0</td>\n",
              "      <td>162500.0</td>\n",
              "    </tr>\n",
              "    <tr>\n",
              "      <th>12.0</th>\n",
              "      <th>46.0</th>\n",
              "      <td>67500.0</td>\n",
              "      <td>67500.0</td>\n",
              "      <td>67500.0</td>\n",
              "    </tr>\n",
              "    <tr>\n",
              "      <th>15.0</th>\n",
              "      <th>26.0</th>\n",
              "      <td>350000.0</td>\n",
              "      <td>350000.0</td>\n",
              "      <td>350000.0</td>\n",
              "    </tr>\n",
              "    <tr>\n",
              "      <th>...</th>\n",
              "      <th>...</th>\n",
              "      <td>...</td>\n",
              "      <td>...</td>\n",
              "      <td>...</td>\n",
              "    </tr>\n",
              "    <tr>\n",
              "      <th>30401.0</th>\n",
              "      <th>4.0</th>\n",
              "      <td>212300.0</td>\n",
              "      <td>212300.0</td>\n",
              "      <td>212300.0</td>\n",
              "    </tr>\n",
              "    <tr>\n",
              "      <th>30405.0</th>\n",
              "      <th>9.0</th>\n",
              "      <td>399200.0</td>\n",
              "      <td>399200.0</td>\n",
              "      <td>399200.0</td>\n",
              "    </tr>\n",
              "    <tr>\n",
              "      <th>32054.0</th>\n",
              "      <th>8.0</th>\n",
              "      <td>253900.0</td>\n",
              "      <td>253900.0</td>\n",
              "      <td>253900.0</td>\n",
              "    </tr>\n",
              "    <tr>\n",
              "      <th>32627.0</th>\n",
              "      <th>11.0</th>\n",
              "      <td>118800.0</td>\n",
              "      <td>118800.0</td>\n",
              "      <td>118800.0</td>\n",
              "    </tr>\n",
              "    <tr>\n",
              "      <th>37937.0</th>\n",
              "      <th>4.0</th>\n",
              "      <td>366300.0</td>\n",
              "      <td>366300.0</td>\n",
              "      <td>366300.0</td>\n",
              "    </tr>\n",
              "  </tbody>\n",
              "</table>\n",
              "<p>16077 rows × 3 columns</p>\n",
              "</div>"
            ],
            "text/plain": [
              "                                    mean       sum       max\n",
              "total_rooms housing_median_age                              \n",
              "2.0         4.0                 137500.0  137500.0  137500.0\n",
              "8.0         52.0                500001.0  500001.0  500001.0\n",
              "11.0        46.0                162500.0  162500.0  162500.0\n",
              "12.0        46.0                 67500.0   67500.0   67500.0\n",
              "15.0        26.0                350000.0  350000.0  350000.0\n",
              "...                                  ...       ...       ...\n",
              "30401.0     4.0                 212300.0  212300.0  212300.0\n",
              "30405.0     9.0                 399200.0  399200.0  399200.0\n",
              "32054.0     8.0                 253900.0  253900.0  253900.0\n",
              "32627.0     11.0                118800.0  118800.0  118800.0\n",
              "37937.0     4.0                 366300.0  366300.0  366300.0\n",
              "\n",
              "[16077 rows x 3 columns]"
            ]
          },
          "metadata": {
            "tags": []
          },
          "execution_count": 102
        }
      ]
    },
    {
      "cell_type": "code",
      "metadata": {
        "id": "8BMvZZiWrgqD",
        "colab": {
          "base_uri": "https://localhost:8080/"
        },
        "outputId": "691c47e0-74b1-4357-a0e3-8fac9e6aae92"
      },
      "source": [
        "data.groupby(\"total_rooms\").agg({\"median_house_value\":['mean','std'],\"housing_median_age\":['sum','max']})"
      ],
      "execution_count": null,
      "outputs": [
        {
          "output_type": "execute_result",
          "data": {
            "text/html": [
              "<div>\n",
              "<style scoped>\n",
              "    .dataframe tbody tr th:only-of-type {\n",
              "        vertical-align: middle;\n",
              "    }\n",
              "\n",
              "    .dataframe tbody tr th {\n",
              "        vertical-align: top;\n",
              "    }\n",
              "\n",
              "    .dataframe thead tr th {\n",
              "        text-align: left;\n",
              "    }\n",
              "\n",
              "    .dataframe thead tr:last-of-type th {\n",
              "        text-align: right;\n",
              "    }\n",
              "</style>\n",
              "<table border=\"1\" class=\"dataframe\">\n",
              "  <thead>\n",
              "    <tr>\n",
              "      <th></th>\n",
              "      <th colspan=\"2\" halign=\"left\">median_house_value</th>\n",
              "      <th colspan=\"2\" halign=\"left\">housing_median_age</th>\n",
              "    </tr>\n",
              "    <tr>\n",
              "      <th></th>\n",
              "      <th>mean</th>\n",
              "      <th>std</th>\n",
              "      <th>sum</th>\n",
              "      <th>max</th>\n",
              "    </tr>\n",
              "    <tr>\n",
              "      <th>total_rooms</th>\n",
              "      <th></th>\n",
              "      <th></th>\n",
              "      <th></th>\n",
              "      <th></th>\n",
              "    </tr>\n",
              "  </thead>\n",
              "  <tbody>\n",
              "    <tr>\n",
              "      <th>2.0</th>\n",
              "      <td>137500.0</td>\n",
              "      <td>NaN</td>\n",
              "      <td>4.0</td>\n",
              "      <td>4.0</td>\n",
              "    </tr>\n",
              "    <tr>\n",
              "      <th>8.0</th>\n",
              "      <td>500001.0</td>\n",
              "      <td>NaN</td>\n",
              "      <td>52.0</td>\n",
              "      <td>52.0</td>\n",
              "    </tr>\n",
              "    <tr>\n",
              "      <th>11.0</th>\n",
              "      <td>162500.0</td>\n",
              "      <td>NaN</td>\n",
              "      <td>46.0</td>\n",
              "      <td>46.0</td>\n",
              "    </tr>\n",
              "    <tr>\n",
              "      <th>12.0</th>\n",
              "      <td>67500.0</td>\n",
              "      <td>NaN</td>\n",
              "      <td>46.0</td>\n",
              "      <td>46.0</td>\n",
              "    </tr>\n",
              "    <tr>\n",
              "      <th>15.0</th>\n",
              "      <td>256250.0</td>\n",
              "      <td>132582.521472</td>\n",
              "      <td>62.0</td>\n",
              "      <td>36.0</td>\n",
              "    </tr>\n",
              "    <tr>\n",
              "      <th>...</th>\n",
              "      <td>...</td>\n",
              "      <td>...</td>\n",
              "      <td>...</td>\n",
              "      <td>...</td>\n",
              "    </tr>\n",
              "    <tr>\n",
              "      <th>30401.0</th>\n",
              "      <td>212300.0</td>\n",
              "      <td>NaN</td>\n",
              "      <td>4.0</td>\n",
              "      <td>4.0</td>\n",
              "    </tr>\n",
              "    <tr>\n",
              "      <th>30405.0</th>\n",
              "      <td>399200.0</td>\n",
              "      <td>NaN</td>\n",
              "      <td>9.0</td>\n",
              "      <td>9.0</td>\n",
              "    </tr>\n",
              "    <tr>\n",
              "      <th>32054.0</th>\n",
              "      <td>253900.0</td>\n",
              "      <td>NaN</td>\n",
              "      <td>8.0</td>\n",
              "      <td>8.0</td>\n",
              "    </tr>\n",
              "    <tr>\n",
              "      <th>32627.0</th>\n",
              "      <td>118800.0</td>\n",
              "      <td>NaN</td>\n",
              "      <td>11.0</td>\n",
              "      <td>11.0</td>\n",
              "    </tr>\n",
              "    <tr>\n",
              "      <th>37937.0</th>\n",
              "      <td>366300.0</td>\n",
              "      <td>NaN</td>\n",
              "      <td>4.0</td>\n",
              "      <td>4.0</td>\n",
              "    </tr>\n",
              "  </tbody>\n",
              "</table>\n",
              "<p>5533 rows × 4 columns</p>\n",
              "</div>"
            ],
            "text/plain": [
              "            median_house_value                housing_median_age      \n",
              "                          mean            std                sum   max\n",
              "total_rooms                                                           \n",
              "2.0                   137500.0            NaN                4.0   4.0\n",
              "8.0                   500001.0            NaN               52.0  52.0\n",
              "11.0                  162500.0            NaN               46.0  46.0\n",
              "12.0                   67500.0            NaN               46.0  46.0\n",
              "15.0                  256250.0  132582.521472               62.0  36.0\n",
              "...                        ...            ...                ...   ...\n",
              "30401.0               212300.0            NaN                4.0   4.0\n",
              "30405.0               399200.0            NaN                9.0   9.0\n",
              "32054.0               253900.0            NaN                8.0   8.0\n",
              "32627.0               118800.0            NaN               11.0  11.0\n",
              "37937.0               366300.0            NaN                4.0   4.0\n",
              "\n",
              "[5533 rows x 4 columns]"
            ]
          },
          "metadata": {
            "tags": []
          },
          "execution_count": 103
        }
      ]
    },
    {
      "cell_type": "code",
      "metadata": {
        "id": "nNbEmuU-r-jj",
        "colab": {
          "base_uri": "https://localhost:8080/"
        },
        "outputId": "0b83b8e9-292e-481c-f30c-f0b4a1b88920"
      },
      "source": [
        "def rango(datos):\n",
        "  return datos.max()-datos.min()\n",
        "\n",
        "data.groupby(\"housing_median_age\").agg(rango)"
      ],
      "execution_count": null,
      "outputs": [
        {
          "output_type": "execute_result",
          "data": {
            "text/html": [
              "<div>\n",
              "<style scoped>\n",
              "    .dataframe tbody tr th:only-of-type {\n",
              "        vertical-align: middle;\n",
              "    }\n",
              "\n",
              "    .dataframe tbody tr th {\n",
              "        vertical-align: top;\n",
              "    }\n",
              "\n",
              "    .dataframe thead th {\n",
              "        text-align: right;\n",
              "    }\n",
              "</style>\n",
              "<table border=\"1\" class=\"dataframe\">\n",
              "  <thead>\n",
              "    <tr style=\"text-align: right;\">\n",
              "      <th></th>\n",
              "      <th>longitude</th>\n",
              "      <th>latitude</th>\n",
              "      <th>total_rooms</th>\n",
              "      <th>total_bedrooms</th>\n",
              "      <th>population</th>\n",
              "      <th>households</th>\n",
              "      <th>median_income</th>\n",
              "      <th>median_house_value</th>\n",
              "    </tr>\n",
              "    <tr>\n",
              "      <th>housing_median_age</th>\n",
              "      <th></th>\n",
              "      <th></th>\n",
              "      <th></th>\n",
              "      <th></th>\n",
              "      <th></th>\n",
              "      <th></th>\n",
              "      <th></th>\n",
              "      <th></th>\n",
              "    </tr>\n",
              "  </thead>\n",
              "  <tbody>\n",
              "    <tr>\n",
              "      <th>1.0</th>\n",
              "      <td>1.07</td>\n",
              "      <td>0.58</td>\n",
              "      <td>192.0</td>\n",
              "      <td>15.0</td>\n",
              "      <td>470.0</td>\n",
              "      <td>156.0</td>\n",
              "      <td>1.0136</td>\n",
              "      <td>2100.0</td>\n",
              "    </tr>\n",
              "    <tr>\n",
              "      <th>2.0</th>\n",
              "      <td>6.71</td>\n",
              "      <td>7.42</td>\n",
              "      <td>21801.0</td>\n",
              "      <td>3495.0</td>\n",
              "      <td>8622.0</td>\n",
              "      <td>2857.0</td>\n",
              "      <td>8.1864</td>\n",
              "      <td>452501.0</td>\n",
              "    </tr>\n",
              "    <tr>\n",
              "      <th>3.0</th>\n",
              "      <td>6.73</td>\n",
              "      <td>5.90</td>\n",
              "      <td>20585.0</td>\n",
              "      <td>3444.0</td>\n",
              "      <td>9387.0</td>\n",
              "      <td>2989.0</td>\n",
              "      <td>9.4012</td>\n",
              "      <td>416801.0</td>\n",
              "    </tr>\n",
              "    <tr>\n",
              "      <th>4.0</th>\n",
              "      <td>5.96</td>\n",
              "      <td>6.35</td>\n",
              "      <td>37935.0</td>\n",
              "      <td>5469.0</td>\n",
              "      <td>16116.0</td>\n",
              "      <td>5187.0</td>\n",
              "      <td>12.9523</td>\n",
              "      <td>457501.0</td>\n",
              "    </tr>\n",
              "    <tr>\n",
              "      <th>5.0</th>\n",
              "      <td>7.00</td>\n",
              "      <td>8.05</td>\n",
              "      <td>25076.0</td>\n",
              "      <td>4365.0</td>\n",
              "      <td>11915.0</td>\n",
              "      <td>3866.0</td>\n",
              "      <td>11.8794</td>\n",
              "      <td>450001.0</td>\n",
              "    </tr>\n",
              "    <tr>\n",
              "      <th>6.0</th>\n",
              "      <td>7.24</td>\n",
              "      <td>6.06</td>\n",
              "      <td>16353.0</td>\n",
              "      <td>2629.0</td>\n",
              "      <td>8195.0</td>\n",
              "      <td>2543.0</td>\n",
              "      <td>12.2304</td>\n",
              "      <td>442001.0</td>\n",
              "    </tr>\n",
              "    <tr>\n",
              "      <th>7.0</th>\n",
              "      <td>6.48</td>\n",
              "      <td>8.06</td>\n",
              "      <td>28181.0</td>\n",
              "      <td>4395.0</td>\n",
              "      <td>14987.0</td>\n",
              "      <td>4057.0</td>\n",
              "      <td>12.5426</td>\n",
              "      <td>443801.0</td>\n",
              "    </tr>\n",
              "    <tr>\n",
              "      <th>8.0</th>\n",
              "      <td>7.41</td>\n",
              "      <td>8.06</td>\n",
              "      <td>32022.0</td>\n",
              "      <td>5281.0</td>\n",
              "      <td>15482.0</td>\n",
              "      <td>5043.0</td>\n",
              "      <td>14.0878</td>\n",
              "      <td>477501.0</td>\n",
              "    </tr>\n",
              "    <tr>\n",
              "      <th>9.0</th>\n",
              "      <td>7.27</td>\n",
              "      <td>8.06</td>\n",
              "      <td>30151.0</td>\n",
              "      <td>4045.0</td>\n",
              "      <td>12807.0</td>\n",
              "      <td>3902.0</td>\n",
              "      <td>9.9337</td>\n",
              "      <td>445801.0</td>\n",
              "    </tr>\n",
              "    <tr>\n",
              "      <th>10.0</th>\n",
              "      <td>7.88</td>\n",
              "      <td>8.10</td>\n",
              "      <td>20194.0</td>\n",
              "      <td>4936.0</td>\n",
              "      <td>9803.0</td>\n",
              "      <td>4600.0</td>\n",
              "      <td>12.0421</td>\n",
              "      <td>446701.0</td>\n",
              "    </tr>\n",
              "    <tr>\n",
              "      <th>11.0</th>\n",
              "      <td>8.72</td>\n",
              "      <td>9.17</td>\n",
              "      <td>32555.0</td>\n",
              "      <td>6429.0</td>\n",
              "      <td>28497.0</td>\n",
              "      <td>6062.0</td>\n",
              "      <td>12.2250</td>\n",
              "      <td>449601.0</td>\n",
              "    </tr>\n",
              "    <tr>\n",
              "      <th>12.0</th>\n",
              "      <td>8.56</td>\n",
              "      <td>8.34</td>\n",
              "      <td>25900.0</td>\n",
              "      <td>4776.0</td>\n",
              "      <td>12116.0</td>\n",
              "      <td>4475.0</td>\n",
              "      <td>9.2630</td>\n",
              "      <td>460001.0</td>\n",
              "    </tr>\n",
              "    <tr>\n",
              "      <th>13.0</th>\n",
              "      <td>8.67</td>\n",
              "      <td>8.74</td>\n",
              "      <td>18227.0</td>\n",
              "      <td>3432.0</td>\n",
              "      <td>7689.0</td>\n",
              "      <td>3200.0</td>\n",
              "      <td>9.0058</td>\n",
              "      <td>457001.0</td>\n",
              "    </tr>\n",
              "    <tr>\n",
              "      <th>14.0</th>\n",
              "      <td>9.48</td>\n",
              "      <td>8.97</td>\n",
              "      <td>24904.0</td>\n",
              "      <td>4783.0</td>\n",
              "      <td>35594.0</td>\n",
              "      <td>4738.0</td>\n",
              "      <td>13.8700</td>\n",
              "      <td>467101.0</td>\n",
              "    </tr>\n",
              "    <tr>\n",
              "      <th>15.0</th>\n",
              "      <td>9.88</td>\n",
              "      <td>9.23</td>\n",
              "      <td>15834.0</td>\n",
              "      <td>2839.0</td>\n",
              "      <td>8946.0</td>\n",
              "      <td>2769.0</td>\n",
              "      <td>14.5002</td>\n",
              "      <td>467501.0</td>\n",
              "    </tr>\n",
              "    <tr>\n",
              "      <th>16.0</th>\n",
              "      <td>9.40</td>\n",
              "      <td>8.37</td>\n",
              "      <td>19041.0</td>\n",
              "      <td>4180.0</td>\n",
              "      <td>10985.0</td>\n",
              "      <td>3591.0</td>\n",
              "      <td>11.5089</td>\n",
              "      <td>485002.0</td>\n",
              "    </tr>\n",
              "    <tr>\n",
              "      <th>17.0</th>\n",
              "      <td>9.74</td>\n",
              "      <td>9.28</td>\n",
              "      <td>17626.0</td>\n",
              "      <td>3611.0</td>\n",
              "      <td>7636.0</td>\n",
              "      <td>3161.0</td>\n",
              "      <td>14.3176</td>\n",
              "      <td>472501.0</td>\n",
              "    </tr>\n",
              "    <tr>\n",
              "      <th>18.0</th>\n",
              "      <td>8.88</td>\n",
              "      <td>9.39</td>\n",
              "      <td>12605.0</td>\n",
              "      <td>2776.0</td>\n",
              "      <td>6954.0</td>\n",
              "      <td>2531.0</td>\n",
              "      <td>10.7771</td>\n",
              "      <td>452501.0</td>\n",
              "    </tr>\n",
              "    <tr>\n",
              "      <th>19.0</th>\n",
              "      <td>9.83</td>\n",
              "      <td>9.27</td>\n",
              "      <td>15869.0</td>\n",
              "      <td>3059.0</td>\n",
              "      <td>11171.0</td>\n",
              "      <td>2877.0</td>\n",
              "      <td>14.2975</td>\n",
              "      <td>485002.0</td>\n",
              "    </tr>\n",
              "    <tr>\n",
              "      <th>20.0</th>\n",
              "      <td>9.64</td>\n",
              "      <td>9.26</td>\n",
              "      <td>17340.0</td>\n",
              "      <td>4446.0</td>\n",
              "      <td>7570.0</td>\n",
              "      <td>4196.0</td>\n",
              "      <td>11.3198</td>\n",
              "      <td>467501.0</td>\n",
              "    </tr>\n",
              "    <tr>\n",
              "      <th>21.0</th>\n",
              "      <td>9.59</td>\n",
              "      <td>9.38</td>\n",
              "      <td>12858.0</td>\n",
              "      <td>3006.0</td>\n",
              "      <td>7218.0</td>\n",
              "      <td>2812.0</td>\n",
              "      <td>10.8262</td>\n",
              "      <td>475001.0</td>\n",
              "    </tr>\n",
              "    <tr>\n",
              "      <th>22.0</th>\n",
              "      <td>8.59</td>\n",
              "      <td>9.12</td>\n",
              "      <td>17394.0</td>\n",
              "      <td>3626.0</td>\n",
              "      <td>9037.0</td>\n",
              "      <td>3480.0</td>\n",
              "      <td>10.4990</td>\n",
              "      <td>465601.0</td>\n",
              "    </tr>\n",
              "    <tr>\n",
              "      <th>23.0</th>\n",
              "      <td>8.79</td>\n",
              "      <td>9.14</td>\n",
              "      <td>11145.0</td>\n",
              "      <td>1963.0</td>\n",
              "      <td>6266.0</td>\n",
              "      <td>1890.0</td>\n",
              "      <td>12.4793</td>\n",
              "      <td>470001.0</td>\n",
              "    </tr>\n",
              "    <tr>\n",
              "      <th>24.0</th>\n",
              "      <td>9.42</td>\n",
              "      <td>8.43</td>\n",
              "      <td>10197.0</td>\n",
              "      <td>2809.0</td>\n",
              "      <td>7142.0</td>\n",
              "      <td>2557.0</td>\n",
              "      <td>13.9400</td>\n",
              "      <td>467501.0</td>\n",
              "    </tr>\n",
              "    <tr>\n",
              "      <th>25.0</th>\n",
              "      <td>9.56</td>\n",
              "      <td>9.29</td>\n",
              "      <td>10834.0</td>\n",
              "      <td>3138.0</td>\n",
              "      <td>7651.0</td>\n",
              "      <td>2886.0</td>\n",
              "      <td>12.5923</td>\n",
              "      <td>454501.0</td>\n",
              "    </tr>\n",
              "    <tr>\n",
              "      <th>26.0</th>\n",
              "      <td>8.17</td>\n",
              "      <td>8.64</td>\n",
              "      <td>8887.0</td>\n",
              "      <td>2052.0</td>\n",
              "      <td>8543.0</td>\n",
              "      <td>1819.0</td>\n",
              "      <td>14.4641</td>\n",
              "      <td>463401.0</td>\n",
              "    </tr>\n",
              "    <tr>\n",
              "      <th>27.0</th>\n",
              "      <td>8.60</td>\n",
              "      <td>8.40</td>\n",
              "      <td>12132.0</td>\n",
              "      <td>2574.0</td>\n",
              "      <td>4926.0</td>\n",
              "      <td>1719.0</td>\n",
              "      <td>14.1458</td>\n",
              "      <td>460001.0</td>\n",
              "    </tr>\n",
              "    <tr>\n",
              "      <th>28.0</th>\n",
              "      <td>9.57</td>\n",
              "      <td>9.28</td>\n",
              "      <td>12113.0</td>\n",
              "      <td>2870.0</td>\n",
              "      <td>6883.0</td>\n",
              "      <td>2722.0</td>\n",
              "      <td>13.9114</td>\n",
              "      <td>459101.0</td>\n",
              "    </tr>\n",
              "    <tr>\n",
              "      <th>29.0</th>\n",
              "      <td>9.56</td>\n",
              "      <td>8.78</td>\n",
              "      <td>17614.0</td>\n",
              "      <td>3092.0</td>\n",
              "      <td>12377.0</td>\n",
              "      <td>2808.0</td>\n",
              "      <td>13.2401</td>\n",
              "      <td>471701.0</td>\n",
              "    </tr>\n",
              "    <tr>\n",
              "      <th>30.0</th>\n",
              "      <td>8.82</td>\n",
              "      <td>8.18</td>\n",
              "      <td>6492.0</td>\n",
              "      <td>1550.0</td>\n",
              "      <td>4460.0</td>\n",
              "      <td>1523.0</td>\n",
              "      <td>11.7422</td>\n",
              "      <td>457501.0</td>\n",
              "    </tr>\n",
              "    <tr>\n",
              "      <th>31.0</th>\n",
              "      <td>9.52</td>\n",
              "      <td>8.87</td>\n",
              "      <td>9280.0</td>\n",
              "      <td>1819.0</td>\n",
              "      <td>5641.0</td>\n",
              "      <td>1748.0</td>\n",
              "      <td>14.2317</td>\n",
              "      <td>465801.0</td>\n",
              "    </tr>\n",
              "    <tr>\n",
              "      <th>32.0</th>\n",
              "      <td>8.88</td>\n",
              "      <td>8.57</td>\n",
              "      <td>14260.0</td>\n",
              "      <td>2019.0</td>\n",
              "      <td>5321.0</td>\n",
              "      <td>1965.0</td>\n",
              "      <td>14.1017</td>\n",
              "      <td>456901.0</td>\n",
              "    </tr>\n",
              "    <tr>\n",
              "      <th>33.0</th>\n",
              "      <td>8.72</td>\n",
              "      <td>9.14</td>\n",
              "      <td>9499.0</td>\n",
              "      <td>1577.0</td>\n",
              "      <td>5627.0</td>\n",
              "      <td>1527.0</td>\n",
              "      <td>14.4641</td>\n",
              "      <td>477501.0</td>\n",
              "    </tr>\n",
              "    <tr>\n",
              "      <th>34.0</th>\n",
              "      <td>9.59</td>\n",
              "      <td>9.21</td>\n",
              "      <td>9235.0</td>\n",
              "      <td>1903.0</td>\n",
              "      <td>5441.0</td>\n",
              "      <td>1776.0</td>\n",
              "      <td>14.1094</td>\n",
              "      <td>473401.0</td>\n",
              "    </tr>\n",
              "    <tr>\n",
              "      <th>35.0</th>\n",
              "      <td>8.80</td>\n",
              "      <td>8.21</td>\n",
              "      <td>10702.0</td>\n",
              "      <td>2930.0</td>\n",
              "      <td>9779.0</td>\n",
              "      <td>2740.0</td>\n",
              "      <td>14.2926</td>\n",
              "      <td>460401.0</td>\n",
              "    </tr>\n",
              "    <tr>\n",
              "      <th>36.0</th>\n",
              "      <td>7.71</td>\n",
              "      <td>8.20</td>\n",
              "      <td>6856.0</td>\n",
              "      <td>2472.0</td>\n",
              "      <td>4696.0</td>\n",
              "      <td>2321.0</td>\n",
              "      <td>14.5002</td>\n",
              "      <td>485002.0</td>\n",
              "    </tr>\n",
              "    <tr>\n",
              "      <th>37.0</th>\n",
              "      <td>8.59</td>\n",
              "      <td>8.17</td>\n",
              "      <td>5375.0</td>\n",
              "      <td>1963.0</td>\n",
              "      <td>3866.0</td>\n",
              "      <td>1860.0</td>\n",
              "      <td>12.6839</td>\n",
              "      <td>457901.0</td>\n",
              "    </tr>\n",
              "    <tr>\n",
              "      <th>38.0</th>\n",
              "      <td>8.76</td>\n",
              "      <td>8.15</td>\n",
              "      <td>5536.0</td>\n",
              "      <td>1283.0</td>\n",
              "      <td>3661.0</td>\n",
              "      <td>1243.0</td>\n",
              "      <td>12.0140</td>\n",
              "      <td>460601.0</td>\n",
              "    </tr>\n",
              "    <tr>\n",
              "      <th>39.0</th>\n",
              "      <td>7.11</td>\n",
              "      <td>8.10</td>\n",
              "      <td>8146.0</td>\n",
              "      <td>1731.0</td>\n",
              "      <td>6801.0</td>\n",
              "      <td>1574.0</td>\n",
              "      <td>11.1443</td>\n",
              "      <td>482501.0</td>\n",
              "    </tr>\n",
              "    <tr>\n",
              "      <th>40.0</th>\n",
              "      <td>5.84</td>\n",
              "      <td>9.15</td>\n",
              "      <td>7670.0</td>\n",
              "      <td>2141.0</td>\n",
              "      <td>4778.0</td>\n",
              "      <td>1996.0</td>\n",
              "      <td>14.0767</td>\n",
              "      <td>457001.0</td>\n",
              "    </tr>\n",
              "    <tr>\n",
              "      <th>41.0</th>\n",
              "      <td>9.39</td>\n",
              "      <td>8.20</td>\n",
              "      <td>4320.0</td>\n",
              "      <td>1110.0</td>\n",
              "      <td>3060.0</td>\n",
              "      <td>1011.0</td>\n",
              "      <td>7.8837</td>\n",
              "      <td>458201.0</td>\n",
              "    </tr>\n",
              "    <tr>\n",
              "      <th>42.0</th>\n",
              "      <td>7.03</td>\n",
              "      <td>9.08</td>\n",
              "      <td>6191.0</td>\n",
              "      <td>2275.0</td>\n",
              "      <td>6806.0</td>\n",
              "      <td>2131.0</td>\n",
              "      <td>14.1010</td>\n",
              "      <td>460601.0</td>\n",
              "    </tr>\n",
              "    <tr>\n",
              "      <th>43.0</th>\n",
              "      <td>7.16</td>\n",
              "      <td>8.13</td>\n",
              "      <td>4906.0</td>\n",
              "      <td>1634.0</td>\n",
              "      <td>3876.0</td>\n",
              "      <td>1416.0</td>\n",
              "      <td>14.5002</td>\n",
              "      <td>453401.0</td>\n",
              "    </tr>\n",
              "    <tr>\n",
              "      <th>44.0</th>\n",
              "      <td>8.36</td>\n",
              "      <td>8.18</td>\n",
              "      <td>6862.0</td>\n",
              "      <td>1555.0</td>\n",
              "      <td>3771.0</td>\n",
              "      <td>1353.0</td>\n",
              "      <td>11.2661</td>\n",
              "      <td>451701.0</td>\n",
              "    </tr>\n",
              "    <tr>\n",
              "      <th>45.0</th>\n",
              "      <td>6.10</td>\n",
              "      <td>8.74</td>\n",
              "      <td>7682.0</td>\n",
              "      <td>2129.0</td>\n",
              "      <td>4648.0</td>\n",
              "      <td>2014.0</td>\n",
              "      <td>14.0664</td>\n",
              "      <td>470001.0</td>\n",
              "    </tr>\n",
              "    <tr>\n",
              "      <th>46.0</th>\n",
              "      <td>9.56</td>\n",
              "      <td>8.12</td>\n",
              "      <td>6418.0</td>\n",
              "      <td>2606.0</td>\n",
              "      <td>7430.0</td>\n",
              "      <td>2401.0</td>\n",
              "      <td>14.5002</td>\n",
              "      <td>473101.0</td>\n",
              "    </tr>\n",
              "    <tr>\n",
              "      <th>47.0</th>\n",
              "      <td>7.05</td>\n",
              "      <td>8.19</td>\n",
              "      <td>4953.0</td>\n",
              "      <td>1163.0</td>\n",
              "      <td>3053.0</td>\n",
              "      <td>1020.0</td>\n",
              "      <td>8.2722</td>\n",
              "      <td>450401.0</td>\n",
              "    </tr>\n",
              "    <tr>\n",
              "      <th>48.0</th>\n",
              "      <td>8.36</td>\n",
              "      <td>6.82</td>\n",
              "      <td>4363.0</td>\n",
              "      <td>1301.0</td>\n",
              "      <td>3169.0</td>\n",
              "      <td>1189.0</td>\n",
              "      <td>14.1977</td>\n",
              "      <td>451401.0</td>\n",
              "    </tr>\n",
              "    <tr>\n",
              "      <th>49.0</th>\n",
              "      <td>6.69</td>\n",
              "      <td>6.76</td>\n",
              "      <td>4351.0</td>\n",
              "      <td>1173.0</td>\n",
              "      <td>2803.0</td>\n",
              "      <td>986.0</td>\n",
              "      <td>12.2523</td>\n",
              "      <td>448001.0</td>\n",
              "    </tr>\n",
              "    <tr>\n",
              "      <th>50.0</th>\n",
              "      <td>7.05</td>\n",
              "      <td>9.03</td>\n",
              "      <td>3470.0</td>\n",
              "      <td>1062.0</td>\n",
              "      <td>3004.0</td>\n",
              "      <td>962.0</td>\n",
              "      <td>12.0995</td>\n",
              "      <td>445801.0</td>\n",
              "    </tr>\n",
              "    <tr>\n",
              "      <th>51.0</th>\n",
              "      <td>5.33</td>\n",
              "      <td>7.45</td>\n",
              "      <td>4105.0</td>\n",
              "      <td>589.0</td>\n",
              "      <td>1567.0</td>\n",
              "      <td>566.0</td>\n",
              "      <td>8.0842</td>\n",
              "      <td>448101.0</td>\n",
              "    </tr>\n",
              "    <tr>\n",
              "      <th>52.0</th>\n",
              "      <td>7.47</td>\n",
              "      <td>8.65</td>\n",
              "      <td>6008.0</td>\n",
              "      <td>2746.0</td>\n",
              "      <td>4505.0</td>\n",
              "      <td>2537.0</td>\n",
              "      <td>14.5002</td>\n",
              "      <td>485002.0</td>\n",
              "    </tr>\n",
              "  </tbody>\n",
              "</table>\n",
              "</div>"
            ],
            "text/plain": [
              "                    longitude  latitude  ...  median_income  median_house_value\n",
              "housing_median_age                       ...                                   \n",
              "1.0                      1.07      0.58  ...         1.0136              2100.0\n",
              "2.0                      6.71      7.42  ...         8.1864            452501.0\n",
              "3.0                      6.73      5.90  ...         9.4012            416801.0\n",
              "4.0                      5.96      6.35  ...        12.9523            457501.0\n",
              "5.0                      7.00      8.05  ...        11.8794            450001.0\n",
              "6.0                      7.24      6.06  ...        12.2304            442001.0\n",
              "7.0                      6.48      8.06  ...        12.5426            443801.0\n",
              "8.0                      7.41      8.06  ...        14.0878            477501.0\n",
              "9.0                      7.27      8.06  ...         9.9337            445801.0\n",
              "10.0                     7.88      8.10  ...        12.0421            446701.0\n",
              "11.0                     8.72      9.17  ...        12.2250            449601.0\n",
              "12.0                     8.56      8.34  ...         9.2630            460001.0\n",
              "13.0                     8.67      8.74  ...         9.0058            457001.0\n",
              "14.0                     9.48      8.97  ...        13.8700            467101.0\n",
              "15.0                     9.88      9.23  ...        14.5002            467501.0\n",
              "16.0                     9.40      8.37  ...        11.5089            485002.0\n",
              "17.0                     9.74      9.28  ...        14.3176            472501.0\n",
              "18.0                     8.88      9.39  ...        10.7771            452501.0\n",
              "19.0                     9.83      9.27  ...        14.2975            485002.0\n",
              "20.0                     9.64      9.26  ...        11.3198            467501.0\n",
              "21.0                     9.59      9.38  ...        10.8262            475001.0\n",
              "22.0                     8.59      9.12  ...        10.4990            465601.0\n",
              "23.0                     8.79      9.14  ...        12.4793            470001.0\n",
              "24.0                     9.42      8.43  ...        13.9400            467501.0\n",
              "25.0                     9.56      9.29  ...        12.5923            454501.0\n",
              "26.0                     8.17      8.64  ...        14.4641            463401.0\n",
              "27.0                     8.60      8.40  ...        14.1458            460001.0\n",
              "28.0                     9.57      9.28  ...        13.9114            459101.0\n",
              "29.0                     9.56      8.78  ...        13.2401            471701.0\n",
              "30.0                     8.82      8.18  ...        11.7422            457501.0\n",
              "31.0                     9.52      8.87  ...        14.2317            465801.0\n",
              "32.0                     8.88      8.57  ...        14.1017            456901.0\n",
              "33.0                     8.72      9.14  ...        14.4641            477501.0\n",
              "34.0                     9.59      9.21  ...        14.1094            473401.0\n",
              "35.0                     8.80      8.21  ...        14.2926            460401.0\n",
              "36.0                     7.71      8.20  ...        14.5002            485002.0\n",
              "37.0                     8.59      8.17  ...        12.6839            457901.0\n",
              "38.0                     8.76      8.15  ...        12.0140            460601.0\n",
              "39.0                     7.11      8.10  ...        11.1443            482501.0\n",
              "40.0                     5.84      9.15  ...        14.0767            457001.0\n",
              "41.0                     9.39      8.20  ...         7.8837            458201.0\n",
              "42.0                     7.03      9.08  ...        14.1010            460601.0\n",
              "43.0                     7.16      8.13  ...        14.5002            453401.0\n",
              "44.0                     8.36      8.18  ...        11.2661            451701.0\n",
              "45.0                     6.10      8.74  ...        14.0664            470001.0\n",
              "46.0                     9.56      8.12  ...        14.5002            473101.0\n",
              "47.0                     7.05      8.19  ...         8.2722            450401.0\n",
              "48.0                     8.36      6.82  ...        14.1977            451401.0\n",
              "49.0                     6.69      6.76  ...        12.2523            448001.0\n",
              "50.0                     7.05      9.03  ...        12.0995            445801.0\n",
              "51.0                     5.33      7.45  ...         8.0842            448101.0\n",
              "52.0                     7.47      8.65  ...        14.5002            485002.0\n",
              "\n",
              "[52 rows x 8 columns]"
            ]
          },
          "metadata": {
            "tags": []
          },
          "execution_count": 104
        }
      ]
    },
    {
      "cell_type": "markdown",
      "metadata": {
        "id": "fBvOlZqSsMz5"
      },
      "source": [
        "## Concatenación y combinación de dataframes\n",
        "\n",
        "La concatenación se realiza mediante la función `concat()` y la combinación mediante la función `merge()`\n",
        "\n",
        "Revisar esta [página](https://pandas.pydata.org/pandas-docs/stable/user_guide/merging.html)"
      ]
    },
    {
      "cell_type": "code",
      "metadata": {
        "id": "kxTLE1_0sL-B"
      },
      "source": [
        "raw_data_1 = {\n",
        "        'subject_id': ['1', '2', '3', '4', '5'],\n",
        "        'first_name': ['Alex', 'Amy', 'Allen', 'Alice', 'Ayoung'], \n",
        "        'last_name': ['Anderson', 'Ackerman', 'Ali', 'Aoni', 'Atiches']}\n",
        "\n",
        "raw_data_2 = {\n",
        "        'subject_id': ['4', '5', '6', '7', '8'],\n",
        "        'first_name': ['Billy', 'Brian', 'Bran', 'Bryce', 'Betty'], \n",
        "        'last_name': ['Bonder', 'Black', 'Balwner', 'Brice', 'Btisan']}\n",
        "\n",
        "raw_data_3 = {\n",
        "        'subject_id': ['1', '2', '3', '4', '5', '7', '8', '9', '10', '11'],\n",
        "        'test_id': [51, 15, 15, 61, 16, 14, 15, 1, 61, 16]}\n",
        "\n",
        "data1 = pd.DataFrame(raw_data_1, columns = ['subject_id', 'first_name', 'last_name'])\n",
        "data2 = pd.DataFrame(raw_data_2, columns = ['subject_id', 'first_name', 'last_name'])\n",
        "data3 = pd.DataFrame(raw_data_3, columns = ['subject_id','test_id'])"
      ],
      "execution_count": null,
      "outputs": []
    },
    {
      "cell_type": "code",
      "metadata": {
        "id": "vbHWFPRRsmNI",
        "colab": {
          "base_uri": "https://localhost:8080/"
        },
        "outputId": "f6e7b531-9284-4f3c-e300-b74e3664d052"
      },
      "source": [
        "# Concatenar por filas\n",
        "all_data = pd.concat([data1, data2])\n",
        "all_data"
      ],
      "execution_count": null,
      "outputs": [
        {
          "output_type": "execute_result",
          "data": {
            "text/html": [
              "<div>\n",
              "<style scoped>\n",
              "    .dataframe tbody tr th:only-of-type {\n",
              "        vertical-align: middle;\n",
              "    }\n",
              "\n",
              "    .dataframe tbody tr th {\n",
              "        vertical-align: top;\n",
              "    }\n",
              "\n",
              "    .dataframe thead th {\n",
              "        text-align: right;\n",
              "    }\n",
              "</style>\n",
              "<table border=\"1\" class=\"dataframe\">\n",
              "  <thead>\n",
              "    <tr style=\"text-align: right;\">\n",
              "      <th></th>\n",
              "      <th>subject_id</th>\n",
              "      <th>first_name</th>\n",
              "      <th>last_name</th>\n",
              "    </tr>\n",
              "  </thead>\n",
              "  <tbody>\n",
              "    <tr>\n",
              "      <th>0</th>\n",
              "      <td>1</td>\n",
              "      <td>Alex</td>\n",
              "      <td>Anderson</td>\n",
              "    </tr>\n",
              "    <tr>\n",
              "      <th>1</th>\n",
              "      <td>2</td>\n",
              "      <td>Amy</td>\n",
              "      <td>Ackerman</td>\n",
              "    </tr>\n",
              "    <tr>\n",
              "      <th>2</th>\n",
              "      <td>3</td>\n",
              "      <td>Allen</td>\n",
              "      <td>Ali</td>\n",
              "    </tr>\n",
              "    <tr>\n",
              "      <th>3</th>\n",
              "      <td>4</td>\n",
              "      <td>Alice</td>\n",
              "      <td>Aoni</td>\n",
              "    </tr>\n",
              "    <tr>\n",
              "      <th>4</th>\n",
              "      <td>5</td>\n",
              "      <td>Ayoung</td>\n",
              "      <td>Atiches</td>\n",
              "    </tr>\n",
              "    <tr>\n",
              "      <th>0</th>\n",
              "      <td>4</td>\n",
              "      <td>Billy</td>\n",
              "      <td>Bonder</td>\n",
              "    </tr>\n",
              "    <tr>\n",
              "      <th>1</th>\n",
              "      <td>5</td>\n",
              "      <td>Brian</td>\n",
              "      <td>Black</td>\n",
              "    </tr>\n",
              "    <tr>\n",
              "      <th>2</th>\n",
              "      <td>6</td>\n",
              "      <td>Bran</td>\n",
              "      <td>Balwner</td>\n",
              "    </tr>\n",
              "    <tr>\n",
              "      <th>3</th>\n",
              "      <td>7</td>\n",
              "      <td>Bryce</td>\n",
              "      <td>Brice</td>\n",
              "    </tr>\n",
              "    <tr>\n",
              "      <th>4</th>\n",
              "      <td>8</td>\n",
              "      <td>Betty</td>\n",
              "      <td>Btisan</td>\n",
              "    </tr>\n",
              "  </tbody>\n",
              "</table>\n",
              "</div>"
            ],
            "text/plain": [
              "  subject_id first_name last_name\n",
              "0          1       Alex  Anderson\n",
              "1          2        Amy  Ackerman\n",
              "2          3      Allen       Ali\n",
              "3          4      Alice      Aoni\n",
              "4          5     Ayoung   Atiches\n",
              "0          4      Billy    Bonder\n",
              "1          5      Brian     Black\n",
              "2          6       Bran   Balwner\n",
              "3          7      Bryce     Brice\n",
              "4          8      Betty    Btisan"
            ]
          },
          "metadata": {
            "tags": []
          },
          "execution_count": 106
        }
      ]
    },
    {
      "cell_type": "code",
      "metadata": {
        "id": "4koHlxR0tA4l",
        "colab": {
          "base_uri": "https://localhost:8080/"
        },
        "outputId": "34c24293-bf00-43f1-e088-411d60be597c"
      },
      "source": [
        "# Concatenar por columnas\n",
        "all_data_col = pd.concat([data1, data2], axis = 1)\n",
        "all_data_col"
      ],
      "execution_count": null,
      "outputs": [
        {
          "output_type": "execute_result",
          "data": {
            "text/html": [
              "<div>\n",
              "<style scoped>\n",
              "    .dataframe tbody tr th:only-of-type {\n",
              "        vertical-align: middle;\n",
              "    }\n",
              "\n",
              "    .dataframe tbody tr th {\n",
              "        vertical-align: top;\n",
              "    }\n",
              "\n",
              "    .dataframe thead th {\n",
              "        text-align: right;\n",
              "    }\n",
              "</style>\n",
              "<table border=\"1\" class=\"dataframe\">\n",
              "  <thead>\n",
              "    <tr style=\"text-align: right;\">\n",
              "      <th></th>\n",
              "      <th>subject_id</th>\n",
              "      <th>first_name</th>\n",
              "      <th>last_name</th>\n",
              "      <th>subject_id</th>\n",
              "      <th>first_name</th>\n",
              "      <th>last_name</th>\n",
              "    </tr>\n",
              "  </thead>\n",
              "  <tbody>\n",
              "    <tr>\n",
              "      <th>0</th>\n",
              "      <td>1</td>\n",
              "      <td>Alex</td>\n",
              "      <td>Anderson</td>\n",
              "      <td>4</td>\n",
              "      <td>Billy</td>\n",
              "      <td>Bonder</td>\n",
              "    </tr>\n",
              "    <tr>\n",
              "      <th>1</th>\n",
              "      <td>2</td>\n",
              "      <td>Amy</td>\n",
              "      <td>Ackerman</td>\n",
              "      <td>5</td>\n",
              "      <td>Brian</td>\n",
              "      <td>Black</td>\n",
              "    </tr>\n",
              "    <tr>\n",
              "      <th>2</th>\n",
              "      <td>3</td>\n",
              "      <td>Allen</td>\n",
              "      <td>Ali</td>\n",
              "      <td>6</td>\n",
              "      <td>Bran</td>\n",
              "      <td>Balwner</td>\n",
              "    </tr>\n",
              "    <tr>\n",
              "      <th>3</th>\n",
              "      <td>4</td>\n",
              "      <td>Alice</td>\n",
              "      <td>Aoni</td>\n",
              "      <td>7</td>\n",
              "      <td>Bryce</td>\n",
              "      <td>Brice</td>\n",
              "    </tr>\n",
              "    <tr>\n",
              "      <th>4</th>\n",
              "      <td>5</td>\n",
              "      <td>Ayoung</td>\n",
              "      <td>Atiches</td>\n",
              "      <td>8</td>\n",
              "      <td>Betty</td>\n",
              "      <td>Btisan</td>\n",
              "    </tr>\n",
              "  </tbody>\n",
              "</table>\n",
              "</div>"
            ],
            "text/plain": [
              "  subject_id first_name last_name subject_id first_name last_name\n",
              "0          1       Alex  Anderson          4      Billy    Bonder\n",
              "1          2        Amy  Ackerman          5      Brian     Black\n",
              "2          3      Allen       Ali          6       Bran   Balwner\n",
              "3          4      Alice      Aoni          7      Bryce     Brice\n",
              "4          5     Ayoung   Atiches          8      Betty    Btisan"
            ]
          },
          "metadata": {
            "tags": []
          },
          "execution_count": 107
        }
      ]
    },
    {
      "cell_type": "code",
      "metadata": {
        "id": "TGA45z1uYamW",
        "colab": {
          "base_uri": "https://localhost:8080/"
        },
        "outputId": "7f5100ef-4475-43b2-afa9-2989330a7285"
      },
      "source": [
        "all_data_col['subject_id']"
      ],
      "execution_count": null,
      "outputs": [
        {
          "output_type": "execute_result",
          "data": {
            "text/html": [
              "<div>\n",
              "<style scoped>\n",
              "    .dataframe tbody tr th:only-of-type {\n",
              "        vertical-align: middle;\n",
              "    }\n",
              "\n",
              "    .dataframe tbody tr th {\n",
              "        vertical-align: top;\n",
              "    }\n",
              "\n",
              "    .dataframe thead th {\n",
              "        text-align: right;\n",
              "    }\n",
              "</style>\n",
              "<table border=\"1\" class=\"dataframe\">\n",
              "  <thead>\n",
              "    <tr style=\"text-align: right;\">\n",
              "      <th></th>\n",
              "      <th>subject_id</th>\n",
              "      <th>subject_id</th>\n",
              "    </tr>\n",
              "  </thead>\n",
              "  <tbody>\n",
              "    <tr>\n",
              "      <th>0</th>\n",
              "      <td>1</td>\n",
              "      <td>4</td>\n",
              "    </tr>\n",
              "    <tr>\n",
              "      <th>1</th>\n",
              "      <td>2</td>\n",
              "      <td>5</td>\n",
              "    </tr>\n",
              "    <tr>\n",
              "      <th>2</th>\n",
              "      <td>3</td>\n",
              "      <td>6</td>\n",
              "    </tr>\n",
              "    <tr>\n",
              "      <th>3</th>\n",
              "      <td>4</td>\n",
              "      <td>7</td>\n",
              "    </tr>\n",
              "    <tr>\n",
              "      <th>4</th>\n",
              "      <td>5</td>\n",
              "      <td>8</td>\n",
              "    </tr>\n",
              "  </tbody>\n",
              "</table>\n",
              "</div>"
            ],
            "text/plain": [
              "  subject_id subject_id\n",
              "0          1          4\n",
              "1          2          5\n",
              "2          3          6\n",
              "3          4          7\n",
              "4          5          8"
            ]
          },
          "metadata": {
            "tags": []
          },
          "execution_count": 108
        }
      ]
    },
    {
      "cell_type": "code",
      "metadata": {
        "id": "RGbNfQvis92d",
        "colab": {
          "base_uri": "https://localhost:8080/"
        },
        "outputId": "267dd8fd-0c73-46c5-ab1a-738ecec254c3"
      },
      "source": [
        "# Combinar all_data y data3 a lo largo del valor de subject_id\n",
        "pd.merge(all_data, data3, on='subject_id')"
      ],
      "execution_count": null,
      "outputs": [
        {
          "output_type": "execute_result",
          "data": {
            "text/html": [
              "<div>\n",
              "<style scoped>\n",
              "    .dataframe tbody tr th:only-of-type {\n",
              "        vertical-align: middle;\n",
              "    }\n",
              "\n",
              "    .dataframe tbody tr th {\n",
              "        vertical-align: top;\n",
              "    }\n",
              "\n",
              "    .dataframe thead th {\n",
              "        text-align: right;\n",
              "    }\n",
              "</style>\n",
              "<table border=\"1\" class=\"dataframe\">\n",
              "  <thead>\n",
              "    <tr style=\"text-align: right;\">\n",
              "      <th></th>\n",
              "      <th>subject_id</th>\n",
              "      <th>first_name</th>\n",
              "      <th>last_name</th>\n",
              "      <th>test_id</th>\n",
              "    </tr>\n",
              "  </thead>\n",
              "  <tbody>\n",
              "    <tr>\n",
              "      <th>0</th>\n",
              "      <td>1</td>\n",
              "      <td>Alex</td>\n",
              "      <td>Anderson</td>\n",
              "      <td>51</td>\n",
              "    </tr>\n",
              "    <tr>\n",
              "      <th>1</th>\n",
              "      <td>2</td>\n",
              "      <td>Amy</td>\n",
              "      <td>Ackerman</td>\n",
              "      <td>15</td>\n",
              "    </tr>\n",
              "    <tr>\n",
              "      <th>2</th>\n",
              "      <td>3</td>\n",
              "      <td>Allen</td>\n",
              "      <td>Ali</td>\n",
              "      <td>15</td>\n",
              "    </tr>\n",
              "    <tr>\n",
              "      <th>3</th>\n",
              "      <td>4</td>\n",
              "      <td>Alice</td>\n",
              "      <td>Aoni</td>\n",
              "      <td>61</td>\n",
              "    </tr>\n",
              "    <tr>\n",
              "      <th>4</th>\n",
              "      <td>4</td>\n",
              "      <td>Billy</td>\n",
              "      <td>Bonder</td>\n",
              "      <td>61</td>\n",
              "    </tr>\n",
              "    <tr>\n",
              "      <th>5</th>\n",
              "      <td>5</td>\n",
              "      <td>Ayoung</td>\n",
              "      <td>Atiches</td>\n",
              "      <td>16</td>\n",
              "    </tr>\n",
              "    <tr>\n",
              "      <th>6</th>\n",
              "      <td>5</td>\n",
              "      <td>Brian</td>\n",
              "      <td>Black</td>\n",
              "      <td>16</td>\n",
              "    </tr>\n",
              "    <tr>\n",
              "      <th>7</th>\n",
              "      <td>7</td>\n",
              "      <td>Bryce</td>\n",
              "      <td>Brice</td>\n",
              "      <td>14</td>\n",
              "    </tr>\n",
              "    <tr>\n",
              "      <th>8</th>\n",
              "      <td>8</td>\n",
              "      <td>Betty</td>\n",
              "      <td>Btisan</td>\n",
              "      <td>15</td>\n",
              "    </tr>\n",
              "  </tbody>\n",
              "</table>\n",
              "</div>"
            ],
            "text/plain": [
              "  subject_id first_name last_name  test_id\n",
              "0          1       Alex  Anderson       51\n",
              "1          2        Amy  Ackerman       15\n",
              "2          3      Allen       Ali       15\n",
              "3          4      Alice      Aoni       61\n",
              "4          4      Billy    Bonder       61\n",
              "5          5     Ayoung   Atiches       16\n",
              "6          5      Brian     Black       16\n",
              "7          7      Bryce     Brice       14\n",
              "8          8      Betty    Btisan       15"
            ]
          },
          "metadata": {
            "tags": []
          },
          "execution_count": 109
        }
      ]
    },
    {
      "cell_type": "code",
      "metadata": {
        "id": "h7UW_E-BthxT",
        "colab": {
          "base_uri": "https://localhost:8080/"
        },
        "outputId": "46fe2759-6cb0-4314-b81b-d62c47e0853b"
      },
      "source": [
        "# Combinar solo los datos que tienen el mismo 'subject_id' en data1 y data2 (interseccion)\n",
        "pd.merge(data1, data2, on='subject_id', how='inner')"
      ],
      "execution_count": null,
      "outputs": [
        {
          "output_type": "execute_result",
          "data": {
            "text/html": [
              "<div>\n",
              "<style scoped>\n",
              "    .dataframe tbody tr th:only-of-type {\n",
              "        vertical-align: middle;\n",
              "    }\n",
              "\n",
              "    .dataframe tbody tr th {\n",
              "        vertical-align: top;\n",
              "    }\n",
              "\n",
              "    .dataframe thead th {\n",
              "        text-align: right;\n",
              "    }\n",
              "</style>\n",
              "<table border=\"1\" class=\"dataframe\">\n",
              "  <thead>\n",
              "    <tr style=\"text-align: right;\">\n",
              "      <th></th>\n",
              "      <th>subject_id</th>\n",
              "      <th>first_name_x</th>\n",
              "      <th>last_name_x</th>\n",
              "      <th>first_name_y</th>\n",
              "      <th>last_name_y</th>\n",
              "    </tr>\n",
              "  </thead>\n",
              "  <tbody>\n",
              "    <tr>\n",
              "      <th>0</th>\n",
              "      <td>4</td>\n",
              "      <td>Alice</td>\n",
              "      <td>Aoni</td>\n",
              "      <td>Billy</td>\n",
              "      <td>Bonder</td>\n",
              "    </tr>\n",
              "    <tr>\n",
              "      <th>1</th>\n",
              "      <td>5</td>\n",
              "      <td>Ayoung</td>\n",
              "      <td>Atiches</td>\n",
              "      <td>Brian</td>\n",
              "      <td>Black</td>\n",
              "    </tr>\n",
              "  </tbody>\n",
              "</table>\n",
              "</div>"
            ],
            "text/plain": [
              "  subject_id first_name_x last_name_x first_name_y last_name_y\n",
              "0          4        Alice        Aoni        Billy      Bonder\n",
              "1          5       Ayoung     Atiches        Brian       Black"
            ]
          },
          "metadata": {
            "tags": []
          },
          "execution_count": 110
        }
      ]
    },
    {
      "cell_type": "code",
      "metadata": {
        "id": "BQqrG4TitxYg",
        "colab": {
          "base_uri": "https://localhost:8080/"
        },
        "outputId": "2362e2eb-c25e-4414-b16d-7f5a69137f65"
      },
      "source": [
        "# Combinar solo los datos que tienen el mismo 'subject_id' en data1 y data2 (union)\n",
        "pd.merge(data1, data2, on='subject_id', how='outer')"
      ],
      "execution_count": null,
      "outputs": [
        {
          "output_type": "execute_result",
          "data": {
            "text/html": [
              "<div>\n",
              "<style scoped>\n",
              "    .dataframe tbody tr th:only-of-type {\n",
              "        vertical-align: middle;\n",
              "    }\n",
              "\n",
              "    .dataframe tbody tr th {\n",
              "        vertical-align: top;\n",
              "    }\n",
              "\n",
              "    .dataframe thead th {\n",
              "        text-align: right;\n",
              "    }\n",
              "</style>\n",
              "<table border=\"1\" class=\"dataframe\">\n",
              "  <thead>\n",
              "    <tr style=\"text-align: right;\">\n",
              "      <th></th>\n",
              "      <th>subject_id</th>\n",
              "      <th>first_name_x</th>\n",
              "      <th>last_name_x</th>\n",
              "      <th>first_name_y</th>\n",
              "      <th>last_name_y</th>\n",
              "    </tr>\n",
              "  </thead>\n",
              "  <tbody>\n",
              "    <tr>\n",
              "      <th>0</th>\n",
              "      <td>1</td>\n",
              "      <td>Alex</td>\n",
              "      <td>Anderson</td>\n",
              "      <td>NaN</td>\n",
              "      <td>NaN</td>\n",
              "    </tr>\n",
              "    <tr>\n",
              "      <th>1</th>\n",
              "      <td>2</td>\n",
              "      <td>Amy</td>\n",
              "      <td>Ackerman</td>\n",
              "      <td>NaN</td>\n",
              "      <td>NaN</td>\n",
              "    </tr>\n",
              "    <tr>\n",
              "      <th>2</th>\n",
              "      <td>3</td>\n",
              "      <td>Allen</td>\n",
              "      <td>Ali</td>\n",
              "      <td>NaN</td>\n",
              "      <td>NaN</td>\n",
              "    </tr>\n",
              "    <tr>\n",
              "      <th>3</th>\n",
              "      <td>4</td>\n",
              "      <td>Alice</td>\n",
              "      <td>Aoni</td>\n",
              "      <td>Billy</td>\n",
              "      <td>Bonder</td>\n",
              "    </tr>\n",
              "    <tr>\n",
              "      <th>4</th>\n",
              "      <td>5</td>\n",
              "      <td>Ayoung</td>\n",
              "      <td>Atiches</td>\n",
              "      <td>Brian</td>\n",
              "      <td>Black</td>\n",
              "    </tr>\n",
              "    <tr>\n",
              "      <th>5</th>\n",
              "      <td>6</td>\n",
              "      <td>NaN</td>\n",
              "      <td>NaN</td>\n",
              "      <td>Bran</td>\n",
              "      <td>Balwner</td>\n",
              "    </tr>\n",
              "    <tr>\n",
              "      <th>6</th>\n",
              "      <td>7</td>\n",
              "      <td>NaN</td>\n",
              "      <td>NaN</td>\n",
              "      <td>Bryce</td>\n",
              "      <td>Brice</td>\n",
              "    </tr>\n",
              "    <tr>\n",
              "      <th>7</th>\n",
              "      <td>8</td>\n",
              "      <td>NaN</td>\n",
              "      <td>NaN</td>\n",
              "      <td>Betty</td>\n",
              "      <td>Btisan</td>\n",
              "    </tr>\n",
              "  </tbody>\n",
              "</table>\n",
              "</div>"
            ],
            "text/plain": [
              "  subject_id first_name_x last_name_x first_name_y last_name_y\n",
              "0          1         Alex    Anderson          NaN         NaN\n",
              "1          2          Amy    Ackerman          NaN         NaN\n",
              "2          3        Allen         Ali          NaN         NaN\n",
              "3          4        Alice        Aoni        Billy      Bonder\n",
              "4          5       Ayoung     Atiches        Brian       Black\n",
              "5          6          NaN         NaN         Bran     Balwner\n",
              "6          7          NaN         NaN        Bryce       Brice\n",
              "7          8          NaN         NaN        Betty      Btisan"
            ]
          },
          "metadata": {
            "tags": []
          },
          "execution_count": 111
        }
      ]
    },
    {
      "cell_type": "markdown",
      "metadata": {
        "id": "R-mwlBjOUWzk"
      },
      "source": [
        "# **Groupby avanzado**\n"
      ]
    },
    {
      "cell_type": "markdown",
      "metadata": {
        "id": "HR3saAl_afSR"
      },
      "source": [
        "\n",
        "`Seaborn` es una libreria para hacer gráficos estadísticos en Python. Está construido sobre matplotlib y está estrechamente integrado con las estructuras de datos de pandas. Tiene incorporadas algunas bases de datos: \n",
        "\n",
        "https://github.com/mwaskom/seaborn-data"
      ]
    },
    {
      "cell_type": "markdown",
      "metadata": {
        "id": "TLQD3OkJ3Qya"
      },
      "source": [
        "## Funciones Transform y Filter\n",
        "\n",
        "El dataset Planets, disponible a través del paquete Seaborn, da información sobre planetas descubiertos alrededor de otras estrellas. Se puede descargar via Seaborn de la siguiente manera. "
      ]
    },
    {
      "cell_type": "code",
      "metadata": {
        "id": "j37XmbPU3UWu",
        "colab": {
          "base_uri": "https://localhost:8080/"
        },
        "outputId": "eb09412f-5de4-4216-fbf5-75c6b54ba1cc"
      },
      "source": [
        "import seaborn as sns\n",
        "import numpy as np\n",
        "import pandas as pd\n",
        "\n",
        "planets = sns.load_dataset('planets')\n",
        "planets.head()"
      ],
      "execution_count": null,
      "outputs": [
        {
          "output_type": "execute_result",
          "data": {
            "text/html": [
              "<div>\n",
              "<style scoped>\n",
              "    .dataframe tbody tr th:only-of-type {\n",
              "        vertical-align: middle;\n",
              "    }\n",
              "\n",
              "    .dataframe tbody tr th {\n",
              "        vertical-align: top;\n",
              "    }\n",
              "\n",
              "    .dataframe thead th {\n",
              "        text-align: right;\n",
              "    }\n",
              "</style>\n",
              "<table border=\"1\" class=\"dataframe\">\n",
              "  <thead>\n",
              "    <tr style=\"text-align: right;\">\n",
              "      <th></th>\n",
              "      <th>method</th>\n",
              "      <th>number</th>\n",
              "      <th>orbital_period</th>\n",
              "      <th>mass</th>\n",
              "      <th>distance</th>\n",
              "      <th>year</th>\n",
              "    </tr>\n",
              "  </thead>\n",
              "  <tbody>\n",
              "    <tr>\n",
              "      <th>0</th>\n",
              "      <td>Radial Velocity</td>\n",
              "      <td>1</td>\n",
              "      <td>269.300</td>\n",
              "      <td>7.10</td>\n",
              "      <td>77.40</td>\n",
              "      <td>2006</td>\n",
              "    </tr>\n",
              "    <tr>\n",
              "      <th>1</th>\n",
              "      <td>Radial Velocity</td>\n",
              "      <td>1</td>\n",
              "      <td>874.774</td>\n",
              "      <td>2.21</td>\n",
              "      <td>56.95</td>\n",
              "      <td>2008</td>\n",
              "    </tr>\n",
              "    <tr>\n",
              "      <th>2</th>\n",
              "      <td>Radial Velocity</td>\n",
              "      <td>1</td>\n",
              "      <td>763.000</td>\n",
              "      <td>2.60</td>\n",
              "      <td>19.84</td>\n",
              "      <td>2011</td>\n",
              "    </tr>\n",
              "    <tr>\n",
              "      <th>3</th>\n",
              "      <td>Radial Velocity</td>\n",
              "      <td>1</td>\n",
              "      <td>326.030</td>\n",
              "      <td>19.40</td>\n",
              "      <td>110.62</td>\n",
              "      <td>2007</td>\n",
              "    </tr>\n",
              "    <tr>\n",
              "      <th>4</th>\n",
              "      <td>Radial Velocity</td>\n",
              "      <td>1</td>\n",
              "      <td>516.220</td>\n",
              "      <td>10.50</td>\n",
              "      <td>119.47</td>\n",
              "      <td>2009</td>\n",
              "    </tr>\n",
              "  </tbody>\n",
              "</table>\n",
              "</div>"
            ],
            "text/plain": [
              "            method  number  orbital_period   mass  distance  year\n",
              "0  Radial Velocity       1         269.300   7.10     77.40  2006\n",
              "1  Radial Velocity       1         874.774   2.21     56.95  2008\n",
              "2  Radial Velocity       1         763.000   2.60     19.84  2011\n",
              "3  Radial Velocity       1         326.030  19.40    110.62  2007\n",
              "4  Radial Velocity       1         516.220  10.50    119.47  2009"
            ]
          },
          "metadata": {
            "tags": []
          },
          "execution_count": 112
        }
      ]
    },
    {
      "cell_type": "markdown",
      "metadata": {
        "id": "FlsQALn_3f5t"
      },
      "source": [
        "Recordemos que Groupby nos ofrece las funciones `aggregate()` y `apply()`. \n",
        "\n",
        "`aggregate()` puede tomar una cadena, una función o una lista de estas, y calcular todos los agregados a la vez, mientras que `apply()` permite aplicar una función arbitraria a los resultados del agrupamiento"
      ]
    },
    {
      "cell_type": "code",
      "metadata": {
        "id": "7MnNYqA_XB9B",
        "colab": {
          "base_uri": "https://localhost:8080/"
        },
        "outputId": "31fb0800-7717-42bb-f9f7-2ba292fcb2a5"
      },
      "source": [
        "planets.shape"
      ],
      "execution_count": null,
      "outputs": [
        {
          "output_type": "execute_result",
          "data": {
            "text/plain": [
              "(1035, 6)"
            ]
          },
          "metadata": {
            "tags": []
          },
          "execution_count": 113
        }
      ]
    },
    {
      "cell_type": "code",
      "metadata": {
        "id": "3bPisEECWW-v",
        "colab": {
          "base_uri": "https://localhost:8080/"
        },
        "outputId": "4077ff1d-9cc5-4bc3-a2de-8ee21c3eea12"
      },
      "source": [
        "planets.groupby(\"method\").mean()"
      ],
      "execution_count": null,
      "outputs": [
        {
          "output_type": "execute_result",
          "data": {
            "text/html": [
              "<div>\n",
              "<style scoped>\n",
              "    .dataframe tbody tr th:only-of-type {\n",
              "        vertical-align: middle;\n",
              "    }\n",
              "\n",
              "    .dataframe tbody tr th {\n",
              "        vertical-align: top;\n",
              "    }\n",
              "\n",
              "    .dataframe thead th {\n",
              "        text-align: right;\n",
              "    }\n",
              "</style>\n",
              "<table border=\"1\" class=\"dataframe\">\n",
              "  <thead>\n",
              "    <tr style=\"text-align: right;\">\n",
              "      <th></th>\n",
              "      <th>number</th>\n",
              "      <th>orbital_period</th>\n",
              "      <th>mass</th>\n",
              "      <th>distance</th>\n",
              "      <th>year</th>\n",
              "    </tr>\n",
              "    <tr>\n",
              "      <th>method</th>\n",
              "      <th></th>\n",
              "      <th></th>\n",
              "      <th></th>\n",
              "      <th></th>\n",
              "      <th></th>\n",
              "    </tr>\n",
              "  </thead>\n",
              "  <tbody>\n",
              "    <tr>\n",
              "      <th>Astrometry</th>\n",
              "      <td>1.000000</td>\n",
              "      <td>631.180000</td>\n",
              "      <td>NaN</td>\n",
              "      <td>17.875000</td>\n",
              "      <td>2011.500000</td>\n",
              "    </tr>\n",
              "    <tr>\n",
              "      <th>Eclipse Timing Variations</th>\n",
              "      <td>1.666667</td>\n",
              "      <td>4751.644444</td>\n",
              "      <td>5.125000</td>\n",
              "      <td>315.360000</td>\n",
              "      <td>2010.000000</td>\n",
              "    </tr>\n",
              "    <tr>\n",
              "      <th>Imaging</th>\n",
              "      <td>1.315789</td>\n",
              "      <td>118247.737500</td>\n",
              "      <td>NaN</td>\n",
              "      <td>67.715937</td>\n",
              "      <td>2009.131579</td>\n",
              "    </tr>\n",
              "    <tr>\n",
              "      <th>Microlensing</th>\n",
              "      <td>1.173913</td>\n",
              "      <td>3153.571429</td>\n",
              "      <td>NaN</td>\n",
              "      <td>4144.000000</td>\n",
              "      <td>2009.782609</td>\n",
              "    </tr>\n",
              "    <tr>\n",
              "      <th>Orbital Brightness Modulation</th>\n",
              "      <td>1.666667</td>\n",
              "      <td>0.709307</td>\n",
              "      <td>NaN</td>\n",
              "      <td>1180.000000</td>\n",
              "      <td>2011.666667</td>\n",
              "    </tr>\n",
              "    <tr>\n",
              "      <th>Pulsar Timing</th>\n",
              "      <td>2.200000</td>\n",
              "      <td>7343.021201</td>\n",
              "      <td>NaN</td>\n",
              "      <td>1200.000000</td>\n",
              "      <td>1998.400000</td>\n",
              "    </tr>\n",
              "    <tr>\n",
              "      <th>Pulsation Timing Variations</th>\n",
              "      <td>1.000000</td>\n",
              "      <td>1170.000000</td>\n",
              "      <td>NaN</td>\n",
              "      <td>NaN</td>\n",
              "      <td>2007.000000</td>\n",
              "    </tr>\n",
              "    <tr>\n",
              "      <th>Radial Velocity</th>\n",
              "      <td>1.721519</td>\n",
              "      <td>823.354680</td>\n",
              "      <td>2.630699</td>\n",
              "      <td>51.600208</td>\n",
              "      <td>2007.518987</td>\n",
              "    </tr>\n",
              "    <tr>\n",
              "      <th>Transit</th>\n",
              "      <td>1.954660</td>\n",
              "      <td>21.102073</td>\n",
              "      <td>1.470000</td>\n",
              "      <td>599.298080</td>\n",
              "      <td>2011.236776</td>\n",
              "    </tr>\n",
              "    <tr>\n",
              "      <th>Transit Timing Variations</th>\n",
              "      <td>2.250000</td>\n",
              "      <td>79.783500</td>\n",
              "      <td>NaN</td>\n",
              "      <td>1104.333333</td>\n",
              "      <td>2012.500000</td>\n",
              "    </tr>\n",
              "  </tbody>\n",
              "</table>\n",
              "</div>"
            ],
            "text/plain": [
              "                                 number  ...         year\n",
              "method                                   ...             \n",
              "Astrometry                     1.000000  ...  2011.500000\n",
              "Eclipse Timing Variations      1.666667  ...  2010.000000\n",
              "Imaging                        1.315789  ...  2009.131579\n",
              "Microlensing                   1.173913  ...  2009.782609\n",
              "Orbital Brightness Modulation  1.666667  ...  2011.666667\n",
              "Pulsar Timing                  2.200000  ...  1998.400000\n",
              "Pulsation Timing Variations    1.000000  ...  2007.000000\n",
              "Radial Velocity                1.721519  ...  2007.518987\n",
              "Transit                        1.954660  ...  2011.236776\n",
              "Transit Timing Variations      2.250000  ...  2012.500000\n",
              "\n",
              "[10 rows x 5 columns]"
            ]
          },
          "metadata": {
            "tags": []
          },
          "execution_count": 114
        }
      ]
    },
    {
      "cell_type": "code",
      "metadata": {
        "id": "vmFhJvcI3kEu",
        "colab": {
          "base_uri": "https://localhost:8080/"
        },
        "outputId": "6724a4d6-dc35-45d1-9d69-f47e969176e2"
      },
      "source": [
        "planets.groupby(\"method\").distance.aggregate([\"min\", \"max\", \"median\"])\n",
        "#planets.groupby(\"method\").distance.apply(np.min)"
      ],
      "execution_count": null,
      "outputs": [
        {
          "output_type": "execute_result",
          "data": {
            "text/html": [
              "<div>\n",
              "<style scoped>\n",
              "    .dataframe tbody tr th:only-of-type {\n",
              "        vertical-align: middle;\n",
              "    }\n",
              "\n",
              "    .dataframe tbody tr th {\n",
              "        vertical-align: top;\n",
              "    }\n",
              "\n",
              "    .dataframe thead th {\n",
              "        text-align: right;\n",
              "    }\n",
              "</style>\n",
              "<table border=\"1\" class=\"dataframe\">\n",
              "  <thead>\n",
              "    <tr style=\"text-align: right;\">\n",
              "      <th></th>\n",
              "      <th>min</th>\n",
              "      <th>max</th>\n",
              "      <th>median</th>\n",
              "    </tr>\n",
              "    <tr>\n",
              "      <th>method</th>\n",
              "      <th></th>\n",
              "      <th></th>\n",
              "      <th></th>\n",
              "    </tr>\n",
              "  </thead>\n",
              "  <tbody>\n",
              "    <tr>\n",
              "      <th>Astrometry</th>\n",
              "      <td>14.98</td>\n",
              "      <td>20.77</td>\n",
              "      <td>17.875</td>\n",
              "    </tr>\n",
              "    <tr>\n",
              "      <th>Eclipse Timing Variations</th>\n",
              "      <td>130.72</td>\n",
              "      <td>500.00</td>\n",
              "      <td>315.360</td>\n",
              "    </tr>\n",
              "    <tr>\n",
              "      <th>Imaging</th>\n",
              "      <td>7.69</td>\n",
              "      <td>165.00</td>\n",
              "      <td>40.395</td>\n",
              "    </tr>\n",
              "    <tr>\n",
              "      <th>Microlensing</th>\n",
              "      <td>1760.00</td>\n",
              "      <td>7720.00</td>\n",
              "      <td>3840.000</td>\n",
              "    </tr>\n",
              "    <tr>\n",
              "      <th>Orbital Brightness Modulation</th>\n",
              "      <td>1180.00</td>\n",
              "      <td>1180.00</td>\n",
              "      <td>1180.000</td>\n",
              "    </tr>\n",
              "    <tr>\n",
              "      <th>Pulsar Timing</th>\n",
              "      <td>1200.00</td>\n",
              "      <td>1200.00</td>\n",
              "      <td>1200.000</td>\n",
              "    </tr>\n",
              "    <tr>\n",
              "      <th>Pulsation Timing Variations</th>\n",
              "      <td>NaN</td>\n",
              "      <td>NaN</td>\n",
              "      <td>NaN</td>\n",
              "    </tr>\n",
              "    <tr>\n",
              "      <th>Radial Velocity</th>\n",
              "      <td>1.35</td>\n",
              "      <td>354.00</td>\n",
              "      <td>40.445</td>\n",
              "    </tr>\n",
              "    <tr>\n",
              "      <th>Transit</th>\n",
              "      <td>38.00</td>\n",
              "      <td>8500.00</td>\n",
              "      <td>341.000</td>\n",
              "    </tr>\n",
              "    <tr>\n",
              "      <th>Transit Timing Variations</th>\n",
              "      <td>339.00</td>\n",
              "      <td>2119.00</td>\n",
              "      <td>855.000</td>\n",
              "    </tr>\n",
              "  </tbody>\n",
              "</table>\n",
              "</div>"
            ],
            "text/plain": [
              "                                   min      max    median\n",
              "method                                                   \n",
              "Astrometry                       14.98    20.77    17.875\n",
              "Eclipse Timing Variations       130.72   500.00   315.360\n",
              "Imaging                           7.69   165.00    40.395\n",
              "Microlensing                   1760.00  7720.00  3840.000\n",
              "Orbital Brightness Modulation  1180.00  1180.00  1180.000\n",
              "Pulsar Timing                  1200.00  1200.00  1200.000\n",
              "Pulsation Timing Variations        NaN      NaN       NaN\n",
              "Radial Velocity                   1.35   354.00    40.445\n",
              "Transit                          38.00  8500.00   341.000\n",
              "Transit Timing Variations       339.00  2119.00   855.000"
            ]
          },
          "metadata": {
            "tags": []
          },
          "execution_count": 115
        }
      ]
    },
    {
      "cell_type": "markdown",
      "metadata": {
        "id": "vSMSyp_A3p9L"
      },
      "source": [
        "Si bien `aggregate()` debe devolver una versión reducida de los datos, `transform` puede devolver una versión transformada de los datos completos para que se recombinen. Para tal transformación, la salida tiene la misma forma que la entrada"
      ]
    },
    {
      "cell_type": "code",
      "metadata": {
        "id": "gL0Vaoot3q9T",
        "colab": {
          "base_uri": "https://localhost:8080/"
        },
        "outputId": "16a25002-3c5c-46cb-e059-d31a3390fe2e"
      },
      "source": [
        "df2 = planets.groupby('method')[[\"distance\"]].transform(\"median\") #.drop_duplicates()\n",
        "df2 = planets.groupby('method')[[\"distance\", \"orbital_period\"]].transform(\"median\")\n",
        "#df2.reset_index(drop=True)\n",
        "df2"
      ],
      "execution_count": null,
      "outputs": [
        {
          "output_type": "execute_result",
          "data": {
            "text/html": [
              "<div>\n",
              "<style scoped>\n",
              "    .dataframe tbody tr th:only-of-type {\n",
              "        vertical-align: middle;\n",
              "    }\n",
              "\n",
              "    .dataframe tbody tr th {\n",
              "        vertical-align: top;\n",
              "    }\n",
              "\n",
              "    .dataframe thead th {\n",
              "        text-align: right;\n",
              "    }\n",
              "</style>\n",
              "<table border=\"1\" class=\"dataframe\">\n",
              "  <thead>\n",
              "    <tr style=\"text-align: right;\">\n",
              "      <th></th>\n",
              "      <th>distance</th>\n",
              "      <th>orbital_period</th>\n",
              "    </tr>\n",
              "  </thead>\n",
              "  <tbody>\n",
              "    <tr>\n",
              "      <th>0</th>\n",
              "      <td>40.445</td>\n",
              "      <td>360.200000</td>\n",
              "    </tr>\n",
              "    <tr>\n",
              "      <th>1</th>\n",
              "      <td>40.445</td>\n",
              "      <td>360.200000</td>\n",
              "    </tr>\n",
              "    <tr>\n",
              "      <th>2</th>\n",
              "      <td>40.445</td>\n",
              "      <td>360.200000</td>\n",
              "    </tr>\n",
              "    <tr>\n",
              "      <th>3</th>\n",
              "      <td>40.445</td>\n",
              "      <td>360.200000</td>\n",
              "    </tr>\n",
              "    <tr>\n",
              "      <th>4</th>\n",
              "      <td>40.445</td>\n",
              "      <td>360.200000</td>\n",
              "    </tr>\n",
              "    <tr>\n",
              "      <th>...</th>\n",
              "      <td>...</td>\n",
              "      <td>...</td>\n",
              "    </tr>\n",
              "    <tr>\n",
              "      <th>1030</th>\n",
              "      <td>341.000</td>\n",
              "      <td>5.714932</td>\n",
              "    </tr>\n",
              "    <tr>\n",
              "      <th>1031</th>\n",
              "      <td>341.000</td>\n",
              "      <td>5.714932</td>\n",
              "    </tr>\n",
              "    <tr>\n",
              "      <th>1032</th>\n",
              "      <td>341.000</td>\n",
              "      <td>5.714932</td>\n",
              "    </tr>\n",
              "    <tr>\n",
              "      <th>1033</th>\n",
              "      <td>341.000</td>\n",
              "      <td>5.714932</td>\n",
              "    </tr>\n",
              "    <tr>\n",
              "      <th>1034</th>\n",
              "      <td>341.000</td>\n",
              "      <td>5.714932</td>\n",
              "    </tr>\n",
              "  </tbody>\n",
              "</table>\n",
              "<p>1035 rows × 2 columns</p>\n",
              "</div>"
            ],
            "text/plain": [
              "      distance  orbital_period\n",
              "0       40.445      360.200000\n",
              "1       40.445      360.200000\n",
              "2       40.445      360.200000\n",
              "3       40.445      360.200000\n",
              "4       40.445      360.200000\n",
              "...        ...             ...\n",
              "1030   341.000        5.714932\n",
              "1031   341.000        5.714932\n",
              "1032   341.000        5.714932\n",
              "1033   341.000        5.714932\n",
              "1034   341.000        5.714932\n",
              "\n",
              "[1035 rows x 2 columns]"
            ]
          },
          "metadata": {
            "tags": []
          },
          "execution_count": 116
        }
      ]
    },
    {
      "cell_type": "markdown",
      "metadata": {
        "id": "BJKV9qqe314X"
      },
      "source": [
        "La operación `filter` permite eliminar datos en función de las propiedades del grupo. Note que esta rutina no filtra un marco de datos en su contenido. El filtro se aplica a las etiquetas del índice."
      ]
    },
    {
      "cell_type": "code",
      "metadata": {
        "id": "LtdStTBk320J",
        "colab": {
          "base_uri": "https://localhost:8080/"
        },
        "outputId": "e931b15a-8be2-4848-b71f-043b9ba36aa5"
      },
      "source": [
        "# agrupemos por método y filtremos los que operan a una distancia media mayor a 500\n",
        "\n",
        "def filter_func(x):\n",
        "  return x[\"distance\"].mean() > 500 #\n",
        "\n",
        "planets.groupby('method').filter(filter_func)\n",
        "#.method.value_counts()"
      ],
      "execution_count": null,
      "outputs": [
        {
          "output_type": "execute_result",
          "data": {
            "text/html": [
              "<div>\n",
              "<style scoped>\n",
              "    .dataframe tbody tr th:only-of-type {\n",
              "        vertical-align: middle;\n",
              "    }\n",
              "\n",
              "    .dataframe tbody tr th {\n",
              "        vertical-align: top;\n",
              "    }\n",
              "\n",
              "    .dataframe thead th {\n",
              "        text-align: right;\n",
              "    }\n",
              "</style>\n",
              "<table border=\"1\" class=\"dataframe\">\n",
              "  <thead>\n",
              "    <tr style=\"text-align: right;\">\n",
              "      <th></th>\n",
              "      <th>method</th>\n",
              "      <th>number</th>\n",
              "      <th>orbital_period</th>\n",
              "      <th>mass</th>\n",
              "      <th>distance</th>\n",
              "      <th>year</th>\n",
              "    </tr>\n",
              "  </thead>\n",
              "  <tbody>\n",
              "    <tr>\n",
              "      <th>91</th>\n",
              "      <td>Transit</td>\n",
              "      <td>1</td>\n",
              "      <td>1.508956</td>\n",
              "      <td>NaN</td>\n",
              "      <td>NaN</td>\n",
              "      <td>2008</td>\n",
              "    </tr>\n",
              "    <tr>\n",
              "      <th>92</th>\n",
              "      <td>Transit</td>\n",
              "      <td>1</td>\n",
              "      <td>1.742994</td>\n",
              "      <td>NaN</td>\n",
              "      <td>200.0</td>\n",
              "      <td>2008</td>\n",
              "    </tr>\n",
              "    <tr>\n",
              "      <th>93</th>\n",
              "      <td>Transit</td>\n",
              "      <td>1</td>\n",
              "      <td>4.256800</td>\n",
              "      <td>NaN</td>\n",
              "      <td>680.0</td>\n",
              "      <td>2008</td>\n",
              "    </tr>\n",
              "    <tr>\n",
              "      <th>94</th>\n",
              "      <td>Transit</td>\n",
              "      <td>1</td>\n",
              "      <td>9.202050</td>\n",
              "      <td>NaN</td>\n",
              "      <td>NaN</td>\n",
              "      <td>2008</td>\n",
              "    </tr>\n",
              "    <tr>\n",
              "      <th>95</th>\n",
              "      <td>Transit</td>\n",
              "      <td>1</td>\n",
              "      <td>4.037896</td>\n",
              "      <td>NaN</td>\n",
              "      <td>NaN</td>\n",
              "      <td>2009</td>\n",
              "    </tr>\n",
              "    <tr>\n",
              "      <th>...</th>\n",
              "      <td>...</td>\n",
              "      <td>...</td>\n",
              "      <td>...</td>\n",
              "      <td>...</td>\n",
              "      <td>...</td>\n",
              "      <td>...</td>\n",
              "    </tr>\n",
              "    <tr>\n",
              "      <th>1030</th>\n",
              "      <td>Transit</td>\n",
              "      <td>1</td>\n",
              "      <td>3.941507</td>\n",
              "      <td>NaN</td>\n",
              "      <td>172.0</td>\n",
              "      <td>2006</td>\n",
              "    </tr>\n",
              "    <tr>\n",
              "      <th>1031</th>\n",
              "      <td>Transit</td>\n",
              "      <td>1</td>\n",
              "      <td>2.615864</td>\n",
              "      <td>NaN</td>\n",
              "      <td>148.0</td>\n",
              "      <td>2007</td>\n",
              "    </tr>\n",
              "    <tr>\n",
              "      <th>1032</th>\n",
              "      <td>Transit</td>\n",
              "      <td>1</td>\n",
              "      <td>3.191524</td>\n",
              "      <td>NaN</td>\n",
              "      <td>174.0</td>\n",
              "      <td>2007</td>\n",
              "    </tr>\n",
              "    <tr>\n",
              "      <th>1033</th>\n",
              "      <td>Transit</td>\n",
              "      <td>1</td>\n",
              "      <td>4.125083</td>\n",
              "      <td>NaN</td>\n",
              "      <td>293.0</td>\n",
              "      <td>2008</td>\n",
              "    </tr>\n",
              "    <tr>\n",
              "      <th>1034</th>\n",
              "      <td>Transit</td>\n",
              "      <td>1</td>\n",
              "      <td>4.187757</td>\n",
              "      <td>NaN</td>\n",
              "      <td>260.0</td>\n",
              "      <td>2008</td>\n",
              "    </tr>\n",
              "  </tbody>\n",
              "</table>\n",
              "<p>432 rows × 6 columns</p>\n",
              "</div>"
            ],
            "text/plain": [
              "       method  number  orbital_period  mass  distance  year\n",
              "91    Transit       1        1.508956   NaN       NaN  2008\n",
              "92    Transit       1        1.742994   NaN     200.0  2008\n",
              "93    Transit       1        4.256800   NaN     680.0  2008\n",
              "94    Transit       1        9.202050   NaN       NaN  2008\n",
              "95    Transit       1        4.037896   NaN       NaN  2009\n",
              "...       ...     ...             ...   ...       ...   ...\n",
              "1030  Transit       1        3.941507   NaN     172.0  2006\n",
              "1031  Transit       1        2.615864   NaN     148.0  2007\n",
              "1032  Transit       1        3.191524   NaN     174.0  2007\n",
              "1033  Transit       1        4.125083   NaN     293.0  2008\n",
              "1034  Transit       1        4.187757   NaN     260.0  2008\n",
              "\n",
              "[432 rows x 6 columns]"
            ]
          },
          "metadata": {
            "tags": []
          },
          "execution_count": 117
        }
      ]
    },
    {
      "cell_type": "markdown",
      "metadata": {
        "id": "YbP9Uumo35fT"
      },
      "source": [
        "Ejemplo: Muestre el número de planetas descubiertos por método de detección y por década"
      ]
    },
    {
      "cell_type": "code",
      "metadata": {
        "id": "Bl3Wh2Ka38Pc",
        "colab": {
          "base_uri": "https://localhost:8080/"
        },
        "outputId": "51ca50f8-f98d-4ca9-b4fb-91f9b4d352ee"
      },
      "source": [
        "decade = 10 * (planets['year'] // 10)    # serie que contiene las decadas\n",
        "decade = decade.astype(str) + 's'               \n",
        "planets.groupby(['method', decade]).count()"
      ],
      "execution_count": null,
      "outputs": [
        {
          "output_type": "execute_result",
          "data": {
            "text/html": [
              "<div>\n",
              "<style scoped>\n",
              "    .dataframe tbody tr th:only-of-type {\n",
              "        vertical-align: middle;\n",
              "    }\n",
              "\n",
              "    .dataframe tbody tr th {\n",
              "        vertical-align: top;\n",
              "    }\n",
              "\n",
              "    .dataframe thead th {\n",
              "        text-align: right;\n",
              "    }\n",
              "</style>\n",
              "<table border=\"1\" class=\"dataframe\">\n",
              "  <thead>\n",
              "    <tr style=\"text-align: right;\">\n",
              "      <th></th>\n",
              "      <th></th>\n",
              "      <th>number</th>\n",
              "      <th>orbital_period</th>\n",
              "      <th>mass</th>\n",
              "      <th>distance</th>\n",
              "      <th>year</th>\n",
              "    </tr>\n",
              "    <tr>\n",
              "      <th>method</th>\n",
              "      <th>year</th>\n",
              "      <th></th>\n",
              "      <th></th>\n",
              "      <th></th>\n",
              "      <th></th>\n",
              "      <th></th>\n",
              "    </tr>\n",
              "  </thead>\n",
              "  <tbody>\n",
              "    <tr>\n",
              "      <th>Astrometry</th>\n",
              "      <th>2010s</th>\n",
              "      <td>2</td>\n",
              "      <td>2</td>\n",
              "      <td>0</td>\n",
              "      <td>2</td>\n",
              "      <td>2</td>\n",
              "    </tr>\n",
              "    <tr>\n",
              "      <th rowspan=\"2\" valign=\"top\">Eclipse Timing Variations</th>\n",
              "      <th>2000s</th>\n",
              "      <td>3</td>\n",
              "      <td>3</td>\n",
              "      <td>1</td>\n",
              "      <td>2</td>\n",
              "      <td>3</td>\n",
              "    </tr>\n",
              "    <tr>\n",
              "      <th>2010s</th>\n",
              "      <td>6</td>\n",
              "      <td>6</td>\n",
              "      <td>1</td>\n",
              "      <td>2</td>\n",
              "      <td>6</td>\n",
              "    </tr>\n",
              "    <tr>\n",
              "      <th rowspan=\"2\" valign=\"top\">Imaging</th>\n",
              "      <th>2000s</th>\n",
              "      <td>20</td>\n",
              "      <td>9</td>\n",
              "      <td>0</td>\n",
              "      <td>16</td>\n",
              "      <td>20</td>\n",
              "    </tr>\n",
              "    <tr>\n",
              "      <th>2010s</th>\n",
              "      <td>18</td>\n",
              "      <td>3</td>\n",
              "      <td>0</td>\n",
              "      <td>16</td>\n",
              "      <td>18</td>\n",
              "    </tr>\n",
              "    <tr>\n",
              "      <th rowspan=\"2\" valign=\"top\">Microlensing</th>\n",
              "      <th>2000s</th>\n",
              "      <td>10</td>\n",
              "      <td>5</td>\n",
              "      <td>0</td>\n",
              "      <td>0</td>\n",
              "      <td>10</td>\n",
              "    </tr>\n",
              "    <tr>\n",
              "      <th>2010s</th>\n",
              "      <td>13</td>\n",
              "      <td>2</td>\n",
              "      <td>0</td>\n",
              "      <td>10</td>\n",
              "      <td>13</td>\n",
              "    </tr>\n",
              "    <tr>\n",
              "      <th>Orbital Brightness Modulation</th>\n",
              "      <th>2010s</th>\n",
              "      <td>3</td>\n",
              "      <td>3</td>\n",
              "      <td>0</td>\n",
              "      <td>2</td>\n",
              "      <td>3</td>\n",
              "    </tr>\n",
              "    <tr>\n",
              "      <th rowspan=\"3\" valign=\"top\">Pulsar Timing</th>\n",
              "      <th>1990s</th>\n",
              "      <td>3</td>\n",
              "      <td>3</td>\n",
              "      <td>0</td>\n",
              "      <td>0</td>\n",
              "      <td>3</td>\n",
              "    </tr>\n",
              "    <tr>\n",
              "      <th>2000s</th>\n",
              "      <td>1</td>\n",
              "      <td>1</td>\n",
              "      <td>0</td>\n",
              "      <td>0</td>\n",
              "      <td>1</td>\n",
              "    </tr>\n",
              "    <tr>\n",
              "      <th>2010s</th>\n",
              "      <td>1</td>\n",
              "      <td>1</td>\n",
              "      <td>0</td>\n",
              "      <td>1</td>\n",
              "      <td>1</td>\n",
              "    </tr>\n",
              "    <tr>\n",
              "      <th>Pulsation Timing Variations</th>\n",
              "      <th>2000s</th>\n",
              "      <td>1</td>\n",
              "      <td>1</td>\n",
              "      <td>0</td>\n",
              "      <td>0</td>\n",
              "      <td>1</td>\n",
              "    </tr>\n",
              "    <tr>\n",
              "      <th rowspan=\"4\" valign=\"top\">Radial Velocity</th>\n",
              "      <th>1980s</th>\n",
              "      <td>1</td>\n",
              "      <td>1</td>\n",
              "      <td>1</td>\n",
              "      <td>1</td>\n",
              "      <td>1</td>\n",
              "    </tr>\n",
              "    <tr>\n",
              "      <th>1990s</th>\n",
              "      <td>28</td>\n",
              "      <td>28</td>\n",
              "      <td>25</td>\n",
              "      <td>28</td>\n",
              "      <td>28</td>\n",
              "    </tr>\n",
              "    <tr>\n",
              "      <th>2000s</th>\n",
              "      <td>309</td>\n",
              "      <td>309</td>\n",
              "      <td>295</td>\n",
              "      <td>301</td>\n",
              "      <td>309</td>\n",
              "    </tr>\n",
              "    <tr>\n",
              "      <th>2010s</th>\n",
              "      <td>215</td>\n",
              "      <td>215</td>\n",
              "      <td>189</td>\n",
              "      <td>200</td>\n",
              "      <td>215</td>\n",
              "    </tr>\n",
              "    <tr>\n",
              "      <th rowspan=\"2\" valign=\"top\">Transit</th>\n",
              "      <th>2000s</th>\n",
              "      <td>62</td>\n",
              "      <td>62</td>\n",
              "      <td>0</td>\n",
              "      <td>44</td>\n",
              "      <td>62</td>\n",
              "    </tr>\n",
              "    <tr>\n",
              "      <th>2010s</th>\n",
              "      <td>335</td>\n",
              "      <td>335</td>\n",
              "      <td>1</td>\n",
              "      <td>180</td>\n",
              "      <td>335</td>\n",
              "    </tr>\n",
              "    <tr>\n",
              "      <th>Transit Timing Variations</th>\n",
              "      <th>2010s</th>\n",
              "      <td>4</td>\n",
              "      <td>3</td>\n",
              "      <td>0</td>\n",
              "      <td>3</td>\n",
              "      <td>4</td>\n",
              "    </tr>\n",
              "  </tbody>\n",
              "</table>\n",
              "</div>"
            ],
            "text/plain": [
              "                                     number  orbital_period  ...  distance  year\n",
              "method                        year                           ...                \n",
              "Astrometry                    2010s       2               2  ...         2     2\n",
              "Eclipse Timing Variations     2000s       3               3  ...         2     3\n",
              "                              2010s       6               6  ...         2     6\n",
              "Imaging                       2000s      20               9  ...        16    20\n",
              "                              2010s      18               3  ...        16    18\n",
              "Microlensing                  2000s      10               5  ...         0    10\n",
              "                              2010s      13               2  ...        10    13\n",
              "Orbital Brightness Modulation 2010s       3               3  ...         2     3\n",
              "Pulsar Timing                 1990s       3               3  ...         0     3\n",
              "                              2000s       1               1  ...         0     1\n",
              "                              2010s       1               1  ...         1     1\n",
              "Pulsation Timing Variations   2000s       1               1  ...         0     1\n",
              "Radial Velocity               1980s       1               1  ...         1     1\n",
              "                              1990s      28              28  ...        28    28\n",
              "                              2000s     309             309  ...       301   309\n",
              "                              2010s     215             215  ...       200   215\n",
              "Transit                       2000s      62              62  ...        44    62\n",
              "                              2010s     335             335  ...       180   335\n",
              "Transit Timing Variations     2010s       4               3  ...         3     4\n",
              "\n",
              "[19 rows x 5 columns]"
            ]
          },
          "metadata": {
            "tags": []
          },
          "execution_count": 118
        }
      ]
    },
    {
      "cell_type": "code",
      "metadata": {
        "id": "KWfF0-3kHtpA",
        "colab": {
          "base_uri": "https://localhost:8080/"
        },
        "outputId": "b9d6eb59-9fb3-4f00-8e2c-87963ff117d7"
      },
      "source": [
        "planets.groupby(['method', decade])['number'].sum()"
      ],
      "execution_count": null,
      "outputs": [
        {
          "output_type": "execute_result",
          "data": {
            "text/plain": [
              "method                         year \n",
              "Astrometry                     2010s      2\n",
              "Eclipse Timing Variations      2000s      5\n",
              "                               2010s     10\n",
              "Imaging                        2000s     29\n",
              "                               2010s     21\n",
              "Microlensing                   2000s     12\n",
              "                               2010s     15\n",
              "Orbital Brightness Modulation  2010s      5\n",
              "Pulsar Timing                  1990s      9\n",
              "                               2000s      1\n",
              "                               2010s      1\n",
              "Pulsation Timing Variations    2000s      1\n",
              "Radial Velocity                1980s      1\n",
              "                               1990s     52\n",
              "                               2000s    475\n",
              "                               2010s    424\n",
              "Transit                        2000s     64\n",
              "                               2010s    712\n",
              "Transit Timing Variations      2010s      9\n",
              "Name: number, dtype: int64"
            ]
          },
          "metadata": {
            "tags": []
          },
          "execution_count": 119
        }
      ]
    },
    {
      "cell_type": "code",
      "metadata": {
        "id": "PJ-kY0v-IQyB",
        "colab": {
          "base_uri": "https://localhost:8080/"
        },
        "outputId": "4d736fb1-93bb-4543-dd4a-8b7f1d162d33"
      },
      "source": [
        "planets.groupby(['method', decade])['number'].sum().unstack().fillna(0)"
      ],
      "execution_count": null,
      "outputs": [
        {
          "output_type": "execute_result",
          "data": {
            "text/html": [
              "<div>\n",
              "<style scoped>\n",
              "    .dataframe tbody tr th:only-of-type {\n",
              "        vertical-align: middle;\n",
              "    }\n",
              "\n",
              "    .dataframe tbody tr th {\n",
              "        vertical-align: top;\n",
              "    }\n",
              "\n",
              "    .dataframe thead th {\n",
              "        text-align: right;\n",
              "    }\n",
              "</style>\n",
              "<table border=\"1\" class=\"dataframe\">\n",
              "  <thead>\n",
              "    <tr style=\"text-align: right;\">\n",
              "      <th>year</th>\n",
              "      <th>1980s</th>\n",
              "      <th>1990s</th>\n",
              "      <th>2000s</th>\n",
              "      <th>2010s</th>\n",
              "    </tr>\n",
              "    <tr>\n",
              "      <th>method</th>\n",
              "      <th></th>\n",
              "      <th></th>\n",
              "      <th></th>\n",
              "      <th></th>\n",
              "    </tr>\n",
              "  </thead>\n",
              "  <tbody>\n",
              "    <tr>\n",
              "      <th>Astrometry</th>\n",
              "      <td>0.0</td>\n",
              "      <td>0.0</td>\n",
              "      <td>0.0</td>\n",
              "      <td>2.0</td>\n",
              "    </tr>\n",
              "    <tr>\n",
              "      <th>Eclipse Timing Variations</th>\n",
              "      <td>0.0</td>\n",
              "      <td>0.0</td>\n",
              "      <td>5.0</td>\n",
              "      <td>10.0</td>\n",
              "    </tr>\n",
              "    <tr>\n",
              "      <th>Imaging</th>\n",
              "      <td>0.0</td>\n",
              "      <td>0.0</td>\n",
              "      <td>29.0</td>\n",
              "      <td>21.0</td>\n",
              "    </tr>\n",
              "    <tr>\n",
              "      <th>Microlensing</th>\n",
              "      <td>0.0</td>\n",
              "      <td>0.0</td>\n",
              "      <td>12.0</td>\n",
              "      <td>15.0</td>\n",
              "    </tr>\n",
              "    <tr>\n",
              "      <th>Orbital Brightness Modulation</th>\n",
              "      <td>0.0</td>\n",
              "      <td>0.0</td>\n",
              "      <td>0.0</td>\n",
              "      <td>5.0</td>\n",
              "    </tr>\n",
              "    <tr>\n",
              "      <th>Pulsar Timing</th>\n",
              "      <td>0.0</td>\n",
              "      <td>9.0</td>\n",
              "      <td>1.0</td>\n",
              "      <td>1.0</td>\n",
              "    </tr>\n",
              "    <tr>\n",
              "      <th>Pulsation Timing Variations</th>\n",
              "      <td>0.0</td>\n",
              "      <td>0.0</td>\n",
              "      <td>1.0</td>\n",
              "      <td>0.0</td>\n",
              "    </tr>\n",
              "    <tr>\n",
              "      <th>Radial Velocity</th>\n",
              "      <td>1.0</td>\n",
              "      <td>52.0</td>\n",
              "      <td>475.0</td>\n",
              "      <td>424.0</td>\n",
              "    </tr>\n",
              "    <tr>\n",
              "      <th>Transit</th>\n",
              "      <td>0.0</td>\n",
              "      <td>0.0</td>\n",
              "      <td>64.0</td>\n",
              "      <td>712.0</td>\n",
              "    </tr>\n",
              "    <tr>\n",
              "      <th>Transit Timing Variations</th>\n",
              "      <td>0.0</td>\n",
              "      <td>0.0</td>\n",
              "      <td>0.0</td>\n",
              "      <td>9.0</td>\n",
              "    </tr>\n",
              "  </tbody>\n",
              "</table>\n",
              "</div>"
            ],
            "text/plain": [
              "year                           1980s  1990s  2000s  2010s\n",
              "method                                                   \n",
              "Astrometry                       0.0    0.0    0.0    2.0\n",
              "Eclipse Timing Variations        0.0    0.0    5.0   10.0\n",
              "Imaging                          0.0    0.0   29.0   21.0\n",
              "Microlensing                     0.0    0.0   12.0   15.0\n",
              "Orbital Brightness Modulation    0.0    0.0    0.0    5.0\n",
              "Pulsar Timing                    0.0    9.0    1.0    1.0\n",
              "Pulsation Timing Variations      0.0    0.0    1.0    0.0\n",
              "Radial Velocity                  1.0   52.0  475.0  424.0\n",
              "Transit                          0.0    0.0   64.0  712.0\n",
              "Transit Timing Variations        0.0    0.0    0.0    9.0"
            ]
          },
          "metadata": {
            "tags": []
          },
          "execution_count": 120
        }
      ]
    },
    {
      "cell_type": "markdown",
      "metadata": {
        "id": "Ux3x2PQy4XtZ"
      },
      "source": [
        "##  Especificando la clave para la división del DataFrame \n",
        "\n",
        "Los ejemplos presentados anteriormente expresan solo unas de las muchas opciones mediante las cuales se pueden definir los grupos. Veamos algunas otras opciones para la especificación de grupos"
      ]
    },
    {
      "cell_type": "code",
      "metadata": {
        "id": "X0J9eZlR4ZOB",
        "colab": {
          "base_uri": "https://localhost:8080/"
        },
        "outputId": "eec39970-74b9-4316-80c4-756eda5f8216"
      },
      "source": [
        "# la clave puede ser cualquier serie o lista con una longitud que coincida con la del DataFrame\n",
        "\n",
        "rng = np.random.RandomState(0)        \n",
        "df = pd.DataFrame({'key': ['A', 'B', 'C', 'A', 'B', 'C'],'data1': range(1,7),'data2': rng.randint(0, 10, 6)}, \n",
        "                  columns = ['key', 'data1', 'data2']) \n",
        "print(df)\n",
        "\n",
        "# agrupar las filas 0 y 2 con índice \"a\"; las 1 y 3 con índice 1 ; las 4 y 5 con índice 10 y obtener la media\n",
        "L = [\"a\", 1, \"a\", 1, 10, 10]    \n",
        "df.groupby(L).mean()"
      ],
      "execution_count": null,
      "outputs": [
        {
          "output_type": "stream",
          "text": [
            "  key  data1  data2\n",
            "0   A      1      5\n",
            "1   B      2      0\n",
            "2   C      3      3\n",
            "3   A      4      3\n",
            "4   B      5      7\n",
            "5   C      6      9\n"
          ],
          "name": "stdout"
        },
        {
          "output_type": "execute_result",
          "data": {
            "text/html": [
              "<div>\n",
              "<style scoped>\n",
              "    .dataframe tbody tr th:only-of-type {\n",
              "        vertical-align: middle;\n",
              "    }\n",
              "\n",
              "    .dataframe tbody tr th {\n",
              "        vertical-align: top;\n",
              "    }\n",
              "\n",
              "    .dataframe thead th {\n",
              "        text-align: right;\n",
              "    }\n",
              "</style>\n",
              "<table border=\"1\" class=\"dataframe\">\n",
              "  <thead>\n",
              "    <tr style=\"text-align: right;\">\n",
              "      <th></th>\n",
              "      <th>data1</th>\n",
              "      <th>data2</th>\n",
              "    </tr>\n",
              "  </thead>\n",
              "  <tbody>\n",
              "    <tr>\n",
              "      <th>1</th>\n",
              "      <td>3.0</td>\n",
              "      <td>1.5</td>\n",
              "    </tr>\n",
              "    <tr>\n",
              "      <th>10</th>\n",
              "      <td>5.5</td>\n",
              "      <td>8.0</td>\n",
              "    </tr>\n",
              "    <tr>\n",
              "      <th>a</th>\n",
              "      <td>2.0</td>\n",
              "      <td>4.0</td>\n",
              "    </tr>\n",
              "  </tbody>\n",
              "</table>\n",
              "</div>"
            ],
            "text/plain": [
              "    data1  data2\n",
              "1     3.0    1.5\n",
              "10    5.5    8.0\n",
              "a     2.0    4.0"
            ]
          },
          "metadata": {
            "tags": []
          },
          "execution_count": 121
        }
      ]
    },
    {
      "cell_type": "markdown",
      "metadata": {
        "id": "97_8Tn5_4viv"
      },
      "source": [
        "Otro método es el de proporcionar un diccionario que asigne los valores de los índices a las claves de grupo"
      ]
    },
    {
      "cell_type": "code",
      "metadata": {
        "id": "X1LK12Gs4yj_",
        "colab": {
          "base_uri": "https://localhost:8080/"
        },
        "outputId": "7b423f7f-61d1-490c-dbc7-4ce2d12d4436"
      },
      "source": [
        "# asignar la columna \"key\" como índice\n",
        "df2 = df.set_index('key')   \n",
        "print(df2) \n",
        "\n",
        "# mapear los índices\n",
        "mapping = {'A': 'vowel', 'B': 'consonant', 'C': 'consonant'} \n",
        "print(df2.groupby(mapping).sum())"
      ],
      "execution_count": null,
      "outputs": [
        {
          "output_type": "stream",
          "text": [
            "     data1  data2\n",
            "key              \n",
            "A        1      5\n",
            "B        2      0\n",
            "C        3      3\n",
            "A        4      3\n",
            "B        5      7\n",
            "C        6      9\n",
            "           data1  data2\n",
            "consonant     16     19\n",
            "vowel          5      8\n"
          ],
          "name": "stdout"
        }
      ]
    },
    {
      "cell_type": "markdown",
      "metadata": {
        "id": "OwnGXibh43C3"
      },
      "source": [
        "Análogamente al mapeo, es posible pasar cualquier función de Python que ingrese el valor del índice y genere el grupo"
      ]
    },
    {
      "cell_type": "code",
      "metadata": {
        "id": "rk31LKSN46MM",
        "colab": {
          "base_uri": "https://localhost:8080/"
        },
        "outputId": "9755c808-5442-4e9b-d386-6f73dc9defcf"
      },
      "source": [
        "df2.groupby(str.lower).mean()"
      ],
      "execution_count": null,
      "outputs": [
        {
          "output_type": "execute_result",
          "data": {
            "text/html": [
              "<div>\n",
              "<style scoped>\n",
              "    .dataframe tbody tr th:only-of-type {\n",
              "        vertical-align: middle;\n",
              "    }\n",
              "\n",
              "    .dataframe tbody tr th {\n",
              "        vertical-align: top;\n",
              "    }\n",
              "\n",
              "    .dataframe thead th {\n",
              "        text-align: right;\n",
              "    }\n",
              "</style>\n",
              "<table border=\"1\" class=\"dataframe\">\n",
              "  <thead>\n",
              "    <tr style=\"text-align: right;\">\n",
              "      <th></th>\n",
              "      <th>data1</th>\n",
              "      <th>data2</th>\n",
              "    </tr>\n",
              "  </thead>\n",
              "  <tbody>\n",
              "    <tr>\n",
              "      <th>a</th>\n",
              "      <td>2.5</td>\n",
              "      <td>4.0</td>\n",
              "    </tr>\n",
              "    <tr>\n",
              "      <th>b</th>\n",
              "      <td>3.5</td>\n",
              "      <td>3.5</td>\n",
              "    </tr>\n",
              "    <tr>\n",
              "      <th>c</th>\n",
              "      <td>4.5</td>\n",
              "      <td>6.0</td>\n",
              "    </tr>\n",
              "  </tbody>\n",
              "</table>\n",
              "</div>"
            ],
            "text/plain": [
              "   data1  data2\n",
              "a    2.5    4.0\n",
              "b    3.5    3.5\n",
              "c    4.5    6.0"
            ]
          },
          "metadata": {
            "tags": []
          },
          "execution_count": 123
        }
      ]
    },
    {
      "cell_type": "markdown",
      "metadata": {
        "id": "yoyO7SGs5Cjw"
      },
      "source": [
        "cualquiera de las opciones anteriores se pueden combinar para agrupar con índice múltiple"
      ]
    },
    {
      "cell_type": "code",
      "metadata": {
        "id": "x8aDdhFu5D2H",
        "colab": {
          "base_uri": "https://localhost:8080/"
        },
        "outputId": "8bc17af3-f8f3-4fb1-eb42-aeca8097172a"
      },
      "source": [
        "mi = df2.groupby([str.lower, mapping]).mean()\n",
        "mi"
      ],
      "execution_count": null,
      "outputs": [
        {
          "output_type": "execute_result",
          "data": {
            "text/html": [
              "<div>\n",
              "<style scoped>\n",
              "    .dataframe tbody tr th:only-of-type {\n",
              "        vertical-align: middle;\n",
              "    }\n",
              "\n",
              "    .dataframe tbody tr th {\n",
              "        vertical-align: top;\n",
              "    }\n",
              "\n",
              "    .dataframe thead th {\n",
              "        text-align: right;\n",
              "    }\n",
              "</style>\n",
              "<table border=\"1\" class=\"dataframe\">\n",
              "  <thead>\n",
              "    <tr style=\"text-align: right;\">\n",
              "      <th></th>\n",
              "      <th></th>\n",
              "      <th>data1</th>\n",
              "      <th>data2</th>\n",
              "    </tr>\n",
              "  </thead>\n",
              "  <tbody>\n",
              "    <tr>\n",
              "      <th>a</th>\n",
              "      <th>vowel</th>\n",
              "      <td>2.5</td>\n",
              "      <td>4.0</td>\n",
              "    </tr>\n",
              "    <tr>\n",
              "      <th>b</th>\n",
              "      <th>consonant</th>\n",
              "      <td>3.5</td>\n",
              "      <td>3.5</td>\n",
              "    </tr>\n",
              "    <tr>\n",
              "      <th>c</th>\n",
              "      <th>consonant</th>\n",
              "      <td>4.5</td>\n",
              "      <td>6.0</td>\n",
              "    </tr>\n",
              "  </tbody>\n",
              "</table>\n",
              "</div>"
            ],
            "text/plain": [
              "             data1  data2\n",
              "a vowel        2.5    4.0\n",
              "b consonant    3.5    3.5\n",
              "c consonant    4.5    6.0"
            ]
          },
          "metadata": {
            "tags": []
          },
          "execution_count": 124
        }
      ]
    },
    {
      "cell_type": "markdown",
      "metadata": {
        "id": "qnJ3F9e65HIP"
      },
      "source": [
        "Se puede acceder a los diferentes niveles del índice múltiple mediante el argumento \"level\""
      ]
    },
    {
      "cell_type": "code",
      "metadata": {
        "id": "0am5TxOR5LM7",
        "colab": {
          "base_uri": "https://localhost:8080/"
        },
        "outputId": "6f545af0-9247-49b9-94fc-8a1652b3c136"
      },
      "source": [
        "mi.groupby(level=0).mean()"
      ],
      "execution_count": null,
      "outputs": [
        {
          "output_type": "execute_result",
          "data": {
            "text/html": [
              "<div>\n",
              "<style scoped>\n",
              "    .dataframe tbody tr th:only-of-type {\n",
              "        vertical-align: middle;\n",
              "    }\n",
              "\n",
              "    .dataframe tbody tr th {\n",
              "        vertical-align: top;\n",
              "    }\n",
              "\n",
              "    .dataframe thead th {\n",
              "        text-align: right;\n",
              "    }\n",
              "</style>\n",
              "<table border=\"1\" class=\"dataframe\">\n",
              "  <thead>\n",
              "    <tr style=\"text-align: right;\">\n",
              "      <th></th>\n",
              "      <th>data1</th>\n",
              "      <th>data2</th>\n",
              "    </tr>\n",
              "  </thead>\n",
              "  <tbody>\n",
              "    <tr>\n",
              "      <th>a</th>\n",
              "      <td>2.5</td>\n",
              "      <td>4.0</td>\n",
              "    </tr>\n",
              "    <tr>\n",
              "      <th>b</th>\n",
              "      <td>3.5</td>\n",
              "      <td>3.5</td>\n",
              "    </tr>\n",
              "    <tr>\n",
              "      <th>c</th>\n",
              "      <td>4.5</td>\n",
              "      <td>6.0</td>\n",
              "    </tr>\n",
              "  </tbody>\n",
              "</table>\n",
              "</div>"
            ],
            "text/plain": [
              "   data1  data2\n",
              "a    2.5    4.0\n",
              "b    3.5    3.5\n",
              "c    4.5    6.0"
            ]
          },
          "metadata": {
            "tags": []
          },
          "execution_count": 125
        }
      ]
    },
    {
      "cell_type": "code",
      "metadata": {
        "id": "5dVCDkGz5Ok9",
        "colab": {
          "base_uri": "https://localhost:8080/"
        },
        "outputId": "56ad78b1-6688-4339-d7db-3cc75ffca887"
      },
      "source": [
        "mi.groupby(level=1).mean()"
      ],
      "execution_count": null,
      "outputs": [
        {
          "output_type": "execute_result",
          "data": {
            "text/html": [
              "<div>\n",
              "<style scoped>\n",
              "    .dataframe tbody tr th:only-of-type {\n",
              "        vertical-align: middle;\n",
              "    }\n",
              "\n",
              "    .dataframe tbody tr th {\n",
              "        vertical-align: top;\n",
              "    }\n",
              "\n",
              "    .dataframe thead th {\n",
              "        text-align: right;\n",
              "    }\n",
              "</style>\n",
              "<table border=\"1\" class=\"dataframe\">\n",
              "  <thead>\n",
              "    <tr style=\"text-align: right;\">\n",
              "      <th></th>\n",
              "      <th>data1</th>\n",
              "      <th>data2</th>\n",
              "    </tr>\n",
              "  </thead>\n",
              "  <tbody>\n",
              "    <tr>\n",
              "      <th>consonant</th>\n",
              "      <td>4.0</td>\n",
              "      <td>4.75</td>\n",
              "    </tr>\n",
              "    <tr>\n",
              "      <th>vowel</th>\n",
              "      <td>2.5</td>\n",
              "      <td>4.00</td>\n",
              "    </tr>\n",
              "  </tbody>\n",
              "</table>\n",
              "</div>"
            ],
            "text/plain": [
              "           data1  data2\n",
              "consonant    4.0   4.75\n",
              "vowel        2.5   4.00"
            ]
          },
          "metadata": {
            "tags": []
          },
          "execution_count": 126
        }
      ]
    },
    {
      "cell_type": "markdown",
      "metadata": {
        "id": "PACI2ANP5TBE"
      },
      "source": [
        "## Tablas dinámicas\n",
        "\n",
        "La tabla dinámica toma los datos de las columnas como entrada y las agrupa en una tabla que proporciona un resumen multidimensional de los datos. Es esencialmente una versión multidimensional de la agregación con GroupBy."
      ]
    },
    {
      "cell_type": "markdown",
      "metadata": {
        "id": "kZ2OkVi05T_G"
      },
      "source": [
        "En este caso importaremos el dataset \"titanic\" via seaborn, el cual contiene información sobre cada pasajero, incluyendo género, edad, clase, tarifa pagada y mucho más"
      ]
    },
    {
      "cell_type": "code",
      "metadata": {
        "id": "H6mWjU6z5XPk",
        "colab": {
          "base_uri": "https://localhost:8080/",
          "height": 204
        },
        "outputId": "e5bc4255-4058-4551-fc69-afb8b1093932"
      },
      "source": [
        "titanic = sns.load_dataset('titanic')\n",
        "titanic.head()"
      ],
      "execution_count": null,
      "outputs": [
        {
          "output_type": "execute_result",
          "data": {
            "text/html": [
              "<div>\n",
              "<style scoped>\n",
              "    .dataframe tbody tr th:only-of-type {\n",
              "        vertical-align: middle;\n",
              "    }\n",
              "\n",
              "    .dataframe tbody tr th {\n",
              "        vertical-align: top;\n",
              "    }\n",
              "\n",
              "    .dataframe thead th {\n",
              "        text-align: right;\n",
              "    }\n",
              "</style>\n",
              "<table border=\"1\" class=\"dataframe\">\n",
              "  <thead>\n",
              "    <tr style=\"text-align: right;\">\n",
              "      <th></th>\n",
              "      <th>survived</th>\n",
              "      <th>pclass</th>\n",
              "      <th>sex</th>\n",
              "      <th>age</th>\n",
              "      <th>sibsp</th>\n",
              "      <th>parch</th>\n",
              "      <th>fare</th>\n",
              "      <th>embarked</th>\n",
              "      <th>class</th>\n",
              "      <th>who</th>\n",
              "      <th>adult_male</th>\n",
              "      <th>deck</th>\n",
              "      <th>embark_town</th>\n",
              "      <th>alive</th>\n",
              "      <th>alone</th>\n",
              "    </tr>\n",
              "  </thead>\n",
              "  <tbody>\n",
              "    <tr>\n",
              "      <th>0</th>\n",
              "      <td>0</td>\n",
              "      <td>3</td>\n",
              "      <td>male</td>\n",
              "      <td>22.0</td>\n",
              "      <td>1</td>\n",
              "      <td>0</td>\n",
              "      <td>7.2500</td>\n",
              "      <td>S</td>\n",
              "      <td>Third</td>\n",
              "      <td>man</td>\n",
              "      <td>True</td>\n",
              "      <td>NaN</td>\n",
              "      <td>Southampton</td>\n",
              "      <td>no</td>\n",
              "      <td>False</td>\n",
              "    </tr>\n",
              "    <tr>\n",
              "      <th>1</th>\n",
              "      <td>1</td>\n",
              "      <td>1</td>\n",
              "      <td>female</td>\n",
              "      <td>38.0</td>\n",
              "      <td>1</td>\n",
              "      <td>0</td>\n",
              "      <td>71.2833</td>\n",
              "      <td>C</td>\n",
              "      <td>First</td>\n",
              "      <td>woman</td>\n",
              "      <td>False</td>\n",
              "      <td>C</td>\n",
              "      <td>Cherbourg</td>\n",
              "      <td>yes</td>\n",
              "      <td>False</td>\n",
              "    </tr>\n",
              "    <tr>\n",
              "      <th>2</th>\n",
              "      <td>1</td>\n",
              "      <td>3</td>\n",
              "      <td>female</td>\n",
              "      <td>26.0</td>\n",
              "      <td>0</td>\n",
              "      <td>0</td>\n",
              "      <td>7.9250</td>\n",
              "      <td>S</td>\n",
              "      <td>Third</td>\n",
              "      <td>woman</td>\n",
              "      <td>False</td>\n",
              "      <td>NaN</td>\n",
              "      <td>Southampton</td>\n",
              "      <td>yes</td>\n",
              "      <td>True</td>\n",
              "    </tr>\n",
              "    <tr>\n",
              "      <th>3</th>\n",
              "      <td>1</td>\n",
              "      <td>1</td>\n",
              "      <td>female</td>\n",
              "      <td>35.0</td>\n",
              "      <td>1</td>\n",
              "      <td>0</td>\n",
              "      <td>53.1000</td>\n",
              "      <td>S</td>\n",
              "      <td>First</td>\n",
              "      <td>woman</td>\n",
              "      <td>False</td>\n",
              "      <td>C</td>\n",
              "      <td>Southampton</td>\n",
              "      <td>yes</td>\n",
              "      <td>False</td>\n",
              "    </tr>\n",
              "    <tr>\n",
              "      <th>4</th>\n",
              "      <td>0</td>\n",
              "      <td>3</td>\n",
              "      <td>male</td>\n",
              "      <td>35.0</td>\n",
              "      <td>0</td>\n",
              "      <td>0</td>\n",
              "      <td>8.0500</td>\n",
              "      <td>S</td>\n",
              "      <td>Third</td>\n",
              "      <td>man</td>\n",
              "      <td>True</td>\n",
              "      <td>NaN</td>\n",
              "      <td>Southampton</td>\n",
              "      <td>no</td>\n",
              "      <td>True</td>\n",
              "    </tr>\n",
              "  </tbody>\n",
              "</table>\n",
              "</div>"
            ],
            "text/plain": [
              "   survived  pclass     sex   age  ...  deck  embark_town  alive  alone\n",
              "0         0       3    male  22.0  ...   NaN  Southampton     no  False\n",
              "1         1       1  female  38.0  ...     C    Cherbourg    yes  False\n",
              "2         1       3  female  26.0  ...   NaN  Southampton    yes   True\n",
              "3         1       1  female  35.0  ...     C  Southampton    yes  False\n",
              "4         0       3    male  35.0  ...   NaN  Southampton     no   True\n",
              "\n",
              "[5 rows x 15 columns]"
            ]
          },
          "metadata": {
            "tags": []
          },
          "execution_count": 127
        }
      ]
    },
    {
      "cell_type": "markdown",
      "metadata": {
        "id": "jhzB9tzY5c_J"
      },
      "source": [
        "Para comenzar a aprender más sobre este dataset, podríamos comenzar por agrupar según el género, el estado de supervivencia o alguna combinación de estos. Veamos la tasa de supervivencia por género:"
      ]
    },
    {
      "cell_type": "code",
      "metadata": {
        "id": "OaeiBiINcwr4",
        "colab": {
          "base_uri": "https://localhost:8080/"
        },
        "outputId": "8e48ad67-07f7-44e2-d3b3-a49151839d5d"
      },
      "source": [
        "titanic.info()"
      ],
      "execution_count": null,
      "outputs": [
        {
          "output_type": "stream",
          "text": [
            "<class 'pandas.core.frame.DataFrame'>\n",
            "RangeIndex: 891 entries, 0 to 890\n",
            "Data columns (total 15 columns):\n",
            " #   Column       Non-Null Count  Dtype   \n",
            "---  ------       --------------  -----   \n",
            " 0   survived     891 non-null    int64   \n",
            " 1   pclass       891 non-null    int64   \n",
            " 2   sex          891 non-null    object  \n",
            " 3   age          714 non-null    float64 \n",
            " 4   sibsp        891 non-null    int64   \n",
            " 5   parch        891 non-null    int64   \n",
            " 6   fare         891 non-null    float64 \n",
            " 7   embarked     889 non-null    object  \n",
            " 8   class        891 non-null    category\n",
            " 9   who          891 non-null    object  \n",
            " 10  adult_male   891 non-null    bool    \n",
            " 11  deck         203 non-null    category\n",
            " 12  embark_town  889 non-null    object  \n",
            " 13  alive        891 non-null    object  \n",
            " 14  alone        891 non-null    bool    \n",
            "dtypes: bool(2), category(2), float64(2), int64(4), object(5)\n",
            "memory usage: 80.6+ KB\n"
          ],
          "name": "stdout"
        }
      ]
    },
    {
      "cell_type": "code",
      "metadata": {
        "id": "qHjDDMgB5d1N",
        "colab": {
          "base_uri": "https://localhost:8080/",
          "height": 142
        },
        "outputId": "294d16b3-2e69-480a-8790-9d4399be3643"
      },
      "source": [
        "titanic.groupby('sex')[['survived']].sum()"
      ],
      "execution_count": null,
      "outputs": [
        {
          "output_type": "execute_result",
          "data": {
            "text/html": [
              "<div>\n",
              "<style scoped>\n",
              "    .dataframe tbody tr th:only-of-type {\n",
              "        vertical-align: middle;\n",
              "    }\n",
              "\n",
              "    .dataframe tbody tr th {\n",
              "        vertical-align: top;\n",
              "    }\n",
              "\n",
              "    .dataframe thead th {\n",
              "        text-align: right;\n",
              "    }\n",
              "</style>\n",
              "<table border=\"1\" class=\"dataframe\">\n",
              "  <thead>\n",
              "    <tr style=\"text-align: right;\">\n",
              "      <th></th>\n",
              "      <th>survived</th>\n",
              "    </tr>\n",
              "    <tr>\n",
              "      <th>sex</th>\n",
              "      <th></th>\n",
              "    </tr>\n",
              "  </thead>\n",
              "  <tbody>\n",
              "    <tr>\n",
              "      <th>female</th>\n",
              "      <td>233</td>\n",
              "    </tr>\n",
              "    <tr>\n",
              "      <th>male</th>\n",
              "      <td>109</td>\n",
              "    </tr>\n",
              "  </tbody>\n",
              "</table>\n",
              "</div>"
            ],
            "text/plain": [
              "        survived\n",
              "sex             \n",
              "female       233\n",
              "male         109"
            ]
          },
          "metadata": {
            "tags": []
          },
          "execution_count": 147
        }
      ]
    },
    {
      "cell_type": "markdown",
      "metadata": {
        "id": "qQkT9N7J5jVk"
      },
      "source": [
        "Nos gustaría ir un paso más allá y ver la supervivencia por sexo y, por ejemplo, clase. Con GroupBy"
      ]
    },
    {
      "cell_type": "code",
      "metadata": {
        "id": "j9C3IzdB5kRt",
        "colab": {
          "base_uri": "https://localhost:8080/",
          "height": 142
        },
        "outputId": "7d4d3566-b66e-4b88-9cb8-5d94db891776"
      },
      "source": [
        "titanic.groupby(['sex', 'class'])['survived'].aggregate('sum').unstack()"
      ],
      "execution_count": null,
      "outputs": [
        {
          "output_type": "execute_result",
          "data": {
            "text/html": [
              "<div>\n",
              "<style scoped>\n",
              "    .dataframe tbody tr th:only-of-type {\n",
              "        vertical-align: middle;\n",
              "    }\n",
              "\n",
              "    .dataframe tbody tr th {\n",
              "        vertical-align: top;\n",
              "    }\n",
              "\n",
              "    .dataframe thead th {\n",
              "        text-align: right;\n",
              "    }\n",
              "</style>\n",
              "<table border=\"1\" class=\"dataframe\">\n",
              "  <thead>\n",
              "    <tr style=\"text-align: right;\">\n",
              "      <th>class</th>\n",
              "      <th>First</th>\n",
              "      <th>Second</th>\n",
              "      <th>Third</th>\n",
              "    </tr>\n",
              "    <tr>\n",
              "      <th>sex</th>\n",
              "      <th></th>\n",
              "      <th></th>\n",
              "      <th></th>\n",
              "    </tr>\n",
              "  </thead>\n",
              "  <tbody>\n",
              "    <tr>\n",
              "      <th>female</th>\n",
              "      <td>91</td>\n",
              "      <td>70</td>\n",
              "      <td>72</td>\n",
              "    </tr>\n",
              "    <tr>\n",
              "      <th>male</th>\n",
              "      <td>45</td>\n",
              "      <td>17</td>\n",
              "      <td>47</td>\n",
              "    </tr>\n",
              "  </tbody>\n",
              "</table>\n",
              "</div>"
            ],
            "text/plain": [
              "class   First  Second  Third\n",
              "sex                         \n",
              "female     91      70     72\n",
              "male       45      17     47"
            ]
          },
          "metadata": {
            "tags": []
          },
          "execution_count": 152
        }
      ]
    },
    {
      "cell_type": "markdown",
      "metadata": {
        "id": "S7jAfkcO5qGb"
      },
      "source": [
        "Este GroupBy bidimensional es lo suficientemente común como para que Pandas incluya una rutina conveniente `pivot_table` que maneja este tipo de agregación multidimensional"
      ]
    },
    {
      "cell_type": "code",
      "metadata": {
        "id": "RjNcu-pB5rEH",
        "colab": {
          "base_uri": "https://localhost:8080/",
          "height": 142
        },
        "outputId": "08c71632-0696-4973-9f84-fb4f8bf85d70"
      },
      "source": [
        "titanic.pivot_table('survived', index='sex', columns='class') #pivote mean"
      ],
      "execution_count": null,
      "outputs": [
        {
          "output_type": "execute_result",
          "data": {
            "text/html": [
              "<div>\n",
              "<style scoped>\n",
              "    .dataframe tbody tr th:only-of-type {\n",
              "        vertical-align: middle;\n",
              "    }\n",
              "\n",
              "    .dataframe tbody tr th {\n",
              "        vertical-align: top;\n",
              "    }\n",
              "\n",
              "    .dataframe thead th {\n",
              "        text-align: right;\n",
              "    }\n",
              "</style>\n",
              "<table border=\"1\" class=\"dataframe\">\n",
              "  <thead>\n",
              "    <tr style=\"text-align: right;\">\n",
              "      <th>class</th>\n",
              "      <th>First</th>\n",
              "      <th>Second</th>\n",
              "      <th>Third</th>\n",
              "    </tr>\n",
              "    <tr>\n",
              "      <th>sex</th>\n",
              "      <th></th>\n",
              "      <th></th>\n",
              "      <th></th>\n",
              "    </tr>\n",
              "  </thead>\n",
              "  <tbody>\n",
              "    <tr>\n",
              "      <th>female</th>\n",
              "      <td>0.968085</td>\n",
              "      <td>0.921053</td>\n",
              "      <td>0.500000</td>\n",
              "    </tr>\n",
              "    <tr>\n",
              "      <th>male</th>\n",
              "      <td>0.368852</td>\n",
              "      <td>0.157407</td>\n",
              "      <td>0.135447</td>\n",
              "    </tr>\n",
              "  </tbody>\n",
              "</table>\n",
              "</div>"
            ],
            "text/plain": [
              "class      First    Second     Third\n",
              "sex                                 \n",
              "female  0.968085  0.921053  0.500000\n",
              "male    0.368852  0.157407  0.135447"
            ]
          },
          "metadata": {
            "tags": []
          },
          "execution_count": 130
        }
      ]
    },
    {
      "cell_type": "markdown",
      "metadata": {
        "id": "UQgp6UYa5zC5"
      },
      "source": [
        "Por defecto `pivot_table` aplica la función `mean()`. Para cambiar la función de agregación utilizamos el argumento `aggfunc`"
      ]
    },
    {
      "cell_type": "code",
      "metadata": {
        "id": "aXTU1mvs5zub",
        "colab": {
          "base_uri": "https://localhost:8080/",
          "height": 142
        },
        "outputId": "d61585e2-4ef0-433e-c8ae-037ea60b7b54"
      },
      "source": [
        "titanic.pivot_table(\"survived\", index='sex', columns='class', aggfunc=\"sum\")\n",
        "\n",
        "# agrupar por dos columnas y aplicar una función correspondiente a cada una\n",
        "\n",
        "#titanic.pivot_table(index='sex', columns='class', aggfunc={'survived':sum, 'fare':'mean'})"
      ],
      "execution_count": null,
      "outputs": [
        {
          "output_type": "execute_result",
          "data": {
            "text/html": [
              "<div>\n",
              "<style scoped>\n",
              "    .dataframe tbody tr th:only-of-type {\n",
              "        vertical-align: middle;\n",
              "    }\n",
              "\n",
              "    .dataframe tbody tr th {\n",
              "        vertical-align: top;\n",
              "    }\n",
              "\n",
              "    .dataframe thead th {\n",
              "        text-align: right;\n",
              "    }\n",
              "</style>\n",
              "<table border=\"1\" class=\"dataframe\">\n",
              "  <thead>\n",
              "    <tr style=\"text-align: right;\">\n",
              "      <th>class</th>\n",
              "      <th>First</th>\n",
              "      <th>Second</th>\n",
              "      <th>Third</th>\n",
              "    </tr>\n",
              "    <tr>\n",
              "      <th>sex</th>\n",
              "      <th></th>\n",
              "      <th></th>\n",
              "      <th></th>\n",
              "    </tr>\n",
              "  </thead>\n",
              "  <tbody>\n",
              "    <tr>\n",
              "      <th>female</th>\n",
              "      <td>91</td>\n",
              "      <td>70</td>\n",
              "      <td>72</td>\n",
              "    </tr>\n",
              "    <tr>\n",
              "      <th>male</th>\n",
              "      <td>45</td>\n",
              "      <td>17</td>\n",
              "      <td>47</td>\n",
              "    </tr>\n",
              "  </tbody>\n",
              "</table>\n",
              "</div>"
            ],
            "text/plain": [
              "class   First  Second  Third\n",
              "sex                         \n",
              "female     91      70     72\n",
              "male       45      17     47"
            ]
          },
          "metadata": {
            "tags": []
          },
          "execution_count": 153
        }
      ]
    },
    {
      "cell_type": "markdown",
      "metadata": {
        "id": "r-ssf85L58rQ"
      },
      "source": [
        "la agrupación en tablas dinámicas se puede especificar con múltiples niveles. Podríamos estar interesados en ver la edad como una tercera dimensión. Seccionaremos la edad usando la función `pd.cut`"
      ]
    },
    {
      "cell_type": "code",
      "metadata": {
        "id": "zEFImm1A5_kb",
        "colab": {
          "base_uri": "https://localhost:8080/",
          "height": 204
        },
        "outputId": "502a4188-a884-4838-991d-466ca21afa2c"
      },
      "source": [
        "age = pd.cut(titanic['age'], [0, 18, 120],right=False)   \n",
        "titanic.pivot_table('survived', ['sex', age], 'class', aggfunc=\"sum\")"
      ],
      "execution_count": null,
      "outputs": [
        {
          "output_type": "execute_result",
          "data": {
            "text/html": [
              "<div>\n",
              "<style scoped>\n",
              "    .dataframe tbody tr th:only-of-type {\n",
              "        vertical-align: middle;\n",
              "    }\n",
              "\n",
              "    .dataframe tbody tr th {\n",
              "        vertical-align: top;\n",
              "    }\n",
              "\n",
              "    .dataframe thead th {\n",
              "        text-align: right;\n",
              "    }\n",
              "</style>\n",
              "<table border=\"1\" class=\"dataframe\">\n",
              "  <thead>\n",
              "    <tr style=\"text-align: right;\">\n",
              "      <th></th>\n",
              "      <th>class</th>\n",
              "      <th>First</th>\n",
              "      <th>Second</th>\n",
              "      <th>Third</th>\n",
              "    </tr>\n",
              "    <tr>\n",
              "      <th>sex</th>\n",
              "      <th>age</th>\n",
              "      <th></th>\n",
              "      <th></th>\n",
              "      <th></th>\n",
              "    </tr>\n",
              "  </thead>\n",
              "  <tbody>\n",
              "    <tr>\n",
              "      <th rowspan=\"2\" valign=\"top\">female</th>\n",
              "      <th>[0, 18)</th>\n",
              "      <td>7</td>\n",
              "      <td>12</td>\n",
              "      <td>19</td>\n",
              "    </tr>\n",
              "    <tr>\n",
              "      <th>[18, 120)</th>\n",
              "      <td>75</td>\n",
              "      <td>56</td>\n",
              "      <td>28</td>\n",
              "    </tr>\n",
              "    <tr>\n",
              "      <th rowspan=\"2\" valign=\"top\">male</th>\n",
              "      <th>[0, 18)</th>\n",
              "      <td>4</td>\n",
              "      <td>9</td>\n",
              "      <td>10</td>\n",
              "    </tr>\n",
              "    <tr>\n",
              "      <th>[18, 120)</th>\n",
              "      <td>36</td>\n",
              "      <td>6</td>\n",
              "      <td>28</td>\n",
              "    </tr>\n",
              "  </tbody>\n",
              "</table>\n",
              "</div>"
            ],
            "text/plain": [
              "class             First  Second  Third\n",
              "sex    age                            \n",
              "female [0, 18)        7      12     19\n",
              "       [18, 120)     75      56     28\n",
              "male   [0, 18)        4       9     10\n",
              "       [18, 120)     36       6     28"
            ]
          },
          "metadata": {
            "tags": []
          },
          "execution_count": 156
        }
      ]
    },
    {
      "cell_type": "markdown",
      "metadata": {
        "id": "s5o82eJk6DV-"
      },
      "source": [
        "Podemos aplicar esta misma estrategia para trabajar con las columnas. Agreguemos información sobre la tarifa pagada usando `pd.qcut` para calcular automáticamente los cuantiles"
      ]
    },
    {
      "cell_type": "code",
      "metadata": {
        "id": "Vz8XVIFH6GC9",
        "colab": {
          "base_uri": "https://localhost:8080/",
          "height": 235
        },
        "outputId": "d1f3b3b0-f7e2-4d9a-9b61-7627f348a79a"
      },
      "source": [
        "fare = pd.qcut(titanic['fare'], 2)       \n",
        "multi = titanic.pivot_table('survived', ['sex', age], [fare, 'class'], aggfunc=\"sum\")\n",
        "multi"
      ],
      "execution_count": null,
      "outputs": [
        {
          "output_type": "execute_result",
          "data": {
            "text/html": [
              "<div>\n",
              "<style scoped>\n",
              "    .dataframe tbody tr th:only-of-type {\n",
              "        vertical-align: middle;\n",
              "    }\n",
              "\n",
              "    .dataframe tbody tr th {\n",
              "        vertical-align: top;\n",
              "    }\n",
              "\n",
              "    .dataframe thead tr th {\n",
              "        text-align: left;\n",
              "    }\n",
              "\n",
              "    .dataframe thead tr:last-of-type th {\n",
              "        text-align: right;\n",
              "    }\n",
              "</style>\n",
              "<table border=\"1\" class=\"dataframe\">\n",
              "  <thead>\n",
              "    <tr>\n",
              "      <th></th>\n",
              "      <th>fare</th>\n",
              "      <th colspan=\"3\" halign=\"left\">(-0.001, 14.454]</th>\n",
              "      <th colspan=\"3\" halign=\"left\">(14.454, 512.329]</th>\n",
              "    </tr>\n",
              "    <tr>\n",
              "      <th></th>\n",
              "      <th>class</th>\n",
              "      <th>First</th>\n",
              "      <th>Second</th>\n",
              "      <th>Third</th>\n",
              "      <th>First</th>\n",
              "      <th>Second</th>\n",
              "      <th>Third</th>\n",
              "    </tr>\n",
              "    <tr>\n",
              "      <th>sex</th>\n",
              "      <th>age</th>\n",
              "      <th></th>\n",
              "      <th></th>\n",
              "      <th></th>\n",
              "      <th></th>\n",
              "      <th></th>\n",
              "      <th></th>\n",
              "    </tr>\n",
              "  </thead>\n",
              "  <tbody>\n",
              "    <tr>\n",
              "      <th rowspan=\"2\" valign=\"top\">female</th>\n",
              "      <th>[0, 18)</th>\n",
              "      <td>NaN</td>\n",
              "      <td>2.0</td>\n",
              "      <td>12.0</td>\n",
              "      <td>7.0</td>\n",
              "      <td>10.0</td>\n",
              "      <td>7.0</td>\n",
              "    </tr>\n",
              "    <tr>\n",
              "      <th>[18, 120)</th>\n",
              "      <td>NaN</td>\n",
              "      <td>23.0</td>\n",
              "      <td>19.0</td>\n",
              "      <td>75.0</td>\n",
              "      <td>33.0</td>\n",
              "      <td>9.0</td>\n",
              "    </tr>\n",
              "    <tr>\n",
              "      <th rowspan=\"2\" valign=\"top\">male</th>\n",
              "      <th>[0, 18)</th>\n",
              "      <td>NaN</td>\n",
              "      <td>0.0</td>\n",
              "      <td>5.0</td>\n",
              "      <td>4.0</td>\n",
              "      <td>9.0</td>\n",
              "      <td>5.0</td>\n",
              "    </tr>\n",
              "    <tr>\n",
              "      <th>[18, 120)</th>\n",
              "      <td>0.0</td>\n",
              "      <td>5.0</td>\n",
              "      <td>23.0</td>\n",
              "      <td>36.0</td>\n",
              "      <td>1.0</td>\n",
              "      <td>5.0</td>\n",
              "    </tr>\n",
              "  </tbody>\n",
              "</table>\n",
              "</div>"
            ],
            "text/plain": [
              "fare             (-0.001, 14.454]              (14.454, 512.329]             \n",
              "class                       First Second Third             First Second Third\n",
              "sex    age                                                                   \n",
              "female [0, 18)                NaN    2.0  12.0               7.0   10.0   7.0\n",
              "       [18, 120)              NaN   23.0  19.0              75.0   33.0   9.0\n",
              "male   [0, 18)                NaN    0.0   5.0               4.0    9.0   5.0\n",
              "       [18, 120)              0.0    5.0  23.0              36.0    1.0   5.0"
            ]
          },
          "metadata": {
            "tags": []
          },
          "execution_count": 157
        }
      ]
    },
    {
      "cell_type": "markdown",
      "metadata": {
        "id": "CLB7YLGc6K_U"
      },
      "source": [
        "El resultado es una agregación de cuatro dimensiones con índices jerárquicos."
      ]
    },
    {
      "cell_type": "code",
      "metadata": {
        "id": "8gz_PKT46Oh3",
        "colab": {
          "base_uri": "https://localhost:8080/",
          "height": 173
        },
        "outputId": "e3465698-6d32-4d00-d899-20b57e17415d"
      },
      "source": [
        "multi.mean(level=0)  "
      ],
      "execution_count": null,
      "outputs": [
        {
          "output_type": "execute_result",
          "data": {
            "text/html": [
              "<div>\n",
              "<style scoped>\n",
              "    .dataframe tbody tr th:only-of-type {\n",
              "        vertical-align: middle;\n",
              "    }\n",
              "\n",
              "    .dataframe tbody tr th {\n",
              "        vertical-align: top;\n",
              "    }\n",
              "\n",
              "    .dataframe thead tr th {\n",
              "        text-align: left;\n",
              "    }\n",
              "\n",
              "    .dataframe thead tr:last-of-type th {\n",
              "        text-align: right;\n",
              "    }\n",
              "</style>\n",
              "<table border=\"1\" class=\"dataframe\">\n",
              "  <thead>\n",
              "    <tr>\n",
              "      <th>fare</th>\n",
              "      <th colspan=\"3\" halign=\"left\">(-0.001, 14.454]</th>\n",
              "      <th colspan=\"3\" halign=\"left\">(14.454, 512.329]</th>\n",
              "    </tr>\n",
              "    <tr>\n",
              "      <th>class</th>\n",
              "      <th>First</th>\n",
              "      <th>Second</th>\n",
              "      <th>Third</th>\n",
              "      <th>First</th>\n",
              "      <th>Second</th>\n",
              "      <th>Third</th>\n",
              "    </tr>\n",
              "    <tr>\n",
              "      <th>sex</th>\n",
              "      <th></th>\n",
              "      <th></th>\n",
              "      <th></th>\n",
              "      <th></th>\n",
              "      <th></th>\n",
              "      <th></th>\n",
              "    </tr>\n",
              "  </thead>\n",
              "  <tbody>\n",
              "    <tr>\n",
              "      <th>female</th>\n",
              "      <td>NaN</td>\n",
              "      <td>12.5</td>\n",
              "      <td>15.5</td>\n",
              "      <td>41.0</td>\n",
              "      <td>21.5</td>\n",
              "      <td>8.0</td>\n",
              "    </tr>\n",
              "    <tr>\n",
              "      <th>male</th>\n",
              "      <td>0.0</td>\n",
              "      <td>2.5</td>\n",
              "      <td>14.0</td>\n",
              "      <td>20.0</td>\n",
              "      <td>5.0</td>\n",
              "      <td>5.0</td>\n",
              "    </tr>\n",
              "  </tbody>\n",
              "</table>\n",
              "</div>"
            ],
            "text/plain": [
              "fare   (-0.001, 14.454]              (14.454, 512.329]             \n",
              "class             First Second Third             First Second Third\n",
              "sex                                                                \n",
              "female              NaN   12.5  15.5              41.0   21.5   8.0\n",
              "male                0.0    2.5  14.0              20.0    5.0   5.0"
            ]
          },
          "metadata": {
            "tags": []
          },
          "execution_count": 134
        }
      ]
    },
    {
      "cell_type": "markdown",
      "metadata": {
        "id": "ZM5jUpg66YZZ"
      },
      "source": [
        "con la palabra clave `axis` podemos acceder a los niveles en las columnas"
      ]
    },
    {
      "cell_type": "code",
      "metadata": {
        "id": "Y6THwfhF6ZEk",
        "colab": {
          "base_uri": "https://localhost:8080/",
          "height": 204
        },
        "outputId": "ff930b7b-1346-4cfb-af1d-ac87681b3098"
      },
      "source": [
        "multi.sum(axis=1,level=\"fare\")"
      ],
      "execution_count": null,
      "outputs": [
        {
          "output_type": "execute_result",
          "data": {
            "text/html": [
              "<div>\n",
              "<style scoped>\n",
              "    .dataframe tbody tr th:only-of-type {\n",
              "        vertical-align: middle;\n",
              "    }\n",
              "\n",
              "    .dataframe tbody tr th {\n",
              "        vertical-align: top;\n",
              "    }\n",
              "\n",
              "    .dataframe thead th {\n",
              "        text-align: right;\n",
              "    }\n",
              "</style>\n",
              "<table border=\"1\" class=\"dataframe\">\n",
              "  <thead>\n",
              "    <tr style=\"text-align: right;\">\n",
              "      <th></th>\n",
              "      <th>fare</th>\n",
              "      <th>(-0.001, 14.454]</th>\n",
              "      <th>(14.454, 512.329]</th>\n",
              "    </tr>\n",
              "    <tr>\n",
              "      <th>sex</th>\n",
              "      <th>age</th>\n",
              "      <th></th>\n",
              "      <th></th>\n",
              "    </tr>\n",
              "  </thead>\n",
              "  <tbody>\n",
              "    <tr>\n",
              "      <th rowspan=\"2\" valign=\"top\">female</th>\n",
              "      <th>(0, 18]</th>\n",
              "      <td>18.0</td>\n",
              "      <td>28.0</td>\n",
              "    </tr>\n",
              "    <tr>\n",
              "      <th>(18, 80]</th>\n",
              "      <td>38.0</td>\n",
              "      <td>113.0</td>\n",
              "    </tr>\n",
              "    <tr>\n",
              "      <th rowspan=\"2\" valign=\"top\">male</th>\n",
              "      <th>(0, 18]</th>\n",
              "      <td>6.0</td>\n",
              "      <td>18.0</td>\n",
              "    </tr>\n",
              "    <tr>\n",
              "      <th>(18, 80]</th>\n",
              "      <td>27.0</td>\n",
              "      <td>42.0</td>\n",
              "    </tr>\n",
              "  </tbody>\n",
              "</table>\n",
              "</div>"
            ],
            "text/plain": [
              "fare             (-0.001, 14.454]  (14.454, 512.329]\n",
              "sex    age                                          \n",
              "female (0, 18]               18.0               28.0\n",
              "       (18, 80]              38.0              113.0\n",
              "male   (0, 18]                6.0               18.0\n",
              "       (18, 80]              27.0               42.0"
            ]
          },
          "metadata": {
            "tags": []
          },
          "execution_count": 135
        }
      ]
    },
    {
      "cell_type": "markdown",
      "metadata": {
        "id": "kALlzinI6eWL"
      },
      "source": [
        "A veces es útil calcular totales a lo largo de cada grupo. Esto se puede hacer a través de la palabra clave de `margin`"
      ]
    },
    {
      "cell_type": "code",
      "metadata": {
        "id": "1xxScQMS6fFo"
      },
      "source": [
        "count_table = titanic.pivot_table('survived', index='sex', columns='class', margins=True, aggfunc=sum)"
      ],
      "execution_count": null,
      "outputs": []
    },
    {
      "cell_type": "code",
      "metadata": {
        "id": "bx7H1RX-hhYI",
        "colab": {
          "base_uri": "https://localhost:8080/"
        },
        "outputId": "6a3ba31d-df5d-4ad1-8f17-62fe49f68fd4"
      },
      "source": [
        "count_table.index"
      ],
      "execution_count": null,
      "outputs": [
        {
          "output_type": "execute_result",
          "data": {
            "text/plain": [
              "Index(['female', 'male', 'All'], dtype='object', name='sex')"
            ]
          },
          "metadata": {
            "tags": []
          },
          "execution_count": 163
        }
      ]
    },
    {
      "cell_type": "code",
      "metadata": {
        "id": "CibYueWchEmc",
        "colab": {
          "base_uri": "https://localhost:8080/",
          "height": 173
        },
        "outputId": "4c16aed0-a8bf-4c09-fd85-ed2714f8911d"
      },
      "source": [
        "count_table.div(count_table['All'],axis=0)"
      ],
      "execution_count": null,
      "outputs": [
        {
          "output_type": "execute_result",
          "data": {
            "text/html": [
              "<div>\n",
              "<style scoped>\n",
              "    .dataframe tbody tr th:only-of-type {\n",
              "        vertical-align: middle;\n",
              "    }\n",
              "\n",
              "    .dataframe tbody tr th {\n",
              "        vertical-align: top;\n",
              "    }\n",
              "\n",
              "    .dataframe thead th {\n",
              "        text-align: right;\n",
              "    }\n",
              "</style>\n",
              "<table border=\"1\" class=\"dataframe\">\n",
              "  <thead>\n",
              "    <tr style=\"text-align: right;\">\n",
              "      <th>class</th>\n",
              "      <th>First</th>\n",
              "      <th>Second</th>\n",
              "      <th>Third</th>\n",
              "      <th>All</th>\n",
              "    </tr>\n",
              "    <tr>\n",
              "      <th>sex</th>\n",
              "      <th></th>\n",
              "      <th></th>\n",
              "      <th></th>\n",
              "      <th></th>\n",
              "    </tr>\n",
              "  </thead>\n",
              "  <tbody>\n",
              "    <tr>\n",
              "      <th>female</th>\n",
              "      <td>0.390558</td>\n",
              "      <td>0.300429</td>\n",
              "      <td>0.309013</td>\n",
              "      <td>1.0</td>\n",
              "    </tr>\n",
              "    <tr>\n",
              "      <th>male</th>\n",
              "      <td>0.412844</td>\n",
              "      <td>0.155963</td>\n",
              "      <td>0.431193</td>\n",
              "      <td>1.0</td>\n",
              "    </tr>\n",
              "    <tr>\n",
              "      <th>All</th>\n",
              "      <td>0.397661</td>\n",
              "      <td>0.254386</td>\n",
              "      <td>0.347953</td>\n",
              "      <td>1.0</td>\n",
              "    </tr>\n",
              "  </tbody>\n",
              "</table>\n",
              "</div>"
            ],
            "text/plain": [
              "class      First    Second     Third  All\n",
              "sex                                      \n",
              "female  0.390558  0.300429  0.309013  1.0\n",
              "male    0.412844  0.155963  0.431193  1.0\n",
              "All     0.397661  0.254386  0.347953  1.0"
            ]
          },
          "metadata": {
            "tags": []
          },
          "execution_count": 165
        }
      ]
    },
    {
      "cell_type": "code",
      "metadata": {
        "id": "x8M_mic0ihOm"
      },
      "source": [
        "count_table.to_csv('/content/sample_data/')"
      ],
      "execution_count": null,
      "outputs": []
    },
    {
      "cell_type": "markdown",
      "metadata": {
        "id": "QxM3_hQNni-c"
      },
      "source": [
        "# **Haciendo algo de procesamiento**\n",
        "\n",
        "Podemos modificar la tabla cambiando los nombres de las columnas"
      ]
    },
    {
      "cell_type": "code",
      "metadata": {
        "id": "F5FTE9yOQidH",
        "colab": {
          "base_uri": "https://localhost:8080/",
          "height": 204
        },
        "outputId": "f39f3269-6a42-4e87-86c2-be181a882412"
      },
      "source": [
        "#La lectura puede ser local o online\n",
        "#datos_csv = pd.read_csv('Eclipses_rd.csv')\n",
        "#url = 'https://raw.githubusercontent.com/SherylA/Fundamentos/master/Notebooks/Eclipses_rd.csv'\n",
        "url = 'https://drive.google.com/uc?id=1JK6s9j9kMR8azuGOLeYYSTvrrEUHfB3w'\n",
        "datos_csv = pd.read_csv(url)\n",
        "datos=datos_csv.copy()\n",
        "datos.head()"
      ],
      "execution_count": null,
      "outputs": [
        {
          "output_type": "execute_result",
          "data": {
            "text/html": [
              "<div>\n",
              "<style scoped>\n",
              "    .dataframe tbody tr th:only-of-type {\n",
              "        vertical-align: middle;\n",
              "    }\n",
              "\n",
              "    .dataframe tbody tr th {\n",
              "        vertical-align: top;\n",
              "    }\n",
              "\n",
              "    .dataframe thead th {\n",
              "        text-align: right;\n",
              "    }\n",
              "</style>\n",
              "<table border=\"1\" class=\"dataframe\">\n",
              "  <thead>\n",
              "    <tr style=\"text-align: right;\">\n",
              "      <th></th>\n",
              "      <th>Calendar Date</th>\n",
              "      <th>TD of Greatest Eclipse</th>\n",
              "      <th>Eclipse Type</th>\n",
              "      <th>Eclipse Magnitude</th>\n",
              "      <th>Central Duration</th>\n",
              "    </tr>\n",
              "  </thead>\n",
              "  <tbody>\n",
              "    <tr>\n",
              "      <th>0</th>\n",
              "      <td>2014 Apr 29</td>\n",
              "      <td>06:04:32</td>\n",
              "      <td>Annular</td>\n",
              "      <td>0.987</td>\n",
              "      <td>-</td>\n",
              "    </tr>\n",
              "    <tr>\n",
              "      <th>1</th>\n",
              "      <td>2008 Feb 07</td>\n",
              "      <td>03:56:10</td>\n",
              "      <td>Annular</td>\n",
              "      <td>0.965</td>\n",
              "      <td>02m12s</td>\n",
              "    </tr>\n",
              "    <tr>\n",
              "      <th>2</th>\n",
              "      <td>2013 May 10</td>\n",
              "      <td>00:26:20</td>\n",
              "      <td>Annular</td>\n",
              "      <td>0.954</td>\n",
              "      <td>06m03s</td>\n",
              "    </tr>\n",
              "    <tr>\n",
              "      <th>3</th>\n",
              "      <td>2015 Mar 20</td>\n",
              "      <td>09:46:47</td>\n",
              "      <td>Total</td>\n",
              "      <td>1.045</td>\n",
              "      <td>02m47s</td>\n",
              "    </tr>\n",
              "    <tr>\n",
              "      <th>4</th>\n",
              "      <td>2019 Dec 26</td>\n",
              "      <td>05:18:53</td>\n",
              "      <td>Annular</td>\n",
              "      <td>0.970</td>\n",
              "      <td>03m39s</td>\n",
              "    </tr>\n",
              "  </tbody>\n",
              "</table>\n",
              "</div>"
            ],
            "text/plain": [
              "  Calendar Date TD of Greatest Eclipse  ... Eclipse Magnitude  Central Duration\n",
              "0   2014 Apr 29               06:04:32  ...             0.987                 -\n",
              "1   2008 Feb 07               03:56:10  ...             0.965            02m12s\n",
              "2   2013 May 10               00:26:20  ...             0.954            06m03s\n",
              "3   2015 Mar 20               09:46:47  ...             1.045            02m47s\n",
              "4   2019 Dec 26               05:18:53  ...             0.970            03m39s\n",
              "\n",
              "[5 rows x 5 columns]"
            ]
          },
          "metadata": {
            "tags": []
          },
          "execution_count": 170
        }
      ]
    },
    {
      "cell_type": "code",
      "metadata": {
        "id": "oG2dUtO0kyxD",
        "colab": {
          "base_uri": "https://localhost:8080/",
          "height": 204
        },
        "outputId": "fd071938-18ca-4697-a966-24003368823e"
      },
      "source": [
        "#Debido a que tiempo dinámico es diferente al tiempo terrestre no voy a combinar estas dos fechas, \n",
        "#vamos a obligarles a tomar un formato el formato \n",
        "datos['Calendar Date'] = pd.to_datetime(datos['Calendar Date'])\n",
        "datos['TD of Greatest Eclipse'] = pd.to_datetime(datos['TD of Greatest Eclipse'],format= '%H:%M:%S' ).dt.time\n",
        "datos.head()"
      ],
      "execution_count": null,
      "outputs": [
        {
          "output_type": "execute_result",
          "data": {
            "text/html": [
              "<div>\n",
              "<style scoped>\n",
              "    .dataframe tbody tr th:only-of-type {\n",
              "        vertical-align: middle;\n",
              "    }\n",
              "\n",
              "    .dataframe tbody tr th {\n",
              "        vertical-align: top;\n",
              "    }\n",
              "\n",
              "    .dataframe thead th {\n",
              "        text-align: right;\n",
              "    }\n",
              "</style>\n",
              "<table border=\"1\" class=\"dataframe\">\n",
              "  <thead>\n",
              "    <tr style=\"text-align: right;\">\n",
              "      <th></th>\n",
              "      <th>Calendar Date</th>\n",
              "      <th>TD of Greatest Eclipse</th>\n",
              "      <th>Eclipse Type</th>\n",
              "      <th>Eclipse Magnitude</th>\n",
              "      <th>Central Duration</th>\n",
              "    </tr>\n",
              "  </thead>\n",
              "  <tbody>\n",
              "    <tr>\n",
              "      <th>0</th>\n",
              "      <td>2014-04-29</td>\n",
              "      <td>06:04:32</td>\n",
              "      <td>Annular</td>\n",
              "      <td>0.987</td>\n",
              "      <td>-</td>\n",
              "    </tr>\n",
              "    <tr>\n",
              "      <th>1</th>\n",
              "      <td>2008-02-07</td>\n",
              "      <td>03:56:10</td>\n",
              "      <td>Annular</td>\n",
              "      <td>0.965</td>\n",
              "      <td>02m12s</td>\n",
              "    </tr>\n",
              "    <tr>\n",
              "      <th>2</th>\n",
              "      <td>2013-05-10</td>\n",
              "      <td>00:26:20</td>\n",
              "      <td>Annular</td>\n",
              "      <td>0.954</td>\n",
              "      <td>06m03s</td>\n",
              "    </tr>\n",
              "    <tr>\n",
              "      <th>3</th>\n",
              "      <td>2015-03-20</td>\n",
              "      <td>09:46:47</td>\n",
              "      <td>Total</td>\n",
              "      <td>1.045</td>\n",
              "      <td>02m47s</td>\n",
              "    </tr>\n",
              "    <tr>\n",
              "      <th>4</th>\n",
              "      <td>2019-12-26</td>\n",
              "      <td>05:18:53</td>\n",
              "      <td>Annular</td>\n",
              "      <td>0.970</td>\n",
              "      <td>03m39s</td>\n",
              "    </tr>\n",
              "  </tbody>\n",
              "</table>\n",
              "</div>"
            ],
            "text/plain": [
              "  Calendar Date TD of Greatest Eclipse  ... Eclipse Magnitude  Central Duration\n",
              "0    2014-04-29               06:04:32  ...             0.987                 -\n",
              "1    2008-02-07               03:56:10  ...             0.965            02m12s\n",
              "2    2013-05-10               00:26:20  ...             0.954            06m03s\n",
              "3    2015-03-20               09:46:47  ...             1.045            02m47s\n",
              "4    2019-12-26               05:18:53  ...             0.970            03m39s\n",
              "\n",
              "[5 rows x 5 columns]"
            ]
          },
          "metadata": {
            "tags": []
          },
          "execution_count": 171
        }
      ]
    },
    {
      "cell_type": "code",
      "metadata": {
        "id": "8x7ZQijjlnkx",
        "colab": {
          "base_uri": "https://localhost:8080/",
          "height": 452
        },
        "outputId": "c3cd1bcf-7120-45d2-a9b0-2afa6442ed3f"
      },
      "source": [
        "datos.groupby(datos['Calendar Date'].dt.month).count().sort_values(by='Eclipse Type')"
      ],
      "execution_count": null,
      "outputs": [
        {
          "output_type": "execute_result",
          "data": {
            "text/html": [
              "<div>\n",
              "<style scoped>\n",
              "    .dataframe tbody tr th:only-of-type {\n",
              "        vertical-align: middle;\n",
              "    }\n",
              "\n",
              "    .dataframe tbody tr th {\n",
              "        vertical-align: top;\n",
              "    }\n",
              "\n",
              "    .dataframe thead th {\n",
              "        text-align: right;\n",
              "    }\n",
              "</style>\n",
              "<table border=\"1\" class=\"dataframe\">\n",
              "  <thead>\n",
              "    <tr style=\"text-align: right;\">\n",
              "      <th></th>\n",
              "      <th>Calendar Date</th>\n",
              "      <th>TD of Greatest Eclipse</th>\n",
              "      <th>Eclipse Type</th>\n",
              "      <th>Eclipse Magnitude</th>\n",
              "      <th>Central Duration</th>\n",
              "    </tr>\n",
              "    <tr>\n",
              "      <th>Calendar Date</th>\n",
              "      <th></th>\n",
              "      <th></th>\n",
              "      <th></th>\n",
              "      <th></th>\n",
              "      <th></th>\n",
              "    </tr>\n",
              "  </thead>\n",
              "  <tbody>\n",
              "    <tr>\n",
              "      <th>9</th>\n",
              "      <td>11</td>\n",
              "      <td>11</td>\n",
              "      <td>11</td>\n",
              "      <td>11</td>\n",
              "      <td>11</td>\n",
              "    </tr>\n",
              "    <tr>\n",
              "      <th>4</th>\n",
              "      <td>12</td>\n",
              "      <td>12</td>\n",
              "      <td>12</td>\n",
              "      <td>12</td>\n",
              "      <td>12</td>\n",
              "    </tr>\n",
              "    <tr>\n",
              "      <th>10</th>\n",
              "      <td>12</td>\n",
              "      <td>12</td>\n",
              "      <td>12</td>\n",
              "      <td>12</td>\n",
              "      <td>12</td>\n",
              "    </tr>\n",
              "    <tr>\n",
              "      <th>5</th>\n",
              "      <td>13</td>\n",
              "      <td>13</td>\n",
              "      <td>13</td>\n",
              "      <td>13</td>\n",
              "      <td>13</td>\n",
              "    </tr>\n",
              "    <tr>\n",
              "      <th>6</th>\n",
              "      <td>13</td>\n",
              "      <td>13</td>\n",
              "      <td>13</td>\n",
              "      <td>13</td>\n",
              "      <td>13</td>\n",
              "    </tr>\n",
              "    <tr>\n",
              "      <th>8</th>\n",
              "      <td>13</td>\n",
              "      <td>13</td>\n",
              "      <td>13</td>\n",
              "      <td>13</td>\n",
              "      <td>13</td>\n",
              "    </tr>\n",
              "    <tr>\n",
              "      <th>12</th>\n",
              "      <td>13</td>\n",
              "      <td>13</td>\n",
              "      <td>13</td>\n",
              "      <td>13</td>\n",
              "      <td>13</td>\n",
              "    </tr>\n",
              "    <tr>\n",
              "      <th>3</th>\n",
              "      <td>14</td>\n",
              "      <td>14</td>\n",
              "      <td>14</td>\n",
              "      <td>14</td>\n",
              "      <td>14</td>\n",
              "    </tr>\n",
              "    <tr>\n",
              "      <th>1</th>\n",
              "      <td>15</td>\n",
              "      <td>15</td>\n",
              "      <td>15</td>\n",
              "      <td>15</td>\n",
              "      <td>15</td>\n",
              "    </tr>\n",
              "    <tr>\n",
              "      <th>2</th>\n",
              "      <td>15</td>\n",
              "      <td>15</td>\n",
              "      <td>15</td>\n",
              "      <td>15</td>\n",
              "      <td>15</td>\n",
              "    </tr>\n",
              "    <tr>\n",
              "      <th>11</th>\n",
              "      <td>15</td>\n",
              "      <td>15</td>\n",
              "      <td>15</td>\n",
              "      <td>15</td>\n",
              "      <td>15</td>\n",
              "    </tr>\n",
              "    <tr>\n",
              "      <th>7</th>\n",
              "      <td>18</td>\n",
              "      <td>18</td>\n",
              "      <td>18</td>\n",
              "      <td>18</td>\n",
              "      <td>18</td>\n",
              "    </tr>\n",
              "  </tbody>\n",
              "</table>\n",
              "</div>"
            ],
            "text/plain": [
              "               Calendar Date  ...  Central Duration\n",
              "Calendar Date                 ...                  \n",
              "9                         11  ...                11\n",
              "4                         12  ...                12\n",
              "10                        12  ...                12\n",
              "5                         13  ...                13\n",
              "6                         13  ...                13\n",
              "8                         13  ...                13\n",
              "12                        13  ...                13\n",
              "3                         14  ...                14\n",
              "1                         15  ...                15\n",
              "2                         15  ...                15\n",
              "11                        15  ...                15\n",
              "7                         18  ...                18\n",
              "\n",
              "[12 rows x 5 columns]"
            ]
          },
          "metadata": {
            "tags": []
          },
          "execution_count": 174
        }
      ]
    },
    {
      "cell_type": "code",
      "metadata": {
        "id": "Wl-ZAmuBrUYs",
        "colab": {
          "base_uri": "https://localhost:8080/",
          "height": 204
        },
        "outputId": "13944dac-2c5c-4702-c20e-8c8f155417c9"
      },
      "source": [
        "#espacios --> _\n",
        "#en un sólo tipo de case MAY o min\n",
        "#No símbolos _,-\n",
        "#datos.columns = [] #TODAS\n",
        "datos.rename(columns={'Calendar Date':'fecha_calendario',\n",
        "                      'TD of Greatest Eclipse':'td_max',\n",
        "                      'Eclipse Type':'tipo_eclipse',\n",
        "                      'Eclipse Magnitude':'magnitud_eclipse',\n",
        "                      'Central Duration':'duracion_central'}, inplace=True)\n",
        "datos.head()"
      ],
      "execution_count": null,
      "outputs": [
        {
          "output_type": "execute_result",
          "data": {
            "text/html": [
              "<div>\n",
              "<style scoped>\n",
              "    .dataframe tbody tr th:only-of-type {\n",
              "        vertical-align: middle;\n",
              "    }\n",
              "\n",
              "    .dataframe tbody tr th {\n",
              "        vertical-align: top;\n",
              "    }\n",
              "\n",
              "    .dataframe thead th {\n",
              "        text-align: right;\n",
              "    }\n",
              "</style>\n",
              "<table border=\"1\" class=\"dataframe\">\n",
              "  <thead>\n",
              "    <tr style=\"text-align: right;\">\n",
              "      <th></th>\n",
              "      <th>fecha_calendario</th>\n",
              "      <th>td_max</th>\n",
              "      <th>tipo_eclipse</th>\n",
              "      <th>magnitud_eclipse</th>\n",
              "      <th>duracion_central</th>\n",
              "    </tr>\n",
              "  </thead>\n",
              "  <tbody>\n",
              "    <tr>\n",
              "      <th>0</th>\n",
              "      <td>2014-04-29</td>\n",
              "      <td>06:04:32</td>\n",
              "      <td>Annular</td>\n",
              "      <td>0.987</td>\n",
              "      <td>-</td>\n",
              "    </tr>\n",
              "    <tr>\n",
              "      <th>1</th>\n",
              "      <td>2008-02-07</td>\n",
              "      <td>03:56:10</td>\n",
              "      <td>Annular</td>\n",
              "      <td>0.965</td>\n",
              "      <td>02m12s</td>\n",
              "    </tr>\n",
              "    <tr>\n",
              "      <th>2</th>\n",
              "      <td>2013-05-10</td>\n",
              "      <td>00:26:20</td>\n",
              "      <td>Annular</td>\n",
              "      <td>0.954</td>\n",
              "      <td>06m03s</td>\n",
              "    </tr>\n",
              "    <tr>\n",
              "      <th>3</th>\n",
              "      <td>2015-03-20</td>\n",
              "      <td>09:46:47</td>\n",
              "      <td>Total</td>\n",
              "      <td>1.045</td>\n",
              "      <td>02m47s</td>\n",
              "    </tr>\n",
              "    <tr>\n",
              "      <th>4</th>\n",
              "      <td>2019-12-26</td>\n",
              "      <td>05:18:53</td>\n",
              "      <td>Annular</td>\n",
              "      <td>0.970</td>\n",
              "      <td>03m39s</td>\n",
              "    </tr>\n",
              "  </tbody>\n",
              "</table>\n",
              "</div>"
            ],
            "text/plain": [
              "  fecha_calendario    td_max tipo_eclipse  magnitud_eclipse duracion_central\n",
              "0       2014-04-29  06:04:32      Annular             0.987                -\n",
              "1       2008-02-07  03:56:10      Annular             0.965           02m12s\n",
              "2       2013-05-10  00:26:20      Annular             0.954           06m03s\n",
              "3       2015-03-20  09:46:47        Total             1.045           02m47s\n",
              "4       2019-12-26  05:18:53      Annular             0.970           03m39s"
            ]
          },
          "metadata": {
            "tags": []
          },
          "execution_count": 175
        }
      ]
    },
    {
      "cell_type": "code",
      "metadata": {
        "id": "cbDocIJtm9oC",
        "colab": {
          "base_uri": "https://localhost:8080/"
        },
        "outputId": "da759201-a58e-43ab-8aca-1a6a71bec5d9"
      },
      "source": [
        "datos.info()"
      ],
      "execution_count": null,
      "outputs": [
        {
          "output_type": "stream",
          "text": [
            "<class 'pandas.core.frame.DataFrame'>\n",
            "RangeIndex: 164 entries, 0 to 163\n",
            "Data columns (total 5 columns):\n",
            " #   Column            Non-Null Count  Dtype         \n",
            "---  ------            --------------  -----         \n",
            " 0   fecha_calendario  164 non-null    datetime64[ns]\n",
            " 1   td_max            164 non-null    object        \n",
            " 2   tipo_eclipse      164 non-null    object        \n",
            " 3   magnitud_eclipse  164 non-null    float64       \n",
            " 4   duracion_central  164 non-null    object        \n",
            "dtypes: datetime64[ns](1), float64(1), object(3)\n",
            "memory usage: 6.5+ KB\n"
          ],
          "name": "stdout"
        }
      ]
    },
    {
      "cell_type": "markdown",
      "metadata": {
        "id": "qPlKfHlltAMO"
      },
      "source": [
        "Para la última columna vamos a cambiar de strings a float"
      ]
    },
    {
      "cell_type": "code",
      "metadata": {
        "id": "L0yvZmIVnm_H",
        "colab": {
          "base_uri": "https://localhost:8080/",
          "height": 419
        },
        "outputId": "f112bb76-deee-42a1-bdd2-f43b4d71fece"
      },
      "source": [
        "change = pd.DataFrame(datos['duracion_central'].str.replace('-','0m0s').str.strip('s').str.split('m',1).tolist(),\n",
        "                      columns=['minutos','segundos'])\n",
        "change"
      ],
      "execution_count": null,
      "outputs": [
        {
          "output_type": "execute_result",
          "data": {
            "text/html": [
              "<div>\n",
              "<style scoped>\n",
              "    .dataframe tbody tr th:only-of-type {\n",
              "        vertical-align: middle;\n",
              "    }\n",
              "\n",
              "    .dataframe tbody tr th {\n",
              "        vertical-align: top;\n",
              "    }\n",
              "\n",
              "    .dataframe thead th {\n",
              "        text-align: right;\n",
              "    }\n",
              "</style>\n",
              "<table border=\"1\" class=\"dataframe\">\n",
              "  <thead>\n",
              "    <tr style=\"text-align: right;\">\n",
              "      <th></th>\n",
              "      <th>minutos</th>\n",
              "      <th>segundos</th>\n",
              "    </tr>\n",
              "  </thead>\n",
              "  <tbody>\n",
              "    <tr>\n",
              "      <th>0</th>\n",
              "      <td>0</td>\n",
              "      <td>0</td>\n",
              "    </tr>\n",
              "    <tr>\n",
              "      <th>1</th>\n",
              "      <td>02</td>\n",
              "      <td>12</td>\n",
              "    </tr>\n",
              "    <tr>\n",
              "      <th>2</th>\n",
              "      <td>06</td>\n",
              "      <td>03</td>\n",
              "    </tr>\n",
              "    <tr>\n",
              "      <th>3</th>\n",
              "      <td>02</td>\n",
              "      <td>47</td>\n",
              "    </tr>\n",
              "    <tr>\n",
              "      <th>4</th>\n",
              "      <td>03</td>\n",
              "      <td>39</td>\n",
              "    </tr>\n",
              "    <tr>\n",
              "      <th>...</th>\n",
              "      <td>...</td>\n",
              "      <td>...</td>\n",
              "    </tr>\n",
              "    <tr>\n",
              "      <th>159</th>\n",
              "      <td>00</td>\n",
              "      <td>11</td>\n",
              "    </tr>\n",
              "    <tr>\n",
              "      <th>160</th>\n",
              "      <td>04</td>\n",
              "      <td>33</td>\n",
              "    </tr>\n",
              "    <tr>\n",
              "      <th>161</th>\n",
              "      <td>0</td>\n",
              "      <td>0</td>\n",
              "    </tr>\n",
              "    <tr>\n",
              "      <th>162</th>\n",
              "      <td>02</td>\n",
              "      <td>37</td>\n",
              "    </tr>\n",
              "    <tr>\n",
              "      <th>163</th>\n",
              "      <td>00</td>\n",
              "      <td>44</td>\n",
              "    </tr>\n",
              "  </tbody>\n",
              "</table>\n",
              "<p>164 rows × 2 columns</p>\n",
              "</div>"
            ],
            "text/plain": [
              "    minutos segundos\n",
              "0         0        0\n",
              "1        02       12\n",
              "2        06       03\n",
              "3        02       47\n",
              "4        03       39\n",
              "..      ...      ...\n",
              "159      00       11\n",
              "160      04       33\n",
              "161       0        0\n",
              "162      02       37\n",
              "163      00       44\n",
              "\n",
              "[164 rows x 2 columns]"
            ]
          },
          "metadata": {
            "tags": []
          },
          "execution_count": 177
        }
      ]
    },
    {
      "cell_type": "code",
      "metadata": {
        "id": "tWabG2bhs68I",
        "colab": {
          "base_uri": "https://localhost:8080/",
          "height": 297
        },
        "outputId": "e9f3b697-62bf-4abc-f7ef-b24f7b311262"
      },
      "source": [
        "datos['duracion_central'] = change['minutos'].astype(float)*60 + change['segundos'].astype(float)\n",
        "datos.describe()"
      ],
      "execution_count": null,
      "outputs": [
        {
          "output_type": "execute_result",
          "data": {
            "text/html": [
              "<div>\n",
              "<style scoped>\n",
              "    .dataframe tbody tr th:only-of-type {\n",
              "        vertical-align: middle;\n",
              "    }\n",
              "\n",
              "    .dataframe tbody tr th {\n",
              "        vertical-align: top;\n",
              "    }\n",
              "\n",
              "    .dataframe thead th {\n",
              "        text-align: right;\n",
              "    }\n",
              "</style>\n",
              "<table border=\"1\" class=\"dataframe\">\n",
              "  <thead>\n",
              "    <tr style=\"text-align: right;\">\n",
              "      <th></th>\n",
              "      <th>magnitud_eclipse</th>\n",
              "      <th>duracion_central</th>\n",
              "    </tr>\n",
              "  </thead>\n",
              "  <tbody>\n",
              "    <tr>\n",
              "      <th>count</th>\n",
              "      <td>164.000000</td>\n",
              "      <td>164.000000</td>\n",
              "    </tr>\n",
              "    <tr>\n",
              "      <th>mean</th>\n",
              "      <td>0.928732</td>\n",
              "      <td>177.195122</td>\n",
              "    </tr>\n",
              "    <tr>\n",
              "      <th>std</th>\n",
              "      <td>0.167019</td>\n",
              "      <td>171.560498</td>\n",
              "    </tr>\n",
              "    <tr>\n",
              "      <th>min</th>\n",
              "      <td>0.069000</td>\n",
              "      <td>0.000000</td>\n",
              "    </tr>\n",
              "    <tr>\n",
              "      <th>25%</th>\n",
              "      <td>0.919000</td>\n",
              "      <td>0.000000</td>\n",
              "    </tr>\n",
              "    <tr>\n",
              "      <th>50%</th>\n",
              "      <td>0.973000</td>\n",
              "      <td>147.000000</td>\n",
              "    </tr>\n",
              "    <tr>\n",
              "      <th>75%</th>\n",
              "      <td>1.038000</td>\n",
              "      <td>272.250000</td>\n",
              "    </tr>\n",
              "    <tr>\n",
              "      <th>max</th>\n",
              "      <td>1.080000</td>\n",
              "      <td>722.000000</td>\n",
              "    </tr>\n",
              "  </tbody>\n",
              "</table>\n",
              "</div>"
            ],
            "text/plain": [
              "       magnitud_eclipse  duracion_central\n",
              "count        164.000000        164.000000\n",
              "mean           0.928732        177.195122\n",
              "std            0.167019        171.560498\n",
              "min            0.069000          0.000000\n",
              "25%            0.919000          0.000000\n",
              "50%            0.973000        147.000000\n",
              "75%            1.038000        272.250000\n",
              "max            1.080000        722.000000"
            ]
          },
          "metadata": {
            "tags": []
          },
          "execution_count": 181
        }
      ]
    },
    {
      "cell_type": "code",
      "metadata": {
        "id": "dgArKWPUn3Lv",
        "colab": {
          "base_uri": "https://localhost:8080/",
          "height": 173
        },
        "outputId": "67c82f38-427b-4395-f2d8-5d2f265e3326"
      },
      "source": [
        "datos.describe(include='object')"
      ],
      "execution_count": null,
      "outputs": [
        {
          "output_type": "execute_result",
          "data": {
            "text/html": [
              "<div>\n",
              "<style scoped>\n",
              "    .dataframe tbody tr th:only-of-type {\n",
              "        vertical-align: middle;\n",
              "    }\n",
              "\n",
              "    .dataframe tbody tr th {\n",
              "        vertical-align: top;\n",
              "    }\n",
              "\n",
              "    .dataframe thead th {\n",
              "        text-align: right;\n",
              "    }\n",
              "</style>\n",
              "<table border=\"1\" class=\"dataframe\">\n",
              "  <thead>\n",
              "    <tr style=\"text-align: right;\">\n",
              "      <th></th>\n",
              "      <th>td_max</th>\n",
              "      <th>tipo_eclipse</th>\n",
              "    </tr>\n",
              "  </thead>\n",
              "  <tbody>\n",
              "    <tr>\n",
              "      <th>count</th>\n",
              "      <td>164</td>\n",
              "      <td>164</td>\n",
              "    </tr>\n",
              "    <tr>\n",
              "      <th>unique</th>\n",
              "      <td>111</td>\n",
              "      <td>4</td>\n",
              "    </tr>\n",
              "    <tr>\n",
              "      <th>top</th>\n",
              "      <td>02:07:10</td>\n",
              "      <td>Annular</td>\n",
              "    </tr>\n",
              "    <tr>\n",
              "      <th>freq</th>\n",
              "      <td>2</td>\n",
              "      <td>59</td>\n",
              "    </tr>\n",
              "  </tbody>\n",
              "</table>\n",
              "</div>"
            ],
            "text/plain": [
              "          td_max tipo_eclipse\n",
              "count        164          164\n",
              "unique       111            4\n",
              "top     02:07:10      Annular\n",
              "freq           2           59"
            ]
          },
          "metadata": {
            "tags": []
          },
          "execution_count": 182
        }
      ]
    },
    {
      "cell_type": "code",
      "metadata": {
        "id": "bSJPj1X5dnbm",
        "colab": {
          "base_uri": "https://localhost:8080/"
        },
        "outputId": "6d227c21-6b6b-4b3d-fe87-00b08e7a3085"
      },
      "source": [
        "datos.dtypes"
      ],
      "execution_count": null,
      "outputs": [
        {
          "output_type": "execute_result",
          "data": {
            "text/plain": [
              "fecha_calendario    datetime64[ns]\n",
              "td_max                      object\n",
              "tipo_eclipse                object\n",
              "magnitud_eclipse           float64\n",
              "duracion_central           float64\n",
              "dtype: object"
            ]
          },
          "metadata": {
            "tags": []
          },
          "execution_count": 183
        }
      ]
    },
    {
      "cell_type": "code",
      "metadata": {
        "id": "1-YKsSPo2BUs",
        "colab": {
          "base_uri": "https://localhost:8080/"
        },
        "outputId": "d5fc2eea-051f-4cab-9b02-c27add99637e"
      },
      "source": [
        "datos['fecha_calendario'].dt.year.describe()"
      ],
      "execution_count": null,
      "outputs": [
        {
          "output_type": "execute_result",
          "data": {
            "text/plain": [
              "count     164.000000\n",
              "mean     1996.792683\n",
              "std        13.710180\n",
              "min      1971.000000\n",
              "25%      1985.750000\n",
              "50%      1997.500000\n",
              "75%      2009.000000\n",
              "max      2020.000000\n",
              "Name: fecha_calendario, dtype: float64"
            ]
          },
          "metadata": {
            "tags": []
          },
          "execution_count": 184
        }
      ]
    },
    {
      "cell_type": "markdown",
      "metadata": {
        "id": "iNTXCZFp0Y-c"
      },
      "source": [
        "Con esto podemos hacer algunas gráficas. Pandas ya viene asociado con matplotlib para hacer gráficas rápidas, pero puede usar las series para como arreglos y  manejas sus gráficas desde matplolib pyplot."
      ]
    },
    {
      "cell_type": "code",
      "metadata": {
        "id": "R2q_HKxvykxR",
        "colab": {
          "base_uri": "https://localhost:8080/",
          "height": 629
        },
        "outputId": "96dff2b8-e2a7-425f-bf78-40564a424476"
      },
      "source": [
        "ax = datos.groupby('tipo_eclipse').count()['fecha_calendario'].plot.pie(figsize=(10, 10),\n",
        "                                                                           fontsize=16,\n",
        "                                                                           autopct='%1.1f%%')\n",
        "ax.set_ylabel('')\n",
        "ax.set_title(\"Tipos de eclipses 1971-2020\",fontsize=20,pad=40)\n",
        "plt.show()"
      ],
      "execution_count": null,
      "outputs": [
        {
          "output_type": "display_data",
          "data": {
            "image/png": "[encoded data removed]",
            "text/plain": [
              "<Figure size 720x720 with 1 Axes>"
            ]
          },
          "metadata": {
            "tags": []
          }
        }
      ]
    },
    {
      "cell_type": "code",
      "metadata": {
        "id": "G8JzpW2m05kg",
        "colab": {
          "base_uri": "https://localhost:8080/",
          "height": 356
        },
        "outputId": "dab46220-d8d9-4ab1-aa1e-d03b1f878ecd"
      },
      "source": [
        "type_e = datos.groupby([\"tipo_eclipse\"]).count().index.values\n",
        "plt.figure(figsize=(15,5))\n",
        "plt.suptitle('Magnitud del eclipse por tipo',fontsize=20)\n",
        "for type_i in type_e:\n",
        "  mu = datos[datos['tipo_eclipse']==type_i]['magnitud_eclipse'].mean()\n",
        "  gamma = datos[datos['tipo_eclipse']==type_i]['magnitud_eclipse'].std()\n",
        "  label = type_i + ' %.3f $\\pm$ %.3f'%(mu,gamma) \n",
        "  datos[datos['tipo_eclipse']==type_i]['magnitud_eclipse'].plot.line(label=label,\n",
        "                                                                            linestyle='--',\n",
        "                                                                            marker='o')\n",
        "plt.legend(fontsize=16)\n",
        "plt.show()"
      ],
      "execution_count": null,
      "outputs": [
        {
          "output_type": "display_data",
          "data": {
            "image/png": "[encoded data removed]",
            "text/plain": [
              "<Figure size 1080x360 with 1 Axes>"
            ]
          },
          "metadata": {
            "tags": [],
            "needs_background": "light"
          }
        }
      ]
    },
    {
      "cell_type": "code",
      "metadata": {
        "id": "P3mHSEXL2k5A",
        "colab": {
          "base_uri": "https://localhost:8080/",
          "height": 211
        },
        "outputId": "81809fbf-5265-4fcd-a036-83534ad25e07"
      },
      "source": [
        "plt.figure(figsize=(15,3))\n",
        "datos[datos['duracion_central']!=0]['duracion_central'].plot.hist(bins=80)\n",
        "plt.show()"
      ],
      "execution_count": null,
      "outputs": [
        {
          "output_type": "display_data",
          "data": {
            "image/png": "[encoded data removed]",
            "text/plain": [
              "<Figure size 1080x216 with 1 Axes>"
            ]
          },
          "metadata": {
            "tags": [],
            "needs_background": "light"
          }
        }
      ]
    }
  ]
}